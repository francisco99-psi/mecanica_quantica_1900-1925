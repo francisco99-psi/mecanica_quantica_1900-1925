{
 "cells": [
  {
   "cell_type": "code",
   "execution_count": null,
   "metadata": {},
   "outputs": [],
   "source": []
  },
  {
   "cell_type": "markdown",
   "metadata": {},
   "source": [
    "# Números complexos"
   ]
  },
  {
   "cell_type": "markdown",
   "metadata": {},
   "source": [
    "\\begin{align}\n",
    "& z+w = \\Re(z)+i\\Im(z) + \\Re(w)+i\\Im(w) = (\\Re(z)+\\Re(w))+i(\\Im(z)+\\Im(w)), \\\\\n",
    "& \\Re(z+w) = \\Re(z)+\\Re(w), \\\\\n",
    "& \\Im(z+w)=\\Im(z)+\\Im(w).\n",
    "\\end{align}\n",
    "Para a multiplicação\n",
    "\\begin{align}\n",
    "zw & = (\\Re(z)+i\\Im(z))(\\Re(w)+i\\Im(w)) = \\Re(z)\\Re(w)+i\\Re(z)\\Im(w)+i\\Im(z)\\Re(w)+i^{2}\\Im(z)\\Im(w) \\\\ \n",
    "& = (\\Re(z)\\Re(w)-\\Im(z)\\Im(w))+i(\\Re(z)\\Im(w)+\\Im(z)\\Re(w)), \\\\\n",
    "\\therefore \\Re(zw) &= \\Re(z)\\Re(w)-\\Im(z)\\Im(w), \\\\ \n",
    "\\therefore \\Im(zw) &= \\Re(z)\\Im(w)+\\Im(z)\\Re(w).\n",
    "\\end{align}"
   ]
  },
  {
   "cell_type": "markdown",
   "metadata": {},
   "source": [
    "\\begin{equation}\n",
    "e^{i\\theta} = \\cos(\\theta)+i\\sin(\\theta).\n",
    "\\end{equation}\n",
    "\n",
    "divisão por números complexos"
   ]
  },
  {
   "cell_type": "markdown",
   "metadata": {},
   "source": [
    "ver Ref. 12"
   ]
  },
  {
   "cell_type": "code",
   "execution_count": null,
   "metadata": {},
   "outputs": [],
   "source": []
  }
 ],
 "metadata": {
  "kernelspec": {
   "display_name": "Python 3",
   "language": "python",
   "name": "python3"
  },
  "language_info": {
   "codemirror_mode": {
    "name": "ipython",
    "version": 3
   },
   "file_extension": ".py",
   "mimetype": "text/x-python",
   "name": "python",
   "nbconvert_exporter": "python",
   "pygments_lexer": "ipython3",
   "version": "3.6.4"
  }
 },
 "nbformat": 4,
 "nbformat_minor": 2
}
