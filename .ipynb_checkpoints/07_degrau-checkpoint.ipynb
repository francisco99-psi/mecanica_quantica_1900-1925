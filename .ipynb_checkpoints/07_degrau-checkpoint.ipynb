{
 "cells": [
  {
   "cell_type": "markdown",
   "metadata": {},
   "source": [
    "# Notas de aula: Mecânica Quântica, Autor: Jonas Maziero, Departamento de Física, UFSM\n",
    "\n",
    "Link para o vídeo da aula sobre esse tópico: "
   ]
  },
  {
   "cell_type": "code",
   "execution_count": 1,
   "metadata": {},
   "outputs": [],
   "source": [
    "%run init.ipynb"
   ]
  },
  {
   "cell_type": "markdown",
   "metadata": {},
   "source": [
    "# Potencial degrau\n",
    "Sem perda de generalidade, para o degrau de potencial podemos escrever a função energia potencial como\n",
    "\\begin{cases}\n",
    "U(x<0)=0, \\\\\n",
    "U(x>0)=U_{0}=\\text{constante}.\n",
    "\\end{cases}\n",
    "Como esse potencial é independente do tempo, usaremos a equação de Schrödinger independente do tempo, e como estamos considerando uma aproximação na qual o quanton está restrito a se mover somente na direção x, podemos escrever a eq. de Schrödinger unidimensional (EqS1D):\n",
    "\\begin{equation}\n",
    "-\\frac{\\hbar^{2}}{2m}\\partial_{xx}\\psi(x)+U(x)\\psi(x)=E\\psi(x).\n",
    "\\end{equation}\n",
    "\n",
    "À esquerda da origem, $U(x<0)=0$ e\n",
    "\\begin{equation}\n",
    "-\\frac{\\hbar^{2}}{2m}\\partial_{xx}\\psi(x)+0=E\\psi(x) \\therefore \\partial_{xx}\\psi(x) = -\\frac{2mE}{\\hbar^{2}}\\psi(x).\n",
    "\\end{equation}\n",
    "Vimos que as funções $e^{i(kx-\\omega t)}=e^{ikx}e^{-i\\omega t}$ e $e^{i(-kx-\\omega t)}=e^{-ikx}e^{-i\\omega t}$ descrevem quantons livres se movimentando para a direita e para esquerda, respectivamente. Assim, podemos escrever a forma geral da função de onda como uma combinação linear das ondas harmônicas acima:\n",
    "\\begin{equation}\n",
    "\\psi(x<0) = c_{ed}e^{ikx}+c_{ee}e^{-ikx},\n",
    "\\end{equation}\n",
    "com $k=\\sqrt{2mE/\\hbar}$. Note que este é o perfil espacial da função de onda, a dependência temporal é dada por $e^{-i\\omega t}$."
   ]
  },
  {
   "cell_type": "markdown",
   "metadata": {},
   "source": [
    "À direita da origem, $U(x<0)=U_{0}$ e\n",
    "\\begin{equation}\n",
    "-\\frac{\\hbar^{2}}{2m}\\partial_{xx}\\psi(x)+U_{0}\\psi(x)=E\\psi(x)\\therefore \\partial_{xx}\\psi(x) = -\\frac{2m(E-U_{0})}{\\hbar^{2}}\\psi(x).\n",
    "\\end{equation}\n",
    "Vamos separar a sequência da análise em dois casos:\n",
    "* $E<U_{0}$:\n",
    "Nesse caso, $\\partial_{xx}\\psi(x) = \\frac{2m(U_{0}-E)}{\\hbar^{2}}\\psi(x)=(>0)\\psi(x)$. Vemos assim que a derivada segunda da função de onda possui o mesmo sinal da função de onda. Podemos obter soluções que satisfazem essa condição usando $e^{"
   ]
  },
  {
   "cell_type": "markdown",
   "metadata": {},
   "source": [
    "# Exercícios (para entregar)\n",
    "\n",
    "1. Verifique que substituindo $\\psi(x) = c_{ed}e^{ikx}+c_{ee}e^{-ikx}$ na EqS1D com $U=0$ obtemos $E=\\hbar^{2}k^{2}/2m=p^{2}/2m$, em que $c_{ed},c_{ee}$ são constantes. \n",
    "\n",
    "1. Verifique que $\\psi(x)=c_{ed}\\sin(kx)+c_{ee}\\cos(kx)$ satisfaz a EqS1D com $U=0$, com $c_{ed},c_{ee}$ constantes.\n",
    "\n",
    "1. dddd"
   ]
  },
  {
   "cell_type": "code",
   "execution_count": null,
   "metadata": {},
   "outputs": [],
   "source": []
  }
 ],
 "metadata": {
  "kernelspec": {
   "display_name": "Python 3",
   "language": "python",
   "name": "python3"
  },
  "language_info": {
   "codemirror_mode": {
    "name": "ipython",
    "version": 3
   },
   "file_extension": ".py",
   "mimetype": "text/x-python",
   "name": "python",
   "nbconvert_exporter": "python",
   "pygments_lexer": "ipython3",
   "version": "3.6.4"
  }
 },
 "nbformat": 4,
 "nbformat_minor": 2
}
