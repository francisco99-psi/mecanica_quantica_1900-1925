{
 "cells": [
  {
   "cell_type": "markdown",
   "metadata": {},
   "source": [
    "## Notas de aula: Mecânica Quântica, Autor: Jonas Maziero\n",
    "\n",
    "Link para o vídeo da aula sobre esse tópico: ."
   ]
  },
  {
   "cell_type": "code",
   "execution_count": null,
   "metadata": {},
   "outputs": [],
   "source": [
    "%run init.ipynb"
   ]
  },
  {
   "cell_type": "markdown",
   "metadata": {},
   "source": [
    "# Números complexos\n",
    "Um número complexo $z\\in\\mathbb{C}$ é um objeto do tipo\n",
    "\\begin{equation}\n",
    "z := \\Re(z)+i\\Im(z),\n",
    "\\end{equation}\n",
    "com $\\Re(z),\\Im(z)\\in\\mathbb{R}$ e $i=\\sqrt{-1}$. O conjugado de um número complexo $z\\in\\mathbb{C}$ é denotado e definido por\n",
    "\\begin{equation}\n",
    "z^{*} := \\Re(z)-i\\Im(z).\n",
    "\\end{equation}\n",
    "\n",
    "O conjugado do conjugado é o próprio número:\n",
    "\\begin{equation}\n",
    "(z^{*})^{*} := (\\Re(z)-i\\Im(z))^{*} = \\Re(z)+i\\Im(z) =z.\n",
    "\\end{equation}"
   ]
  },
  {
   "cell_type": "markdown",
   "metadata": {},
   "source": [
    "#### Soma, subtração, multiplicação e divisão de números complexos\n",
    "A soma de dois números complexos $z=\\Re(z)+i\\Im(z)$ e $w=\\Re(w)+i\\Im(w)$ é definida como\n",
    "\\begin{equation}\n",
    "z+w := \\left(\\Re(z)+\\Re(w)\\right)+i\\left(\\Im(z)+\\Im(w)\\right).\n",
    "\\end{equation}\n",
    "\n",
    "A subtração de dois números complexos $z=\\Re(z)+i\\Im(z)$ e $w=\\Re(w)+i\\Im(w)$ é definida como\n",
    "\\begin{equation}\n",
    "z-w := \\left(\\Re(z)-\\Re(w)\\right)+i\\left(\\Im(z)-\\Im(w)\\right).\n",
    "\\end{equation}\n",
    "\n",
    "A multiplicação de dois números complexos $z=\\Re(z)+i\\Im(z)$ e $w=\\Re(w)+i\\Im(w)$ é definida usando distributividade:\n",
    "\\begin{align}\n",
    "zw & = (\\Re(z)+i\\Im(z))(\\Re(w)+i\\Im(w)) = \\Re(z)\\Re(w) + \\Re(z)i\\Im(w) + i\\Im(z)\\Re(w) + i\\Im(z)i\\Im(w) \\\\\n",
    "& = \\left(\\Re(z)\\Re(w)-\\Im(z)\\Im(w)\\right)+i\\left(\\Re(z)\\Im(w)+\\Im(z)\\Re(w)\\right).\n",
    "\\end{align}\n",
    "\n",
    "A divisão de dois números complexos $z=\\Re(z)+i\\Im(z)$ e $w=\\Re(w)+i\\Im(w)$ é definida por\n",
    "\\begin{align}\n",
    "\\frac{z}{w} & := \\frac{zw^{*}}{ww^{*}} = \\frac{(\\Re(z)+i\\Im(z))(\\Re(w)-i\\Im(w))}{|w|^{2}} \\\\\n",
    "& = \\frac{\\Re(z)\\Re(w)+\\Im(z)\\Im(w)}{\\Re(w)^{2}+\\Im(w)^{2}}+i\\frac{-\\Re(z)\\Im(w)+\\Im(z)\\Re(w)}{\\Re(w)^{2}+\\Im(w)^{2}}.\n",
    "\\end{align}\n",
    "\n",
    "Duas relações de uso frequente na lida com números complexos são:\n",
    "\\begin{align}\n",
    "& z+z^{*} = \\Re(z)+i\\Im(z)+\\Re(z)-i\\Im(z) = 2\\Re(z), \\\\\n",
    "& z-z^{*} = \\Re(z)+i\\Im(z)-(\\Re(z)-i\\Im(z)) = 2i\\Im(z).\n",
    "\\end{align}"
   ]
  },
  {
   "cell_type": "markdown",
   "metadata": {},
   "source": [
    "#### Módulo de números complexos\n",
    "O módulo de um número complexo é definido por\n",
    "\\begin{equation}\n",
    "|z| := \\sqrt{zz^{*}} = \\sqrt{(\\Re(z)+i\\Im(z))(\\Re(z)-i\\Im(z))} = \\sqrt{\\Re(z)^{2}+\\Im(z)^{2}}.\n",
    "\\end{equation}\n",
    "\n",
    "Notando que o conjugado da soma de dois números complexos é a soma dos conjugados, i.e., \n",
    "\\begin{equation}\n",
    "(z+w)^{*}=z^{*}+w^{*},\n",
    "\\end{equation}\n",
    "temos que módulo da soma de dois números complexos é obtido pela raíz quadrada de:\n",
    "\\begin{align}\n",
    "|z+w|^{2} & = (z+w)(z+w)^{*} = (z+w)(z^{*}+w^{*}) = |z|^{2}+|w|^{2}+ zw^{*} + wz^{*} = |z|^{2}+|w|^{2} + zw^{*} + (w^{*}z)^{*} \\\\\n",
    "& = |z|^{2}+|w|^{2}+ 2\\Re(zw^{*}) = |z|^{2}+|w|^{2}+ 2\\left(\\Re(z)\\Re(w)+\\Im(z)\\Im(w)\\right).\n",
    "\\end{align}\n",
    "\n",
    "Já o módulo do produto de dois números complexos é\n",
    "\\begin{equation}\n",
    "|zw| = \\sqrt{(zw)(zw)^{*}} = \\sqrt{(zw)(z^{*}w^{*})} = \\sqrt{zz^{*}ww^{*}} = \\sqrt{|z|^{2}|w|^{2}} = |z||w|.\n",
    "\\end{equation}"
   ]
  },
  {
   "cell_type": "markdown",
   "metadata": {},
   "source": [
    "### Partes real e imaginária da soma e produto de números complexos\n",
    "\\begin{align}\n",
    "& z+w = \\Re(z)+i\\Im(z) + \\Re(w)+i\\Im(w) = (\\Re(z)+\\Re(w))+i(\\Im(z)+\\Im(w)), \\\\\n",
    "& \\Re(z+w) = \\Re(z)+\\Re(w), \\\\\n",
    "& \\Im(z+w)=\\Im(z)+\\Im(w).\n",
    "\\end{align}\n",
    "Para a multiplicação\n",
    "\\begin{align}\n",
    "zw & = (\\Re(z)+i\\Im(z))(\\Re(w)+i\\Im(w)) = \\Re(z)\\Re(w)+i\\Re(z)\\Im(w)+i\\Im(z)\\Re(w)+i^{2}\\Im(z)\\Im(w) \\\\ \n",
    "& = (\\Re(z)\\Re(w)-\\Im(z)\\Im(w))+i(\\Re(z)\\Im(w)+\\Im(z)\\Re(w)), \\\\\n",
    "\\therefore \\Re(zw) &= \\Re(z)\\Re(w)-\\Im(z)\\Im(w), \\\\ \n",
    "\\therefore \\Im(zw) &= \\Re(z)\\Im(w)+\\Im(z)\\Re(w).\n",
    "\\end{align}"
   ]
  },
  {
   "cell_type": "markdown",
   "metadata": {},
   "source": [
    "### Relação de Euler\n",
    "\\begin{equation}\n",
    "e^{\\pm i\\theta} = \\cos(\\theta)\\pm i\\sin(\\theta).\n",
    "\\end{equation}\n",
    "Ademais\n",
    "\\begin{align}\n",
    "& e^{i\\theta}+e^{-i\\theta} = \\cos(\\theta)+ i\\sin(\\theta)+\\cos(\\theta)-i\\sin(\\theta)=2\\cos(\\theta), \\\\\n",
    "& e^{i\\theta}-e^{-i\\theta} = \\cos(\\theta)+ i\\sin(\\theta)-\\cos(\\theta)+i\\sin(\\theta)=2i\\sin(\\theta).\n",
    "\\end{align}"
   ]
  },
  {
   "cell_type": "markdown",
   "metadata": {},
   "source": [
    "### divisão por números complexos"
   ]
  },
  {
   "cell_type": "markdown",
   "metadata": {},
   "source": [
    "ver Ref. 12"
   ]
  },
  {
   "cell_type": "markdown",
   "metadata": {},
   "source": [
    "#### Condição para termos $|z|=|w|$ para $z,w\\in\\mathbb{C}$\n",
    "Para $w=e^{i\\phi}z$ com $\\phi\\in[0,2\\pi)$ temos\n",
    "\\begin{equation}\n",
    "|w|=|e^{i\\phi}z|=e^{i\\phi}ze^{-i\\phi}z^{*}=|z|.\n",
    "\\end{equation}\n",
    "Notemos que\n",
    "\\begin{align}\n",
    "& \\Re(w) = \\Re(e^{i\\phi}z) = \\Re(e^{i\\phi})\\Re(z)-\\Im(e^{i\\phi})\\Im(z) = \\cos(\\phi)Re(z)-\\sin(\\phi)\\Im(z), \\\\ \n",
    "& \\Im(w) = \\Im(e^{i\\phi}z) = \\Re(e^{i\\phi})\\Im(z)+\\Im(e^{i\\phi})\\Re(z) = \\cos(\\phi)Im(z)+\\sin(\\phi)\\Re(z). \\\\ \n",
    "\\end{align}\n",
    "Essas equações podem ser escritas como uma equação matricial\n",
    "\\begin{equation}\n",
    "\\begin{bmatrix} \\Re(w) \\\\ \\Im(w) \\end{bmatrix}=\\begin{bmatrix} \\cos(\\phi) &  -\\sin(\\phi) \\\\ \\sin(\\phi) & \\cos(\\phi) \\end{bmatrix}\\begin{bmatrix} \\Re(z) \\\\ \\Im(z) \\end{bmatrix}.\n",
    "\\end{equation}\n",
    "Vemos assim que $w$ é obtido de $z$ aplicando-se uma rotação no plano complexo. Como rotações não mudam o comprimento de vetores, vemos que todos os números comples em um círculo do plano complexo possuem o mesmo módulo."
   ]
  },
  {
   "cell_type": "markdown",
   "metadata": {},
   "source": [
    "# Exercícios\n",
    "\n",
    "1. Quais são as partes real e imaginária do número complexo $z=7+i13$? Calcule o conjugado de $z$. Calcule também $z+z^{*}$ e $z-z^{*}$.\n",
    "\n",
    "1. Para $z=2+i5$ e $w=3+i7$, calcule $z+w$, $z-w$, $zw$, $z/w$, $|z|$, e $|z+w|$.\n",
    "\n",
    "1. Verifique que $\\Re(zw^{*})=\\Re(z)\\Re(w)+\\Im(z)\\Im(w)$ e que $\\Im(zw^{*})=-\\Re(z)\\Im(w)+\\Im(z)\\Re(w)$."
   ]
  },
  {
   "cell_type": "code",
   "execution_count": null,
   "metadata": {},
   "outputs": [],
   "source": []
  }
 ],
 "metadata": {
  "kernelspec": {
   "display_name": "Python 3",
   "language": "python",
   "name": "python3"
  },
  "language_info": {
   "codemirror_mode": {
    "name": "ipython",
    "version": 3
   },
   "file_extension": ".py",
   "mimetype": "text/x-python",
   "name": "python",
   "nbconvert_exporter": "python",
   "pygments_lexer": "ipython3",
   "version": "3.6.4"
  }
 },
 "nbformat": 4,
 "nbformat_minor": 2
}
