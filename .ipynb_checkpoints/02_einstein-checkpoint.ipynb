{
 "cells": [
  {
   "cell_type": "markdown",
   "metadata": {},
   "source": [
    "# Notas de aula: Mecânica Quântica, Autor: Jonas Maziero, Departamento de Física, UFSM"
   ]
  },
  {
   "cell_type": "code",
   "execution_count": 1,
   "metadata": {},
   "outputs": [],
   "source": [
    "%run init.ipynb"
   ]
  },
  {
   "cell_type": "markdown",
   "metadata": {},
   "source": [
    "# Efeito fotoelétrico\n",
    "Teorias corpusculares da luz foram desenvolvidas por _Descartes_ em 1637 e por _Newton_ em 1672, e podem explicar, por exemplo, a reflexão da luz. No entanto, fenômenos tais como difração e interferência só são explicados por teorias ondulatórias da luz, como a de _Huygens_ de 1678. Em 1862 _Maxwell_ mostrou que ondas eletromagnéticas se propagam com a velocidade da luz, ou seja, luz é um tipo de onda eletromagnética. É muito interessante que, em 1887, ao verificar experimentalmente uma das predições da teoria de Maxwell, _Heinrich Hertz_ observou a primeira indicação da existência do efeito fotoelétrico, que discutiremos a seguir. E foi ao explicar esse efeito que _Einstein_ mostrou, em 1905, que a luz, ao interagir com a matéria, se comporta como sendo constituída por corpúsculos, hoje chamados de fótons.\n",
    "\n",
    "## Fatos empíricos\n",
    "O experimento cujos resultados serão tomados como base motivacional para o desenvolvimento da teoria é o de Lenard, mostrado abaixo (retirado da Ref. [1]).\n",
    "\n",
    "<table>\n",
    "<tr>\n",
    "<td> <img src='lenard_fee.png' width='300'/> </td>\n",
    "<td> <img src='lenard_fee_i.png' width='250'/> </td>\n",
    "<td> <img src='lenard_fee_f.png' width='250'/> </td>\n",
    "</tr>\n",
    "</table>"
   ]
  },
  {
   "cell_type": "markdown",
   "metadata": {},
   "source": [
    "Luz incide na superfície metálica $C$, podendo arrancar elétrons dela. A ejeção de elétrons de uma superfície metálica pela incidência de radiação eletromagnética é chamada de _efeito fotoelétrico_. Uma diferença de potencial (ddp) aplicada entre $C$ e $A$ pode acelerar ou desacelerar esses elétrons. Se elétrons chegam em $A$, eles são \"coletados\" e uma corrente elétrica é medida com um amperímetro. Com a polaridade certa, uma ddp suficientemente grande fará com que todos os elétrons arrancados de $C$ pela luz cheguem a $A$, e uma corrente elétrica máxima $i_{\\max}$ é observada no amperímetro. Para uma dada frequência, a corrente elétrica máxima (e a corrente elétrica em geral) é proporcional à intensidade da luz:\n",
    "\\begin{equation}\n",
    "i_{\\max}\\propto I.\n",
    "\\end{equation}\n",
    "Para uma dada intensidade, a corrente elétrica máxima (e a corrente elétrica em geral) é proporcional à frequência da luz:\n",
    "\\begin{equation}\n",
    "i_{\\max}\\propto \\nu.\n",
    "\\end{equation}"
   ]
  },
  {
   "cell_type": "markdown",
   "metadata": {},
   "source": [
    "A diminuição da ddp diminui a corrente elétrica, que é não nula mesmo para $V=0$. Isso mostra que alguns dos elétrons arrancados de $C$ possuem energia cinética não nula. Agora, se invertermos a polarização da ddp, impedindo que elétrons com energia cinética\n",
    "\\begin{equation}\n",
    "E_{c}< e|V|\n",
    "\\end{equation}\n",
    "cheguem a $A$, a corrente elétrica continua diminuindo. Independente de $I$, a corrente elétrica vai pra zero em um valor de potencial $V=V_{0}$, chamado de _potencial de corte_. Esse potencial de corte corresponde ao frenamento dos elétrons com energia cinética máxima:\n",
    "\\begin{equation}\n",
    "eV_{0} = E_{c}^{\\max}.\n",
    "\\end{equation}\n",
    "Ademais, o módulo do potencial de corte aumenta com o aumento da frequência da radiação eletromagnética incidente, e existe uma frequência de corte $\\nu_{\\min}$ tal que para frequências\n",
    "\\begin{equation}\n",
    "\\nu<\\nu_{min}\\equiv f_{t},\n",
    "\\end{equation}\n",
    "nenhuma corrente elétrica é medida para $V<0$, independentemente da intensidade da luz incidente. Note que a pequena corrente elétrica observada para $V>0$ é devida aos elétrons arrancados com $E_{c}=0$.\n",
    "\n",
    "Outra observação experimental é que, independente de $I$, uma corrente elétrica não nula é observada quase que imediatamente ao instante de incidência da luz na placa metálica, ou seja, não há retardo entre a incidência da luz e a ejeção de elétrons:\n",
    "\\begin{equation}\n",
    "t_{\\text{retardo}}=0.\n",
    "\\end{equation}"
   ]
  },
  {
   "cell_type": "markdown",
   "metadata": {},
   "source": [
    "## Teoria clássica (TC)\n",
    "Pela teoria clássica, a energia transportada pela onda eletromagnética é proporcional a sua intendidade, que é proporcional ao módulo quadrado do campo elétrico:\n",
    "\\begin{equation}\n",
    "I\\propto E^{2}.\n",
    "\\end{equation}\n",
    "Como a intensidade não depende da frequência, segundo a TC a corrente elétrica também não deveria depender da frequência. Além disso, segundo a TC a energia cinética máxima deveria depender da aceleração máxima $a_{\\max}=eE/m_{e}$, que é proporcional à intensidade da luz. Portanto, pela TC o potencial de corte deveria ser proporcional à intensidade $V_{0}\\propto I$, e não à frequência. \n",
    "\n",
    "A TC clássica também não explica a inexistência de um retardo entre o instante em que luz incide na placa metálica e o instante em que uma corrente elétrica não nula é observada no amperímetro. Pela TC, a energia luminosa se distribui uniformente pela superfície da placa metálica. Dividindo essa energia pela área total e multiplicando pela área do átomo, teremos a energia absorvida pelo elétron (em um certo intervalo de tempo). Pela TC, depois que o elétron absorveu energia suficiente, este seria ejetado. Isso implica em um $t_{\\text{retardo}}$ finito, que não é observado experimentalmente, por menor que seja $I$.\n",
    "\n",
    "A TC clássica explica $i_{\\max}\\propto I$, pois o número de elétrons ejetados seria proporcional à taxa com que estes absorvem energia luminosa, que é proporcional à intensidade da onda eletromagnética. "
   ]
  },
  {
   "cell_type": "markdown",
   "metadata": {},
   "source": [
    "## A teoria de Einstein\n",
    "Einstein levou a hipótese de Planck a um outro nível. Enquanto Planck assumiu que a energia de um modo de oscilação da radiação eletromagnética com frequência $\\nu$ é um múltiplo de $h\\nu$, Einstein assumiu que a luz incidente é constituída por pacotes de energia, os fótons, cada um com energia $h\\nu$. Ao ser absorvido, toda a energia do fóton é transferida imediatamente para o elétron. Se a energia necessária para arrancar o elétron do material for $\\tau$, a chamada _função trabalho do material_, então, por conservação de energia:\n",
    "\\begin{equation}\n",
    "h\\nu = \\tau + E_{c},\n",
    "\\end{equation}\n",
    "em que $E_{c}$ é a energia cinética do elétron, depois que este foi ejetado. A frequência mínima para que corrente elétrica não nula seja observada é obtida quando aproximadamente toda energia do fóton é usada para arrancar o elétron do material (e $E_{c}\\approx0$ e $V=0$):\n",
    "\\begin{equation}\n",
    "h\\nu_{\\min} = \\tau.\n",
    "\\end{equation}\n",
    "Como o potencial de corte corresponde à energia cinética máxima do elétron, teremos que:\n",
    "\\begin{equation}\n",
    "eV_{0} = E_{c}^{\\max} = h\\nu - \\tau \\Rightarrow V_{0} = (-\\tau/e) + (h/e)\\nu,\n",
    "\\end{equation}\n",
    "que é conhecida com equação do efeito fotoelétrico (EEF).\n",
    "\n",
    "Millikan verificou experimentalmente a teoria de Einstein do efeito fotoelétrico, a EqEF. O resultado para o Sódio para $V_{0}\\mathrm{x}\\nu$ está mostrado na figura abaixo (retirada de [Physical Review 7, 355 (1916)]).\n",
    "\n",
    "<img src='millikan_fee.png' width='500'>\n",
    "\n",
    "Com esse experimento, pela inclinação da reta, Millikan pode também medir o valor da constante de Planck."
   ]
  },
  {
   "cell_type": "markdown",
   "metadata": {},
   "source": [
    "A teoria de Einstein (TE) para o efeito fotoelétrico explica a inexistência de um tempo de retardo entre incidência de luz e observação de corrente elétrica assumindo que toda a energia do fóton é absorvida imediatamente pelo elétron. A dependência do potencial de corte com a frequência é descrita pela EqEF de Einstein. A proporcionalidade da corrente elétrica máxima com a intensidade da luz é explicada pela teoria de Einstein notando-se que o número de fótons incidindo na placa metálica por unidade de tempo é proporcional a $I$, e portanto a taxa com que elétrons são arrancados, e com isso $i$, é proporcional $I$. Por fim, a teoria de Einstein explica a dependência de $i$ com $\\nu$ notando que a energia cinética dos fotoelétrons é proporcional a $h\\nu$. Assim, como $e|V|$ é constante, aumentando $\\nu$ aumentamos o número de elétrons que chegam à placa $A$."
   ]
  },
  {
   "cell_type": "markdown",
   "metadata": {},
   "source": [
    "# Exercícios (para entregar)\n",
    "\n",
    "1. ddd\n",
    "\n",
    "1. Forneça exemplo(s) de aplicação tecnológica do efeito fotoelétrico."
   ]
  },
  {
   "cell_type": "code",
   "execution_count": null,
   "metadata": {},
   "outputs": [],
   "source": []
  }
 ],
 "metadata": {
  "kernelspec": {
   "display_name": "Python 3",
   "language": "python",
   "name": "python3"
  },
  "language_info": {
   "codemirror_mode": {
    "name": "ipython",
    "version": 3
   },
   "file_extension": ".py",
   "mimetype": "text/x-python",
   "name": "python",
   "nbconvert_exporter": "python",
   "pygments_lexer": "ipython3",
   "version": "3.6.4"
  }
 },
 "nbformat": 4,
 "nbformat_minor": 2
}
