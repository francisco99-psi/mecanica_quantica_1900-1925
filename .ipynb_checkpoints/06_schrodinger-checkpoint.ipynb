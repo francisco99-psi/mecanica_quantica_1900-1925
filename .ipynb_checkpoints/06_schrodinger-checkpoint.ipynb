{
 "cells": [
  {
   "cell_type": "markdown",
   "metadata": {},
   "source": [
    "# Notas de aula: Mecânica Quântica, Autor: Jonas Maziero, Departamento de Física, UFSM\n",
    "\n",
    "Link para o vídeo da aula sobre esse tópico:"
   ]
  },
  {
   "cell_type": "code",
   "execution_count": 1,
   "metadata": {},
   "outputs": [],
   "source": [
    "%run init.ipynb"
   ]
  },
  {
   "cell_type": "markdown",
   "metadata": {},
   "source": [
    "# Equação de Schrödinger\n",
    "Essa equação é uma das mais importantes de toda a história da humanidade, e tem a forma\n",
    "\\begin{equation}\n",
    "i\\hbar\\partial_{t}\\Psi(\\vec{r},t)=-\\frac{\\hbar^{2}}{2m}\\nabla^{2}_{\\vec{r}}\\Psi(\\vec{r},t)+U\\Psi(\\vec{r},t).\n",
    "\\end{equation}\n",
    "\n",
    "A equação de Schrödinger (ES), assim como a segunda lei de Newton da Mecânica Clássica e as equações de Einstein da Relatividade Geral, não pode ser deduzida. No entando, podemos dar uma certa plausibilidade pra ela como segue. Para um quanton no limite não relativístico de baixas velocidades (que é o limite de aplicabilidade da eq. de Schrödinger), se usamos as relações de de Broglie-Einstein,\n",
    "\\begin{equation}\n",
    "E=h\\nu=\\hbar\\omega \\text{ e } p=\\frac{h}{\\lambda}=\\hbar k,\n",
    "\\end{equation}\n",
    "a energia fica escrita como:\n",
    "\\begin{equation}\n",
    "E=\\frac{P^{2}}{2m}+U \\text{ ou } \\hbar\\omega=\\frac{\\hbar^{2}k^{2}}{2m}+U.\n",
    "\\end{equation}\n",
    "Agora, se considerarmos uma onda harmônica escrina na forma complexa\n",
    "\\begin{equation}\n",
    "\\Psi(\\vec{r},t)=Ae^{i(kx-\\omega t)},\n",
    "\\end{equation}\n",
    "então $\\partial_{t}\\Psi(x,t)=-i\\omega\\Psi(x,t)$ e $\\partial_{xx}\\Psi(x,t)=i^{2}k^{2}\\Psi(x,t)=-k^{2}\\Psi(x,t)$. Substituindo na ES teremos\n",
    "\\begin{align}\n",
    "& i\\hbar\\partial_{t}\\Psi(x,t)=i\\hbar(-i\\omega\\Psi(x,t))=\\hbar\\omega\\Psi(x,t) \\\\\n",
    "& = -\\frac{\\hbar^{2}}{2m}\\partial_{xx}\\Psi(x,t)+U\\Psi(x,t) = \\frac{\\hbar^{2}}{2m}k^{2}\\Psi(x,t)+U\\Psi(x,t),\n",
    "\\end{align}\n",
    "que nos dá $\\hbar\\omega=\\hbar^{2}k^{2}/2m + U$, como esperado.\n",
    "\n",
    "OBS. Note que, além de outros detalhes (como o $i$ que não aparece na eq. de onda clássica), a ES envolve a derivada primeira no tempo e derivadas segundas no espaço, o que contrasta com a eq. de onda clássica que envolve derivadas segundas no tempo e no espaço."
   ]
  },
  {
   "cell_type": "markdown",
   "metadata": {},
   "source": [
    "## Separação das variáveis:\n",
    "Os sistemas físicos que ainda veremos nessa disciplina serão aproximados de forma que a energia potencial deles não depende do tempo, i.e.,\n",
    "\\begin{equation}\n",
    "U=U(\\vec{r}).\n",
    "\\end{equation}\n",
    "Nessas condições podemos separar a ES em duas eqs. diferenciais, uma envolvendo o tempo e a outra o espaço:\n",
    "\\begin{equation}\n",
    "\\Psi(\\vec{r},t)=\\psi(\\vec{r})\\phi(t).\n",
    "\\end{equation}\n",
    "Teremos\n",
    "\\begin{align}\n",
    "& i\\hbar\\partial_{t}(\\psi(\\vec{r})\\phi(t)) = \\psi(\\vec{r})i\\hbar\\partial_{t}\\phi(t) \\\\\n",
    "& = -\\frac{\\hbar^{2}}{2m}\\nabla^{2}_{\\vec{r}}(\\psi(\\vec{r})\\phi(t))+U(\\vec{r})(\\psi(\\vec{r})\\phi(t)) = -\\phi(t)\\frac{\\hbar^{2}}{2m}\\nabla^{2}_{\\vec{r}}\\psi(\\vec{r})+U(\\vec{r})(\\psi(\\vec{r})\\phi(t)).\n",
    "\\end{align}\n",
    "Seguindo dividimos toda a equação por $\\psi(\\vec{r})\\phi(t)$:\n",
    "\\begin{align}\n",
    "\\frac{i\\hbar\\partial_{t}\\phi(t)}{\\phi(t)} = -\\frac{1}{\\psi(\\vec{r})}\\frac{\\hbar^{2}}{2m}\\nabla^{2}_{\\vec{r}}\\psi(\\vec{r})+U(\\vec{r}).\n",
    "\\end{align}"
   ]
  },
  {
   "cell_type": "markdown",
   "metadata": {},
   "source": [
    "Com $\\vec{r}$ e $t$ são variáveis independentes, mudanças em um lado da eq. acima não podem afetar o outro lado. Portanto os dois lados tem que ser iguais a uma mesma constante:\n",
    "\\begin{equation}\n",
    "i\\hbar\\partial_{t}\\phi(t)=C\\phi(t) \\therefore \\partial_{t}\\phi(t)=-(iC/\\hbar)\\phi(t) \\therefore \\phi(t)=e^{-iCt/\\hbar}.\n",
    "\\end{equation}\n",
    "Podemos inferir que a constante é igual a energia usando o exemplo de função de onda usado anteriormente:\n",
    "\\begin{equation}\n",
    "\\Psi(x,t) = Ae^{i(kx-\\omega t)} = Ae^{ikx}e^{-i\\omega t} = \\psi(x)\\phi(t).\n",
    "\\end{equation}\n",
    "Assim\n",
    "\\begin{equation}\n",
    "i\\hbar\\partial_{t}\\phi(t) = i\\hbar(-i\\omega)\\phi(t) = \\hbar\\omega\\phi(t) = E\\phi(t)=C\\phi(t).\n",
    "\\end{equation}\n",
    "Por conseguinte\n",
    "\\begin{equation}\n",
    "C=E \\Rightarrow \\phi(t)=e^{-iEt/\\hbar}\n",
    "\\end{equation}\n",
    "e\n",
    "\\begin{equation}\n",
    "-\\frac{\\hbar^{2}}{2m}\\nabla^{2}_{\\vec{r}}\\psi(\\vec{r})+U(\\vec{r})\\psi(\\vec{r}) = E\\psi(\\vec{r}).\n",
    "\\end{equation}\n",
    "Nas aplicações da Mecânica Quântica estaremos quase sempre preocupados em resolver essa equação, chamada de eq. de Schrödinger independente do tempo, para algumas dependências específicas da energia potencial com a posição."
   ]
  },
  {
   "cell_type": "markdown",
   "metadata": {},
   "source": [
    "## Interpretação e condições sobre a função de onda\n",
    "A função de onda de um quanton $\\Psi(\\vec{r},t):\\mathbb{R}^{4}\\rightarrow\\mathbb{C}$ é uma função complexa. Por isso, essa função não possui uma interpretação direta. Sua interpretação foi dada por Born [https://www.nobelprize.org/prizes/physics/1954/born/lecture/]:\n",
    "\\begin{equation}\n",
    "|\\Psi(\\vec{r},t)|^{2}d^{3}r = \\text{probabilidade do quanton estar no volume } d^{3}r \\text{ em torno } \\vec{r} \\text{, no instante de tempo } t.\n",
    "\\end{equation}\n",
    "A função de onda $\\Psi(\\vec{r},t)$ é uma amplitude de probabilidade, ou densidade de probabilidade, e sua ligação com quantidades físicas observáveis é dada pela interpretação de Born acima.\n",
    "\n",
    "Dada essa interpretação, a função de onda precisa satisfazer a _condição de normalização_, ou seja, se, no instante $t$, somamos a probabilidade das posições do quanton por todo o espaço, temos que obter unidade:\n",
    "\\begin{equation}\n",
    "\\iiint|\\Psi(\\vec{r},t)|^{2}d^{3}r=1.\n",
    "\\end{equation}"
   ]
  },
  {
   "cell_type": "markdown",
   "metadata": {},
   "source": []
  },
  {
   "cell_type": "markdown",
   "metadata": {},
   "source": [
    "# Poço quadrado finito\n"
   ]
  },
  {
   "cell_type": "markdown",
   "metadata": {},
   "source": [
    "# Exercícios (para entregar)\n",
    "\n",
    "1. Verifique que a função $\\Psi(\\vec{r},t)=Ae^{i(\\vec{k}\\cdot\\vec{r}-\\omega t)}$ satisfaz a eq. de Schrödinger tridimensional, e que leva à relação $\\hbar\\omega=\\hbar^{2}k^{2}/2m+U$.\n",
    "\n",
    "1. ddd"
   ]
  },
  {
   "cell_type": "code",
   "execution_count": null,
   "metadata": {},
   "outputs": [],
   "source": []
  }
 ],
 "metadata": {
  "kernelspec": {
   "display_name": "Python 3",
   "language": "python",
   "name": "python3"
  },
  "language_info": {
   "codemirror_mode": {
    "name": "ipython",
    "version": 3
   },
   "file_extension": ".py",
   "mimetype": "text/x-python",
   "name": "python",
   "nbconvert_exporter": "python",
   "pygments_lexer": "ipython3",
   "version": "3.6.4"
  }
 },
 "nbformat": 4,
 "nbformat_minor": 2
}
