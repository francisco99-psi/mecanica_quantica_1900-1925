{
 "cells": [
  {
   "cell_type": "markdown",
   "metadata": {},
   "source": [
    "# Bibliografia\n",
    "\n",
    "- TIPLER, P.A., LLEWELLYN, R.A.. Física Moderna. LTC, Rio de Janeiro: 2010.\n",
    "- EISBERG, R. M., RESNICK, R.. Quantum Physics of Atoms, Molecules, Solids, Nuclei, and Particles. John Wiley & Sons, California: 1985.\n",
    "- GRIFFITHS David J. Introduction to Quantum Mechanics. Prentice Hall, 1995.\n",
    "- MESSIAH, A. Quantum Mechanics. Dover, Mineola: 1999.\n",
    "- NUSSENZVEIG, H. M.. Curso de Física Básica – Vol. 4. Editora Blucher, São Paulo: 1998.\n",
    "- SAKURAI, J. J. Mecânica Quântica Moderna. 2a ed. Bookman, Porto Alegre: 2013.\n",
    "- PIZA, A. F. R. T. Mecânica Quântica. Edusp, São Paulo: 2003.\n",
    "- FEYNMAN, R. P. The Feynman Lectures on Physics. Addison-Wesley, Reading: 1966. v. 3.\n",
    "- PESSOA JR, O.. Conceitos de Física Quântica – Vols. I e II. Editora Livraria da Física, São Paulo: 2003."
   ]
  },
  {
   "cell_type": "code",
   "execution_count": null,
   "metadata": {},
   "outputs": [],
   "source": []
  }
 ],
 "metadata": {
  "kernelspec": {
   "display_name": "Python 3",
   "language": "python",
   "name": "python3"
  },
  "language_info": {
   "codemirror_mode": {
    "name": "ipython",
    "version": 3
   },
   "file_extension": ".py",
   "mimetype": "text/x-python",
   "name": "python",
   "nbconvert_exporter": "python",
   "pygments_lexer": "ipython3",
   "version": "3.6.4"
  }
 },
 "nbformat": 4,
 "nbformat_minor": 2
}
