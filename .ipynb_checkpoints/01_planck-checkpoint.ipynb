{
 "cells": [
  {
   "cell_type": "code",
   "execution_count": 2,
   "metadata": {},
   "outputs": [],
   "source": [
    "%run init.ipynb"
   ]
  },
  {
   "cell_type": "markdown",
   "metadata": {},
   "source": [
    "# Radiação de corpo negro\n",
    "Um sistema físico em _equilíbrio térmico_ é caracterizado pelo fato de que as taxas com que este absorve e libera energia são as mesmas. Aqui vamos focar em trocas de energia com o ambiente através da emissão e absorção de radiação eletromagnética (RE). \n",
    "\n",
    "Sistemas atômicos ou moleculares (e.g. gases), emitem e absorvem RE num conjunto discreto de frequências. Aqui estaremos interessados em sistemas condensados, líquidos ou sólidos, que emitem e absorvem RE em um conjunto contínuo de frequências. \n",
    "\n",
    "O _espectro_ de absorção (EA) ou espectro de emissão (EE) de RE de um sistema condensado é a intensidade da RE emitida ou absorvida como função da sua frequência (ou comprimento de onda). \n",
    "\n",
    "Todo sistema físico possui _temperatura_ positiva e troca RE com seu ambiente. O espectro dessa RE depende da temperatura desse sistema e também de sua composição (e possivelmente de outros fatores, tais como geometria, que não serão considerados nessa disciplina). _Corpos negros_ ideais são sistemas que absorvem toda a RE que neles incide. O EA e EE de corpos negros são ditos normais, pois independem da do tipo de átomo que os contitui. Todos os resultados discutidos na sequência se referem a esses sistemas.\n",
    "\n",
    "Uma radiação eletromagnética que se assemelha bem à radiação de corpo negro é a radiação provinda de uma cavidade em equilíbrio térmico, que é a radiação que sai por um orifício muito pequeno feito como ilustrado na figura abaixo (retirada da Ref. [1]). As teorias desenvolvidas a seguir são implementadas nesse corpo negro.\n",
    "\n",
    "<img src=\"cavity_radiation.png\" width=\"200\">"
   ]
  },
  {
   "cell_type": "markdown",
   "metadata": {},
   "source": [
    "## Resultados empíricos\n",
    "A radiância espectral $R_{T}(\\lambda)$ é definida de forma que $R_{T}(\\lambda)d\\lambda$ é a energia por unidade de tempo (potência) por unidade de área ganha ou perdida (por absorção ou emissão de RE com comprimento de onda entre $\\lambda$ e $\\lambda+d\\lambda$) por um corpo negro a um temperatura $T$:\n",
    "\\begin{equation}\n",
    "R_{T}(\\lambda)d\\lambda = \\frac{\\text{energia emitida ou absorvida nos comprimentos de onda entre } \\lambda \\text{ e } \\lambda+d\\lambda}{(\\text{unidade de área})(\\text{unidade de tempo})}.\n",
    "\\end{equation}\n",
    "De experimentos, sabe-se que, para uma dada $T$, a intensidade $R_{T}(\\lambda)$ vai pra zero para comprimentos de onda muito baixos e muito altos\n",
    "\\begin{equation}\n",
    "R_{T}(\\lambda\\rightarrow 0)=R_{T}(\\lambda\\rightarrow \\infty)\\rightarrow 0,\n",
    "\\end{equation}\n",
    "passando por um máximo em um comprimento de onda que é proporcional ao inverso da temperatura\n",
    "\\begin{equation}\n",
    "\\lambda_{\\max}\\propto \\frac{1}{T},\n",
    "\\end{equation}\n",
    "resultado conhecido como _lei de deslocamento de Wien_.\n",
    "Sabe-se também que a radiância, \n",
    "\\begin{equation}\n",
    "R_{T}:=\\int_{0}^{\\infty}R_{T}(\\lambda)d\\lambda =\\frac{\\text{energia emitida ou absorvida}}{(\\text{unidade de área})(\\text{unidade de tempo})},\n",
    "\\end{equation}\n",
    "aumenta com a temperatura seguindo a _lei de Stefan-Boltzmann_:\n",
    "\\begin{equation}\n",
    "R_{T}=\\sigma T^{4},\n",
    "\\end{equation}\n",
    "em que $\\sigma=5,67\\mathrm{x}10^{-8}\\hspace{0.1cm}\\mathrm{W}/\\mathrm{m}^{2}K^{4}$ é a constante de Stefan-Boltzmann."
   ]
  },
  {
   "cell_type": "markdown",
   "metadata": {},
   "source": [
    "## Teoria clássica\n",
    "### Número de modos de oscilação\n",
    "Consideraremos cavidades metálicas, e portanto que a amplitude a onda eletromagética é nula nas paredes. Começamos considerando uma cavidade unidimensional de comprimento $L$. Para ondas estacionárias, somente comprimentos de onda da RE tais que um número inteiro de meios comprimentos de onda cabe no espaço $L$ são possíveis:\n",
    "\\begin{equation}\n",
    "n_{x}\\frac{\\lambda}{2} = L \\Rightarrow n_{x} = \\frac{2L}{\\lambda} \\text{ com } n_{x}=1,2,3,\\cdots.\n",
    "\\end{equation}\n",
    "Se consideramos comprimentos de onda em um intervalo entre $\\lambda$ e $\\lambda+d\\lambda$, com $d\\lambda\\rightarrow 0$, o número de modos de oscilação da RE nesse intervalo é:\n",
    "\\begin{equation}\n",
    "d n_{x} = \\left|\\lim_{d\\lambda\\rightarrow 0}\\left(\\frac{2L}{\\lambda+d\\lambda}-\\frac{2L}{\\lambda}\\right)\\right|d\\lambda=\\frac{2L}{\\lambda^{2}}d\\lambda.\n",
    "\\end{equation}\n",
    "Como existem duas _polarizações ortogonais_ (ondas totalmente distiguímeis) pra cada modo de oscilação, multiplicamos a equação anterior por dois:\n",
    "\\begin{equation}\n",
    "d n_{x} = \\frac{4L}{\\lambda^{2}}d\\lambda.\n",
    "\\end{equation}"
   ]
  },
  {
   "cell_type": "markdown",
   "metadata": {},
   "source": [
    "Vamos agora para a contagem do número de modos de oscilação em uma cavidade bi-dimensinal, que está ilustrada na figura abaixo (retirada da Ref. [1]).\n",
    "<img src=\"cavity_modes_2d.png\" width=\"200\">\n",
    "A amplitude da onda dever ser nula nas paredes. Podemos escrever essa onda da seguinte forma (coloca a origem do referencial no canto inferior esquerdo):\n",
    "\\begin{equation}\n",
    "f(x,y)=C(t)\\sin\\frac{n_{x}\\pi x}{L}\\sin\\frac{n_{y}\\pi y}{L},\n",
    "\\end{equation}\n",
    "com $n_{x},n_{y}\\in\\mathbb{Z}_{+}$. Para determinar os possíveis valores desses números de modos, transformamos o problema 2D em 1D, usando a ilustração da figura acima. Pensamos em termos das coordenadas dos pontos de amplitude nula, ou da mesma forma, em termos das projeções 1D da onda 2D. Essas projeções devem ser tais que múltiplos inteiros de meio \"comprimento de onda\" cabem nas direções $x$ e $y$, i.e.,\n",
    "\\begin{equation}\n",
    "L = n_{x}\\frac{\\lambda_{x}}{2} = n_{x}\\frac{\\lambda}{2\\sin\\phi} \\text{ e } L = n_{y}\\frac{\\lambda_{y}}{2} = n_{y}\\frac{\\lambda}{2\\cos\\phi}.\n",
    "\\end{equation}\n",
    "Assim, no espaço do número de modos, os pontos dentro do círculo de raio quadrado:\n",
    "\\begin{equation}\n",
    "r^{2}=n_{x}^{2}+n_{y}^{2} = \\frac{4L^{2}}{\\lambda^{2}}\\left(\\sin^{2}\\phi+\\cos^{2}\\phi\\right)=  \\frac{4L^{2}}{\\lambda^{2}},\n",
    "\\end{equation}\n",
    "nos fornecem o número de modos com comprimento de onda maior que $\\lambda_{\\min}=2L$. O número de modos de oscilação é então dado pelar área do respectivo quadrante:\n",
    "\\begin{equation}\n",
    "n = \\pi r^{2}\\frac{1}{4} = pi \\frac{4L^{2}}{\\lambda^{2}}\\frac{1}{4}=\\frac{\\pi L^{2}}{\\lambda^{2}}.\n",
    "\\end{equation}\n",
    "Então o número de modos de oscilação no intervalo entre $\\lambda$ e $\\lambda+d\\lambda$ é (já multiplicado por 2 por causa das polarizações ortogonais):\n",
    "\\begin{equation}\n",
    "dn = \\frac{4\\pi L^{2}}{\\lambda^{3}}d\\lambda.\n",
    "\\end{equation}"
   ]
  },
  {
   "cell_type": "markdown",
   "metadata": {},
   "source": [
    "Para o caso tri-dimensional com cavidade cúbica fazemos o processo análogo:\n",
    "\\begin{equation}\n",
    "L = n_{x}\\frac{\\lambda_{x}}{2} = n_{x}\\frac{\\lambda}{2\\sin\\theta\\cos\\phi} = n_{y}\\frac{\\lambda_{y}}{2} = n_{y}\\frac{\\lambda}{2\\sin\\theta\\sin\\phi} = n_{z}\\frac{\\lambda_{z}}{2} = n_{z}\\frac{\\lambda}{2\\cos\\theta}.\n",
    "\\end{equation}\n",
    "Nesse caso o número de modos de oscilação é obtido pelo volume do octante de raio\n",
    "\\begin{align}\n",
    "r^{2} &= n_{x}^{2}+n_{y}^{2}+n_{z}^{2} \\\\\n",
    "& = \\frac{4L^{2}}{\\lambda^{2}}\\left(\\sin^{2}\\theta\\cos^{2}\\phi+\\sin^{2}\\theta\\sin^{2}\\phi+\\cos^{2}\\theta\\right) \\\\ \n",
    "& = \\frac{4L^{2}}{\\lambda^{2}},\n",
    "\\end{align}\n",
    "que é\n",
    "\\begin{equation}\n",
    "n = \\frac{4}{3}\\pi r^{3}\\frac{1}{8} = \\frac{4}{3}\\pi \\frac{2^{3}L^{3}}{\\lambda^{3}}\\frac{1}{8}.\n",
    "\\end{equation}\n",
    "Por conseguinte, o número de modos de oscilação no intervalo entre $\\lambda$ e $\\lambda+d\\lambda$ é (já multiplicado por 2 por causa das polarizações ortogonais):\n",
    "\\begin{equation}\n",
    "dn = \\frac{8\\pi L^{3}}{\\lambda^{4}}.\n",
    "\\end{equation}\n",
    "\n",
    "A quantidade que usaremos posteriormente, e que é independente da geometria da cavidade, é a densidade volumétrica de modos de oscilação:\n",
    "\\begin{equation}\n",
    "n(\\lambda)d\\lambda = \\frac{8\\pi}{\\lambda^{4}}d\\lambda.\n",
    "\\end{equation}"
   ]
  },
  {
   "cell_type": "markdown",
   "metadata": {},
   "source": [
    "### Equação de Rayleigh-Jeans\n",
    "Para a radiação térmica de cavidade, teremos que a radiância espectral (potência emitida através do orifício) é proporcional à densidade de energia dentro da cavidade:\n",
    "\\begin{equation}\n",
    "R_{T}(\\lambda) \\propto u_{T}(\\lambda)\n",
    "\\end{equation}\n",
    "Essa densidade de energia é calculada multiplicando-se a densidade de modos de oscilação pela energia média de cada modo. Da teoria cinética dos gases temos que\n",
    "\\begin{equation}\n",
    "\\text{energia média por modo de oscilação } \\equiv \\bar{E} = k_{B}T,\n",
    "\\end{equation}\n",
    "em que $k_{B}$ é a constante de Boltzmann. Assim\n",
    "\\begin{equation}\n",
    "u_{T}(\\lambda) = \\bar{E}n(\\lambda) = \\frac{8\\pi k_{B}T}{\\lambda^{4}},\n",
    "\\end{equation}\n",
    "que é a chamada equação de Rayleigh-Jeans.\n",
    "\n",
    "Vemos assim que, fixada a temperatura, para comprimentos de onda muito grandes a radiância espectral vai pra zero, como esperado dos experimentos:\n",
    "\\begin{equation}\n",
    "u_{T}(\\lambda\\rightarrow \\infty)\\rightarrow 0.\n",
    "\\end{equation}\n",
    "No entanto, para comprimentos de onda muito pequenos (frequências muito grandes) a previsão clássica para a radiância espectral vai para infinito:\n",
    "\\begin{equation}\n",
    "u_{T}(\\lambda\\rightarrow 0)\\rightarrow \\infty.\n",
    "\\end{equation}\n",
    "Essa previsão completamente errada é conhecida como a catástrofe do ultravioleta."
   ]
  },
  {
   "cell_type": "markdown",
   "metadata": {},
   "source": [
    "## Teoria quântica (de Planck)"
   ]
  },
  {
   "cell_type": "markdown",
   "metadata": {},
   "source": []
  },
  {
   "cell_type": "markdown",
   "metadata": {},
   "source": [
    "## Aplicações"
   ]
  },
  {
   "cell_type": "code",
   "execution_count": null,
   "metadata": {},
   "outputs": [],
   "source": []
  }
 ],
 "metadata": {
  "kernelspec": {
   "display_name": "Python 3",
   "language": "python",
   "name": "python3"
  },
  "language_info": {
   "codemirror_mode": {
    "name": "ipython",
    "version": 3
   },
   "file_extension": ".py",
   "mimetype": "text/x-python",
   "name": "python",
   "nbconvert_exporter": "python",
   "pygments_lexer": "ipython3",
   "version": "3.6.4"
  }
 },
 "nbformat": 4,
 "nbformat_minor": 2
}
