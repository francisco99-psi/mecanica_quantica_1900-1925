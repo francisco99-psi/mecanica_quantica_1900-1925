{
 "cells": [
  {
   "cell_type": "code",
   "execution_count": 1,
   "metadata": {},
   "outputs": [],
   "source": [
    "%run init.ipynb"
   ]
  },
  {
   "cell_type": "markdown",
   "metadata": {},
   "source": [
    "# Radiação de corpo negro\n",
    "Um sistema físico em equilíbrio térmico é caracterizado pelo fato de que as taxas com que este absorve e libera energia são as mesmas. Aqui vamos focar em trocas de energia com o ambiante através da emissão e absorção de radiação eletromagnética (RE). Sistemas atômicos ou moleculares (e.g. gases), emitem e absorvem RE num conjunto discreto de frequências. Aqui estaremos interessados em sistemas condensados, líquidos ou sólidos, que emitem e absorvem RE em um conjunto contínuo de frequências. O espectro de absorção (EA) ou espectro de emissão (EE) de RE de um sistema condensado é a intensidade da RE emitida ou absorvida como função da sua frequência (ou comprimento de onda). Todo sistema físico possui temperatura positiva e troca RE com seu ambiente. O espectro dessa RE depende da temperatura desse sistema e também de sua composição (e possivelmente de outros fatores, tais como geometria, que não serão considerados nessa disciplina). Corpos negros são sistemas que absorvem toda RE que neles incide. O EA e EE de corpos negros é dito normal, pois independe da do tipo de átomo que o contitui. Todos os resultados discutidos na sequência se referem a esse tipo de sistema.\n",
    "\n",
    "## Resultados empíricos\n"
   ]
  },
  {
   "cell_type": "markdown",
   "metadata": {},
   "source": [
    "## Teria clássica"
   ]
  },
  {
   "cell_type": "markdown",
   "metadata": {},
   "source": [
    "## Teoria quântica (de Planck)"
   ]
  },
  {
   "cell_type": "markdown",
   "metadata": {},
   "source": [
    "## Aplicações"
   ]
  },
  {
   "cell_type": "code",
   "execution_count": null,
   "metadata": {},
   "outputs": [],
   "source": []
  }
 ],
 "metadata": {
  "kernelspec": {
   "display_name": "Python 3",
   "language": "python",
   "name": "python3"
  },
  "language_info": {
   "codemirror_mode": {
    "name": "ipython",
    "version": 3
   },
   "file_extension": ".py",
   "mimetype": "text/x-python",
   "name": "python",
   "nbconvert_exporter": "python",
   "pygments_lexer": "ipython3",
   "version": "3.6.4"
  }
 },
 "nbformat": 4,
 "nbformat_minor": 2
}
