{
 "cells": [
  {
   "cell_type": "code",
   "execution_count": 2,
   "metadata": {},
   "outputs": [],
   "source": [
    "%run init.ipynb"
   ]
  },
  {
   "cell_type": "markdown",
   "metadata": {},
   "source": [
    "# Radiação de corpo negro\n",
    "Um sistema físico em _equilíbrio térmico_ é caracterizado pelo fato de que as taxas com que este absorve e libera energia são as mesmas. Aqui vamos focar em trocas de energia com o ambiente através da emissão e absorção de radiação eletromagnética (RE). Sistemas atômicos ou moleculares (e.g. gases), emitem e absorvem RE num conjunto discreto de frequências. Aqui estaremos interessados em sistemas condensados, líquidos ou sólidos, que emitem e absorvem RE em um conjunto contínuo de frequências. O _espectro_ de absorção (EA) ou espectro de emissão (EE) de RE de um sistema condensado é a intensidade da RE emitida ou absorvida como função da sua frequência (ou comprimento de onda). Todo sistema físico possui _temperatura_ positiva e troca RE com seu ambiente. O espectro dessa RE depende da temperatura desse sistema e também de sua composição (e possivelmente de outros fatores, tais como geometria, que não serão considerados nessa disciplina). _Corpos negros_ ideais são sistemas que absorvem toda a RE que neles incide. O EA e EE de corpos negros são ditos normais, pois independem da do tipo de átomo que os contitui. Todos os resultados discutidos na sequência se referem a esses sistemas."
   ]
  },
  {
   "cell_type": "markdown",
   "metadata": {},
   "source": [
    "## Resultados empíricos\n",
    "A radiância espectral $R_{T}(\\lambda)$ é definida de forma que $R_{T}(\\lambda)d\\lambda$ é a energia por unidade de tempo (potência) por unidade de área ganha ou perdida (por absorção ou emissão de RE com comprimento de onda entre $\\lambda$ e $\\lambda+d\\lambda$) por um corpo negro a um temperatura $T$:\n",
    "\\begin{equation}\n",
    "R_{T}(\\nu)d\\nu = \\frac{\\text{energia emitida ou absorvida nos comprimentos de onda entre } \\lambda \\text{ e } \\lambda+d\\lambda}{(\\text{unidade de área})(\\text{unidade de tempo})}.\n",
    "\\end{equation}\n",
    "De experimentos, sabe-se que, para uma dada $T$, a intensidade $R_{T}(\\lambda)$ vai pra zero para comprimentos de onda muito baixos e muito altos\n",
    "\\begin{equation}\n",
    "R_{T}(\\lambda\\rightarrow 0)=R_{T}(\\lambda\\rightarrow \\infty)\\rightarrow 0,\n",
    "\\end{equation}\n",
    "passando por um máximo em um comprimento de onda que é proporcional ao inverso da temperatura\n",
    "\\begin{equation}\n",
    "\\lambda_{\\max}\\propto \\frac{1}{T},\n",
    "\\end{equation}\n",
    "resultado conhecido como _lei de deslocamento de Wien_.\n",
    "Sabe-se também que a radiância, \n",
    "\\begin{equation}\n",
    "R_{T}:=\\int_{0}^{\\infty}R_{T}(\\lambda)d\\lambda =\\frac{\\text{energia emitida ou absorvida}}{(\\text{unidade de área})(\\text{unidade de tempo})},\n",
    "\\end{equation}\n",
    "aumenta com a temperatura seguindo a _lei de Stefan-Boltzmann_:\n",
    "\\begin{equation}\n",
    "R_{T}=\\sigma T^{4},\n",
    "\\end{equation}\n",
    "em que $\\sigma=5,67\\mathrm{x}10^{-8}\\hspace{0.1cm}\\mathrm{W}/\\mathrm{m}^{2}K^{4}$ é a constante de Stefan-Boltzmann."
   ]
  },
  {
   "cell_type": "markdown",
   "metadata": {},
   "source": [
    "## Teria clássica\n",
    "Uma radiação eletromagnética que se asemelha bem à radiação de corpo negro é a radiação provinda de uma cavidade em equilíbrio térmico, que é a radiação que sai por um orifício muito pequeno feito, como ilustrado na figura abaixo (retirada da Ref. [1]).\n",
    "\n",
    "<img src=\"cavity_radiation.png\" width=\"200\">"
   ]
  },
  {
   "cell_type": "markdown",
   "metadata": {},
   "source": [
    "### Número de modos de oscilação\n",
    "Consideraremos cavidades metálicas, e portanto que a amplitude a onda eletromagética é nula nas paredes. Começamos considerando uma cavidade unidimensional de comprimento $L$. Para ondas estacionárias, somente comprimentos de onda da RE tais que um número inteiro de meios comprimentos de onda cabe no espaço $L$ são possíveis:\n",
    "\\begin{equation}\n",
    "n_{x}\\frac{\\lambda}{2} = L \\Rightarrow n_{x} = \\frac{2L}{\\lambda} \\text{ com } n_{x}=1,2,3,\\cdots.\n",
    "\\end{equation}\n"
   ]
  },
  {
   "cell_type": "markdown",
   "metadata": {},
   "source": [
    "## Teoria quântica (de Planck)"
   ]
  },
  {
   "cell_type": "code",
   "execution_count": null,
   "metadata": {},
   "outputs": [],
   "source": []
  },
  {
   "cell_type": "markdown",
   "metadata": {},
   "source": [
    "## Aplicações"
   ]
  },
  {
   "cell_type": "code",
   "execution_count": null,
   "metadata": {},
   "outputs": [],
   "source": []
  }
 ],
 "metadata": {
  "kernelspec": {
   "display_name": "Python 3",
   "language": "python",
   "name": "python3"
  },
  "language_info": {
   "codemirror_mode": {
    "name": "ipython",
    "version": 3
   },
   "file_extension": ".py",
   "mimetype": "text/x-python",
   "name": "python",
   "nbconvert_exporter": "python",
   "pygments_lexer": "ipython3",
   "version": "3.6.4"
  }
 },
 "nbformat": 4,
 "nbformat_minor": 2
}
