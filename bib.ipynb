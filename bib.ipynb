{
 "cells": [
  {
   "cell_type": "markdown",
   "metadata": {},
   "source": [
    "# Bibliografia\n",
    "\n",
    "[1] TIPLER, P.A., LLEWELLYN, R.A.. Física Moderna. LTC, Rio de Janeiro: 2010. <br>\n",
    "[2] EISBERG, R. M., RESNICK, R.. Quantum Physics of Atoms, Molecules, Solids, Nuclei, and Particles. John Wiley & Sons, California: 1985. <br>\n",
    "[3] GRIFFITHS David J. Introduction to Quantum Mechanics. Prentice Hall, 1995. <br>\n",
    "[4] MESSIAH, A. Quantum Mechanics. Dover, Mineola: 1999. <br>\n",
    "[5] NUSSENZVEIG, H. M.. Curso de Física Básica – Vol. 4. Editora Blucher, São Paulo: 1998. <br>\n",
    "[6] SAKURAI, J. J. Mecânica Quântica Moderna. 2a ed. Bookman, Porto Alegre: 2013. <br>\n",
    "[7] PIZA, A. F. R. T. Mecânica Quântica. Edusp, São Paulo: 2003. <br>\n",
    "[8] FEYNMAN, R. P. The Feynman Lectures on Physics. Addison-Wesley, Reading: 1966. v. 3. <br>\n",
    "[9] PESSOA JR, O.. Conceitos de Física Quântica – Vols. I e II. Editora Livraria da Física, São Paulo: 2003. <br>"
   ]
  },
  {
   "cell_type": "code",
   "execution_count": null,
   "metadata": {},
   "outputs": [],
   "source": []
  }
 ],
 "metadata": {
  "kernelspec": {
   "display_name": "Python 3",
   "language": "python",
   "name": "python3"
  },
  "language_info": {
   "codemirror_mode": {
    "name": "ipython",
    "version": 3
   },
   "file_extension": ".py",
   "mimetype": "text/x-python",
   "name": "python",
   "nbconvert_exporter": "python",
   "pygments_lexer": "ipython3",
   "version": "3.6.4"
  }
 },
 "nbformat": 4,
 "nbformat_minor": 2
}
