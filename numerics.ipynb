{
 "cells": [
  {
   "cell_type": "code",
   "execution_count": 6,
   "metadata": {},
   "outputs": [],
   "source": [
    "%run init.ipynb"
   ]
  },
  {
   "cell_type": "code",
   "execution_count": 7,
   "metadata": {},
   "outputs": [],
   "source": [
    "def bissection(f, xe, xd, err, Nm):\n",
    "    # f: a função da qual queremos calcular as raízes\n",
    "    # xe, xd ! limites \"esquerdo\" e \"direito\" para procurar a raíz\n",
    "    # xm, fxm ! ponto médio e valor da função nesse ponto\n",
    "    # xr ! valor da raíz\n",
    "    # err, dx ! largura máxima tolerada e atual do intervalo no qual procuramos a raíz\n",
    "    # Nm, Ni ! número máximo e atual de iterações\n",
    "    if f(xe)*f(xd) >= 0:\n",
    "        if abs(f(xe)) < 10**-15:\n",
    "            return xe\n",
    "        if abs(f(xd)) < 10**-15:\n",
    "            return xd\n",
    "        print('Não há raíz nesse intervalo')\n",
    "    else:\n",
    "        Ni = 0\n",
    "        while True: \n",
    "            dx = xd-xe\n",
    "            xm = (xe+xd)/2\n",
    "            if dx < err:\n",
    "                return xm\n",
    "            fxm = f(xm)\n",
    "            if abs(fxm) < 10**-5:\n",
    "                return xm\n",
    "            if f(xe)*f(xm) < 0:\n",
    "                xd = xm\n",
    "            else:\n",
    "                xe = xm\n",
    "            Ni = Ni + 1\n",
    "            if Ni > Nm:\n",
    "                break\n",
    "        xr = xm\n",
    "    return xr"
   ]
  }
 ],
 "metadata": {
  "kernelspec": {
   "display_name": "Python 3",
   "language": "python",
   "name": "python3"
  },
  "language_info": {
   "codemirror_mode": {
    "name": "ipython",
    "version": 3
   },
   "file_extension": ".py",
   "mimetype": "text/x-python",
   "name": "python",
   "nbconvert_exporter": "python",
   "pygments_lexer": "ipython3",
   "version": "3.6.4"
  }
 },
 "nbformat": 4,
 "nbformat_minor": 2
}
