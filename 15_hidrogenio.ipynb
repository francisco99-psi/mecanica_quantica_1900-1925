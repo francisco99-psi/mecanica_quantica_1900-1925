{
 "cells": [
  {
   "cell_type": "markdown",
   "metadata": {},
   "source": [
    "# Notas de aula: Mecânica Quântica, Autor: Jonas Maziero, Departamento de Física, UFSM\n",
    "Links para os vídeos das aulas sobre esse tópico:  e ."
   ]
  },
  {
   "cell_type": "code",
   "execution_count": 1,
   "metadata": {},
   "outputs": [],
   "source": [
    "%run init.ipynb"
   ]
  },
  {
   "cell_type": "markdown",
   "metadata": {},
   "source": [
    "# Átomos Hidrogenóides\n",
    "\n",
    "## Forças centrais: $2\\rightarrow 1$\n",
    "Consideremos um elétron interagindo com um núcleo com $Z$ prótons, que corresponde a uma energia potencial elétrica\n",
    "\\begin{equation}\n",
    "U(r)=-\\frac{kZe^{2}}{r},\n",
    "\\end{equation}\n",
    "onde $\\vec{r}$ é a posição do elétron em relação ao núcleo e $k$ é a constante de Coulomb. A energia total do sistema, clássico, é então\n",
    "\\begin{equation}\n",
    "E= 2^{-1}m_{e}v_{e}^{2} + 2^{-1}m_{n}v_{n}^{2} + U(r),\n",
    "\\end{equation}\n",
    "em que $\\vec{v}_{e}=\\partial_{t}\\vec{r}_{e}$ e $\\vec{v}_{n}=\\partial_{t}\\vec{r}_{n}$ com $\\vec{r}_{e}$ e $\\vec{r}_{n}$ sendo, respectivamente, as posições do elétron e do núcleo em relação a um referencial inercial genérico $O$. A posição do centro de massa desse sistema em relação a $O$ é $\\vec{r}_{cm} = (m_{e}/M)\\vec{r}_{e}+(m_{n}/M)\\vec{r}_{n}$, com $M=m_{e}+m_{n}$. Como nesse caso $\\sum\\vec{F}_{externas}=\\vec{0}$, o centro de massa pode ser usado como um referencial inercial. Fazendo $O=CM$ teremos\n",
    "\\begin{equation}\n",
    "\\vec{r}_{cm}=\\vec{0} \\therefore m_{e}\\vec{r}_{e}=-m_{n}\\vec{r}_{n}.\n",
    "\\end{equation}\n",
    "Além disso, também temos que\n",
    "\\begin{equation}\n",
    "\\vec{r} = \\vec{r}_{n}-\\vec{r}_{e}.\n",
    "\\end{equation}"
   ]
  },
  {
   "cell_type": "markdown",
   "metadata": {},
   "source": [
    "Substituindo uma dessas equações na outra, obteremos\n",
    "\\begin{align}\n",
    "& \\vec{r} = \\vec{r}_{n}+\\frac{m_{n}}{m_{e}}\\vec{r}_{n} = \\frac{m_{e}+m_{n}}{m_{e}}\\vec{r}_{n} \\therefore \\vec{v}_{n} = \\frac{m_{e}}{m_{e}+m_{n}}\\vec{v}, \\\\\n",
    "& \\vec{r} = - \\frac{m_{e}}{m_{n}}\\vec{r}_{e}-\\vec{r}_{e} =  -\\frac{m_{e}+m_{n}}{m_{n}}\\vec{r}_{e} \\therefore \\vec{v}_{e} = \\frac{m_{n}}{m_{e}+m_{n}}\\vec{v}.\n",
    "\\end{align}\n",
    "Substituindo esses resultados na equação para a energia, vem que\n",
    "\\begin{align}\n",
    "E &= \\frac{1}{2}m_{e}\\frac{m_{n}^{2}}{(m_{e}+m_{n})^{2}}v^{2} + \\frac{1}{2}m_{n}v_{n}^{2}\\frac{m_{e}^{2}}{(m_{e}+m_{n})^{2}}v^{2} + U(r) \\\\\n",
    "& = \\frac{1}{2}\\frac{m_{e}m_{n}}{(m_{e}+m_{n})^{2}}v^{2}(m_{n}+m_{e}) + U(r) \\\\\n",
    "& := \\frac{1}{2}\\mu v^{2} + U(r) \\equiv \\frac{p^{2}}{2\\mu}+U(r),\n",
    "\\end{align}\n",
    "em que definimos a massa reduzida do sistema elétron-núcleo como\n",
    "\\begin{equation}\n",
    "\\mu = \\frac{m_{e}m_{n}}{m_{e}+m_{n}}.\n",
    "\\end{equation}\n",
    "e denotamos o momento linear por $\\vec{p}=\\mu\\partial_{t}\\vec{r}$. Com isso, transformamos o problema de dois corpos (envolvendo dois vetores posição $\\vec{r}_{e}$ e $\\vec{r}_{n}$) em um problema de um único corpo (envolvendo um único vetor posição $\\vec{r}$)."
   ]
  },
  {
   "cell_type": "markdown",
   "metadata": {},
   "source": [
    "## Laplaciano em coordenadas esféricas\n",
    "Quantizando $p\\rightarrow -i\\hbar\\vec{\\nabla}$ na relação clássica, mostrada acima, para a energia do átomo de um elétron, obteremos a seguinte EqSIT 3D:\n",
    "\\begin{equation}\n",
    "-\\frac{\\hbar^{2}}{2\\mu}\\nabla^{2}\\psi(x,y,z)+U(r)\\psi(x,y,z)=E\\psi(x,y,z),\n",
    "\\end{equation}\n",
    "com o Laplaciano dado por\n",
    "\\begin{equation}\n",
    "\\nabla^{2} = \\partial_{xx}+\\partial_{yy}+\\partial_{zz}\n",
    "\\end{equation}\n",
    "e $r=\\sqrt{x^{2}+y^{2}+z^{2}}$. OBS. As coordenadas $x,y,z$ são aquelas do elétron em relação ao núcleo. No entanto, como a energia potencial possui simetria esférica, é vantajoso escrever a EqSIT em coordenadas esféricas, o que faremos na sequência.\n",
    "\n",
    "### Operador gradiente em coordenadas curvilíneas\n",
    "O sistema de coordenadas cartesianas é definido pelas superfícies $x_{1}=x=\\text{constante}$, $x_{2}=y=\\text{constante}$ e $x_{3}=z=\\text{constante}$ (cada trio de coordenadas corresponte à intersecção entre esses três planos). Nesse caso, os vetores que fornecem as direções ortogonais a esses planos, $\\hat{x}_{1}=\\hat{i}$, $\\hat{x}_{2}=\\hat{j}$ e $\\hat{x}_{3}=\\hat{k}$, são ortogonais e de módulo constante. "
   ]
  },
  {
   "cell_type": "markdown",
   "metadata": {},
   "source": [
    "Para problemas tais como o que estamos considerando aqui, é útil utilizar outros sistemas de coordenadas. Consideremos um sistema de coordenadas, curvilíneas, definido pelas superfícies\n",
    "\\begin{equation}\n",
    "\\{q_{j}=\\text{constante}\\}_{j=1}^{3}.\n",
    "\\end{equation}\n",
    "Os vetores $\\hat{q}_{j}$ ortogonais a essas superfícies não precisam ter direção constante. As coordenadas dos dois sistemas podem, a princípio, ser relacionadas:\n",
    "\\begin{equation}\n",
    "q_{j} = q_{j}(\\{x_{k}\\}) \\text{ e } x_{k} = x_{k}(\\{q_{j}\\})\\text{, com } j,k=1,2,3.\n",
    "\\end{equation}\n",
    "Assim, podemos escrever a diferencial\n",
    "\\begin{equation}\n",
    "dx_{k} = \\sum_{j=1}^{3}\\frac{\\partial x_{k}}{\\partial q_{j}}dq_{j}\\text{, para } k=1,2,3,\n",
    "\\end{equation}\n",
    "da qual obtemos o deslocamento infinitesimal quadrático ($\\vec{r}$ é o vetor posição em $\\mathbb{R}^{3}$):\n",
    "\\begin{align}\n",
    "ds^{2} & = d\\vec{r}\\cdot d\\vec{r} = \\sum_{k=1}^{3}\\hat{x}_{k}dx_{k}\\cdot\\sum_{l=1}^{3}\\hat{x}_{l}dx_{l} = \\sum_{k,l=1}^{3}(\\hat{x}_{k}\\cdot \\hat{x}_{l})dx_{k}dx_{l} \\\\\n",
    "& = \\sum_{k,l=1}^{3}\\delta_{k,l}dx_{k}dx_{l} = \\sum_{k=1}^{3}dx_{k}dx_{k} = \\sum_{k=1}^{3}\\sum_{j=1}^{3}\\frac{\\partial x_{k}}{\\partial q_{j}}dq_{j}\\sum_{l=1}^{3}\\frac{\\partial x_{k}}{\\partial q_{l}}dq_{l} \\\\\n",
    "& = \\sum_{j,l=1}^{3}\\left(\\sum_{k=1}^{3}\\frac{\\partial x_{k}}{\\partial q_{j}}\\frac{\\partial x_{k}}{\\partial q_{l}}\\right)dq_{j}dq_{l}= \\sum_{j,l=1}^{3}\\frac{\\partial \\vec{r}}{\\partial q_{j}}\\cdot\\frac{\\partial \\vec{r}}{\\partial q_{l}}dq_{j}dq_{l} \\\\\n",
    "& =: \\sum_{j,l=1}^{3}g_{jl}dq_{j}dq_{l},\n",
    "\\end{align}"
   ]
  },
  {
   "cell_type": "markdown",
   "metadata": {},
   "source": [
    "em que definimos o tensor métrico de Riemann\n",
    "\\begin{equation}\n",
    "g_{jl}:=\\frac{\\partial \\vec{r}}{\\partial q_{j}}\\cdot\\frac{\\partial \\vec{r}}{\\partial q_{l}}.\n",
    "\\end{equation}\n",
    "\n",
    "Notando que uma mudança infinitesimal de uma coordenada $q_{j}$ corresponde a um deslocamento infinitesimal (considere e.g. as coordenadas polares em 2D, para as quais se $\\theta$ muda de $d\\theta$, o deslocamento infinitesimal é igual a $rd\\theta$):\n",
    "\\begin{equation}\n",
    "ds_{j}:=h_{j}dq_{j},\n",
    "\\end{equation}\n",
    "em que $h_{j}$ pode depender de $q_{j}$ e das outras coordenadas $q_{k\\ne j}$, escrevemos\n",
    "\\begin{equation}\n",
    "d\\vec{r}=\\sum_{j=1}^{3}\\hat{q}_{j}ds_{j}=\\sum_{j=1}^{3}\\hat{q}_{j}h_{j}dq_{j},\n",
    "\\end{equation}\n",
    "e assim teremos\n",
    "\\begin{equation}\n",
    "ds^{2} =  d\\vec{r}\\cdot d\\vec{r} = \\sum_{j,l=1}^{3} (h_{j}\\hat{q}_{j})\\cdot(h_{l}\\hat{q}_{l})dq_{j}dq_{l}.\n",
    "\\end{equation}\n",
    "Por conseguinte\n",
    "\\begin{equation}\n",
    "h_{j}\\hat{q}_{j} = \\frac{\\partial \\vec{r}}{\\partial q_{j}}.\n",
    "\\end{equation}\n",
    "\n",
    "Assim, se considerarmos um _sistema de coordenadas ortogonais_, i.e., \n",
    "\\begin{equation}\n",
    "\\hat{q}_{j}\\cdot\\hat{q}_{l}=0 \\text{ para } j\\ne l,\n",
    "\\end{equation}\n",
    "teremos também $g_{jl}=0$ ($j\\ne l$) e\n",
    "\\begin{equation}\n",
    "ds^{2} = \\sum_{j=1}^{3}g_{jj}dq_{j}^{2} = \\sum_{j=1}^{3}h_{j}^{2}dq_{j}^{2},\n",
    "\\end{equation}\n",
    "ou\n",
    "\\begin{equation}\n",
    "h_{j} = \\sqrt{g_{jj}} = \\sqrt{\\sum_{k=1}^{3}\\left(\\frac{\\partial x_{k}}{\\partial q_{j}}\\right)^{2}}.\n",
    "\\end{equation}"
   ]
  },
  {
   "cell_type": "markdown",
   "metadata": {},
   "source": [
    "Assim o vetor gradiente da função escalar $\\psi(\\{q_{j}\\})$ fica escrito como\n",
    "\\begin{equation}\n",
    "\\vec{\\nabla}\\psi(\\{q_{j}\\})=\\sum_{j=1}^{3}\\hat{q}_{j}\\frac{\\partial\\psi}{\\partial s_{j}}=\\sum_{j=1}^{3}\\hat{q}_{j}\\frac{1}{h_{j}}\\frac{\\partial\\psi}{\\partial q_{j}},\n",
    "\\end{equation}\n",
    "e fornece a amplitude e direção de máxima variação da função $\\psi$ no ponto $\\{q_{j}\\}$.\n",
    "\n",
    "#### Operador gradiente em coordenadas esféricas\n",
    "Em coordenadas esféricas temos $q_{1}=r,q_{2}=\\theta,q_{3}=\\phi$ e $x_{k}=x_{k}(q_{j})$ é\n",
    "\\begin{align}\n",
    "& x=x_{1}=r\\sin\\theta\\cos\\phi, \\\\\n",
    "& y=x_{2}=r\\sin\\theta\\sin\\phi, \\\\\n",
    "& z=x_{3}=r\\cos\\theta.\n",
    "\\end{align}\n",
    "Por conseguinte\n",
    "\\begin{align}\n",
    "h_{1}^{2} & = g_{11} = \\left(\\frac{\\partial x_{1}}{\\partial r}\\right)^{2}+\\left(\\frac{\\partial x_{2}}{\\partial r}\\right)^{2}+\\left(\\frac{\\partial x_{3}}{\\partial r}\\right)^{2} = \\left(\\sin\\theta\\cos\\phi\\right)^{2}+\\left(\\sin\\theta\\sin\\phi\\right)^{2}+\\left(\\cos\\theta\\right)^{2} \\\\\n",
    "& = 1, \\\\\n",
    "h_{2}^{2} & = g_{22} = \\left(\\frac{\\partial x_{1}}{\\partial \\theta}\\right)^{2}+\\left(\\frac{\\partial x_{2}}{\\partial \\theta}\\right)^{2}+\\left(\\frac{\\partial x_{3}}{\\partial \\theta}\\right)^{2} = \\left(r\\cos\\theta\\cos\\phi\\right)^{2}+\\left(r\\cos\\theta\\sin\\phi\\right)^{2}+\\left(-r\\sin\\theta\\right)^{2} \\\\\n",
    "& = r^{2}, \\\\\n",
    "h_{3}^{2} & = g_{33} = \\left(\\frac{\\partial x_{1}}{\\partial \\phi}\\right)^{2}+\\left(\\frac{\\partial x_{2}}{\\partial \\phi}\\right)^{2}+\\left(\\frac{\\partial x_{3}}{\\partial \\phi}\\right)^{2} = \\left(-r\\sin\\theta\\sin\\phi\\right)^{2}+\\left(r\\sin\\theta\\cos\\phi\\right)^{2}+\\left(0\\right)^{2} \\\\\n",
    "& = r^{2}\\sin^{2}\\theta.\n",
    "\\end{align}\n",
    "O operador gradiente em coordenadas esféricas é dado como segue:\n",
    "\\begin{align}\n",
    "\\vec{\\nabla} & = \\hat{q}_{1}\\frac{1}{h_{1}}\\frac{\\partial}{\\partial q_{1}} + \\hat{q}_{2}\\frac{1}{h_{2}}\\frac{\\partial}{\\partial q_{2}} + \\hat{q}_{3}\\frac{1}{h_{3}}\\frac{\\partial}{\\partial q_{3}} = \\hat{r}\\frac{1}{1}\\frac{\\partial}{\\partial r} + \\hat{\\theta}\\frac{1}{r}\\frac{\\partial}{\\partial \\theta} + \\hat{\\phi}\\frac{1}{r\\sin\\theta}\\frac{\\partial}{\\partial \\phi} \\\\\n",
    "& = \\hat{r}\\frac{\\partial}{\\partial r} + \\hat{\\theta}\\frac{1}{r}\\frac{\\partial}{\\partial \\theta} + \\hat{\\phi}\\frac{1}{r\\sin\\theta}\\frac{\\partial}{\\partial \\phi}.\n",
    "\\end{align}"
   ]
  },
  {
   "cell_type": "markdown",
   "metadata": {},
   "source": [
    "### Operador Laplaciano em coordenadas curvilíneas\n",
    "Seguindo, vamos fazer uso do teorema de Gauss,\n",
    "\\begin{equation}\n",
    "\\oint_{S_{V}}\\vec{v}\\cdot d\\vec{A} = \\int_{V}\\vec{\\nabla}\\cdot\\vec{v}dV,\n",
    "\\end{equation}\n",
    "aplicado a um elemento infinitesimal de volume $dV=ds_{1}ds_{2}ds_{3}=h_{1}dq_{1}h_{2}dq_{2}h_{3}dq_{3}$:\n",
    "\\begin{equation}\n",
    "\\sum_{faces}\\vec{v}\\cdot d\\vec{A} = \\vec{\\nabla}\\cdot\\vec{v}dV,\n",
    "\\end{equation}\n",
    "em que $\\vec{v}$ é um campo vetorial. Focando em uma direção particular, se mudamos a coordenada $q_{1}$ de uma quantidade infinitesimal $dq_{1}$ teremos\n",
    "\\begin{align}\n",
    "v_{1}dA_{1}=\\frac{\\left(v_{1}h_{2}dq_{2}h_{3}dq_{3}\\right)_{q_{1}+dq_{1}}-\\left(v_{1}h_{2}dq_{2}h_{3}dq_{3}\\right)_{q_{1}}}{dq_{1}}dq_{1} = \\frac{\\partial(v_{1}h_{2}h_{3})}{\\partial q_{1}}dq_{1}dq_{2}dq_{3}.\n",
    "\\end{align}\n",
    "Somando os fluxos nas três direções, obteremos\n",
    "\\begin{align}\n",
    "\\vec{\\nabla}\\cdot\\vec{v} & = \\frac{\\sum_{faces}\\vec{v}\\cdot d\\vec{A}}{dV} = \\frac{v_{1}dA_{1}+v_{2}dA_{2}+v_{3}dA_{3}}{dV} \\\\\n",
    "& = \\frac{ \\frac{\\partial(v_{1}h_{2}h_{3})}{\\partial q_{1}} + \\frac{\\partial(v_{2}h_{1}h_{3})}{\\partial q_{2}} + \\frac{\\partial(v_{3}h_{1}h_{2})}{\\partial q_{3}} }{h_{1}h_{2}h_{3}dq_{1}dq_{2}dq_{3}}dq_{1}dq_{2}dq_{3} \\\\\n",
    "& = \\frac{1}{h_{1}h_{2}h_{3}}\\left(\\frac{\\partial(v_{1}h_{2}h_{3})}{\\partial q_{1}} + \\frac{\\partial(v_{2}h_{1}h_{3})}{\\partial q_{2}} + \\frac{\\partial(v_{3}h_{1}h_{2})}{\\partial q_{3}}\\right).\n",
    "\\end{align}"
   ]
  },
  {
   "cell_type": "markdown",
   "metadata": {},
   "source": [
    "Usando como campo vetorial o gradiente, $\\vec{v}=\\vec{\\nabla}\\psi$, obteremos o Laplaciano\n",
    "\\begin{align}\n",
    "\\nabla^{2}\\psi & = \\vec{\\nabla}\\cdot\\vec{\\nabla}\\psi \\\\\n",
    "& = \\frac{1}{h_{1}h_{2}h_{3}}\\left(\\frac{\\partial}{\\partial q_{1}}\\left(\\frac{h_{2}h_{3}}{h_{1}}\\frac{\\partial\\psi}{\\partial q_{1}}\\right) + \\frac{\\partial}{\\partial q_{2}}\\left(\\frac{h_{1}h_{3}}{h_{2}}\\frac{\\partial\\psi}{\\partial q_{2}}\\right) + \\frac{\\partial}{\\partial q_{3}}\\left(\\frac{h_{1}h_{2}}{h_{3}}\\frac{\\partial\\psi}{\\partial q_{3}}\\right) \\right).\n",
    "\\end{align}\n",
    "\n",
    "#### Operador Laplaciano em coordenadas esféricas\n",
    "Em coordenadas esféricas $h_{1}=1$, e $h_{2}=r$ e $h_{3}=r\\sin\\theta$ e o operador Laplaciano fica escrito como\n",
    "\\begin{align}\n",
    "\\nabla^{2} & = \\frac{1}{r^{2}\\sin\\theta}\\left(\\frac{\\partial}{\\partial r}\\left(r^{2}\\sin\\theta\\frac{\\partial}{\\partial r}\\right) + \\frac{\\partial}{\\partial \\theta}\\left(\\sin\\theta\\frac{\\partial}{\\partial \\theta}\\right) + \\frac{\\partial}{\\partial \\phi}\\left(\\frac{1}{\\sin\\theta}\\frac{\\partial}{\\partial \\phi}\\right) \\right) \\\\\n",
    "& = \\frac{1}{r^{2}}\\frac{\\partial}{\\partial r}\\left(r^{2}\\frac{\\partial}{\\partial r}\\right) + \\frac{1}{r^{2}\\sin\\theta}\\frac{\\partial}{\\partial \\theta}\\left(\\sin\\theta\\frac{\\partial}{\\partial \\theta}\\right) + \\frac{1}{r^{2}\\sin^{2}\\theta}\\frac{\\partial^{2}}{\\partial \\phi^{2}}.\n",
    "\\end{align}\n",
    "\n",
    "## EqSIT em coordenadas esféricas\n",
    "A EqSIT em coordenadas esféricas fica escrita como ($\\psi=\\psi(r,\\theta,\\phi)$)\n",
    "\\begin{align}\n",
    "& \\frac{-\\hbar^{2}}{2\\mu}\\nabla^{2}\\psi(r,\\theta,\\phi)+U(r)\\psi(r,\\theta,\\phi)=E\\psi(r,\\theta,\\phi), \\\\\n",
    "& \\frac{-\\hbar^{2}}{2\\mu}\\left(\\frac{1}{r^{2}}\\frac{\\partial}{\\partial r}\\left(r^{2}\\frac{\\partial\\psi}{\\partial r}\\right) + \\frac{1}{r^{2}\\sin\\theta}\\frac{\\partial}{\\partial \\theta}\\left(\\sin\\theta\\frac{\\partial\\psi}{\\partial \\theta}\\right) + \\frac{1}{r^{2}\\sin^{2}\\theta}\\frac{\\partial^{2}\\psi}{\\partial \\phi^{2}} \\right) + U(r)\\psi = E\\psi.\n",
    "\\end{align}"
   ]
  },
  {
   "cell_type": "markdown",
   "metadata": {},
   "source": [
    "Pela forma da energia potencial, vamos usar separação de variáveis,\n",
    "\\begin{equation}\n",
    "\\psi(r,\\theta,\\phi) = \\Omega(r)\\Upsilon(\\theta,\\phi),\n",
    "\\end{equation}\n",
    "para resolver a EqSIT, que fica escrita como\n",
    "\\begin{align}\n",
    "& \\frac{-\\hbar^{2}}{2\\mu}\\left(\\Upsilon(\\theta,\\phi)\\frac{1}{r^{2}}\\frac{\\partial}{\\partial r}\\left(r^{2}\\frac{\\partial\\Omega(r)}{\\partial r}\\right) + \\frac{\\Omega(r)}{r^{2}\\sin\\theta}\\frac{\\partial}{\\partial \\theta}\\left(\\sin\\theta\\frac{\\partial\\Upsilon(\\theta,\\phi)}{\\partial \\theta}\\right) + \\frac{\\Omega(r)}{r^{2}\\sin^{2}\\theta}\\frac{\\partial^{2}\\Upsilon(\\theta,\\phi)}{\\partial \\phi^{2}} \\right) \\\\\n",
    "& + U(r)\\Omega(r)\\Upsilon(\\theta,\\phi) = E\\Omega(r)\\Upsilon(\\theta,\\phi).\n",
    "\\end{align}\n",
    "Manipulando essa última eq., obteremos\n",
    "\\begin{align}\n",
    "& \\frac{1}{\\Omega(r)}\\frac{\\partial}{\\partial r}\\left(r^{2}\\frac{\\partial\\Omega(r)}{\\partial r}\\right) + \\frac{r^{2}2m(E-U(r))}{\\hbar^{2}} \\\\\n",
    "& = -\\frac{1}{\\Upsilon(\\theta,\\phi)\\sin\\theta}\\frac{\\partial}{\\partial \\theta}\\left(\\sin\\theta\\frac{\\partial\\Upsilon(\\theta,\\phi)}{\\partial \\theta}\\right) - \\frac{1}{\\Upsilon(\\theta,\\phi)\\sin^{2}\\theta}\\frac{\\partial^{2}\\Upsilon(\\theta,\\phi)}{\\partial \\phi^{2}} \\\\ \n",
    "& = l(l+1),\n",
    "\\end{align}\n",
    "onde a última igualdade foi incluída numa constante $l(l+1)$, que vem do fato das variáveis $r$ e $\\theta,\\phi$ serem independentes."
   ]
  },
  {
   "cell_type": "markdown",
   "metadata": {},
   "source": [
    "A equação a ser resolvida para obtermos a parte radial da função de onda é\n",
    "\\begin{equation}\n",
    "\\frac{\\partial}{\\partial r}\\left(r^{2}\\frac{\\partial\\Omega(r)}{\\partial r}\\right) + \\left(\\frac{r^{2}2m(E-U(r))}{\\hbar^{2}}-l(l+1)\\right)\\Omega(r)=0.\n",
    "\\end{equation}\n",
    "\n",
    "Seguindo, aplicamos separação de variáveis para a parte angular, $\\Upsilon(\\theta,\\phi)=\\Theta(\\theta)\\Phi(\\phi)$, da eq. acima:\n",
    "\\begin{align}\n",
    "& \\frac{1}{\\sin\\theta}\\frac{\\partial}{\\partial \\theta}\\left(\\sin\\theta\\frac{\\partial\\Theta(\\theta)\\Phi(\\phi)}{\\partial \\theta}\\right) - \\frac{1}{\\sin^{2}\\theta}\\frac{\\partial^{2}\\Theta(\\theta)\\Phi(\\phi)}{\\partial \\phi^{2}} + l(l+1)\\Theta(\\theta)\\Phi(\\phi) = 0, \\\\\n",
    "& \\therefore \\frac{\\sin\\theta}{\\Theta(\\theta)}\\frac{\\partial}{\\partial \\theta}\\left(\\sin\\theta\\frac{\\partial\\Theta(\\theta)}{\\partial \\theta}\\right) + l(l+1)\\sin^{2}\\theta = \\frac{1}{\\Phi(\\phi)}\\frac{\\partial^{2}\\Phi(\\phi)}{\\partial \\phi^{2}} \\\\\n",
    "& = m_{l}^{2},\n",
    "\\end{align}\n",
    "em que introduzimos a constante $m_{l}^{2}$ pois $\\theta$ e $\\phi$ são variáveis independentes. \n",
    "\n",
    "A equação referente a função de onda do ângulo longitudinal é\n",
    "\\begin{equation}\n",
    "\\frac{\\partial^{2}\\Phi(\\phi)}{\\partial \\phi^{2}}-m_{l}^{2}\\Phi(\\phi)=0.\n",
    "\\end{equation}\n",
    "\n",
    "A eq. diferencial para a função de onda do ângulo latitudinal fica escrita como\n",
    "\\begin{equation}\n",
    "\\sin\\theta\\frac{\\partial}{\\partial \\theta}\\left(\\sin\\theta\\frac{\\partial\\Theta(\\theta)}{\\partial \\theta}\\right) + \\left(l(l+1)\\sin^{2}\\theta-m_{l}^{2}\\right)\\Theta(\\theta)=0.\n",
    "\\end{equation}"
   ]
  },
  {
   "cell_type": "markdown",
   "metadata": {},
   "source": [
    "## Autoenergias e autofunções de átomos Hodrogenóides\n"
   ]
  },
  {
   "cell_type": "markdown",
   "metadata": {},
   "source": [
    "# Exercícios\n",
    "\n",
    "1. Pesquise na literatura e disserte brevemente sobre o problema de três corpos em Física.\n",
    "\n",
    "1. Quais são as figuras geométricas que correspondem às superfícies $r=\\text{constante}$, $\\theta=\\text{constante}$ e $\\phi=\\text{constante}$ que definem o sistema de coordenadas esféricas?\n",
    "\n",
    "1. Obtenha o operador gradiente em coordenadas cilíndricas ($x=\\rho\\cos\\phi$, $y=\\rho\\sin\\phi$, $z$).\n",
    "\n",
    "1. Obtenha o divergente de um campo vetorial $\\vec{v}$ em coordenadas cilíndricas.\n",
    "\n",
    "1. Obtenha o operador Laplaciano em coordenadas cilíndricas.\n",
    "\n",
    "1. Considere uma energia potencial do tipo $U=U(\\rho)$ e obtenha a EqSIT em coordenadas cilíndricas, para uma quanton de massa de repouso $m$. Aplique separação de variáveis, $\\psi(\\rho,\\phi,z)=\\Omega(\\rho,z)\\Phi(\\phi)$, e obtenha as equações diferencias a serem resolvidas para obtenção de $\\Omega$ e $\\Phi$. Aplique separação de variáveis novamente, $\\Omega(\\rho,z)=\\Xi(\\rho)\\Gamma(z)$, e obtenha as equações diferenciais a serem resolvidas para obtermos $\\Xi$ e $\\Gamma$."
   ]
  },
  {
   "cell_type": "code",
   "execution_count": null,
   "metadata": {},
   "outputs": [],
   "source": []
  }
 ],
 "metadata": {
  "kernelspec": {
   "display_name": "Python 3",
   "language": "python",
   "name": "python3"
  },
  "language_info": {
   "codemirror_mode": {
    "name": "ipython",
    "version": 3
   },
   "file_extension": ".py",
   "mimetype": "text/x-python",
   "name": "python",
   "nbconvert_exporter": "python",
   "pygments_lexer": "ipython3",
   "version": "3.6.4"
  }
 },
 "nbformat": 4,
 "nbformat_minor": 2
}
