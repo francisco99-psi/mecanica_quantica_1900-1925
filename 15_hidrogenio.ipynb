{
 "cells": [
  {
   "cell_type": "markdown",
   "metadata": {},
   "source": [
    "# Notas de aula: Mecânica Quântica, Autor: Jonas Maziero, Departamento de Física, UFSM\n",
    "Links para os vídeos das aulas sobre esse tópico: https://youtu.be/cqo3402lVyI,  e ."
   ]
  },
  {
   "cell_type": "code",
   "execution_count": 1,
   "metadata": {},
   "outputs": [],
   "source": [
    "%run init.ipynb"
   ]
  },
  {
   "cell_type": "markdown",
   "metadata": {},
   "source": [
    "# Átomos Hidrogenóides\n",
    "\n",
    "## Forças centrais: $2\\rightarrow 1$\n",
    "Consideremos um elétron interagindo com um núcleo com $Z$ prótons, que corresponde a uma energia potencial elétrica\n",
    "\\begin{equation}\n",
    "U(r)=-\\frac{kZe^{2}}{r},\n",
    "\\end{equation}\n",
    "onde $\\vec{r}$ é a posição do núcleo em relação ao elétron e $k$ é a constante de Coulomb. A energia total do sistema, clássico, é então\n",
    "\\begin{equation}\n",
    "E= 2^{-1}m_{e}v_{e}^{2} + 2^{-1}m_{n}v_{n}^{2} + U(r),\n",
    "\\end{equation}\n",
    "em que $\\vec{v}_{e}=\\partial_{t}\\vec{r}_{e}$ e $\\vec{v}_{n}=\\partial_{t}\\vec{r}_{n}$ com $\\vec{r}_{e}$ e $\\vec{r}_{n}$ sendo, respectivamente, as posições do elétron e do núcleo em relação a um referencial inercial genérico $O$. A posição do centro de massa desse sistema em relação a $O$ é $\\vec{r}_{cm} = (m_{e}/M)\\vec{r}_{e}+(m_{n}/M)\\vec{r}_{n}$, com $M=m_{e}+m_{n}$. Como nesse caso $\\sum\\vec{F}_{externas}=\\vec{0}$, o centro de massa pode ser usado como um referencial inercial. Fazendo $O=CM$ teremos\n",
    "\\begin{equation}\n",
    "\\vec{r}_{cm}=\\vec{0} \\therefore m_{e}\\vec{r}_{e}=-m_{n}\\vec{r}_{n}.\n",
    "\\end{equation}\n",
    "Além disso, também temos que\n",
    "\\begin{equation}\n",
    "-\\vec{r} = \\vec{r}_{n}-\\vec{r}_{e}.\n",
    "\\end{equation}"
   ]
  },
  {
   "cell_type": "markdown",
   "metadata": {},
   "source": [
    "Substituindo uma dessas equações na outra, obteremos\n",
    "\\begin{align}\n",
    "& -\\vec{r} = \\vec{r}_{n}+\\frac{m_{n}}{m_{e}}\\vec{r}_{n} = \\frac{m_{e}+m_{n}}{m_{e}}\\vec{r}_{n} \\therefore -\\vec{v}_{n} = \\frac{m_{e}}{m_{e}+m_{n}}\\vec{v}, \\\\\n",
    "& -\\vec{r} = - \\frac{m_{e}}{m_{n}}\\vec{r}_{e}-\\vec{r}_{e} =  -\\frac{m_{e}+m_{n}}{m_{n}}\\vec{r}_{e} \\therefore -\\vec{v}_{e} = \\frac{m_{n}}{m_{e}+m_{n}}\\vec{v}.\n",
    "\\end{align}\n",
    "Substituindo esses resultados na equação para a energia, vem que\n",
    "\\begin{align}\n",
    "E &= \\frac{1}{2}m_{e}\\frac{m_{n}^{2}}{(m_{e}+m_{n})^{2}}v^{2} + \\frac{1}{2}m_{n}v_{n}^{2}\\frac{m_{e}^{2}}{(m_{e}+m_{n})^{2}}v^{2} + U(r) \\\\\n",
    "& = \\frac{1}{2}\\frac{m_{e}m_{n}}{(m_{e}+m_{n})^{2}}v^{2}(m_{n}+m_{e}) + U(r) \\\\\n",
    "& := \\frac{1}{2}\\mu v^{2} + U(r) \\equiv \\frac{p^{2}}{2\\mu}+U(r),\n",
    "\\end{align}\n",
    "em que definimos a massa reduzida do sistema elétron-núcleo como\n",
    "\\begin{equation}\n",
    "\\mu = \\frac{m_{e}m_{n}}{m_{e}+m_{n}}.\n",
    "\\end{equation}\n",
    "e denotamos o momento linear por $\\vec{p}=\\mu\\partial_{t}\\vec{r}$. Com isso, transformamos o problema de dois corpos (envolvendo dois vetores posição $\\vec{r}_{e}$ e $\\vec{r}_{n}$) em um problema de um único corpo (envolvendo um único vetor posição $\\vec{r}$)."
   ]
  },
  {
   "cell_type": "markdown",
   "metadata": {},
   "source": [
    "## Laplaciano em coordenadas esféricas\n",
    "Quantizando $p\\rightarrow -i\\hbar\\vec{\\nabla}$ na relação clássica, mostrada acima, para a energia do átomo de um elétron, obteremos a seguinte EqSIT 3D:\n",
    "\\begin{equation}\n",
    "-\\frac{\\hbar^{2}}{2\\mu}\\nabla^{2}\\psi(x,y,z)+U(r)\\psi(x,y,z)=E\\psi(x,y,z),\n",
    "\\end{equation}\n",
    "com o Laplaciano dado por\n",
    "\\begin{equation}\n",
    "\\nabla^{2} = \\partial_{xx}+\\partial_{yy}+\\partial_{zz}\n",
    "\\end{equation}\n",
    "e $r=\\sqrt{x^{2}+y^{2}+z^{2}}$. OBS. As coordenadas $x,y,z$ são aquelas do elétron em relação ao núcleo. No entanto, como a energia potencial possui simetria esférica, é vantajoso escrever a EqSIT em coordenadas esféricas, o que faremos na sequência.\n",
    "\n",
    "### Operador gradiente em coordenadas curvilíneas\n",
    "O sistema de coordenadas cartesianas é definido pelas superfícies $x_{1}=x=\\text{constante}$, $x_{2}=y=\\text{constante}$ e $x_{3}=z=\\text{constante}$ (cada trio de coordenadas corresponte à intersecção entre esses três planos). Nesse caso, os vetores que fornecem as direções ortogonais a esses planos, $\\hat{x}_{1}=\\hat{i}$, $\\hat{x}_{2}=\\hat{j}$ e $\\hat{x}_{3}=\\hat{k}$, são ortogonais e de módulo constante. "
   ]
  },
  {
   "cell_type": "markdown",
   "metadata": {},
   "source": [
    "Para problemas tais como o que estamos considerando aqui, é útil utilizar outros sistemas de coordenadas. Consideremos um sistema de coordenadas, curvilíneas, definido pelas superfícies\n",
    "\\begin{equation}\n",
    "\\{q_{j}=\\text{constante}\\}_{j=1}^{3}.\n",
    "\\end{equation}\n",
    "Os vetores $\\hat{q}_{j}$ ortogonais a essas superfícies não precisam ter direção constante. As coordenadas dos dois sistemas podem, a princípio, ser relacionadas:\n",
    "\\begin{equation}\n",
    "q_{j} = q_{j}(\\{x_{k}\\}) \\text{ e } x_{k} = x_{k}(\\{q_{j}\\})\\text{, com } j,k=1,2,3.\n",
    "\\end{equation}\n",
    "Assim, podemos escrever a diferencial\n",
    "\\begin{equation}\n",
    "dx_{k} = \\sum_{j=1}^{3}\\frac{\\partial x_{k}}{\\partial q_{j}}dq_{j}\\text{, para } k=1,2,3,\n",
    "\\end{equation}\n",
    "da qual obtemos o deslocamento infinitesimal quadrático ($\\vec{r}$ é o vetor posição em $\\mathbb{R}^{3}$):\n",
    "\\begin{align}\n",
    "ds^{2} & = d\\vec{r}\\cdot d\\vec{r} = \\sum_{k=1}^{3}\\hat{x}_{k}dx_{k}\\cdot\\sum_{l=1}^{3}\\hat{x}_{l}dx_{l} = \\sum_{k,l=1}^{3}(\\hat{x}_{k}\\cdot \\hat{x}_{l})dx_{k}dx_{l} \\\\\n",
    "& = \\sum_{k,l=1}^{3}\\delta_{k,l}dx_{k}dx_{l} = \\sum_{k=1}^{3}dx_{k}dx_{k} = \\sum_{k=1}^{3}\\sum_{j=1}^{3}\\frac{\\partial x_{k}}{\\partial q_{j}}dq_{j}\\sum_{l=1}^{3}\\frac{\\partial x_{k}}{\\partial q_{l}}dq_{l} \\\\\n",
    "& = \\sum_{j,l=1}^{3}\\left(\\sum_{k=1}^{3}\\frac{\\partial x_{k}}{\\partial q_{j}}\\frac{\\partial x_{k}}{\\partial q_{l}}\\right)dq_{j}dq_{l}= \\sum_{j,l=1}^{3}\\frac{\\partial \\vec{r}}{\\partial q_{j}}\\cdot\\frac{\\partial \\vec{r}}{\\partial q_{l}}dq_{j}dq_{l} \\\\\n",
    "& =: \\sum_{j,l=1}^{3}g_{jl}dq_{j}dq_{l},\n",
    "\\end{align}"
   ]
  },
  {
   "cell_type": "markdown",
   "metadata": {},
   "source": [
    "em que definimos o tensor métrico de Riemann\n",
    "\\begin{equation}\n",
    "g_{jl}:=\\frac{\\partial \\vec{r}}{\\partial q_{j}}\\cdot\\frac{\\partial \\vec{r}}{\\partial q_{l}}.\n",
    "\\end{equation}\n",
    "\n",
    "Notando que uma mudança infinitesimal de uma coordenada $q_{j}$ corresponde a um deslocamento infinitesimal (considere e.g. as coordenadas polares em 2D, para as quais se $\\theta$ muda de $d\\theta$, o deslocamento infinitesimal é igual a $rd\\theta$):\n",
    "\\begin{equation}\n",
    "ds_{j}:=h_{j}dq_{j},\n",
    "\\end{equation}\n",
    "em que $h_{j}$ pode depender de $q_{j}$ e das outras coordenadas $q_{k\\ne j}$, escrevemos\n",
    "\\begin{equation}\n",
    "d\\vec{r}=\\sum_{j=1}^{3}\\hat{q}_{j}ds_{j}=\\sum_{j=1}^{3}\\hat{q}_{j}h_{j}dq_{j},\n",
    "\\end{equation}\n",
    "e assim teremos\n",
    "\\begin{equation}\n",
    "ds^{2} =  d\\vec{r}\\cdot d\\vec{r} = \\sum_{j,l=1}^{3} (h_{j}\\hat{q}_{j})\\cdot(h_{l}\\hat{q}_{l})dq_{j}dq_{l}.\n",
    "\\end{equation}\n",
    "Por conseguinte\n",
    "\\begin{equation}\n",
    "h_{j}\\hat{q}_{j} = \\frac{\\partial \\vec{r}}{\\partial q_{j}}.\n",
    "\\end{equation}\n",
    "\n",
    "Assim, se considerarmos um _sistema de coordenadas ortogonais_, i.e., \n",
    "\\begin{equation}\n",
    "\\hat{q}_{j}\\cdot\\hat{q}_{l}=0 \\text{ para } j\\ne l,\n",
    "\\end{equation}\n",
    "teremos também $g_{jl}=0$ ($j\\ne l$) e\n",
    "\\begin{equation}\n",
    "ds^{2} = \\sum_{j=1}^{3}g_{jj}dq_{j}^{2} = \\sum_{j=1}^{3}h_{j}^{2}dq_{j}^{2},\n",
    "\\end{equation}\n",
    "ou\n",
    "\\begin{equation}\n",
    "h_{j} = \\sqrt{g_{jj}} = \\sqrt{\\sum_{k=1}^{3}\\left(\\frac{\\partial x_{k}}{\\partial q_{j}}\\right)^{2}}.\n",
    "\\end{equation}"
   ]
  },
  {
   "cell_type": "markdown",
   "metadata": {},
   "source": [
    "Assim o vetor gradiente da função escalar $\\psi(\\{q_{j}\\})$ fica escrito como\n",
    "\\begin{equation}\n",
    "\\vec{\\nabla}\\psi(\\{q_{j}\\})=\\sum_{j=1}^{3}\\hat{q}_{j}\\frac{\\partial\\psi}{\\partial s_{j}}=\\sum_{j=1}^{3}\\hat{q}_{j}\\frac{1}{h_{j}}\\frac{\\partial\\psi}{\\partial q_{j}},\n",
    "\\end{equation}\n",
    "e fornece a amplitude e direção de máxima variação da função $\\psi$ no ponto $\\{q_{j}\\}$.\n",
    "\n",
    "#### Operador gradiente em coordenadas esféricas\n",
    "Em coordenadas esféricas temos $q_{1}=r,q_{2}=\\theta,q_{3}=\\phi$ e $x_{k}=x_{k}(q_{j})$ é\n",
    "\\begin{align}\n",
    "& x=x_{1}=r\\sin\\theta\\cos\\phi, \\\\\n",
    "& y=x_{2}=r\\sin\\theta\\sin\\phi, \\\\\n",
    "& z=x_{3}=r\\cos\\theta.\n",
    "\\end{align}\n",
    "Por conseguinte\n",
    "\\begin{align}\n",
    "h_{1}^{2} & = g_{11} = \\left(\\frac{\\partial x_{1}}{\\partial r}\\right)^{2}+\\left(\\frac{\\partial x_{2}}{\\partial r}\\right)^{2}+\\left(\\frac{\\partial x_{3}}{\\partial r}\\right)^{2} = \\left(\\sin\\theta\\cos\\phi\\right)^{2}+\\left(\\sin\\theta\\sin\\phi\\right)^{2}+\\left(\\cos\\theta\\right)^{2} \\\\\n",
    "& = 1, \\\\\n",
    "h_{2}^{2} & = g_{22} = \\left(\\frac{\\partial x_{1}}{\\partial \\theta}\\right)^{2}+\\left(\\frac{\\partial x_{2}}{\\partial \\theta}\\right)^{2}+\\left(\\frac{\\partial x_{3}}{\\partial \\theta}\\right)^{2} = \\left(r\\cos\\theta\\cos\\phi\\right)^{2}+\\left(r\\cos\\theta\\sin\\phi\\right)^{2}+\\left(-r\\sin\\theta\\right)^{2} \\\\\n",
    "& = r^{2}, \\\\\n",
    "h_{3}^{2} & = g_{33} = \\left(\\frac{\\partial x_{1}}{\\partial \\phi}\\right)^{2}+\\left(\\frac{\\partial x_{2}}{\\partial \\phi}\\right)^{2}+\\left(\\frac{\\partial x_{3}}{\\partial \\phi}\\right)^{2} = \\left(-r\\sin\\theta\\sin\\phi\\right)^{2}+\\left(r\\sin\\theta\\cos\\phi\\right)^{2}+\\left(0\\right)^{2} \\\\\n",
    "& = r^{2}\\sin^{2}\\theta.\n",
    "\\end{align}\n",
    "O operador gradiente em coordenadas esféricas é dado como segue:\n",
    "\\begin{align}\n",
    "\\vec{\\nabla} & = \\hat{q}_{1}\\frac{1}{h_{1}}\\frac{\\partial}{\\partial q_{1}} + \\hat{q}_{2}\\frac{1}{h_{2}}\\frac{\\partial}{\\partial q_{2}} + \\hat{q}_{3}\\frac{1}{h_{3}}\\frac{\\partial}{\\partial q_{3}} = \\hat{r}\\frac{1}{1}\\frac{\\partial}{\\partial r} + \\hat{\\theta}\\frac{1}{r}\\frac{\\partial}{\\partial \\theta} + \\hat{\\phi}\\frac{1}{r\\sin\\theta}\\frac{\\partial}{\\partial \\phi} \\\\\n",
    "& = \\hat{r}\\frac{\\partial}{\\partial r} + \\hat{\\theta}\\frac{1}{r}\\frac{\\partial}{\\partial \\theta} + \\hat{\\phi}\\frac{1}{r\\sin\\theta}\\frac{\\partial}{\\partial \\phi}.\n",
    "\\end{align}"
   ]
  },
  {
   "cell_type": "markdown",
   "metadata": {},
   "source": [
    "### Operador Laplaciano em coordenadas curvilíneas\n",
    "Seguindo, vamos fazer uso do teorema de Gauss,\n",
    "\\begin{equation}\n",
    "\\oint_{S_{V}}\\vec{v}\\cdot d\\vec{A} = \\int_{V}\\vec{\\nabla}\\cdot\\vec{v}dV,\n",
    "\\end{equation}\n",
    "aplicado a um elemento infinitesimal de volume $dV=ds_{1}ds_{2}ds_{3}=h_{1}dq_{1}h_{2}dq_{2}h_{3}dq_{3}$:\n",
    "\\begin{equation}\n",
    "\\sum_{faces}\\vec{v}\\cdot d\\vec{A} = \\vec{\\nabla}\\cdot\\vec{v}dV,\n",
    "\\end{equation}\n",
    "em que $\\vec{v}$ é um campo vetorial. Focando em uma direção particular, se mudamos a coordenada $q_{1}$ de uma quantidade infinitesimal $dq_{1}$ teremos\n",
    "\\begin{align}\n",
    "v_{1}dA_{1}=\\frac{\\left(v_{1}h_{2}dq_{2}h_{3}dq_{3}\\right)_{q_{1}+dq_{1}}-\\left(v_{1}h_{2}dq_{2}h_{3}dq_{3}\\right)_{q_{1}}}{dq_{1}}dq_{1} = \\frac{\\partial(v_{1}h_{2}h_{3})}{\\partial q_{1}}dq_{1}dq_{2}dq_{3}.\n",
    "\\end{align}\n",
    "Somando os fluxos nas três direções, obteremos\n",
    "\\begin{align}\n",
    "\\vec{\\nabla}\\cdot\\vec{v} & = \\frac{\\sum_{faces}\\vec{v}\\cdot d\\vec{A}}{dV} = \\frac{v_{1}dA_{1}+v_{2}dA_{2}+v_{3}dA_{3}}{dV} \\\\\n",
    "& = \\frac{ \\frac{\\partial(v_{1}h_{2}h_{3})}{\\partial q_{1}} + \\frac{\\partial(v_{2}h_{1}h_{3})}{\\partial q_{2}} + \\frac{\\partial(v_{3}h_{1}h_{2})}{\\partial q_{3}} }{h_{1}h_{2}h_{3}dq_{1}dq_{2}dq_{3}}dq_{1}dq_{2}dq_{3} \\\\\n",
    "& = \\frac{1}{h_{1}h_{2}h_{3}}\\left(\\frac{\\partial(v_{1}h_{2}h_{3})}{\\partial q_{1}} + \\frac{\\partial(v_{2}h_{1}h_{3})}{\\partial q_{2}} + \\frac{\\partial(v_{3}h_{1}h_{2})}{\\partial q_{3}}\\right).\n",
    "\\end{align}"
   ]
  },
  {
   "cell_type": "markdown",
   "metadata": {},
   "source": [
    "Usando como campo vetorial o gradiente, $\\vec{v}=\\vec{\\nabla}\\psi$, obteremos o Laplaciano\n",
    "\\begin{align}\n",
    "\\nabla^{2}\\psi & = \\vec{\\nabla}\\cdot\\vec{\\nabla}\\psi \\\\\n",
    "& = \\frac{1}{h_{1}h_{2}h_{3}}\\left(\\frac{\\partial}{\\partial q_{1}}\\left(\\frac{h_{2}h_{3}}{h_{1}}\\frac{\\partial\\psi}{\\partial q_{1}}\\right) + \\frac{\\partial}{\\partial q_{2}}\\left(\\frac{h_{1}h_{3}}{h_{2}}\\frac{\\partial\\psi}{\\partial q_{2}}\\right) + \\frac{\\partial}{\\partial q_{3}}\\left(\\frac{h_{1}h_{2}}{h_{3}}\\frac{\\partial\\psi}{\\partial q_{3}}\\right) \\right).\n",
    "\\end{align}\n",
    "\n",
    "#### Operador Laplaciano em coordenadas esféricas\n",
    "Em coordenadas esféricas $h_{1}=1$, e $h_{2}=r$ e $h_{3}=r\\sin\\theta$ e o operador Laplaciano fica escrito como\n",
    "\\begin{align}\n",
    "\\nabla^{2} & = \\frac{1}{r^{2}\\sin\\theta}\\left(\\frac{\\partial}{\\partial r}\\left(r^{2}\\sin\\theta\\frac{\\partial}{\\partial r}\\right) + \\frac{\\partial}{\\partial \\theta}\\left(\\sin\\theta\\frac{\\partial}{\\partial \\theta}\\right) + \\frac{\\partial}{\\partial \\phi}\\left(\\frac{1}{\\sin\\theta}\\frac{\\partial}{\\partial \\phi}\\right) \\right) \\\\\n",
    "& = \\frac{1}{r^{2}}\\frac{\\partial}{\\partial r}\\left(r^{2}\\frac{\\partial}{\\partial r}\\right) + \\frac{1}{r^{2}\\sin\\theta}\\frac{\\partial}{\\partial \\theta}\\left(\\sin\\theta\\frac{\\partial}{\\partial \\theta}\\right) + \\frac{1}{r^{2}\\sin^{2}\\theta}\\frac{\\partial^{2}}{\\partial \\phi^{2}}.\n",
    "\\end{align}\n",
    "\n",
    "## EqSIT em coordenadas esféricas\n",
    "A EqSIT em coordenadas esféricas fica escrita como ($\\psi=\\psi(r,\\theta,\\phi)$)\n",
    "\\begin{align}\n",
    "& \\frac{-\\hbar^{2}}{2\\mu}\\nabla^{2}\\psi(r,\\theta,\\phi)+U(r)\\psi(r,\\theta,\\phi)=E\\psi(r,\\theta,\\phi), \\\\\n",
    "& \\frac{-\\hbar^{2}}{2\\mu}\\left(\\frac{1}{r^{2}}\\frac{\\partial}{\\partial r}\\left(r^{2}\\frac{\\partial\\psi}{\\partial r}\\right) + \\frac{1}{r^{2}\\sin\\theta}\\frac{\\partial}{\\partial \\theta}\\left(\\sin\\theta\\frac{\\partial\\psi}{\\partial \\theta}\\right) + \\frac{1}{r^{2}\\sin^{2}\\theta}\\frac{\\partial^{2}\\psi}{\\partial \\phi^{2}} \\right) + U(r)\\psi = E\\psi.\n",
    "\\end{align}"
   ]
  },
  {
   "cell_type": "markdown",
   "metadata": {},
   "source": [
    "Pela forma da energia potencial, vamos usar separação de variáveis,\n",
    "\\begin{equation}\n",
    "\\psi(r,\\theta,\\phi) = \\Omega(r)\\Upsilon(\\theta,\\phi),\n",
    "\\end{equation}\n",
    "para resolver a EqSIT, que fica escrita como\n",
    "\\begin{align}\n",
    "& \\frac{-\\hbar^{2}}{2\\mu}\\left(\\Upsilon(\\theta,\\phi)\\frac{1}{r^{2}}\\frac{\\partial}{\\partial r}\\left(r^{2}\\frac{\\partial\\Omega(r)}{\\partial r}\\right) + \\frac{\\Omega(r)}{r^{2}\\sin\\theta}\\frac{\\partial}{\\partial \\theta}\\left(\\sin\\theta\\frac{\\partial\\Upsilon(\\theta,\\phi)}{\\partial \\theta}\\right) + \\frac{\\Omega(r)}{r^{2}\\sin^{2}\\theta}\\frac{\\partial^{2}\\Upsilon(\\theta,\\phi)}{\\partial \\phi^{2}} \\right) \\\\\n",
    "& + U(r)\\Omega(r)\\Upsilon(\\theta,\\phi) = E\\Omega(r)\\Upsilon(\\theta,\\phi).\n",
    "\\end{align}\n",
    "Manipulando essa última eq., obteremos\n",
    "\\begin{align}\n",
    "& \\frac{1}{\\Omega(r)}\\frac{\\partial}{\\partial r}\\left(r^{2}\\frac{\\partial\\Omega(r)}{\\partial r}\\right) + \\frac{r^{2}2m(E-U(r))}{\\hbar^{2}} \\\\\n",
    "& = -\\frac{1}{\\Upsilon(\\theta,\\phi)\\sin\\theta}\\frac{\\partial}{\\partial \\theta}\\left(\\sin\\theta\\frac{\\partial\\Upsilon(\\theta,\\phi)}{\\partial \\theta}\\right) - \\frac{1}{\\Upsilon(\\theta,\\phi)\\sin^{2}\\theta}\\frac{\\partial^{2}\\Upsilon(\\theta,\\phi)}{\\partial \\phi^{2}} \\\\ \n",
    "& = l(l+1),\n",
    "\\end{align}\n",
    "onde a última igualdade foi incluída numa constante $l(l+1)$, que vem do fato das variáveis $r$ e $\\theta,\\phi$ serem independentes."
   ]
  },
  {
   "cell_type": "markdown",
   "metadata": {},
   "source": [
    "A equação a ser resolvida para obtermos a parte radial da função de onda é\n",
    "\\begin{equation}\n",
    "\\frac{\\partial}{\\partial r}\\left(r^{2}\\frac{\\partial\\Omega(r)}{\\partial r}\\right) + \\left(\\frac{r^{2}2m(E-U(r))}{\\hbar^{2}}-l(l+1)\\right)\\Omega(r)=0.\n",
    "\\end{equation}\n",
    "\n",
    "Seguindo, aplicamos separação de variáveis para a parte angular, $\\Upsilon(\\theta,\\phi)=\\Theta(\\theta)\\Phi(\\phi)$, da eq. acima:\n",
    "\\begin{align}\n",
    "& \\frac{1}{\\sin\\theta}\\frac{\\partial}{\\partial \\theta}\\left(\\sin\\theta\\frac{\\partial\\Theta(\\theta)\\Phi(\\phi)}{\\partial \\theta}\\right) - \\frac{1}{\\sin^{2}\\theta}\\frac{\\partial^{2}\\Theta(\\theta)\\Phi(\\phi)}{\\partial \\phi^{2}} + l(l+1)\\Theta(\\theta)\\Phi(\\phi) = 0, \\\\\n",
    "& \\therefore \\frac{\\sin\\theta}{\\Theta(\\theta)}\\frac{\\partial}{\\partial \\theta}\\left(\\sin\\theta\\frac{\\partial\\Theta(\\theta)}{\\partial \\theta}\\right) + l(l+1)\\sin^{2}\\theta = \\frac{1}{\\Phi(\\phi)}\\frac{\\partial^{2}\\Phi(\\phi)}{\\partial \\phi^{2}} \\\\\n",
    "& = -m_{l}^{2},\n",
    "\\end{align}\n",
    "em que introduzimos a constante $m_{l}^{2}$ pois $\\theta$ e $\\phi$ são variáveis independentes. \n",
    "\n",
    "A equação referente a função de onda do ângulo longitudinal é\n",
    "\\begin{equation}\n",
    "\\frac{\\partial^{2}\\Phi(\\phi)}{\\partial \\phi^{2}}+m_{l}^{2}\\Phi(\\phi)=0.\n",
    "\\end{equation}\n",
    "\n",
    "A eq. diferencial para a função de onda do ângulo latitudinal fica escrita como\n",
    "\\begin{equation}\n",
    "\\sin\\theta\\frac{\\partial}{\\partial \\theta}\\left(\\sin\\theta\\frac{\\partial\\Theta(\\theta)}{\\partial \\theta}\\right) + \\left(l(l+1)\\sin^{2}\\theta-m_{l}^{2}\\right)\\Theta(\\theta)=0.\n",
    "\\end{equation}"
   ]
  },
  {
   "cell_type": "markdown",
   "metadata": {},
   "source": [
    "## Autoenergias e autofunções de átomos Hidrogenóides\n",
    "## Solução longitudinal\n",
    "Vamos começar resolvendo a equação longitudinal $\\partial_{\\phi\\phi}\\Phi(\\phi)+m_{l}^{2}\\Phi(\\phi)=0$. Pode-se verificar que $\\Phi_{\\pm}(\\phi)=e^{\\pm im_{l}\\phi}$ são soluções particulares dessa equação. Assim, podemos escrever uma solução geral:\n",
    "\\begin{equation}\n",
    "\\Phi(\\phi)=c_{+}e^{+im_{l}\\phi} + c_{-}e^{-im_{l}\\phi}.\n",
    "\\end{equation}\n",
    "Pela simetria espacial por rotação em relação a $\\phi$, devemos ter\n",
    "\\begin{align}\n",
    "& \\Phi(\\phi+2\\pi)=\\Phi(\\phi) \\\\ \n",
    "& \\therefore c_{+}e^{+im_{l}(\\phi+2\\pi)} + c_{-}e^{-im_{l}(\\phi+2\\pi)} = c_{+}e^{+im_{l}\\phi}e^{+im_{l}2\\pi} + c_{-}e^{-im_{l}\\phi}e^{-im_{l}2\\pi} = c_{+}e^{+im_{l}\\phi} + c_{-}e^{-im_{l}\\phi}\\\\\n",
    "& \\therefore \\left(e^{+im_{l}2\\pi}-1\\right)c_{+}e^{+im_{l}\\phi} + \\left(e^{-im_{l}2\\pi}-1\\right)c_{-}e^{-im_{l}\\phi} = 0 \\\\\n",
    "& \\therefore e^{\\pm im_{l}2\\pi}=\\cos(m_{l}2\\pi)\\pm i\\sin(m_{l}2\\pi)=1+i0 \\\\\n",
    "& \\therefore m_{l} = 0, \\pm 1, \\pm 2, \\pm 3, \\cdots.\n",
    "\\end{align}\n",
    "Temos então\n",
    "\\begin{equation}\n",
    "\\Phi_{m_{l}}(\\phi)=c_{+}e^{+im_{l}\\phi} + c_{-}e^{-im_{l}\\phi}.\n",
    "\\end{equation}\n",
    "\n",
    "Ao fazermos separação de variáveis, temos também que as densidades de probabilidade tomam a forma produto:\n",
    "\\begin{equation}\n",
    "|\\psi(r,\\theta,\\phi)|^{2} = |\\Omega(r)|^{2}|\\Theta(\\theta)|^{2}|\\Phi_{m_{l}}(\\phi)|^{2}.\n",
    "\\end{equation}\n",
    "Por conseguinte, como as probabilidades para as diferentes coordenadas são independentes, podemos aplicar a normalização de forma também independente para casa uma delas. Assim, para a coordenada $\\phi$, se somamos a probabilidade do quanton ter o valor dessa coordenada entre $\\phi$ e $\\phi+d\\phi$ em uma volta completa, devemos obter a unidade:\n",
    "\\begin{align}\n",
    "1 & = \\int_{\\phi}^{\\phi+2\\pi}|\\Phi_{m_{l}}(\\phi')|^{2}d\\phi' = \\int_{\\phi}^{\\phi+2\\pi}\\Phi_{m_{l}}(\\phi')\\Phi_{m_{l}}(\\phi')^{*}d\\phi' \\\\\n",
    "& = \\int_{\\phi}^{\\phi+2\\pi}\\left(c_{+}e^{+im_{l}\\phi'} + c_{-}e^{-im_{l}\\phi'}\\right)\\left(c_{+}^{*}e^{-im_{l}\\phi'} + c_{-}^{*}e^{-im_{l}\\phi'}\\right)d\\phi' \\\\\n",
    "& = \\int_{\\phi}^{\\phi+2\\pi}\\left(|c_{+}|^{2} + |c_{-}|^{2} + c_{+}c_{-}^{*}e^{2im_{l}\\phi'} + c_{+}^{*}c_{-}e^{-2im_{l}\\phi'}\\right)d\\phi' \\\\\n",
    "& = \\left(|c_{+}|^{2} + |c_{-}|^{2}\\right)\\left(\\phi'\\right)_{\\phi}^{\\phi+2\\pi} + \\frac{c_{+}c_{-}^{*}}{2im_{l}}\\left(e^{2im_{l}\\phi'}\\right)_{\\phi}^{\\phi+2\\pi} + \\frac{c_{+}^{*}c_{-}}{-2im_{l}}\\left(e^{-2im_{l}\\phi'}\\right)_{\\phi}^{\\phi+2\\pi} \\\\\n",
    "& = \\left(|c_{+}|^{2} + |c_{-}|^{2}\\right)2\\pi + \\frac{c_{+}c_{-}^{*}}{2im_{l}}\\left(e^{2im_{l}\\phi}e^{2im_{l}2\\pi}-e^{2im_{l}\\phi}\\right) \\\\ \n",
    "& \\hspace{0.5cm}+ \\frac{c_{+}^{*}c_{-}}{-2im_{l}}\\left(e^{-2im_{l}\\phi}e^{-2im_{l}2\\pi}-e^{-2im_{l}\\phi}\\right) \\\\\n",
    "& = \\left(|c_{+}|^{2} + |c_{-}|^{2}\\right)2\\pi+0+0.\n",
    "\\end{align}"
   ]
  },
  {
   "cell_type": "markdown",
   "metadata": {},
   "source": [
    "Assim $|c_{+}|^{2} + |c_{-}|^{2}=1/2\\pi$. Pode-se verificar também ortogonalidade, i.e., $\\langle\\Phi_{m_{l}}^{\\pm}|\\Phi_{m'_{l}}^{\\pm}\\rangle=0$ para $m_{l}\\ne m'_{l}$.\n",
    "\n",
    "OBS. A derivada da função de onda não traz nenhuma condição nova, para ser utilizada aqui.\n",
    "\n",
    "Como devemos ter uma onda estacionária, então $|c_{+}|=|c_{-}|\\therefore c_{+}=e^{i\\alpha}c_{-}$ com $\\alpha\\in[0,2\\pi)$. Usando $c_{+}=\\pm c_{-}=1/(2\\sqrt{\\pi})$, teremos que\n",
    "\\begin{equation}\n",
    "\\Phi_{m_{l}}^{\\pm}(\\phi) = \\frac{1}{2\\sqrt{\\pi}}\\left(e^{+im_{l}\\phi}\\pm e^{-im_{l}\\phi}\\right)\\therefore \\begin{cases} \\Phi_{m_{l}}^{+}(\\phi) = (1/\\sqrt{\\pi})\\cos(m_{l}\\phi), \\\\ \\Phi_{m_{l}}^{-}(\\phi)=(i/\\sqrt{\\pi})\\sin(m_{l}\\phi).\\end{cases}\n",
    "\\end{equation}\n",
    "\n",
    "Observo que a maioria dos livros sobre MQ se usa a solução particular \n",
    "\\begin{equation}\n",
    "\\Phi_{+}=e^{+im_{l}\\phi}/\\sqrt{2\\pi}\\therefore |\\Phi_{+}|^{2}=1/2\\pi\n",
    "\\end{equation}\n",
    "(para $\\Phi_{-}$ também teríamos $|\\Phi_{-}|^{2}=1/2\\pi$), que implica que a probabilidade do quanton ter qualquer valor de $\\phi$ é a mesma. No entanto, para a \"solução geral\" a densidade de probabilidade é similar àquela de um quanton em um poço quadrado infinito 1D, i.e.,\n",
    "\\begin{equation}\n",
    "\\begin{cases} |\\Phi_{m_{l}}^{+}(\\phi)|^{2} = (1/\\pi)\\cos^{2}(m_{l}\\phi), \\\\ |\\Phi_{m_{l}}^{-}(\\phi)|^{2}=(1/\\pi)\\sin^{2}(m_{l}\\phi).\\end{cases}\n",
    "\\end{equation}\n",
    "\n",
    "Além disso, vemos que $e^{\\pm im_{l}\\phi}$ são autofunções de $\\vec{P}$ com autovalores mostrados abaixo:\n",
    "\\begin{align}\n",
    "\\vec{P}\\Phi_{\\pm} & = \\frac{\\hbar}{i}\\vec{\\nabla}e^{\\pm im_{l}\\phi} = \\frac{\\hbar}{i}\\left(\\hat{r}\\frac{\\partial}{\\partial r} + \\hat{\\theta}\\frac{1}{r}\\frac{\\partial}{\\partial \\theta} + \\hat{\\phi}\\frac{1}{r\\sin\\theta}\\frac{\\partial}{\\partial \\phi}\\right)e^{\\pm im_{l}\\phi} \\\\\n",
    "& = \\pm\\frac{\\hbar m_{l}}{r\\sin\\theta}\\hat{\\phi}e^{\\pm im_{l}\\phi} =\\left(\\pm\\frac{\\hbar m_{l}}{r\\sin\\theta}\\hat{\\phi}\\right)\\Phi_{\\pm}.\n",
    "\\end{align}\n",
    "No entanto, $\\vec{P}\\Phi_{m_{l}}^{\\pm}(\\phi)=\\hat{\\phi}\\frac{\\hbar m_{l}}{r\\sin\\theta}\\Phi_{m_{l}}^{\\mp}(\\phi)$.\n",
    "\n",
    "OBS. Por agora, não temos nenhum argumento, matemático ou físico, para a escolha da função de onda longitudinal. "
   ]
  },
  {
   "cell_type": "markdown",
   "metadata": {},
   "source": [
    "## Solução latitudinal\n",
    "Para obter essa função de onda precisamos resolver a eq. diferencial\n",
    "\\begin{equation}\n",
    "\\sin\\theta\\frac{\\partial}{\\partial \\theta}\\left(\\sin\\theta\\frac{\\partial\\Theta(\\theta)}{\\partial \\theta}\\right) + \\left(l(l+1)\\sin^{2}\\theta-m_{l}^{2}\\right)\\Theta(\\theta)=0. \\hspace{1cm} (\\star)\n",
    "\\end{equation}\n",
    "Começamos fazendo a mudança de variável\n",
    "\\begin{equation}\n",
    "z=\\cos\\theta.\n",
    "\\end{equation}\n",
    "Teremos $1-z^{2}=1-\\cos^{2}\\theta=\\sin^{2}\\theta$ e assim\n",
    "\\begin{equation}\n",
    "\\sin\\theta\\frac{\\partial}{\\partial_{\\theta}} = \\sin\\theta\\frac{\\partial z}{\\partial_{\\theta}}\\frac{\\partial}{\\partial_{z}} = -\\sin^{2}\\theta\\frac{\\partial}{\\partial_{z}} = -(1-z^{2})\\frac{\\partial}{\\partial_{z}}.\n",
    "\\end{equation}\n",
    "Substituindo essas igualdades em $(\\star)$, obtemos\n",
    "\\begin{align}\n",
    "& (1-z^{2})\\frac{\\partial}{\\partial z}\\left((1-z^{2})\\frac{\\partial\\Theta(z)}{\\partial z}\\right) + \\left(l(l+1)(1-z^{2})-m_{l}^{2}\\right)\\Theta(z)=0, \\\\\n",
    "& (1-z^{2})\\frac{\\partial^{2}\\Theta(z)}{\\partial z^{2}} -2z\\frac{\\partial\\Theta(z)}{\\partial z} + \\left(l(l+1)-\\frac{m_{l}^{2}}{1-z^{2}}\\right)\\Theta(z)=0. \\hspace{1cm} (\\star\\star)\n",
    "\\end{align}\n",
    "As soluções dessa equação, $\\Theta=\\Theta_{l,m_{l}}$, chamadas de funções associadas de Legendre, são escritas em termos dos polinômios de Legendre, $P_{l}$, como segue:\n",
    "\\begin{equation}\n",
    "\\Theta_{l,m_{l}}(z) = (1-z^{2})^{|m_{l}|/2}\\frac{\\partial^{|m_{l}|}P_{l}(z)}{\\partial z^{|m_{l}|}},\n",
    "\\end{equation}"
   ]
  },
  {
   "cell_type": "markdown",
   "metadata": {},
   "source": [
    "com os polinômios de Legendre satisfazendo a eq. diferencial:\n",
    "\\begin{equation}\n",
    "(1-z^{2})\\frac{\\partial^{2}P_{l}(z)}{\\partial z^{2}}-2z\\frac{\\partial P_{l}(z)}{\\partial z}+l(l+1)P_{l}(z)=0. \\hspace{1cm} (\\triangle)\n",
    "\\end{equation}\n",
    "\n",
    "\n"
   ]
  },
  {
   "cell_type": "markdown",
   "metadata": {},
   "source": [
    "Para obter a solução da eq. ($\\triangle$) por séries de potências, escrevemos\n",
    "\\begin{equation}\n",
    "P_{l}(z)=\\sum_{j=0}^{\\infty}a_{j}z^{j},\n",
    "\\end{equation}\n",
    "cujas derivadas são\n",
    "\\begin{align}\n",
    "& \\partial_{z}P_{z} = \\partial_{z}\\left(a_{0}+\\sum_{j=1}^{\\infty}a_{j}z^{j}\\right) = 0 + \\sum_{j=1}^{\\infty}a_{j}jz^{j-1}, \\\\ \n",
    "& \\partial_{zz}P_{z} = \\partial_{z}\\left(a_{1}+\\sum_{j=2}^{\\infty}a_{j}jz^{j-1}\\right) = 0 + \\sum_{j=2}^{\\infty}a_{j}j(j-1)z^{j-2}.\n",
    "\\end{align}\n",
    "\n",
    "Substituindo na eq. ($\\triangle$) obteremos\n",
    "\\begin{align}\n",
    "& (1-z^{2})\\sum_{j=2}^{\\infty}a_{j}j(j-1)z^{j-2} - 2z\\sum_{j=1}^{\\infty}a_{j}jz^{j-1} + l(l+1)\\sum_{j=0}^{\\infty}a_{j}z^{j}=0, \\\\\n",
    "& \\therefore \\sum_{j=2}^{\\infty}a_{j}j(j-1)z^{j-2} + \\sum_{j=2}^{\\infty}(-1)a_{j}j(j-1)z^{j} + \\sum_{j=0}^{\\infty}(-1)a_{j}2jz^{j} + \\sum_{j=0}^{\\infty}l(l+1)a_{j}z^{j}=0, \\\\\n",
    "& \\therefore \\sum_{k=0}^{\\infty}a_{k+2}(k+2)(k+1)z^{k} + \\sum_{j=0}^{\\infty}(-1)a_{j}j(j-1)z^{j} + \\sum_{j=0}^{\\infty}(-1)a_{j}2jz^{j} + \\sum_{j=0}^{\\infty}l(l+1)a_{j}z^{j}=0, \\\\\n",
    "& \\therefore \\sum_{j=0}^{\\infty}\\left(a_{j+2}(j+2)(j+1)-\\left(j(j+1)-l(l+1)\\right)\\right)z^{j} = 0, \\\\\n",
    "& \\therefore a_{j+2}=\\frac{j(j+1)-l(l+1)}{(j+1)(j+2)}a_{j}.\n",
    "\\end{align}"
   ]
  },
  {
   "cell_type": "markdown",
   "metadata": {},
   "source": [
    "Assim como no caso da solução do oscilador harmônico quântico, visto em aulas anteriores, aqui função de onda também deve ser uma função par ou uma função ímpar. Qual das opções teremos dependerá de $|m_{l}|$ e da paridade de $P_{l}(z)$:\n",
    "\\begin{equation}\n",
    "P_{l}^{p}(z)=\\sum_{j=0}^{\\infty}a_{2j}z^{2j} \\text{, } P_{l}^{i}(z)=\\sum_{j=0}^{\\infty}a_{2j+1}z^{2j+1}.\n",
    "\\end{equation}\n",
    "Para qualquer um dos casos teremos o seguinte comportamento dos coeficientes para valores grandes de $j$:\n",
    "\\begin{equation}\n",
    "\\lim_{j\\gg 1}\\frac{a_{j+2}}{a_{j}} = \\lim_{j\\gg 1}\\frac{j(j+1)-l(l+1)}{(j+1)(j+2)} \\approx \\frac{j^{2}}{j^{2}}=1.\n",
    "\\end{equation}\n",
    "Lembrando, a razão entre termos sucessivos na expansão em série de Taylor de $e^{z^{2}}$ é aproximadamente igual a $1/j$, quando $j\\gg 1$. Vemos assim que $P_{l}(z)$ aumenta ainda mais rápido que $e^{z^{2}}$ para $j\\gg 1$. Por isso temos que truncar a série, o que é feito impondo\n",
    "\\begin{equation}\n",
    "l=j \\text{ para } j = 0,1,2,\\cdots \\therefore l\\in\\mathbb{N}.\n",
    "\\end{equation}\n",
    "OBS. A divergência da série aqui é menos nítida do que no caso do OHQ1D pois aqui $z=\\cos\\theta\\in[-1,1]$, embora ela certamente acontece para os casos extremos $z=\\pm 1$.\n",
    "\n",
    "Temos assim que $P_{0}^{p}=a_{0}$ e $P_{1}^{p}=a_{1}z$ e\n",
    "\\begin{cases}\n",
    "P_{l}^{p}(z)=\\sum_{j=0}^{l-1}a_{2j}(l)z^{2j} \\text{, para } l=2,4,6,\\cdots, \\\\\n",
    "P_{l}^{i}(z)=\\sum_{j=0}^{(l-1)/2}a_{2j+1}(l)z^{2j+1} \\text{, para } l=3,5,7,\\cdots,\n",
    "\\end{cases}\n",
    "com $a_{0}(l)=a_{0}$, $a_{1}(l)=a_{1}$ e \n",
    "\\begin{equation}\n",
    "a_{j}(l)=\\frac{(j-2)(j-1)-l(l+1)}{(j-1)j}a_{j-2}(l)\\text{, para } j=2,3,4,\\cdots.\n",
    "\\end{equation}"
   ]
  },
  {
   "cell_type": "markdown",
   "metadata": {},
   "source": [
    "Os polinômios de Legendre pares, $P_{l}^{p}=a_{0}$ são obtidos como segue:\n",
    "\\begin{align}\n",
    "P_{2}^{p}(z) &= a_{0} + a_{2}(2)z^{2} = a_{0} + \\frac{(2-2)(2-1)-2(2+1)}{(2-1)2}a_{2-2}(2)z^{2} = a_{0} + \\frac{-6}{2}a_{0}(2)z^{2} \\\\ \n",
    "& = a_{0}(1-3z^{2}) = 2a_{0}(3z^{2}-1)/2 \\equiv 2a_{0}\\frac{1}{2!2^{2}}\\frac{\\partial^{2}}{\\partial z^{2}}(z^{2}-1)^{l}. \\\\\n",
    "\\end{align}\n",
    "Usando\n",
    "\\begin{align}\n",
    "a_{2}(4) & = \\frac{(2-2)(2-1)-4(4+1)}{(2-1)2}a_{2-2}(4) = -10a_{0}, \\\\\n",
    "a_{4}(4) & = \\frac{(4-2)(4-1)-4(4+1)}{(4-1)4}a_{4-2}(4) = \\frac{(2)(3)-20}{12}a_{2}(4) = \\frac{-14}{12}(-10a_{0}) = \\frac{35}{3}a_{0},\n",
    "\\end{align}\n",
    "obteremos\n",
    "\\begin{align}\n",
    "P_{4}^{p}(z) &= a_{0} + a_{2}(4)z^{2} + a_{4}(4)z^{4} = a_{0} - 10a_{0}z^{2} + \\frac{35}{3}a_{0}z^{4} \\\\\n",
    "& = \\frac{8a_{0}}{3}\\left(3-30z^{2}+35z^{4}\\right)/8 \\equiv \\frac{8a_{0}}{3}\\frac{1}{4!2^{4}}\\frac{\\partial^{4}}{\\partial z^{4}}(z^{2}-1)^{4}.\n",
    "\\end{align}\n",
    "\n",
    "Generalizando, podemos fazer uso da fórmula de Rodrigues para escrever $P_{l}^{p}$ a menos de uma constante multiplicada por $a_{0}$ e $P_{l}^{i}$ a menos de uma constante multiplicada por $a_{1}$ como:\n",
    "\\begin{equation}\n",
    "P_{l}(z) = \\frac{1}{l!2^{l}}\\frac{\\partial^{l}}{\\partial z^{l}}(z^{2}-1)^{l}.\n",
    "\\end{equation}\n",
    "OBS. Essas constantes são embutidas na função de onda $\\Omega(r)$."
   ]
  },
  {
   "cell_type": "code",
   "execution_count": 95,
   "metadata": {},
   "outputs": [],
   "source": [
    "def rodrigues_legendre(l,z):\n",
    "    if l == 0:\n",
    "        return 1\n",
    "    elif l == 1:\n",
    "        return z\n",
    "    rod = (z**2-1)**l\n",
    "    for j in range(1,l+1):\n",
    "        rod = diff(rod,z)\n",
    "    return (1/(factorial(l)*2**l))*rod\n",
    "#simplify(rodrigues_legendre(10,z))"
   ]
  },
  {
   "cell_type": "code",
   "execution_count": 96,
   "metadata": {},
   "outputs": [
    {
     "name": "stdout",
     "output_type": "stream",
     "text": [
      "P_0= 1\n",
      "P_1= z\n",
      "P_2= 3*z**2/2 - 1/2\n",
      "P_3= z*(5*z**2 - 3)/2\n",
      "P_4= 35*z**4/8 - 15*z**2/4 + 3/8\n",
      "P_5= z*(63*z**4 - 70*z**2 + 15)/8\n",
      "P_6= 231*z**6/16 - 315*z**4/16 + 105*z**2/16 - 5/16\n",
      "P_7= z*(429*z**6 - 693*z**4 + 315*z**2 - 35)/16\n"
     ]
    }
   ],
   "source": [
    "z = symbols('z')\n",
    "for l in range(0,8):\n",
    "    print('P_'+str(l)+'=',simplify(rodrigues_legendre(l,z)))"
   ]
  },
  {
   "cell_type": "code",
   "execution_count": 97,
   "metadata": {},
   "outputs": [],
   "source": [
    "def legengre_python(l,z): # Escreve o polinômio de Legendre em um código Python\n",
    "    f = open(\"legendreP.py\",\"w\"); f.write(\"def legendre(z):\\n\");\n",
    "    f.write(\"    return \"+str(simplify(rodrigues_legendre(l,z)))); f.close()"
   ]
  },
  {
   "cell_type": "code",
   "execution_count": 98,
   "metadata": {},
   "outputs": [],
   "source": [
    "def plot_legendreP(l):\n",
    "    import importlib; import legendreP; importlib.reload(legendreP)\n",
    "    N = 300; xmin = -1; xmax = -xmin; dx = (xmax-xmin)/N; x = np.zeros(N+1); y = np.zeros(N+1)\n",
    "    for j in range(0,N+1):\n",
    "        x[j] = xmin + j*dx; y[j] = legendreP.legendre(x[j])\n",
    "    fig = plt.figure(figsize=(6,6)); plt.plot(x,y)\n",
    "    plt.xlabel(r'$z$'); plt.xlim(-1.1,1.1); plt.ylim(-1.1,1.1); plt.ylabel(r'$P_{l}$')\n",
    "    plt.annotate(r'$l=$'+str(l), xy=(0,0.9), xytext=(0,0.9), fontsize=12)\n",
    "    plt.show()"
   ]
  },
  {
   "cell_type": "code",
   "execution_count": 99,
   "metadata": {},
   "outputs": [],
   "source": [
    "def plot_legendre(l):\n",
    "    legengre_python(l,z); import importlib; import legendreP; importlib.reload(legendreP); plot_legendreP(l)"
   ]
  },
  {
   "cell_type": "code",
   "execution_count": 100,
   "metadata": {},
   "outputs": [
    {
     "data": {
      "application/vnd.jupyter.widget-view+json": {
       "model_id": "32b935681df34df28edf9ffbca68bef3",
       "version_major": 2,
       "version_minor": 0
      },
      "text/plain": [
       "interactive(children=(IntSlider(value=5, description='l', max=10), Output()), _dom_classes=('widget-interact',…"
      ]
     },
     "metadata": {},
     "output_type": "display_data"
    }
   ],
   "source": [
    "interactive(plot_legendre,l=(0,10,1))"
   ]
  },
  {
   "cell_type": "markdown",
   "metadata": {},
   "source": [
    "### Relação entre $l$ e $m_{l}$\n",
    "Lembrando, a função associada de Legendre \n",
    "\\begin{equation}\n",
    "\\Theta_{l,m_{l}}(z) = (1-z^{2})^{|m_{l}|/2}\\frac{\\partial^{|m_{l}|}P_{l}(z)}{\\partial z^{|m_{l}|}}\n",
    "\\end{equation}\n",
    "envolve a derivada de ordem $|m_{l}|$ do polinômio de Legendre $P_{l}$, que é um polinômio de ordem $l$. Portanto, se $|m_{l}|>l$ teremos $\\Theta_{l,m_{l}}(z)=0$. Por isso, embora $m_{l}\\in\\mathbb{Z}$, temos que impor a restrição\n",
    "\\begin{equation}\n",
    "|m_{l}|\\le l \\therefore m_{l}=0,\\pm1,\\pm2,\\cdots,\\pm l \\text{, com } l\\in\\mathbb{N}.\n",
    "\\end{equation}\n",
    "\n",
    "### Funções associadas de Legendre\n",
    "Vamos fazer alguns exemplos. Primeiro notamos que $\\Theta_{l,m_{l}}(z)=\\Theta_{l,-m_{l}}(z)$. Seguindo (lembrando $z=\\cos\\theta$):\n",
    "\\begin{align}\n",
    "\\Theta_{l=0,m_{l}=0}(z) & = (1-z^{2})^{(m_{l}=0)/2}\\frac{\\partial^{(|m_{l}|=0)}P_{(l=0)}(z)}{\\partial z^{(|m_{l}|=0)}}=1 \\therefore \\Theta_{l=0,m_{l}=0}(\\theta)=1, \\\\\n",
    "\\Theta_{1,0}(z) & = (1-z^{2})^{0/2}\\frac{\\partial^{0}P_{1}(z)}{\\partial z^{0}}=P_{1}(z)=z \\therefore \\Theta_{1,0}(\\theta)=\\cos\\theta, \\\\\n",
    "\\Theta_{1,\\pm1}(z) & = (1-z^{2})^{1/2}\\frac{\\partial^{1}P_{1}(z)}{\\partial z^{1}}=\\sqrt{1-z^{2}} \\therefore \\Theta_{1,\\pm1}(\\theta)=\\sin\\theta, \\\\\n",
    "\\Theta_{2,0}(z) & = (1-z^{2})^{0/2}\\frac{\\partial^{0}P_{2}(z)}{\\partial z^{0}} = P_{2}(z) = (3z^{2}-1)/2 \\therefore \\Theta_{2,0}(\\theta)=\\left(3\\cos^{2}\\theta-1\\right)/2, \\\\\n",
    "\\Theta_{2,1}(z) & = (1-z^{2})^{1/2}\\frac{\\partial^{1}P_{2}(z)}{\\partial z^{1}} = \\sqrt{1-z^{2}}3z \\therefore \\Theta_{2,1}(\\theta)=3\\sin\\theta\\cos\\theta, \\\\\n",
    "\\Theta_{2,2}(z) & = (1-z^{2})^{2/2}\\frac{\\partial^{2}P_{2}(z)}{\\partial z^{2}} = (1-z^{2})3 \\therefore \\Theta_{2,2}(\\theta)=3\\sin^{2}\\theta, \\\\\n",
    "& \\vdots\n",
    "\\end{align}"
   ]
  },
  {
   "cell_type": "code",
   "execution_count": 122,
   "metadata": {},
   "outputs": [],
   "source": [
    "def legendre_associada(l,ml,z):\n",
    "    order = abs(ml)\n",
    "    if order == 0:\n",
    "        return rodrigues_legendre(l,z)\n",
    "    if order == 1:\n",
    "        return diff(rodrigues_legendre(l,z),z)*sqrt(1-z**2)\n",
    "    rod = rodrigues_legendre(l,z)\n",
    "    for j in range(1,order+1):\n",
    "        rod = diff(rod,z)\n",
    "    return rod*(1-z**2)**(order/2)\n",
    "#simplify(legendre_associada(10,0,z))"
   ]
  },
  {
   "cell_type": "code",
   "execution_count": 123,
   "metadata": {},
   "outputs": [
    {
     "name": "stdout",
     "output_type": "stream",
     "text": [
      "Theta_0,0 =  1\n",
      "Theta_1,0 =  z\n",
      "Theta_1,1 =  sqrt(-z**2 + 1)\n",
      "Theta_2,0 =  3*z**2/2 - 1/2\n",
      "Theta_2,1 =  3*z*sqrt(-z**2 + 1)\n",
      "Theta_2,2 =  3*(-z**2 + 1)**1.0\n",
      "Theta_3,0 =  z*(5*z**2 - 3)/2\n",
      "Theta_3,1 =  3*sqrt(-z**2 + 1)*(5*z**2 - 1)/2\n",
      "Theta_3,2 =  15*z*(-z**2 + 1)**1.0\n",
      "Theta_3,3 =  15*(-z**2 + 1)**1.5\n"
     ]
    }
   ],
   "source": [
    "for l in range(0,4):\n",
    "    for ml in range(0,l+1):\n",
    "        print('Theta_'+str(l)+','+str(ml)+' = ',simplify(legendre_associada(l,ml,z)))"
   ]
  },
  {
   "cell_type": "code",
   "execution_count": 83,
   "metadata": {},
   "outputs": [],
   "source": [
    "def legendreA_python(l,ml,z): # Escreve o polinômio de Legendre em um código Python\n",
    "    f = open(\"legendreA.py\",\"w\"); f.write(\"def legendre_a(z):\\n\");\n",
    "    f.write(\"    return \"+str(simplify(legendre_associada(l,ml,z)))); f.close()\n",
    "legendreA_python(10,3,z)"
   ]
  },
  {
   "cell_type": "code",
   "execution_count": 116,
   "metadata": {},
   "outputs": [],
   "source": [
    "def plot_legendreA(l,ml):\n",
    "    import importlib; import legendreA; importlib.reload(legendreA)\n",
    "    N = 100; xmin = 0; xmax = math.pi; dx = (xmax-xmin)/N; x = np.zeros(N+1); y = np.zeros(N+1)\n",
    "    for j in range(0,N+1):\n",
    "        x[j] = xmin + j*dx; z = math.cos(x[j]); y[j] = legendreA.legendre_a(z)\n",
    "    fig = plt.figure(figsize=(6,6)); plt.plot(x,y)\n",
    "    plt.xlabel(r'$\\theta$'); plt.xlim(-0.1,math.pi+0.1)\n",
    "    ym = np.amax(y); plt.ylim(-ym-0.1,ym+0.1); plt.ylabel(r'$\\Theta_{l,m_{l}}$')\n",
    "    #plt.annotate(r'$l=$'+str(l)+','+r'$m_{l}=$'+str(ml), xy=(0,0.9), xytext=(0,0.9), fontsize=12)\n",
    "    plt.show()  "
   ]
  },
  {
   "cell_type": "code",
   "execution_count": 117,
   "metadata": {},
   "outputs": [],
   "source": [
    "def plot_legendre_a(l,ml):\n",
    "    #ml = 0\n",
    "    legendreA_python(l,ml,z); import importlib; import legendreA; importlib.reload(legendreA); plot_legendreA(l,ml)"
   ]
  },
  {
   "cell_type": "code",
   "execution_count": 118,
   "metadata": {},
   "outputs": [
    {
     "data": {
      "application/vnd.jupyter.widget-view+json": {
       "model_id": "b7d7b6c1d8264d5aa77689224eded05b",
       "version_major": 2,
       "version_minor": 0
      },
      "text/plain": [
       "interactive(children=(IntSlider(value=2, description='l', max=5), IntSlider(value=0, description='ml', max=7, …"
      ]
     },
     "metadata": {},
     "output_type": "display_data"
    }
   ],
   "source": [
    "interactive(plot_legendre_a,l=(0,5,1),ml=(-l,l,1))"
   ]
  },
  {
   "cell_type": "markdown",
   "metadata": {},
   "source": [
    "OBS. As funções\n",
    "\\begin{equation}\n",
    "Y_{l,m_{l}}(\\theta,\\phi) = \\Theta_{l,m_{l}}(\\theta)\\Phi_{m_{l}}(\\phi)\n",
    "\\end{equation}\n",
    "são chamadas de harmônicos esféricos."
   ]
  },
  {
   "cell_type": "markdown",
   "metadata": {},
   "source": [
    "## Solução radial\n",
    "\\begin{equation}\n",
    "\\frac{\\partial}{\\partial r}\\left(r^{2}\\frac{\\partial\\Omega(r)}{\\partial r}\\right) + \\left(\\frac{r^{2}2m(E-U(r))}{\\hbar^{2}}-l(l+1)\\right)\\Omega(r)=0.\n",
    "\\end{equation}"
   ]
  },
  {
   "cell_type": "markdown",
   "metadata": {},
   "source": [
    "# Exercícios\n",
    "\n",
    "1. Pesquise na literatura e disserte brevemente sobre o problema de três corpos em Física.\n",
    "\n",
    "1. Quais são as figuras geométricas que correspondem às superfícies $r=\\text{constante}$, $\\theta=\\text{constante}$ e $\\phi=\\text{constante}$ que definem o sistema de coordenadas esféricas?\n",
    "\n",
    "1. Obtenha o operador gradiente em coordenadas cilíndricas ($x=\\rho\\cos\\phi$, $y=\\rho\\sin\\phi$, $z$).\n",
    "\n",
    "1. Obtenha o divergente de um campo vetorial $\\vec{v}$ em coordenadas cilíndricas.\n",
    "\n",
    "1. Obtenha o operador Laplaciano em coordenadas cilíndricas.\n",
    "\n",
    "1. Considere uma energia potencial do tipo $U=U(\\rho)$ e obtenha a EqSIT em coordenadas cilíndricas, para uma quanton de massa de repouso $m$. Aplique separação de variáveis, $\\psi(\\rho,\\phi,z)=\\Omega(\\rho,z)\\Phi(\\phi)$, e obtenha as equações diferencias a serem resolvidas para obtenção de $\\Omega$ e $\\Phi$. Aplique separação de variáveis novamente, $\\Omega(\\rho,z)=\\Xi(\\rho)\\Gamma(z)$, e obtenha as equações diferenciais a serem resolvidas para obtermos $\\Xi$ e $\\Gamma$.\n",
    "\n",
    "1. Verifique que se $P_{l}(z)$ satisfaz $(\\triangle)$ então $\\Theta_{l,m_{l}}(z)$ satisfaz $(\\star\\star)$.\n",
    "\n",
    "1. Verifique que $e^{\\pm im_{l}\\phi}$, $\\cos(m_{l}\\phi)$ e $\\sin(m_{l}\\phi)$ são soluções particulares de $\\partial_{\\phi\\phi}\\Phi(\\phi)+m_{l}^{2}\\Phi(\\phi)=0$.\n",
    "\n",
    "1. Para $\\Phi_{m_{l}}^{\\pm}(\\phi)=c_{+}e^{+im_{l}\\phi}\\pm c_{-}e^{-im_{l}\\phi}$ com $m_{l}\\in\\mathbb{Z}$, verifique que $\\partial_{\\phi}\\Phi_{m_{l}}^{\\pm}(\\phi+2\\pi)=\\partial_{\\phi}\\Phi_{m_{l}}^{\\pm}(\\phi)$.\n",
    "\n",
    "1. Verifique a condição de ortogonalidade $\\langle\\Phi_{m_{l}}^{\\pm}|\\Phi_{m'_{l}}^{\\pm}\\rangle=\\int_{0}^{2\\pi}(\\Phi_{m_{l}}^{\\pm}(\\phi))^{*}\\Phi_{m'_{l}}^{\\pm}(\\phi)d\\phi=0$ com $m_{l}\\ne m'_{l}$, para a função mostrada na questão 9.\n",
    "\n",
    "1. Verifique que $\\vec{P}\\Phi_{m_{l}}^{\\pm}(\\phi)=\\hat{\\phi}\\frac{\\hbar m_{l}}{r\\sin\\theta}\\Phi_{m_{l}}^{\\mp}(\\phi)$, para a função mostrada na questão 9.\n",
    "\n",
    "1. Verifique que $P_{l}^{i}(z) = ca_{1}\\frac{1}{l!2^{l}}\\frac{\\partial^{l}}{\\partial z^{l}}(z^{2}-1)^{l}$ para $l=3,5$, com $c$ sendo uma constante escolhida de maneira apropriada.\n",
    "\n",
    "1. Para $l=3$, quais são os valores possíveis de $m_{l}$? Obtenha $\\Theta_{l=3,m_{l}}(\\theta)$ (usando o mesmo procedimento utilizado em aula)."
   ]
  },
  {
   "cell_type": "code",
   "execution_count": null,
   "metadata": {},
   "outputs": [],
   "source": []
  },
  {
   "cell_type": "markdown",
   "metadata": {},
   "source": [
    "Notemos que\n",
    "\\begin{align}\n",
    "\\frac{\\partial\\Theta_{l,m_{l}}(z)}{\\partial z} & =\\frac{\\partial}{\\partial z}\\left((1-z^{2})^{|m_{l}|/2}\\frac{\\partial^{|m_{l}|}P_{l}(z)}{\\partial z^{|m_{l}|}}\\right) \\\\ \n",
    "& = \\frac{|m_{l}|}{2}(1-z^{2})^{|m_{l}|/2-1}(-2z)\\frac{\\partial^{|m_{l}|}P_{l}(z)}{\\partial z^{|m_{l}|}} + (1-z^{2})^{|m_{l}|/2}\\frac{\\partial^{|m_{l}|+1}P_{l}(z)}{\\partial z^{|m_{l}|+1}}\n",
    "\\end{align}\n",
    "e que\n",
    "\\begin{align}\n",
    "\\frac{\\partial^{2}\\Theta_{l,m_{l}}(z)}{\\partial z^{2}} & = \\frac{|m_{l}|}{2}\\left(\\frac{|m_{l}|}{2}-1\\right)(1-z^{2})^{|m_{l}|/2-2}4z^{2}\\frac{\\partial^{|m_{l}|}P_{l}(z)}{\\partial z^{|m_{l}|}} \\\\\n",
    "& -|m_{l}|(1-z^{2})^{|m_{l}|/2-1}\\frac{\\partial^{|m_{l}|}P_{l}(z)}{\\partial z^{|m_{l}|}} -z|m_{l}|(1-z^{2})^{|m_{l}|/2-1}\\frac{\\partial^{|m_{l}|+1}P_{l}(z)}{\\partial z^{|m_{l}|+1}}  \\\\ \n",
    "& + \\frac{|m_{l}|}{2}(1-z^{2})^{|m_{l}|/2-1}(-2z)\\frac{\\partial^{|m_{l}|+1}P_{l}(z)}{\\partial z^{|m_{l}|+1}} + (1-z^{2})^{|m_{l}|/2}\\frac{\\partial^{|m_{l}|+2}P_{l}(z)}{\\partial z^{|m_{l}|+2}}.\n",
    "\\end{align}\n",
    "Substituindo a definição acima e suas derivadas em $(\\star\\star)$, vem que\n",
    "\\begin{align}\n",
    "& 2z^{2}|m_{l}|\\left(|m_{l}|/2-1\\right)(1-z^{2})^{|m_{l}|/2-1}\\frac{\\partial^{|m_{l}|}P_{l}(z)}{\\partial z^{|m_{l}|}} \\\\\n",
    "& -|m_{l}|(1-z^{2})^{|m_{l}|/2}\\frac{\\partial^{|m_{l}|}P_{l}(z)}{\\partial z^{|m_{l}|}} -z|m_{l}|(1-z^{2})^{|m_{l}|/2}\\frac{\\partial^{|m_{l}|+1}P_{l}(z)}{\\partial z^{|m_{l}|+1}}  \\\\ \n",
    "& - z|m_{l}|(1-z^{2})^{|m_{l}|/2}\\frac{\\partial^{|m_{l}|+1}P_{l}(z)}{\\partial z^{|m_{l}|+1}} + (1-z^{2})^{|m_{l}|/2+1}\\frac{\\partial^{|m_{l}|+2}P_{l}(z)}{\\partial z^{|m_{l}|+2}} \\\\\n",
    "& +2z^{2}|m_{l}|(1-z^{2})^{|m_{l}|/2-1}\\frac{\\partial^{|m_{l}|}P_{l}(z)}{\\partial z^{|m_{l}|}} - 2z(1-z^{2})^{|m_{l}|/2}\\frac{\\partial^{|m_{l}|+1}P_{l}(z)}{\\partial z^{|m_{l}|+1}} \\\\\n",
    "&  + \\left(l(l+1)-\\frac{m_{l}^{2}}{1-z^{2}}\\right)(1-z^{2})^{|m_{l}|/2}\\frac{\\partial^{|m_{l}|}P_{l}(z)}{\\partial z^{|m_{l}|}}=0\n",
    "\\end{align}"
   ]
  },
  {
   "cell_type": "code",
   "execution_count": null,
   "metadata": {},
   "outputs": [],
   "source": []
  }
 ],
 "metadata": {
  "kernelspec": {
   "display_name": "Python 3",
   "language": "python",
   "name": "python3"
  },
  "language_info": {
   "codemirror_mode": {
    "name": "ipython",
    "version": 3
   },
   "file_extension": ".py",
   "mimetype": "text/x-python",
   "name": "python",
   "nbconvert_exporter": "python",
   "pygments_lexer": "ipython3",
   "version": "3.6.4"
  }
 },
 "nbformat": 4,
 "nbformat_minor": 2
}
