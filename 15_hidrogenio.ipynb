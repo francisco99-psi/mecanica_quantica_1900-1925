{
 "cells": [
  {
   "cell_type": "markdown",
   "metadata": {},
   "source": [
    "## Notas de aula de Mecânica Quântica <br> Autor: Jonas Maziero\n",
    "Links para os vídeos das aulas sobre esse tópico: https://youtu.be/cqo3402lVyI, https://youtu.be/-Rw6To3FGoc, https://youtu.be/18dmJxNfcMk,  e ."
   ]
  },
  {
   "cell_type": "code",
   "execution_count": 90,
   "metadata": {},
   "outputs": [],
   "source": [
    "%run init.ipynb"
   ]
  },
  {
   "cell_type": "markdown",
   "metadata": {},
   "source": [
    "# Átomos Hidrogenóides\n",
    "\n",
    "## Forças centrais: $2\\rightarrow 1$\n",
    "Consideremos um elétron interagindo com um núcleo com $Z$ prótons, que corresponde a uma energia potencial elétrica\n",
    "\\begin{equation}\n",
    "U(r)=-\\frac{kZe^{2}}{r},\n",
    "\\end{equation}\n",
    "onde $\\vec{r}$ é a posição do núcleo em relação ao elétron e $k=1/4\\pi\\epsilon_{0}$ é a constante de Coulomb, com $\\epsilon_{0}$ sendo a permissividade do vácuo. A energia total do sistema, clássico, é então\n",
    "\\begin{equation}\n",
    "E= 2^{-1}m_{e}v_{e}^{2} + 2^{-1}m_{n}v_{n}^{2} + U(r),\n",
    "\\end{equation}\n",
    "em que $\\vec{v}_{e}=\\partial_{t}\\vec{r}_{e}$ e $\\vec{v}_{n}=\\partial_{t}\\vec{r}_{n}$ com $\\vec{r}_{e}$ e $\\vec{r}_{n}$ sendo, respectivamente, as posições do elétron e do núcleo em relação a um referencial inercial genérico $O$. A posição do centro de massa desse sistema em relação a $O$ é $\\vec{r}_{cm} = (m_{e}/M)\\vec{r}_{e}+(m_{n}/M)\\vec{r}_{n}$, com $M=m_{e}+m_{n}$. Como nesse caso $\\sum\\vec{F}_{externas}=\\vec{0}$, o centro de massa pode ser usado como um referencial inercial. Fazendo $O=CM$ teremos\n",
    "\\begin{equation}\n",
    "\\vec{r}_{cm}=\\vec{0} \\therefore m_{e}\\vec{r}_{e}=-m_{n}\\vec{r}_{n}.\n",
    "\\end{equation}\n",
    "Além disso, também temos que\n",
    "\\begin{equation}\n",
    "-\\vec{r} = \\vec{r}_{n}-\\vec{r}_{e}.\n",
    "\\end{equation}"
   ]
  },
  {
   "cell_type": "markdown",
   "metadata": {},
   "source": [
    "Substituindo uma dessas equações na outra, obteremos\n",
    "\\begin{align}\n",
    "& -\\vec{r} = \\vec{r}_{n}+\\frac{m_{n}}{m_{e}}\\vec{r}_{n} = \\frac{m_{e}+m_{n}}{m_{e}}\\vec{r}_{n} \\therefore -\\vec{v}_{n} = \\frac{m_{e}}{m_{e}+m_{n}}\\vec{v}, \\\\\n",
    "& -\\vec{r} = - \\frac{m_{e}}{m_{n}}\\vec{r}_{e}-\\vec{r}_{e} =  -\\frac{m_{e}+m_{n}}{m_{n}}\\vec{r}_{e} \\therefore -\\vec{v}_{e} = \\frac{m_{n}}{m_{e}+m_{n}}\\vec{v}.\n",
    "\\end{align}\n",
    "Substituindo esses resultados na equação para a energia, vem que\n",
    "\\begin{align}\n",
    "E &= \\frac{1}{2}m_{e}\\frac{m_{n}^{2}}{(m_{e}+m_{n})^{2}}v^{2} + \\frac{1}{2}m_{n}v_{n}^{2}\\frac{m_{e}^{2}}{(m_{e}+m_{n})^{2}}v^{2} + U(r) \\\\\n",
    "& = \\frac{1}{2}\\frac{m_{e}m_{n}}{(m_{e}+m_{n})^{2}}v^{2}(m_{n}+m_{e}) + U(r) \\\\\n",
    "& := \\frac{1}{2}\\mu v^{2} + U(r) \\equiv \\frac{p^{2}}{2\\mu}+U(r),\n",
    "\\end{align}\n",
    "em que definimos a massa reduzida do sistema elétron-núcleo como\n",
    "\\begin{equation}\n",
    "\\mu = \\frac{m_{e}m_{n}}{m_{e}+m_{n}}.\n",
    "\\end{equation}\n",
    "e denotamos o momento linear por $\\vec{p}=\\mu\\partial_{t}\\vec{r}$. Com isso, transformamos o problema de dois corpos (envolvendo dois vetores posição $\\vec{r}_{e}$ e $\\vec{r}_{n}$) em um problema de um único corpo (envolvendo um único vetor posição $\\vec{r}$)."
   ]
  },
  {
   "cell_type": "markdown",
   "metadata": {},
   "source": [
    "## Laplaciano em coordenadas esféricas\n",
    "Quantizando $p\\rightarrow -i\\hbar\\vec{\\nabla}$ na relação clássica, mostrada acima, para a energia do átomo de um elétron, obteremos a seguinte EqSIT 3D:\n",
    "\\begin{equation}\n",
    "-\\frac{\\hbar^{2}}{2\\mu}\\nabla^{2}\\psi(x,y,z)+U(r)\\psi(x,y,z)=E\\psi(x,y,z),\n",
    "\\end{equation}\n",
    "com o Laplaciano dado por\n",
    "\\begin{equation}\n",
    "\\nabla^{2} = \\partial_{xx}+\\partial_{yy}+\\partial_{zz}\n",
    "\\end{equation}\n",
    "e $r=\\sqrt{x^{2}+y^{2}+z^{2}}$. OBS. As coordenadas $x,y,z$ são aquelas do elétron em relação ao núcleo. No entanto, como a energia potencial possui simetria esférica, é vantajoso escrever a EqSIT em coordenadas esféricas, o que faremos na sequência.\n",
    "\n",
    "### Operador gradiente em coordenadas curvilíneas\n",
    "O sistema de coordenadas cartesianas é definido pelas superfícies $x_{1}=x=\\text{constante}$, $x_{2}=y=\\text{constante}$ e $x_{3}=z=\\text{constante}$ (cada trio de coordenadas corresponte à intersecção entre esses três planos). Nesse caso, os vetores que fornecem as direções ortogonais a esses planos, $\\hat{x}_{1}=\\hat{i}$, $\\hat{x}_{2}=\\hat{j}$ e $\\hat{x}_{3}=\\hat{k}$, são ortogonais e de módulo constante. "
   ]
  },
  {
   "cell_type": "markdown",
   "metadata": {},
   "source": [
    "Para problemas tais como o que estamos considerando aqui, é útil utilizar outros sistemas de coordenadas. Consideremos um sistema de coordenadas, curvilíneas, definido pelas superfícies\n",
    "\\begin{equation}\n",
    "\\{q_{j}=\\text{constante}\\}_{j=1}^{3}.\n",
    "\\end{equation}\n",
    "Os vetores $\\hat{q}_{j}$ ortogonais a essas superfícies não precisam ter direção constante. As coordenadas dos dois sistemas podem, a princípio, ser relacionadas:\n",
    "\\begin{equation}\n",
    "q_{j} = q_{j}(\\{x_{k}\\}) \\text{ e } x_{k} = x_{k}(\\{q_{j}\\})\\text{, com } j,k=1,2,3.\n",
    "\\end{equation}\n",
    "Assim, podemos escrever a diferencial\n",
    "\\begin{equation}\n",
    "dx_{k} = \\sum_{j=1}^{3}\\frac{\\partial x_{k}}{\\partial q_{j}}dq_{j}\\text{, para } k=1,2,3,\n",
    "\\end{equation}\n",
    "da qual obtemos o deslocamento infinitesimal quadrático ($\\vec{r}$ é o vetor posição em $\\mathbb{R}^{3}$):\n",
    "\\begin{align}\n",
    "ds^{2} & = d\\vec{r}\\cdot d\\vec{r} = \\sum_{k=1}^{3}\\hat{x}_{k}dx_{k}\\cdot\\sum_{l=1}^{3}\\hat{x}_{l}dx_{l} = \\sum_{k,l=1}^{3}(\\hat{x}_{k}\\cdot \\hat{x}_{l})dx_{k}dx_{l} \\\\\n",
    "& = \\sum_{k,l=1}^{3}\\delta_{k,l}dx_{k}dx_{l} = \\sum_{k=1}^{3}dx_{k}dx_{k} = \\sum_{k=1}^{3}\\sum_{j=1}^{3}\\frac{\\partial x_{k}}{\\partial q_{j}}dq_{j}\\sum_{l=1}^{3}\\frac{\\partial x_{k}}{\\partial q_{l}}dq_{l} \\\\\n",
    "& = \\sum_{j,l=1}^{3}\\left(\\sum_{k=1}^{3}\\frac{\\partial x_{k}}{\\partial q_{j}}\\frac{\\partial x_{k}}{\\partial q_{l}}\\right)dq_{j}dq_{l}= \\sum_{j,l=1}^{3}\\frac{\\partial \\vec{r}}{\\partial q_{j}}\\cdot\\frac{\\partial \\vec{r}}{\\partial q_{l}}dq_{j}dq_{l} \\\\\n",
    "& =: \\sum_{j,l=1}^{3}g_{jl}dq_{j}dq_{l},\n",
    "\\end{align}"
   ]
  },
  {
   "cell_type": "markdown",
   "metadata": {},
   "source": [
    "em que definimos o tensor métrico de Riemann\n",
    "\\begin{equation}\n",
    "g_{jl}:=\\frac{\\partial \\vec{r}}{\\partial q_{j}}\\cdot\\frac{\\partial \\vec{r}}{\\partial q_{l}}.\n",
    "\\end{equation}\n",
    "\n",
    "Notando que uma mudança infinitesimal de uma coordenada $q_{j}$ corresponde a um deslocamento infinitesimal (considere e.g. as coordenadas polares em 2D, para as quais se $\\theta$ muda de $d\\theta$, o deslocamento infinitesimal é igual a $rd\\theta$):\n",
    "\\begin{equation}\n",
    "ds_{j}:=h_{j}dq_{j},\n",
    "\\end{equation}\n",
    "em que $h_{j}$ pode depender de $q_{j}$ e das outras coordenadas $q_{k\\ne j}$, escrevemos\n",
    "\\begin{equation}\n",
    "d\\vec{r}=\\sum_{j=1}^{3}\\hat{q}_{j}ds_{j}=\\sum_{j=1}^{3}\\hat{q}_{j}h_{j}dq_{j},\n",
    "\\end{equation}\n",
    "e assim teremos\n",
    "\\begin{equation}\n",
    "ds^{2} =  d\\vec{r}\\cdot d\\vec{r} = \\sum_{j,l=1}^{3} (h_{j}\\hat{q}_{j})\\cdot(h_{l}\\hat{q}_{l})dq_{j}dq_{l}.\n",
    "\\end{equation}\n",
    "Por conseguinte\n",
    "\\begin{equation}\n",
    "h_{j}\\hat{q}_{j} = \\frac{\\partial \\vec{r}}{\\partial q_{j}}.\n",
    "\\end{equation}\n",
    "\n",
    "Assim, se considerarmos um _sistema de coordenadas ortogonais_, i.e., \n",
    "\\begin{equation}\n",
    "\\hat{q}_{j}\\cdot\\hat{q}_{l}=0 \\text{ para } j\\ne l,\n",
    "\\end{equation}\n",
    "teremos também $g_{jl}=0$ ($j\\ne l$) e\n",
    "\\begin{equation}\n",
    "ds^{2} = \\sum_{j=1}^{3}g_{jj}dq_{j}^{2} = \\sum_{j=1}^{3}h_{j}^{2}dq_{j}^{2},\n",
    "\\end{equation}\n",
    "ou\n",
    "\\begin{equation}\n",
    "h_{j} = \\sqrt{g_{jj}} = \\sqrt{\\sum_{k=1}^{3}\\left(\\frac{\\partial x_{k}}{\\partial q_{j}}\\right)^{2}}.\n",
    "\\end{equation}"
   ]
  },
  {
   "cell_type": "markdown",
   "metadata": {},
   "source": [
    "Assim o vetor gradiente da função escalar $\\psi(\\{q_{j}\\})$ fica escrito como\n",
    "\\begin{equation}\n",
    "\\vec{\\nabla}\\psi(\\{q_{j}\\})=\\sum_{j=1}^{3}\\hat{q}_{j}\\frac{\\partial\\psi}{\\partial s_{j}}=\\sum_{j=1}^{3}\\hat{q}_{j}\\frac{1}{h_{j}}\\frac{\\partial\\psi}{\\partial q_{j}},\n",
    "\\end{equation}\n",
    "e fornece a amplitude e direção de máxima variação da função $\\psi$ no ponto $\\{q_{j}\\}$.\n",
    "\n",
    "#### Operador gradiente em coordenadas esféricas\n",
    "Em coordenadas esféricas temos $q_{1}=r,q_{2}=\\theta,q_{3}=\\phi$ e $x_{k}=x_{k}(q_{j})$ é\n",
    "\\begin{align}\n",
    "& x=x_{1}=r\\sin\\theta\\cos\\phi, \\\\\n",
    "& y=x_{2}=r\\sin\\theta\\sin\\phi, \\\\\n",
    "& z=x_{3}=r\\cos\\theta.\n",
    "\\end{align}\n",
    "Por conseguinte\n",
    "\\begin{align}\n",
    "h_{1}^{2} & = g_{11} = \\left(\\frac{\\partial x_{1}}{\\partial r}\\right)^{2}+\\left(\\frac{\\partial x_{2}}{\\partial r}\\right)^{2}+\\left(\\frac{\\partial x_{3}}{\\partial r}\\right)^{2} \\\\ \n",
    "&= \\left(\\sin\\theta\\cos\\phi\\right)^{2}+\\left(\\sin\\theta\\sin\\phi\\right)^{2}+\\left(\\cos\\theta\\right)^{2} \\\\\n",
    "& = 1, \\\\\n",
    "h_{2}^{2} & = g_{22} = \\left(\\frac{\\partial x_{1}}{\\partial \\theta}\\right)^{2}+\\left(\\frac{\\partial x_{2}}{\\partial \\theta}\\right)^{2}+\\left(\\frac{\\partial x_{3}}{\\partial \\theta}\\right)^{2} \\\\ \n",
    "&= \\left(r\\cos\\theta\\cos\\phi\\right)^{2}+\\left(r\\cos\\theta\\sin\\phi\\right)^{2}+\\left(-r\\sin\\theta\\right)^{2} \\\\\n",
    "& = r^{2}, \\\\\n",
    "h_{3}^{2} & = g_{33} = \\left(\\frac{\\partial x_{1}}{\\partial \\phi}\\right)^{2}+\\left(\\frac{\\partial x_{2}}{\\partial \\phi}\\right)^{2}+\\left(\\frac{\\partial x_{3}}{\\partial \\phi}\\right)^{2} \\\\ \n",
    "&= \\left(-r\\sin\\theta\\sin\\phi\\right)^{2}+\\left(r\\sin\\theta\\cos\\phi\\right)^{2}+\\left(0\\right)^{2} \\\\\n",
    "& = r^{2}\\sin^{2}\\theta.\n",
    "\\end{align}\n",
    "O operador gradiente em coordenadas esféricas é dado como segue:\n",
    "\\begin{align}\n",
    "\\vec{\\nabla} & = \\hat{q}_{1}\\frac{1}{h_{1}}\\frac{\\partial}{\\partial q_{1}} + \\hat{q}_{2}\\frac{1}{h_{2}}\\frac{\\partial}{\\partial q_{2}} + \\hat{q}_{3}\\frac{1}{h_{3}}\\frac{\\partial}{\\partial q_{3}} \\\\ \n",
    "&= \\hat{r}\\frac{1}{1}\\frac{\\partial}{\\partial r} + \\hat{\\theta}\\frac{1}{r}\\frac{\\partial}{\\partial \\theta} + \\hat{\\phi}\\frac{1}{r\\sin\\theta}\\frac{\\partial}{\\partial \\phi} \\\\\n",
    "& = \\hat{r}\\frac{\\partial}{\\partial r} + \\hat{\\theta}\\frac{1}{r}\\frac{\\partial}{\\partial \\theta} + \\hat{\\phi}\\frac{1}{r\\sin\\theta}\\frac{\\partial}{\\partial \\phi}.\n",
    "\\end{align}"
   ]
  },
  {
   "cell_type": "markdown",
   "metadata": {},
   "source": [
    "### Operador Laplaciano em coordenadas curvilíneas\n",
    "Seguindo, vamos fazer uso do teorema de Gauss,\n",
    "\\begin{equation}\n",
    "\\oint_{S_{V}}\\vec{v}\\cdot d\\vec{A} = \\int_{V}\\vec{\\nabla}\\cdot\\vec{v}dV,\n",
    "\\end{equation}\n",
    "aplicado a um elemento infinitesimal de volume $dV=ds_{1}ds_{2}ds_{3}=h_{1}dq_{1}h_{2}dq_{2}h_{3}dq_{3}$:\n",
    "\\begin{equation}\n",
    "\\sum_{faces}\\vec{v}\\cdot d\\vec{A} = \\vec{\\nabla}\\cdot\\vec{v}dV,\n",
    "\\end{equation}\n",
    "em que $\\vec{v}$ é um campo vetorial. Focando em uma direção particular, se mudamos a coordenada $q_{1}$ de uma quantidade infinitesimal $dq_{1}$ teremos\n",
    "\\begin{align}\n",
    "v_{1}dA_{1}&=\\frac{\\left(v_{1}h_{2}dq_{2}h_{3}dq_{3}\\right)_{q_{1}+dq_{1}}-\\left(v_{1}h_{2}dq_{2}h_{3}dq_{3}\\right)_{q_{1}}}{dq_{1}}dq_{1} \\\\ \n",
    "& = \\frac{\\partial(v_{1}h_{2}h_{3})}{\\partial q_{1}}dq_{1}dq_{2}dq_{3}.\n",
    "\\end{align}\n",
    "Somando os fluxos nas três direções, obteremos\n",
    "\\begin{align}\n",
    "\\vec{\\nabla}\\cdot\\vec{v} & = \\frac{\\sum_{faces}\\vec{v}\\cdot d\\vec{A}}{dV} = \\frac{v_{1}dA_{1}+v_{2}dA_{2}+v_{3}dA_{3}}{dV} \\\\\n",
    "& = \\frac{ \\frac{\\partial(v_{1}h_{2}h_{3})}{\\partial q_{1}} + \\frac{\\partial(v_{2}h_{1}h_{3})}{\\partial q_{2}} + \\frac{\\partial(v_{3}h_{1}h_{2})}{\\partial q_{3}} }{h_{1}h_{2}h_{3}dq_{1}dq_{2}dq_{3}}dq_{1}dq_{2}dq_{3} \\\\\n",
    "& = \\frac{1}{h_{1}h_{2}h_{3}}\\left(\\frac{\\partial(v_{1}h_{2}h_{3})}{\\partial q_{1}} + \\frac{\\partial(v_{2}h_{1}h_{3})}{\\partial q_{2}} + \\frac{\\partial(v_{3}h_{1}h_{2})}{\\partial q_{3}}\\right).\n",
    "\\end{align}"
   ]
  },
  {
   "cell_type": "markdown",
   "metadata": {},
   "source": [
    "Usando como campo vetorial o gradiente, $\\vec{v}=\\vec{\\nabla}\\psi$, obteremos o Laplaciano\n",
    "\\begin{align}\n",
    "\\nabla^{2}\\psi & = \\vec{\\nabla}\\cdot\\vec{\\nabla}\\psi \\\\\n",
    "& = \\frac{1}{h_{1}h_{2}h_{3}}\\left(\\frac{\\partial}{\\partial q_{1}}\\left(\\frac{h_{2}h_{3}}{h_{1}}\\frac{\\partial\\psi}{\\partial q_{1}}\\right) + \\frac{\\partial}{\\partial q_{2}}\\left(\\frac{h_{1}h_{3}}{h_{2}}\\frac{\\partial\\psi}{\\partial q_{2}}\\right) + \\frac{\\partial}{\\partial q_{3}}\\left(\\frac{h_{1}h_{2}}{h_{3}}\\frac{\\partial\\psi}{\\partial q_{3}}\\right) \\right).\n",
    "\\end{align}\n",
    "\n",
    "#### Operador Laplaciano em coordenadas esféricas\n",
    "Em coordenadas esféricas $h_{1}=1$, e $h_{2}=r$ e $h_{3}=r\\sin\\theta$ e o operador Laplaciano fica escrito como\n",
    "\\begin{align}\n",
    "\\nabla^{2} & = \\frac{1}{r^{2}\\sin\\theta}\\left(\\frac{\\partial}{\\partial r}\\left(r^{2}\\sin\\theta\\frac{\\partial}{\\partial r}\\right) + \\frac{\\partial}{\\partial \\theta}\\left(\\sin\\theta\\frac{\\partial}{\\partial \\theta}\\right) + \\frac{\\partial}{\\partial \\phi}\\left(\\frac{1}{\\sin\\theta}\\frac{\\partial}{\\partial \\phi}\\right) \\right) \\\\\n",
    "& = \\frac{1}{r^{2}}\\frac{\\partial}{\\partial r}\\left(r^{2}\\frac{\\partial}{\\partial r}\\right) + \\frac{1}{r^{2}\\sin\\theta}\\frac{\\partial}{\\partial \\theta}\\left(\\sin\\theta\\frac{\\partial}{\\partial \\theta}\\right) + \\frac{1}{r^{2}\\sin^{2}\\theta}\\frac{\\partial^{2}}{\\partial \\phi^{2}}.\n",
    "\\end{align}\n",
    "\n",
    "## EqSIT em coordenadas esféricas\n",
    "A EqSIT em coordenadas esféricas fica escrita como ($\\psi=\\psi(r,\\theta,\\phi)$)\n",
    "\\begin{align}\n",
    "& \\frac{-\\hbar^{2}}{2\\mu}\\nabla^{2}\\psi(r,\\theta,\\phi)+U(r)\\psi(r,\\theta,\\phi)=E\\psi(r,\\theta,\\phi), \\\\\n",
    "& \\frac{-\\hbar^{2}}{2\\mu}\\left(\\frac{1}{r^{2}}\\frac{\\partial}{\\partial r}\\left(r^{2}\\frac{\\partial\\psi}{\\partial r}\\right) + \\frac{1}{r^{2}\\sin\\theta}\\frac{\\partial}{\\partial \\theta}\\left(\\sin\\theta\\frac{\\partial\\psi}{\\partial \\theta}\\right) + \\frac{1}{r^{2}\\sin^{2}\\theta}\\frac{\\partial^{2}\\psi}{\\partial \\phi^{2}} \\right) + U(r)\\psi = E\\psi.\n",
    "\\end{align}"
   ]
  },
  {
   "cell_type": "markdown",
   "metadata": {},
   "source": [
    "Tendo em vista a forma da energia potencial, vamos usar __separação de variáveis__,\n",
    "\\begin{equation}\n",
    "\\psi(r,\\theta,\\phi) = \\Omega(r)\\Upsilon(\\theta,\\phi),\n",
    "\\end{equation}\n",
    "para resolver a EqSIT, que fica escrita como\n",
    "\\begin{align}\n",
    "& \\frac{-\\hbar^{2}}{2\\mu}\\left(\\Upsilon(\\theta,\\phi)\\frac{1}{r^{2}}\\frac{\\partial}{\\partial r}\\left(r^{2}\\frac{\\partial\\Omega(r)}{\\partial r}\\right) + \\frac{\\Omega(r)}{r^{2}\\sin\\theta}\\frac{\\partial}{\\partial \\theta}\\left(\\sin\\theta\\frac{\\partial\\Upsilon(\\theta,\\phi)}{\\partial \\theta}\\right) + \\frac{\\Omega(r)}{r^{2}\\sin^{2}\\theta}\\frac{\\partial^{2}\\Upsilon(\\theta,\\phi)}{\\partial \\phi^{2}} \\right) \\\\\n",
    "& + U(r)\\Omega(r)\\Upsilon(\\theta,\\phi) = E\\Omega(r)\\Upsilon(\\theta,\\phi).\n",
    "\\end{align}\n",
    "Manipulando essa última eq., obteremos\n",
    "\\begin{align}\n",
    "& \\frac{1}{\\Omega(r)}\\frac{\\partial}{\\partial r}\\left(r^{2}\\frac{\\partial\\Omega(r)}{\\partial r}\\right) + \\frac{r^{2}2\\mu(E-U(r))}{\\hbar^{2}} \\\\\n",
    "& = -\\frac{1}{\\Upsilon(\\theta,\\phi)\\sin\\theta}\\frac{\\partial}{\\partial \\theta}\\left(\\sin\\theta\\frac{\\partial\\Upsilon(\\theta,\\phi)}{\\partial \\theta}\\right) - \\frac{1}{\\Upsilon(\\theta,\\phi)\\sin^{2}\\theta}\\frac{\\partial^{2}\\Upsilon(\\theta,\\phi)}{\\partial \\phi^{2}} \\\\ \n",
    "& = l(l+1),\n",
    "\\end{align}\n",
    "onde a última igualdade foi incluída numa constante $l(l+1)$, que vem do fato das variáveis $r$ e $\\theta,\\phi$ serem independentes."
   ]
  },
  {
   "cell_type": "markdown",
   "metadata": {},
   "source": [
    "A equação a ser resolvida para obtermos a parte radial da função de onda é\n",
    "\\begin{equation}\n",
    "\\frac{\\partial}{\\partial r}\\left(r^{2}\\frac{\\partial\\Omega(r)}{\\partial r}\\right) + \\left(\\frac{r^{2}2\\mu(E-U(r))}{\\hbar^{2}}-l(l+1)\\right)\\Omega(r)=0.\n",
    "\\end{equation}\n",
    "\n",
    "Seguindo, aplicamos separação de variáveis para a parte angular, $\\Upsilon(\\theta,\\phi)=\\Theta(\\theta)\\Phi(\\phi)$, da eq. acima:\n",
    "\\begin{align}\n",
    "& \\frac{1}{\\sin\\theta}\\frac{\\partial}{\\partial \\theta}\\left(\\sin\\theta\\frac{\\partial\\Theta(\\theta)\\Phi(\\phi)}{\\partial \\theta}\\right) + \\frac{1}{\\sin^{2}\\theta}\\frac{\\partial^{2}\\Theta(\\theta)\\Phi(\\phi)}{\\partial \\phi^{2}} + l(l+1)\\Theta(\\theta)\\Phi(\\phi) = 0, \\\\\n",
    "& \\therefore \\frac{\\sin\\theta}{\\Theta(\\theta)}\\frac{\\partial}{\\partial \\theta}\\left(\\sin\\theta\\frac{\\partial\\Theta(\\theta)}{\\partial \\theta}\\right) + l(l+1)\\sin^{2}\\theta = -\\frac{1}{\\Phi(\\phi)}\\frac{\\partial^{2}\\Phi(\\phi)}{\\partial \\phi^{2}} \\\\\n",
    "& = m_{l}^{2},\n",
    "\\end{align}\n",
    "em que introduzimos a constante $m_{l}^{2}$ pois $\\theta$ e $\\phi$ são variáveis independentes. \n",
    "\n",
    "A equação referente a função de onda do ângulo longitudinal é\n",
    "\\begin{equation}\n",
    "\\frac{\\partial^{2}\\Phi(\\phi)}{\\partial \\phi^{2}}+m_{l}^{2}\\Phi(\\phi)=0.\n",
    "\\end{equation}\n",
    "\n",
    "A eq. diferencial para a função de onda do ângulo latitudinal fica escrita como\n",
    "\\begin{equation}\n",
    "\\sin\\theta\\frac{\\partial}{\\partial \\theta}\\left(\\sin\\theta\\frac{\\partial\\Theta(\\theta)}{\\partial \\theta}\\right) + \\left(l(l+1)\\sin^{2}\\theta-m_{l}^{2}\\right)\\Theta(\\theta)=0.\n",
    "\\end{equation}"
   ]
  },
  {
   "cell_type": "markdown",
   "metadata": {},
   "source": [
    "## Autoenergias e autofunções de átomos Hidrogenóides\n",
    "## Solução longitudinal\n",
    "Vamos começar resolvendo a equação longitudinal $\\partial_{\\phi\\phi}\\Phi(\\phi)+m_{l}^{2}\\Phi(\\phi)=0$. Pode-se verificar que $\\Phi_{\\pm}(\\phi)=e^{\\pm im_{l}\\phi}$ são soluções particulares dessa equação. Assim, podemos escrever uma solução geral:\n",
    "\\begin{equation}\n",
    "\\Phi(\\phi)=c_{+}e^{+im_{l}\\phi} + c_{-}e^{-im_{l}\\phi}.\n",
    "\\end{equation}\n",
    "Pela simetria espacial por rotação em relação a $\\phi$, devemos ter\n",
    "\\begin{align}\n",
    "& \\Phi(\\phi+2\\pi)=\\Phi(\\phi) \\\\ \n",
    "& \\therefore c_{+}e^{+im_{l}(\\phi+2\\pi)} + c_{-}e^{-im_{l}(\\phi+2\\pi)} = c_{+}e^{+im_{l}\\phi}e^{+im_{l}2\\pi} + c_{-}e^{-im_{l}\\phi}e^{-im_{l}2\\pi} = c_{+}e^{+im_{l}\\phi} + c_{-}e^{-im_{l}\\phi}\\\\\n",
    "& \\therefore \\left(e^{+im_{l}2\\pi}-1\\right)c_{+}e^{+im_{l}\\phi} + \\left(e^{-im_{l}2\\pi}-1\\right)c_{-}e^{-im_{l}\\phi} = 0 \\\\\n",
    "& \\therefore e^{\\pm im_{l}2\\pi}=\\cos(m_{l}2\\pi)\\pm i\\sin(m_{l}2\\pi)=1+i0.\n",
    "\\end{align}\n",
    "Portanto\n",
    "\\begin{equation}\n",
    "m_{l} = 0, \\pm 1, \\pm 2, \\pm 3, \\cdots.\n",
    "\\end{equation}\n",
    "Temos então\n",
    "\\begin{equation}\n",
    "\\Phi_{m_{l}}(\\phi)=c_{+}e^{+im_{l}\\phi} + c_{-}e^{-im_{l}\\phi}.\n",
    "\\end{equation}\n",
    "\n",
    "Ao fazermos separação de variáveis, temos também que as densidades de probabilidade tomam a forma produto:\n",
    "\\begin{equation}\n",
    "|\\psi(r,\\theta,\\phi)|^{2} = |\\Omega(r)|^{2}|\\Theta(\\theta)|^{2}|\\Phi_{m_{l}}(\\phi)|^{2}.\n",
    "\\end{equation}\n",
    "Por conseguinte, como as probabilidades para as diferentes coordenadas são independentes, podemos aplicar a normalização de forma também independente para casa uma delas. Assim, para a coordenada $\\phi$, se somamos a probabilidade do quanton ter o valor dessa coordenada entre $\\phi$ e $\\phi+d\\phi$ em uma volta completa, devemos obter a unidade:\n",
    "\\begin{align}\n",
    "1 & = \\int_{\\phi}^{\\phi+2\\pi}|\\Phi_{m_{l}}(\\phi')|^{2}d\\phi' = \\int_{\\phi}^{\\phi+2\\pi}\\Phi_{m_{l}}(\\phi')\\Phi_{m_{l}}(\\phi')^{*}d\\phi' \\\\\n",
    "& = \\int_{\\phi}^{\\phi+2\\pi}\\left(c_{+}e^{+im_{l}\\phi'} + c_{-}e^{-im_{l}\\phi'}\\right)\\left(c_{+}^{*}e^{-im_{l}\\phi'} + c_{-}^{*}e^{-im_{l}\\phi'}\\right)d\\phi' \\\\\n",
    "& = \\int_{\\phi}^{\\phi+2\\pi}\\left(|c_{+}|^{2} + |c_{-}|^{2} + c_{+}c_{-}^{*}e^{2im_{l}\\phi'} + c_{+}^{*}c_{-}e^{-2im_{l}\\phi'}\\right)d\\phi' \\\\\n",
    "& = \\left(|c_{+}|^{2} + |c_{-}|^{2}\\right)\\left(\\phi'\\right)_{\\phi}^{\\phi+2\\pi} + \\frac{c_{+}c_{-}^{*}}{2im_{l}}\\left(e^{2im_{l}\\phi'}\\right)_{\\phi}^{\\phi+2\\pi} + \\frac{c_{+}^{*}c_{-}}{-2im_{l}}\\left(e^{-2im_{l}\\phi'}\\right)_{\\phi}^{\\phi+2\\pi} \\\\\n",
    "& = \\left(|c_{+}|^{2} + |c_{-}|^{2}\\right)2\\pi + \\frac{c_{+}c_{-}^{*}}{2im_{l}}\\left(e^{2im_{l}\\phi}e^{2im_{l}2\\pi}-e^{2im_{l}\\phi}\\right) \\\\ \n",
    "& \\hspace{0.5cm}+ \\frac{c_{+}^{*}c_{-}}{-2im_{l}}\\left(e^{-2im_{l}\\phi}e^{-2im_{l}2\\pi}-e^{-2im_{l}\\phi}\\right) \\\\\n",
    "& = \\left(|c_{+}|^{2} + |c_{-}|^{2}\\right)2\\pi+0+0.\n",
    "\\end{align}"
   ]
  },
  {
   "cell_type": "markdown",
   "metadata": {},
   "source": [
    "Assim\n",
    "\\begin{equation}\n",
    "|c_{+}|^{2} + |c_{-}|^{2}=\\frac{1}{2\\pi}.\n",
    "\\end{equation}\n",
    "\n",
    "OBS. A derivada da função de onda não traz nenhuma condição nova, para ser utilizada aqui.\n",
    "\n",
    "Observo que a maioria dos livros sobre MQ usa a solução particular \n",
    "\\begin{equation}\n",
    "\\Phi_{+}=e^{+im_{l}\\phi}/\\sqrt{2\\pi}\\therefore |\\Phi_{+}|^{2}=1/2\\pi\n",
    "\\end{equation}\n",
    "(para $\\Phi_{-}$ também teríamos $|\\Phi_{-}|^{2}=1/2\\pi$), que implica que a probabilidade do quanton ter qualquer valor de $\\phi$ é a mesma.\n",
    "\n",
    "Além disso, vemos que $e^{\\pm im_{l}\\phi}$ são autofunções de $\\vec{P}$ com autovalores mostrados abaixo:\n",
    "\\begin{align}\n",
    "\\vec{P}\\Phi_{\\pm} & = \\frac{\\hbar}{i}\\vec{\\nabla}e^{\\pm im_{l}\\phi} = \\frac{\\hbar}{i}\\left(\\hat{r}\\frac{\\partial}{\\partial r} + \\hat{\\theta}\\frac{1}{r}\\frac{\\partial}{\\partial \\theta} + \\hat{\\phi}\\frac{1}{r\\sin\\theta}\\frac{\\partial}{\\partial \\phi}\\right)e^{\\pm im_{l}\\phi} \\\\\n",
    "& = \\pm\\frac{\\hbar m_{l}}{r\\sin\\theta}\\hat{\\phi}e^{\\pm im_{l}\\phi} =\\left(\\pm\\frac{\\hbar m_{l}}{r\\sin\\theta}\\hat{\\phi}\\right)\\Phi_{\\pm}.\n",
    "\\end{align}\n",
    "No entanto, $\\vec{P}\\Phi_{m_{l}}^{\\pm}(\\phi)=\\hat{\\phi}\\frac{\\hbar m_{l}}{r\\sin\\theta}\\Phi_{m_{l}}^{\\mp}(\\phi)$. Se requerermos que $P_{\\phi}=0$, então devemos ter $|c_{+}|=|c_{-}|\\therefore c_{+}=e^{i\\alpha}c_{-}$ com $\\alpha\\in[0,2\\pi)$. Usando $c_{+}=\\pm c_{-}=1/(2\\sqrt{\\pi})$, teremos que\n",
    "\\begin{equation}\n",
    "\\Phi_{m_{l}}^{\\pm}(\\phi) = \\frac{1}{2\\sqrt{\\pi}}\\left(e^{+im_{l}\\phi}\\pm e^{-im_{l}\\phi}\\right)\\therefore \\begin{cases} \\Phi_{m_{l}}^{+}(\\phi) = (1/\\sqrt{\\pi})\\cos(m_{l}\\phi), \\\\ \\Phi_{m_{l}}^{-}(\\phi)=(i/\\sqrt{\\pi})\\sin(m_{l}\\phi).\\end{cases}\n",
    "\\end{equation} \n",
    "Pode-se verificar também ortogonalidade, i.e., $\\langle\\Phi_{m_{l}}^{\\pm}|\\Phi_{m'_{l}}^{\\pm}\\rangle=0$ para $m_{l}\\ne m'_{l}$. Para a \"solução geral\" a densidade de probabilidade é similar àquela de um quanton em um poço quadrado infinito 1D, i.e.,\n",
    "\\begin{equation}\n",
    "\\begin{cases} |\\Phi_{m_{l}}^{+}(\\phi)|^{2} = (1/\\pi)\\cos^{2}(m_{l}\\phi), \\\\ |\\Phi_{m_{l}}^{-}(\\phi)|^{2}=(1/\\pi)\\sin^{2}(m_{l}\\phi).\\end{cases}\n",
    "\\end{equation}\n",
    "\n",
    "OBS. Por agora, não tenho nenhum argumento, matemático ou físico, para a escolha da função de onda longitudinal. "
   ]
  },
  {
   "cell_type": "markdown",
   "metadata": {},
   "source": [
    "## Solução latitudinal\n",
    "Para obter essa função de onda precisamos resolver a eq. diferencial\n",
    "\\begin{equation}\n",
    "\\sin\\theta\\frac{\\partial}{\\partial \\theta}\\left(\\sin\\theta\\frac{\\partial\\Theta(\\theta)}{\\partial \\theta}\\right) + \\left(l(l+1)\\sin^{2}\\theta-m_{l}^{2}\\right)\\Theta(\\theta)=0. \\hspace{1cm} (\\star)\n",
    "\\end{equation}\n",
    "Começamos fazendo a mudança de variável\n",
    "\\begin{equation}\n",
    "z=\\cos\\theta.\n",
    "\\end{equation}\n",
    "Teremos $1-z^{2}=1-\\cos^{2}\\theta=\\sin^{2}\\theta$ e assim\n",
    "\\begin{equation}\n",
    "\\sin\\theta\\frac{\\partial}{\\partial_{\\theta}} = \\sin\\theta\\frac{\\partial z}{\\partial_{\\theta}}\\frac{\\partial}{\\partial_{z}} = -\\sin^{2}\\theta\\frac{\\partial}{\\partial_{z}} = -(1-z^{2})\\frac{\\partial}{\\partial_{z}}.\n",
    "\\end{equation}\n",
    "Substituindo essas igualdades em $(\\star)$, obtemos\n",
    "\\begin{align}\n",
    "& (1-z^{2})\\frac{\\partial}{\\partial z}\\left((1-z^{2})\\frac{\\partial\\Theta(z)}{\\partial z}\\right) + \\left(l(l+1)(1-z^{2})-m_{l}^{2}\\right)\\Theta(z)=0, \\\\\n",
    "& (1-z^{2})\\frac{\\partial^{2}\\Theta(z)}{\\partial z^{2}} -2z\\frac{\\partial\\Theta(z)}{\\partial z} + \\left(l(l+1)-\\frac{m_{l}^{2}}{1-z^{2}}\\right)\\Theta(z)=0. \\hspace{1cm} (\\star\\star)\n",
    "\\end{align}\n",
    "As soluções dessa equação, $\\Theta=\\Theta_{l,m_{l}}$, chamadas de _funções associadas de Legendre_, podem ser escritas como:\n",
    "\\begin{equation}\n",
    "\\Theta_{l,m_{l}}(z) = (1-z^{2})^{|m_{l}|/2}\\frac{\\partial^{|m_{l}|}P_{l}(z)}{\\partial z^{|m_{l}|}},\n",
    "\\end{equation}"
   ]
  },
  {
   "cell_type": "markdown",
   "metadata": {},
   "source": [
    "com os _polinômios de Legendre_ satisfazendo a eq. diferencial:\n",
    "\\begin{equation}\n",
    "(1-z^{2})\\frac{\\partial^{2}P_{l}(z)}{\\partial z^{2}}-2z\\frac{\\partial P_{l}(z)}{\\partial z}+l(l+1)P_{l}(z)=0. \\hspace{1cm} (\\triangle)\n",
    "\\end{equation}\n",
    "\n",
    "\n"
   ]
  },
  {
   "cell_type": "markdown",
   "metadata": {},
   "source": [
    "Para obter a solução da eq. ($\\triangle$) por séries de potências, escrevemos\n",
    "\\begin{equation}\n",
    "P_{l}(z)=\\sum_{j=0}^{\\infty}a_{j}z^{j},\n",
    "\\end{equation}\n",
    "cujas derivadas são\n",
    "\\begin{align}\n",
    "& \\partial_{z}P_{z} = \\partial_{z}\\left(a_{0}+\\sum_{j=1}^{\\infty}a_{j}z^{j}\\right) = 0 + \\sum_{j=1}^{\\infty}a_{j}jz^{j-1}, \\\\ \n",
    "& \\partial_{zz}P_{z} = \\partial_{z}\\left(a_{1}+\\sum_{j=2}^{\\infty}a_{j}jz^{j-1}\\right) = 0 + \\sum_{j=2}^{\\infty}a_{j}j(j-1)z^{j-2}.\n",
    "\\end{align}\n",
    "\n",
    "Substituindo na eq. ($\\triangle$) obteremos\n",
    "\\begin{align}\n",
    "& (1-z^{2})\\sum_{j=2}^{\\infty}a_{j}j(j-1)z^{j-2} - 2z\\sum_{j=1}^{\\infty}a_{j}jz^{j-1} + l(l+1)\\sum_{j=0}^{\\infty}a_{j}z^{j}=0, \\\\\n",
    "& \\therefore \\sum_{j=2}^{\\infty}a_{j}j(j-1)z^{j-2} + \\sum_{j=2}^{\\infty}(-1)a_{j}j(j-1)z^{j} + \\sum_{j=0}^{\\infty}(-1)a_{j}2jz^{j} + \\sum_{j=0}^{\\infty}l(l+1)a_{j}z^{j}=0, \\\\\n",
    "& \\therefore \\sum_{k=0}^{\\infty}a_{k+2}(k+2)(k+1)z^{k} + \\sum_{j=0}^{\\infty}(-1)a_{j}j(j-1)z^{j} + \\sum_{j=0}^{\\infty}(-1)a_{j}2jz^{j} + \\sum_{j=0}^{\\infty}l(l+1)a_{j}z^{j}=0, \\\\\n",
    "& \\therefore \\sum_{j=0}^{\\infty}\\left(a_{j+2}(j+2)(j+1)-\\left(j(j+1)-l(l+1)\\right)\\right)z^{j} = 0, \\\\\n",
    "& \\therefore a_{j+2}=\\frac{j(j+1)-l(l+1)}{(j+1)(j+2)}a_{j}.\n",
    "\\end{align}"
   ]
  },
  {
   "cell_type": "markdown",
   "metadata": {},
   "source": [
    "Assim como no caso da solução do oscilador harmônico quântico, aqui função de onda também deve ser uma função par ou uma função ímpar. Qual das opções teremos dependerá de $|m_{l}|$ e da paridade de $P_{l}(z)$:\n",
    "\\begin{equation}\n",
    "P_{l}^{p}(z)=\\sum_{j=0}^{\\infty}a_{2j}z^{2j} \\text{, } P_{l}^{i}(z)=\\sum_{j=0}^{\\infty}a_{2j+1}z^{2j+1}.\n",
    "\\end{equation}\n",
    "Para qualquer um dos casos teremos o seguinte comportamento dos coeficientes para valores grandes de $j$:\n",
    "\\begin{equation}\n",
    "\\lim_{j\\gg 1}\\frac{a_{j+2}}{a_{j}} = \\lim_{j\\gg 1}\\frac{j(j+1)-l(l+1)}{(j+1)(j+2)} \\approx \\frac{j^{2}}{j^{2}}=1.\n",
    "\\end{equation}\n",
    "Lembrando, a razão entre termos sucessivos na expansão em série de Taylor de $e^{z^{2}}$ é aproximadamente igual a $1/j$, quando $j\\gg 1$. Vemos assim que $P_{l}(z)$ aumenta ainda mais rápido que $e^{z^{2}}$ para $j\\gg 1$. Por isso, i.e., por causa da divergência da série, temos que truncá-la, o que é feito impondo\n",
    "\\begin{equation}\n",
    "l=j \\text{ para } l = 0,1,2,\\cdots \\therefore l\\in\\mathbb{N}.\n",
    "\\end{equation}\n",
    "OBS. A divergência da série aqui é menos nítida do que no caso do OHQ1D pois aqui $z=\\cos\\theta\\in[-1,1]$, embora ela certamente acontece para os casos extremos $z=\\pm 1$.\n",
    "\n",
    "Temos assim que $P_{0}^{p}=a_{0}$ e $P_{1}^{p}=a_{1}z$ e\n",
    "\\begin{cases}\n",
    "P_{l}^{p}(z)=\\sum_{j=0}^{l-1}a_{2j}(l)z^{2j} \\text{, para } l=2,4,6,\\cdots, \\\\\n",
    "P_{l}^{i}(z)=\\sum_{j=0}^{(l-1)/2}a_{2j+1}(l)z^{2j+1} \\text{, para } l=3,5,7,\\cdots,\n",
    "\\end{cases}\n",
    "com $a_{0}(l)=a_{0}$, $a_{1}(l)=a_{1}$ e \n",
    "\\begin{equation}\n",
    "a_{j}(l)=\\frac{(j-2)(j-1)-l(l+1)}{(j-1)j}a_{j-2}(l)\\text{, para } j=2,3,4,\\cdots.\n",
    "\\end{equation}"
   ]
  },
  {
   "cell_type": "markdown",
   "metadata": {},
   "source": [
    "Os polinômios de Legendre pares são obtidos como segue ($P_{0}^{p}=a_{0}$):\n",
    "\\begin{align}\n",
    "P_{2}^{p}(z) &= a_{0} + a_{2}(2)z^{2} = a_{0} + \\frac{(2-2)(2-1)-2(2+1)}{(2-1)2}a_{2-2}(2)z^{2} = a_{0} + \\frac{-6}{2}a_{0}(2)z^{2} \\\\ \n",
    "& = a_{0}(1-3z^{2}) = -2a_{0}(3z^{2}-1)/2 \\equiv -2a_{0}\\frac{1}{2!2^{2}}\\frac{\\partial^{2}}{\\partial z^{2}}(z^{2}-1)^{2}. \\\\\n",
    "\\end{align}\n",
    "Usando\n",
    "\\begin{align}\n",
    "a_{2}(4) & = \\frac{(2-2)(2-1)-4(4+1)}{(2-1)2}a_{2-2}(4) = -10a_{0}, \\\\\n",
    "a_{4}(4) & = \\frac{(4-2)(4-1)-4(4+1)}{(4-1)4}a_{4-2}(4) = \\frac{(2)(3)-20}{12}a_{2}(4) = \\frac{-14}{12}(-10a_{0}) = \\frac{35}{3}a_{0},\n",
    "\\end{align}\n",
    "obteremos\n",
    "\\begin{align}\n",
    "P_{4}^{p}(z) &= a_{0} + a_{2}(4)z^{2} + a_{4}(4)z^{4} = a_{0} - 10a_{0}z^{2} + \\frac{35}{3}a_{0}z^{4} \\\\\n",
    "& = \\frac{8a_{0}}{3}\\left(3-30z^{2}+35z^{4}\\right)/8 \\equiv \\frac{8a_{0}}{3}\\frac{1}{4!2^{4}}\\frac{\\partial^{4}}{\\partial z^{4}}(z^{2}-1)^{4}.\n",
    "\\end{align}\n",
    "\n",
    "Generalizando, podemos fazer uso da fórmula de Rodrigues para escrever $P_{l}^{p}$, a menos de uma constante multiplicada por $a_{0}$, e $P_{l}^{i}$, a menos de uma constante multiplicada por $a_{1}$, como os polinômios de Legendre:\n",
    "\\begin{equation}\n",
    "P_{l}(z) := \\frac{1}{l!2^{l}}\\frac{\\partial^{l}}{\\partial z^{l}}(z^{2}-1)^{l}.\n",
    "\\end{equation}\n",
    "OBS. Essas constantes são embutidas na função de onda $\\Omega(r)$."
   ]
  },
  {
   "cell_type": "code",
   "execution_count": 4,
   "metadata": {},
   "outputs": [],
   "source": [
    "def rodrigues_legendre(l,z):\n",
    "    if l == 0:\n",
    "        return 1\n",
    "    elif l == 1:\n",
    "        return z\n",
    "    rod = (z**2-1)**l\n",
    "    for j in range(1,l+1):\n",
    "        rod = diff(rod,z)\n",
    "    return (1/(factorial(l)*2**l))*rod\n",
    "#simplify(rodrigues_legendre(15,z))"
   ]
  },
  {
   "cell_type": "code",
   "execution_count": 5,
   "metadata": {},
   "outputs": [
    {
     "name": "stdout",
     "output_type": "stream",
     "text": [
      "P_0= 1\n",
      "P_1= z\n",
      "P_2= 3*z**2/2 - 1/2\n",
      "P_3= z*(5*z**2 - 3)/2\n",
      "P_4= 35*z**4/8 - 15*z**2/4 + 3/8\n",
      "P_5= z*(63*z**4 - 70*z**2 + 15)/8\n",
      "P_6= 231*z**6/16 - 315*z**4/16 + 105*z**2/16 - 5/16\n",
      "P_7= z*(429*z**6 - 693*z**4 + 315*z**2 - 35)/16\n"
     ]
    }
   ],
   "source": [
    "z = symbols('z'); n = 8 # Polinômios de Legendre até l = n-1\n",
    "for l in range(0,n):\n",
    "    print('P_'+str(l)+'=',simplify(rodrigues_legendre(l,z)))"
   ]
  },
  {
   "cell_type": "code",
   "execution_count": 6,
   "metadata": {},
   "outputs": [],
   "source": [
    "def legengre_python(l,z): # Escreve o polinômio de Legendre em um código Python\n",
    "    f = open(\"legendreP.py\",\"w\"); f.write(\"def legendre(z):\\n\");\n",
    "    f.write(\"    return \"+str(simplify(rodrigues_legendre(l,z)))); f.close()"
   ]
  },
  {
   "cell_type": "code",
   "execution_count": 7,
   "metadata": {},
   "outputs": [],
   "source": [
    "def plot_legendreP(l):\n",
    "    import legendreP; importlib.reload(legendreP)\n",
    "    N = 300; xmin = -1; xmax = -xmin; dx = (xmax-xmin)/N; x = np.zeros(N+1); y = np.zeros(N+1)\n",
    "    for j in range(0,N+1):\n",
    "        x[j] = xmin + j*dx; y[j] = legendreP.legendre(x[j])\n",
    "    fig = plt.figure(figsize=(6,6)); plt.plot(x,y)\n",
    "    plt.xlabel(r'$z$'); plt.xlim(-1.1,1.1); plt.ylim(-1.1,1.1); plt.ylabel(r'$P_{l}$')\n",
    "    plt.annotate(r'$l=$'+str(l), xy=(0,0.9), xytext=(0,0.9), fontsize=12)\n",
    "    plt.title('Polinômios de Legendre')\n",
    "    plt.show()"
   ]
  },
  {
   "cell_type": "code",
   "execution_count": 11,
   "metadata": {},
   "outputs": [],
   "source": [
    "def plot_legendre(l):\n",
    "    legengre_python(l,z); import legendreP; importlib.reload(legendreP); plot_legendreP(l)\n",
    "#plot_legendre(25)"
   ]
  },
  {
   "cell_type": "code",
   "execution_count": 12,
   "metadata": {},
   "outputs": [
    {
     "data": {
      "application/vnd.jupyter.widget-view+json": {
       "model_id": "1085cb205952466ca70c55b9494dcfe0",
       "version_major": 2,
       "version_minor": 0
      },
      "text/plain": [
       "interactive(children=(IntSlider(value=5, description='l', max=10), Output()), _dom_classes=('widget-interact',…"
      ]
     },
     "metadata": {},
     "output_type": "display_data"
    }
   ],
   "source": [
    "interactive(plot_legendre,l=(0,10,1))"
   ]
  },
  {
   "cell_type": "markdown",
   "metadata": {},
   "source": [
    "### Relação entre $l$ e $m_{l}$\n",
    "Lembrando, a função associada de Legendre, \n",
    "\\begin{equation}\n",
    "\\Theta_{l,m_{l}}(z) = (1-z^{2})^{|m_{l}|/2}\\frac{\\partial^{|m_{l}|}P_{l}(z)}{\\partial z^{|m_{l}|}},\n",
    "\\end{equation}\n",
    "envolve a derivada de ordem $|m_{l}|$ do polinômio de Legendre $P_{l}$, que é um polinômio de ordem $l$. Portanto, se $|m_{l}|>l$ teremos $\\Theta_{l,m_{l}}(z)=0$. Por isso, embora $m_{l}\\in\\mathbb{Z}$, temos que impor a restrição\n",
    "\\begin{equation}\n",
    "|m_{l}|\\le l \\therefore m_{l}=0,\\pm1,\\pm2,\\cdots,\\pm l \\text{, com } l\\in\\mathbb{N}.\n",
    "\\end{equation}\n",
    "\n",
    "### Funções associadas de Legendre\n",
    "Vamos fazer alguns exemplos. Primeiro notamos que $\\Theta_{l,m_{l}}(z)=\\Theta_{l,-m_{l}}(z)$. Seguindo (lembrando $z=\\cos\\theta$):\n",
    "\\begin{align}\n",
    "\\Theta_{l=0,m_{l}=0}(z) & = (1-z^{2})^{(m_{l}=0)/2}\\frac{\\partial^{(|m_{l}|=0)}P_{(l=0)}(z)}{\\partial z^{(|m_{l}|=0)}}=1 \\therefore \\Theta_{l=0,m_{l}=0}(\\theta)=1, \\\\\n",
    "\\Theta_{1,0}(z) & = (1-z^{2})^{0/2}\\frac{\\partial^{0}P_{1}(z)}{\\partial z^{0}}=P_{1}(z)=z \\therefore \\Theta_{1,0}(\\theta)=\\cos\\theta, \\\\\n",
    "\\Theta_{1,\\pm1}(z) & = (1-z^{2})^{1/2}\\frac{\\partial^{1}P_{1}(z)}{\\partial z^{1}}=\\sqrt{1-z^{2}} \\therefore \\Theta_{1,\\pm1}(\\theta)=\\sin\\theta, \\\\\n",
    "\\Theta_{2,0}(z) & = (1-z^{2})^{0/2}\\frac{\\partial^{0}P_{2}(z)}{\\partial z^{0}} = P_{2}(z) = (3z^{2}-1)/2 \\therefore \\Theta_{2,0}(\\theta)=\\left(3\\cos^{2}\\theta-1\\right)/2, \\\\\n",
    "\\Theta_{2,\\pm1}(z) & = (1-z^{2})^{1/2}\\frac{\\partial^{1}P_{2}(z)}{\\partial z^{1}} = \\sqrt{1-z^{2}}3z \\therefore \\Theta_{2,1}(\\theta)=3\\sin\\theta\\cos\\theta, \\\\\n",
    "\\Theta_{2,\\pm2}(z) & = (1-z^{2})^{2/2}\\frac{\\partial^{2}P_{2}(z)}{\\partial z^{2}} = (1-z^{2})3 \\therefore \\Theta_{2,2}(\\theta)=3\\sin^{2}\\theta, \\\\\n",
    "& \\vdots\n",
    "\\end{align}"
   ]
  },
  {
   "cell_type": "code",
   "execution_count": 13,
   "metadata": {},
   "outputs": [],
   "source": [
    "def legendre_associada(l,ml,z):\n",
    "    order = abs(ml)\n",
    "    if order == 0:\n",
    "        return rodrigues_legendre(l,z)\n",
    "    if order == 1:\n",
    "        return diff(rodrigues_legendre(l,z),z)*sqrt(1-z**2)\n",
    "    rod = rodrigues_legendre(l,z)\n",
    "    for j in range(1,order+1):\n",
    "        rod = diff(rod,z)\n",
    "    return rod*(1-z**2)**(order/2)\n",
    "#simplify(legendre_associada(15,3,z))"
   ]
  },
  {
   "cell_type": "code",
   "execution_count": 14,
   "metadata": {},
   "outputs": [
    {
     "name": "stdout",
     "output_type": "stream",
     "text": [
      "Theta_0,0 =  1\n",
      "Theta_1,0 =  z\n",
      "Theta_1,1 =  sqrt(-z**2 + 1)\n",
      "Theta_2,0 =  3*z**2/2 - 1/2\n",
      "Theta_2,1 =  3*z*sqrt(-z**2 + 1)\n",
      "Theta_2,2 =  3*(-z**2 + 1)**1.0\n",
      "Theta_3,0 =  z*(5*z**2 - 3)/2\n",
      "Theta_3,1 =  3*sqrt(-z**2 + 1)*(5*z**2 - 1)/2\n",
      "Theta_3,2 =  15*z*(-z**2 + 1)**1.0\n",
      "Theta_3,3 =  15*(-z**2 + 1)**1.5\n"
     ]
    }
   ],
   "source": [
    "n = 4 # Funções associadas de Legendre, até l=n-1\n",
    "for l in range(0,n): \n",
    "    for ml in range(0,l+1):\n",
    "        print('Theta_'+str(l)+','+str(ml)+' = ',simplify(legendre_associada(l,ml,z)))"
   ]
  },
  {
   "cell_type": "code",
   "execution_count": 15,
   "metadata": {},
   "outputs": [],
   "source": [
    "def legendreA_python(l,ml,z): # Escreve o polinômio de Legendre em um código Python\n",
    "    f = open(\"legendreA.py\",\"w\"); \n",
    "    f.write(\"import numpy as np \\n\"); f.write(\"\\n\")\n",
    "    f.write(\"def legendre_a(z):\\n\");\n",
    "    #f.write(\"    from math import sqrt\\n\");\n",
    "    f.write(\"    return \"+str(simplify(legendre_associada(l,ml,z)))); \n",
    "    f.write(\"\\n\"); f.write(\"\\n\"); f.write(\"def sqrt(x):\\n\"); f.write(\"    return np.sqrt(x)\\n\");\n",
    "    f.close()\n",
    "legendreA_python(1,1,z)"
   ]
  },
  {
   "cell_type": "code",
   "execution_count": 16,
   "metadata": {},
   "outputs": [],
   "source": [
    "def plot_legendreA(l,ml):\n",
    "    import legendreA; importlib.reload(legendreA); xmin = 0; xmax = math.pi\n",
    "    x = np.arange(xmin,xmax,0.01); z = np.cos(x); y = legendreA.legendre_a(z)\n",
    "    fig = plt.figure(figsize=(6,6)); plt.plot(x,y)\n",
    "    plt.xlabel(r'$\\theta$'); plt.xlim(-0.1,math.pi+0.1)\n",
    "    ym = np.amax(y); plt.ylim(-1.1*ym,1.1*ym); plt.ylabel(r'$\\Theta_{l,m_{l}}$')\n",
    "    plt.annotate(r'$l=$'+str(l)+','+r'$m_{l}=$'+str(ml), xy=(0.4*xmax,0), xytext=(0.4*xmax,0), fontsize=12)\n",
    "    plt.title('Funções associadas de Legendre')\n",
    "    plt.show()  "
   ]
  },
  {
   "cell_type": "code",
   "execution_count": 17,
   "metadata": {},
   "outputs": [],
   "source": [
    "def plot_legendre_a(l,ml):\n",
    "    legendreA_python(l,ml,z); import legendreA; importlib.reload(legendreA); plot_legendreA(l,ml)\n",
    "#plot_legendre_a(20,0)"
   ]
  },
  {
   "cell_type": "code",
   "execution_count": 18,
   "metadata": {},
   "outputs": [
    {
     "data": {
      "application/vnd.jupyter.widget-view+json": {
       "model_id": "0ac01cd771844ae69bdd3187cd5e6019",
       "version_major": 2,
       "version_minor": 0
      },
      "text/plain": [
       "interactive(children=(IntSlider(value=2, description='l', max=5), IntSlider(value=0, description='ml', max=3, …"
      ]
     },
     "metadata": {},
     "output_type": "display_data"
    }
   ],
   "source": [
    "interactive(plot_legendre_a,l=(0,5,1),ml=(-l,l,1))"
   ]
  },
  {
   "cell_type": "markdown",
   "metadata": {},
   "source": [
    "## Solução radial\n",
    "A equação diferencial que precisamos resolver nesse caso é\n",
    "\\begin{equation}\n",
    "\\frac{\\partial}{\\partial r}\\left(r^{2}\\frac{\\partial\\Omega(r)}{\\partial r}\\right) + \\left(\\frac{r^{2}2\\mu(E-U(r))}{\\hbar^{2}}-l(l+1)\\right)\\Omega(r)=0.\n",
    "\\end{equation}\n",
    "Substituindo $U(r)=-Ze^{2}/4\\pi\\epsilon_{0}r$ e dividindo toda a eq. acima por $r^{2}$, vem que\n",
    "\\begin{equation}\n",
    "\\frac{1}{r^{2}}\\frac{\\partial}{\\partial r}\\left(r^{2}\\frac{\\partial\\Omega(r)}{\\partial r}\\right) + \\left(\\frac{2\\mu E}{\\hbar^{2}}+\\frac{2\\mu Ze^{2}}{\\hbar^{2}4\\pi\\epsilon_{0}r}-\\frac{l(l+1)}{r^{2}}\\right)\\Omega(r)=0.\n",
    "\\end{equation}\n",
    "Vamos definir uma variável proporcional ao produto da massa reduzida pela energia,\n",
    "\\begin{equation}\n",
    "\\beta := \\frac{\\sqrt{-2\\mu E}}{\\hbar},\n",
    "\\end{equation}\n",
    "e fazer a seguinte mudança de variável\n",
    "\\begin{equation}\n",
    "\\rho := 2\\beta r.\n",
    "\\end{equation}\n",
    "Agora, notando que $\\partial_{r}=(\\partial_{r}\\rho)\\partial_{\\rho}=2\\beta\\partial_{\\rho}$ teremos\n",
    "\\begin{align}\n",
    "& \\frac{4\\beta^{2}}{\\rho^{2}}2\\beta\\frac{\\partial}{\\partial\\rho}\\left(\\frac{\\rho^{2}}{4\\beta^{2}}2\\beta\\frac{\\partial\\Omega(\\rho)}{\\partial \\rho}\\right) + \\left(-\\beta^{2}+\\frac{2\\beta 2\\mu Ze^{2}}{\\hbar^{2}4\\pi\\epsilon_{0}\\rho}-\\frac{4\\beta^{2}l(l+1)}{\\rho^{2}}\\right)\\Omega(\\rho)=0, \\\\\n",
    "& \\therefore\\frac{1}{\\rho^{2}}\\frac{\\partial}{\\partial\\rho}\\left(\\rho^{2}\\frac{\\partial\\Omega(\\rho)}{\\partial \\rho}\\right) + \\left(-\\frac{1}{4}+\\frac{\\mu Ze^{2}}{\\hbar^{2}4\\pi\\epsilon_{0}\\beta\\rho}-\\frac{l(l+1)}{\\rho^{2}}\\right)\\Omega(\\rho)=0.\n",
    "\\end{align}"
   ]
  },
  {
   "cell_type": "markdown",
   "metadata": {},
   "source": [
    "Definindo a constante\n",
    "\\begin{equation}\n",
    "\\gamma := \\frac{\\mu Ze^{2}}{\\hbar^{2}4\\pi\\epsilon_{0}\\beta},\n",
    "\\end{equation}\n",
    "obtemos\n",
    "\\begin{equation}\n",
    "\\frac{1}{\\rho^{2}}\\frac{\\partial}{\\partial\\rho}\\left(\\rho^{2}\\frac{\\partial\\Omega(\\rho)}{\\partial \\rho}\\right) + \\left(-\\frac{1}{4}+\\frac{\\gamma}{\\rho}-\\frac{l(l+1)}{\\rho^{2}}\\right)\\Omega(\\rho)=0.  \\hspace{1cm} (\\square)\n",
    "\\end{equation}\n",
    "Vamos analisar o limite de raios muito grandes, $r\\gg 1\\therefore \\rho\\gg 1$. Nesse limite $-\\frac{1}{4}+\\frac{\\gamma}{\\rho}-\\frac{l(l+1)}{\\rho^{2}}\\approx -1/4$ e a eq. diferencial resultante, \\begin{equation}\n",
    "\\frac{1}{\\rho^{2}}\\frac{\\partial}{\\partial\\rho}\\left(\\rho^{2}\\frac{\\partial\\Omega(\\rho)}{\\partial \\rho}\\right) -\\frac{1}{4}\\Omega(\\rho)=0,\n",
    "\\end{equation}\n",
    "tem como solução, a menos de uma solução multiplicativa,\n",
    "\\begin{equation}\n",
    "\\Omega(\\rho\\gg 1) = e^{-\\rho/2}.\n",
    "\\end{equation}\n",
    "\n",
    "Vamos assumir que a solução geral da eq. ($\\square$) tem a forma\n",
    "\\begin{equation}\n",
    "\\Omega(\\rho) = e^{-\\rho/2}F(\\rho).\n",
    "\\end{equation}\n",
    "Vamos obter a eq. diferencial que $F(\\rho)$ deve satisfazer. Notemos que\n",
    "\\begin{equation}\n",
    "\\frac{\\partial\\Omega}{\\partial\\rho} = -\\frac{1}{2}e^{-\\rho/2}F + e^{-\\rho/2}\\frac{\\partial F}{\\partial\\rho}\n",
    "\\end{equation}"
   ]
  },
  {
   "cell_type": "markdown",
   "metadata": {},
   "source": [
    "e que\n",
    "\\begin{align}\n",
    "\\frac{\\partial}{\\partial\\rho}\\left(\\rho^{2}\\frac{\\partial\\Omega}{\\partial\\rho}\\right) & = -\\frac{1}{2}\\frac{\\partial}{\\partial\\rho}\\left(\\rho^{2}e^{-\\rho/2}F\\right) + \\frac{\\partial}{\\partial\\rho}\\left(\\rho^{2}e^{-\\rho/2}\\frac{\\partial F}{\\partial\\rho}\\right) \\\\\n",
    "& = -\\rho e^{-\\rho/2}F + \\frac{1}{4}\\rho^{2}e^{-\\rho/2}F - \\frac{1}{2}\\rho^{2}e^{-\\rho/2}\\frac{\\partial F}{\\partial\\rho} \\\\\n",
    "& \\hspace{0.5cm} + 2\\rho e^{-\\rho/2}\\frac{\\partial F}{\\partial\\rho} - \\frac{1}{2}\\rho^{2}e^{-\\rho/2}\\frac{\\partial F}{\\partial\\rho} + \\rho^{2}e^{-\\rho/2}\\frac{\\partial^{2}F}{\\partial\\rho^{2}}.\n",
    "\\end{align}\n",
    "Substituindo na eq. ($\\square$), obteremos\n",
    "\\begin{equation}\n",
    "e^{-\\rho/2}\\frac{\\partial^{2}F}{\\partial\\rho^{2}} + e^{-\\rho/2}\\frac{\\partial F}{\\partial\\rho}\\left(\\frac{2}{\\rho}-1\\right) + e^{-\\rho/2}F\\left(\\frac{1}{4}-\\frac{1}{\\rho}\\right) + \\left(-\\frac{1}{4}+\\frac{\\gamma}{\\rho}-\\frac{l(l+1)}{\\rho^{2}}\\right)e^{-\\rho/2}F=0\n",
    "\\end{equation}\n",
    "ou, multiplicando por $e^{\\rho/2}$ (pra $\\rho$ finito),\n",
    "\\begin{equation}\n",
    "\\frac{\\partial^{2}F}{\\partial\\rho^{2}} + \\left(\\frac{2}{\\rho}-1\\right)\\frac{\\partial F}{\\partial\\rho} + \\left(\\frac{\\gamma-1}{\\rho}-\\frac{l(l+1)}{\\rho^{2}}\\right)F=0. \\hspace{1cm} (\\diamondsuit)\n",
    "\\end{equation}"
   ]
  },
  {
   "cell_type": "markdown",
   "metadata": {},
   "source": [
    "Para resover essa eq. diferencial, vamos usar o método de resolução por série de potências de Frobenius. Para que $F(\\rho=0)$ seja finita mesmo havendo vários termos divergentes em $(\\diamondsuit)$, usamos\n",
    "\\begin{equation}\n",
    "F(\\rho) = \\rho^{s}\\sum_{j=0}^{\\infty}a_{j}\\rho^{j}=\\sum_{j=0}^{\\infty}a_{j}\\rho^{j+s},\n",
    "\\end{equation}\n",
    "com $s\\ge 0$. Usando\n",
    "\\begin{equation}\n",
    "\\frac{\\partial F}{\\partial\\rho} = \\sum_{j=0}^{\\infty}(j+s)a_{j}\\rho^{j+s-1}\n",
    "\\end{equation}\n",
    "e\n",
    "\\begin{equation}\n",
    "\\frac{\\partial^{2} F}{\\partial\\rho^{2}} = \\sum_{j=0}^{\\infty}(j+s)(j+s-1)a_{j}\\rho^{j+s-2}\n",
    "\\end{equation}"
   ]
  },
  {
   "cell_type": "markdown",
   "metadata": {},
   "source": [
    "em $(\\diamondsuit)$ obteremos\n",
    "\\begin{align}\n",
    "& \\sum_{j=0}^{\\infty}(j+s)(j+s-1)a_{j}\\rho^{j+s-2} + \\left(\\frac{2}{\\rho}-1\\right)\\sum_{j=0}^{\\infty}(j+s)a_{j}\\rho^{j+s-1} \\\\ \n",
    "&+ \\left(\\frac{\\gamma-1}{\\rho}-\\frac{l(l+1)}{\\rho^{2}}\\right)\\sum_{j=0}^{\\infty}a_{j}\\rho^{j+s}=0, \\\\\n",
    "& \\therefore \\sum_{j=0}^{\\infty}\\left((j+s)(j+s-1)+2(j+s)-l(l+1)\\right)a_{j}\\rho^{j+s-2} \\\\ \n",
    "& - \\sum_{j=0}^{\\infty}\\left(j+s+1-\\gamma\\right)a_{j}\\rho^{j+s-1}=0.\n",
    "\\end{align}\n",
    "Trocando de variável, $k=j-1\\therefore j=k+1$, teremos que\n",
    "\\begin{align}\n",
    "& \\sum_{j=0}^{\\infty}\\left((j+s)(j+s-1)+2(j+s)-l(l+1)\\right)a_{j}\\rho^{j+s-2} \\\\ \n",
    "& = \\sum_{k=-1}^{\\infty}\\left((k+1+s)(k+1+s-1)+2(k+1+s)-l(l+1)\\right)a_{k+1}\\rho^{k+1+s-2} \\\\\n",
    "& \\equiv \\sum_{j=-1}^{\\infty}\\left((j+s+1)(j+s+2)-l(l+1)\\right)a_{j+1}\\rho^{j+s-1} \\\\\n",
    "& = \\left(s(s+1)-l(l+1)\\right)a_{0}\\rho^{s-2} + \\sum_{j=0}^{\\infty}\\left((j+s+1)(j+s+2)-l(l+1)\\right)a_{j+1}\\rho^{j+s-1}.\n",
    "\\end{align}\n",
    "\n",
    "Por conseguinte\n",
    "\\begin{align}\n",
    "& 0=\\left(s(s+1)-l(l+1)\\right)a_{0}\\rho^{s-2}\\\\ \n",
    "& + \\sum_{j=0}^{\\infty}\\left(\\left((j+s+1)(j+s+2)-l(l+1)\\right)a_{j+1}-\\left(j+s+1-\\gamma\\right)a_{j}\\right)\\rho^{j+s-1},\n",
    "\\end{align}"
   ]
  },
  {
   "cell_type": "markdown",
   "metadata": {},
   "source": [
    "e todos os coeficientes devem ser nulos\n",
    "\\begin{align}\n",
    "& s(s+1)=l(l+1) \\therefore s=l \\text{ ou } s=-l-1, \\\\\n",
    "& a_{j+1} = \\frac{j+s+1-\\gamma}{(j+s+1)(j+s+2)-l(l+1)}a_{j} \\text{ pra } j=0,1,2,\\cdots.\n",
    "\\end{align}\n",
    "Lembrando, $l=0,1,2,\\cdots$. Por isso a solução para $s=-l-1$ não é aceitável pois $\\rho^{s}=\\rho^{-l-1}$ em $F(\\rho)=\\rho^{s}\\sum_{j=0}^{\\infty}a_{j}\\rho^{j}$ pode divergir quando $\\rho\\rightarrow 0$. Por conseguinte\n",
    "\\begin{equation}\n",
    "s=l.\n",
    "\\end{equation}\n",
    "Assim \n",
    "\\begin{equation}\n",
    "a_{j+1} = \\frac{j+l+1-\\gamma}{(j+l+1)(j+l+2)-l(l+1)}a_{j}=\\frac{j+l+1-\\gamma}{(j+l+1)(j+2)}a_{j}.\n",
    "\\end{equation}\n",
    "\n",
    "Para valores altos de $j$ teremos\n",
    "\\begin{equation}\n",
    "\\lim_{j\\gg 1}\\frac{a_{j+1}}{a_{j}} = \\lim_{j\\gg 1}\\frac{j+l+1-\\gamma}{(j+l+1)(j+l+2)-l(l+1)} \\approx \\frac{1}{j},\n",
    "\\end{equation}\n",
    "que é o mesmo comportamento que para $e^{\\rho^{2}}$. Por isso, para que $\\Omega(\\rho)=e^{-\\rho/2}F(\\rho)$ não divirja quando $\\rho\\rightarrow\\infty$, temos que truncar a série para $F(\\rho)=\\rho^{l}\\sum_{j=0}^{\\infty}a_{j}\\rho^{j}$. Fazemos isso impondo para algum $j=j_{\\max}=0,1,2,\\cdots$ devemos ter $a_{j_{\\max}+1}=0$, que é obtido fazendo-se\n",
    "\\begin{equation}\n",
    "\\gamma := j_{\\max}+l+1 =:n = 1,2,3,\\cdots.\n",
    "\\end{equation}\n",
    "Vale deixar registrado aqui que\n",
    "\\begin{equation}\n",
    "l < n \\therefore n=1,2,3,\\cdots \\text { e } l = 0,\\cdots,n-1.\n",
    "\\end{equation}"
   ]
  },
  {
   "cell_type": "markdown",
   "metadata": {},
   "source": [
    "### Quantização da energia\n",
    "Lembrando, $\\gamma = \\mu Ze^{2}/\\hbar^{2}4\\pi\\epsilon_{0}\\beta=n$ com $\\beta^{2} := -2\\mu E/\\hbar^{2}$. Assim as energias possíveis do átomo hidrogenóide são\n",
    "\\begin{equation}\n",
    "E = -\\frac{\\hbar^{2}\\beta^{2}}{2\\mu} = -\\frac{\\hbar^{2}}{2\\mu} \\frac{\\mu^{2}Z^{2}e^{4}}{\\hbar^{4}(4\\pi\\epsilon_{0})^{2}n^{2}} = -\\frac{\\mu Z^{2}e^{4}}{(4\\pi\\epsilon_{0})^{2}2\\hbar^{2}}\\frac{1}{n^{2}}\n",
    "\\end{equation}\n",
    "ou\n",
    "\\begin{equation}\n",
    "E_{n} = \\frac{E_{1}}{n^{2}},\n",
    "\\end{equation}\n",
    "com a energia do estado fundamental, que depende de $Z$ e de $\\mu$, sendo\n",
    "\\begin{equation}\n",
    "E_{1} = -\\frac{\\mu Z^{2}e^{4}}{(4\\pi\\epsilon_{0})^{2}2\\hbar^{2}}.\n",
    "\\end{equation}\n",
    "Essa eq. é idêntica àquela obtida por Bohr. Isso foi uma indicação forte de que a Mecânica Quântica Ondulatória de Schrödinger estava correta."
   ]
  },
  {
   "cell_type": "code",
   "execution_count": 19,
   "metadata": {},
   "outputs": [
    {
     "data": {
      "image/png": "[encoded data removed]",
      "text/plain": [
       "<matplotlib.figure.Figure at 0x7f8c34230898>"
      ]
     },
     "metadata": {},
     "output_type": "display_data"
    }
   ],
   "source": [
    "def bohr(Z,mu,n): # em eV\n",
    "    return (-((mu*Z**2*e**4*k**2)/(2*hb**2))/n**2)/e\n",
    "def bohr_ed(Z,mu,xmin,xmax):\n",
    "    plt.hlines(bohr(Z,mu,1),xmin,xmax,color='magenta')\n",
    "    plt.text(-0.15,bohr(Z,mu,1),'1',color='magenta'); plt.text(1.01,bohr(Z,mu,1),'%3.2f' % (bohr(Z,mu,1)),color='magenta')\n",
    "    plt.hlines(bohr(Z,mu,2),xmin,xmax,color='blue')\n",
    "    plt.text(-0.15,bohr(Z,mu,2),'2',color='blue'); plt.text(1.01,bohr(Z,mu,2),'%3.2f' % (bohr(Z,mu,2)),color='blue')\n",
    "    plt.hlines(bohr(Z,mu,3),xmin,xmax,color='cyan') \n",
    "    plt.text(-0.15,bohr(Z,mu,3),'3',color='cyan'); plt.text(1.01,bohr(Z,mu,3),'%3.2f' % (bohr(Z,mu,3)),color='cyan')\n",
    "    plt.hlines(bohr(Z,mu,4),xmin,xmax,color='green')\n",
    "    plt.text(-0.15,bohr(Z,mu,4),'4',color='green'); plt.text(1.01,bohr(Z,mu,4),'%3.2f' % (bohr(Z,mu,4)),color='green')\n",
    "    plt.hlines(bohr(Z,mu,5),xmin,xmax,color='gray'); plt.hlines(bohr(Z,mu,6),xmin,xmax,color='brown')\n",
    "    plt.hlines(bohr(Z,mu,7),xmin,xmax,color='brown'); plt.hlines(bohr(Z,mu,8),xmin,xmax,color='brown')\n",
    "    plt.hlines(bohr(Z,mu,9),xmin,xmax,color='gray'); plt.hlines(bohr(Z,mu,10),xmin,xmax,color='brown')\n",
    "    plt.hlines(bohr(Z,mu,11),xmin,xmax,color='brown')\n",
    "    plt.hlines(0,0,1,color='red')\n",
    "    plt.text(-0.15,0,r'$n=\\infty$',color='red'); plt.text(1.01,0.1,r'0 (eV)',color='red')\n",
    "    plt.xlim(0,2); plt.ylim(bohr(Z,mu,1)-0.1,0)\n",
    "    plt.annotate(\"\", xy=(0.5,bohr(Z,mu,1)), xytext=(0.5,bohr(Z,mu,2)), arrowprops=dict(arrowstyle=\"<->\"))\n",
    "    plt.text(0.51,(bohr(Z,mu,1)+bohr(Z,mu,2))/2,(c*heV)/(bohr(Z,mu,2)-bohr(Z,mu,1)))\n",
    "    plt.annotate(\"\", xy=(0.7,bohr(Z,mu,2)), xytext=(0.7,bohr(Z,mu,3)), arrowprops=dict(arrowstyle=\"<->\"))\n",
    "    plt.text(0.71,(bohr(Z,mu,2)+bohr(Z,mu,3))/2,(c*heV)/(bohr(Z,mu,3)-bohr(Z,mu,2))) # lambda em metros\n",
    "    plt.axis('off'); plt.show()\n",
    "Z=1; mu = me; bohr_ed(Z,mu,0,1)"
   ]
  },
  {
   "cell_type": "markdown",
   "metadata": {},
   "source": [
    "### Função de onda radial\n",
    "Temos que\n",
    "\\begin{equation}\n",
    "\\Omega_{n,l}(\\rho) = e^{-\\rho/2}F_{n,l}(\\rho).\n",
    "\\end{equation}\n",
    "E, usando as restrições obtidas acima, podemos escrever:\n",
    "\\begin{equation}\n",
    "F_{n,l}(\\rho) = \\sum_{j=0}^{n-l-1}a_{j}(n,l)\\rho^{j+l}\n",
    "\\end{equation}\n",
    "com\n",
    "\\begin{equation}\n",
    "a_{j+1}(n,l) = \\frac{j+l+1-n}{(j+l+1)(j+2)}a_{j}(n,l)\n",
    "\\end{equation}\n",
    "para $n=1,2,3,\\cdots$ e $l=0,1,\\cdots,n-1$.\n",
    "\n",
    "Para \n",
    "* $n=1$: <br>\n",
    "Nesse caso $l=0$ e $j=0$, e assim $a_{0+1}(1,0) = \\frac{0+0+1-1}{(0+0+1)(0+2)}a_{0}(1,0)$. Portanto $a_{j>1}(1,0)=0$ e\n",
    "\\begin{align}\n",
    "F_{1,0}(\\rho) &= a_{0}(1,0) \\equiv a_{0}.\n",
    "\\end{align}\n",
    "* $n=2$: <br>\n",
    "Nesse caso $l=0,1$ e \n",
    "\\begin{align}\n",
    "F_{2,0}(\\rho) &= \\sum_{j=0}^{2-0-1}a_{j}(2,0)\\rho^{j+0} =  a_{0}(2,0) + a_{1}(2,0)\\rho \\\\\n",
    "& = \\frac{a_{0}}{2}(2-\\rho)\n",
    "\\end{align}\n",
    "pois $a_{0}(2,0)\\equiv a_{0}$ e \n",
    "\\begin{equation}\n",
    "a_{1}(2,0)=a_{0+1}(2,0) = \\frac{0+0+1-2}{(0+0+1)(0+2)}a_{0}(2,0) = -\\frac{a_{0}}{2}.\n",
    "\\end{equation}\n",
    "Já\n",
    "\\begin{align}\n",
    "F_{2,1}(\\rho) & = \\sum_{j=0}^{2-1-1}a_{j}(2,1)\\rho^{j+1} = a_{0}(2,1)\\rho \\\\\n",
    "& = a_{0}\\rho.\n",
    "\\end{align}"
   ]
  },
  {
   "cell_type": "markdown",
   "metadata": {},
   "source": [
    "* $n=3$: <br>\n",
    "Aqui $l=0,1,2$. Temos que\n",
    "\\begin{align}\n",
    "F_{3,0}(\\rho) &= \\sum_{j=0}^{3-0-1}a_{j}(3,0)\\rho^{j+0} = a_{0}(3,0) + a_{1}(3,0)\\rho + a_{2}(3,0)\\rho^{2} \\\\\n",
    "& = \\frac{a_{0}}{6}\\left(6-6\\rho+\\rho^{2}\\right)\n",
    "\\end{align}\n",
    "pois\n",
    "\\begin{align}\n",
    "& a_{1}(3,0) = \\frac{0+0+1-3}{(0+0+1)(0+2)}a_{0}(3,0)=-a_{0}, \\\\\n",
    "& a_{2}(3,0) = \\frac{1+0+1-3}{(1+0+1)(1+2)}a_{1}(3,0) = \\frac{a_{0}}{6}.\n",
    "\\end{align}\n",
    "Já\n",
    "\\begin{align}\n",
    "F_{3,1}(\\rho) &= \\sum_{j=0}^{3-1-1}a_{j}(3,1)\\rho^{j+1} = a_{0}(3,1)\\rho + a_{1}(3,1)\\rho^{2} \\\\\n",
    "& = \\frac{a_{0}}{4}\\left(4\\rho-\\rho^{2}\\right)\n",
    "\\end{align}\n",
    "pois\n",
    "\\begin{equation}\n",
    "a_{1}(3,1) = \\frac{0+1+1-3}{(0+1+1)(0+2)}a_{0}(3,1)=-\\frac{a_{0}}{4}.\n",
    "\\end{equation}\n",
    "E finalmente\n",
    "\\begin{align}\n",
    "F_{3,2}(\\rho) &= \\sum_{j=0}^{3-2-1}a_{j}(3,2)\\rho^{j+2} = a_{0}(3,2)\\rho^{0+2}\\\\ \n",
    "& = a_{0}\\rho^{2}.\n",
    "\\end{align}"
   ]
  },
  {
   "cell_type": "markdown",
   "metadata": {},
   "source": [
    "Na sequência vamos \"verificar\" que a solução radial pode ser escrita em termos dos polinômios associados de Laguerre:\n",
    "\\begin{equation}\n",
    "\\Omega_{n,l}(\\rho) = e^{-\\rho/2}F_{n,l}(\\rho) = C_{n,l}e^{-\\rho/2}\\rho^{l}L_{n-l-1}^{2l+1}(\\rho)\n",
    "\\end{equation}\n",
    "com $C_{n,l}$ sendo uma constante e a _fórmula de Rodrigues_ para os __polinômios associados de Laguerre__ é:\n",
    "\\begin{equation}\n",
    "L_{n-l-1}^{2l+1}(\\rho) = \\frac{e^{\\rho}\\rho^{-(2l+1)}}{(n-l-1)!}\\frac{\\partial^{n-l-1}}{\\partial\\rho^{n-l-1}}\\left(e^{-\\rho}\\rho^{n+l}\\right).\n",
    "\\end{equation}\n",
    "Segue assim que\n",
    "* $n=1,l=0$:\n",
    "\\begin{equation}\n",
    "L_{1-0-1}^{2*0+1}(\\rho) = L_{0}^{1}(\\rho) = \\frac{e^{\\rho}\\rho^{-(2*0+1)}}{(1-0-1)!}\\frac{\\partial^{1-0-1}}{\\partial\\rho^{1-0-1}}\\left(e^{-\\rho}\\rho^{1+0}\\right) = 1.\n",
    "\\end{equation}\n",
    "Assim\n",
    "\\begin{equation}\n",
    "\\Omega_{1,0}(\\rho) = e^{-\\rho/2}F_{1,0}(\\rho) = e^{-\\rho/2}a_{0} = C_{1,0}e^{-\\rho/2}\\rho^{0}L_{0}^{1}(\\rho) =C_{1,0}e^{-\\rho/2},\n",
    "\\end{equation}\n",
    "com $C_{1,0}:=a_{0}$.\n",
    "\n",
    "* $n=2,l=0$:\n",
    "\\begin{align}\n",
    "L_{2-0-1}^{2*0+1}(\\rho) &= L_{1}^{1}(\\rho) = \\frac{e^{\\rho}\\rho^{-(2*0+1)}}{(2-0-1)!}\\frac{\\partial^{2-0-1}}{\\partial\\rho^{2-0-1}}\\left(e^{-\\rho}\\rho^{2+0}\\right) = \\frac{e^{\\rho}\\rho^{-1}}{1!}\\frac{\\partial^{1}}{\\partial\\rho^{1}}\\left(e^{-\\rho}\\rho^{2}\\right) \\\\\n",
    "& = \\frac{e^{\\rho}\\rho^{-1}}{1}\\left(-e^{-\\rho}\\rho^{2}+2e^{-\\rho}\\rho\\right) = 2-\\rho.\n",
    "\\end{align}\n",
    "Assim\n",
    "\\begin{equation}\n",
    "\\Omega_{2,0}(\\rho) = e^{-\\rho/2}F_{2,0}(\\rho) = e^{-\\rho/2}\\frac{a_{0}}{2}(2-\\rho) = C_{2,0}e^{-\\rho/2}L_{1}^{1}(\\rho)\n",
    "\\end{equation}\n",
    "com $C_{2,0}=a_{0}/2$."
   ]
  },
  {
   "cell_type": "markdown",
   "metadata": {},
   "source": [
    "* $n=2,l=1$\n",
    "\\begin{align}\n",
    "L_{2-1-1}^{2*1+1}(\\rho) &= L_{0}^{3}(\\rho) = \\frac{e^{\\rho}\\rho^{-(2*1+1)}}{(2-1-1)!}\\frac{\\partial^{2-1-1}}{\\partial\\rho^{2-1-1}}\\left(e^{-\\rho}\\rho^{2+1}\\right) \\\\ \n",
    "& = \\frac{e^{\\rho}\\rho^{-3}}{0!}\\frac{\\partial^{0}}{\\partial\\rho^{0}}\\left(e^{-\\rho}\\rho^{3}\\right) =1.\n",
    "\\end{align}\n",
    "Assim\n",
    "\\begin{equation}\n",
    "\\Omega_{2,1}(\\rho) = e^{-\\rho/2}F_{2,1}(\\rho) = e^{-\\rho/2}a_{0}\\rho = C_{2,0}e^{-\\rho/2}\\rho^{1}L_{0}^{3}(\\rho)\n",
    "\\end{equation}\n",
    "com $C_{2,1}=a_{0}$.\n",
    "\n",
    "* $n=3,l=0$\n",
    "\\begin{align}\n",
    "L_{3-0-1}^{2*0+1}(\\rho) &= L_{2}^{1}(\\rho) = \\frac{e^{\\rho}\\rho^{-(2*0+1)}}{(3-0-1)!}\\frac{\\partial^{3-0-1}}{\\partial\\rho^{3-0-1}}\\left(e^{-\\rho}\\rho^{3+0}\\right) = \\frac{e^{\\rho}\\rho^{-1}}{2!}\\frac{\\partial^{2}}{\\partial\\rho^{2}}\\left(e^{-\\rho}\\rho^{3}\\right) \\\\\n",
    "&  = \\frac{e^{\\rho}\\rho^{-1}}{2!}\\frac{\\partial}{\\partial\\rho}\\left(-e^{-\\rho}\\rho^{3}+3e^{-\\rho}\\rho^{2}\\right) = \\frac{e^{\\rho}\\rho^{-1}}{2!}\\left(e^{-\\rho}\\rho^{3}-3e^{-\\rho}\\rho^{2}-3e^{-\\rho}\\rho^{2}+6e^{-\\rho}\\rho\\right) \\\\\n",
    "& = \\frac{1}{2}\\left(\\rho^{2}-6\\rho+6\\right).\n",
    "\\end{align}\n",
    "Assim\n",
    "\\begin{equation}\n",
    "\\Omega_{3,0}(\\rho) = e^{-\\rho/2}F_{3,0}(\\rho) = e^{-\\rho/2}\\frac{a_{0}}{6}(6-6\\rho+\\rho^{2}) = C_{3,0}e^{-\\rho/2}\\rho^{0}L_{2}^{1}(\\rho)\n",
    "\\end{equation}\n",
    "com $C_{3,0}=a_{0}/3$."
   ]
  },
  {
   "cell_type": "markdown",
   "metadata": {},
   "source": [
    "* $n=3,l=1$\n",
    "\\begin{align}\n",
    "L_{3-1-1}^{2*1+1}(\\rho) & = L_{1}^{3}(\\rho) = \\frac{e^{\\rho}\\rho^{-(2*1+1)}}{(3-1-1)!}\\frac{\\partial^{3-1-1}}{\\partial\\rho^{3-1-1}}\\left(e^{-\\rho}\\rho^{3+1}\\right) = \\frac{e^{\\rho}\\rho^{-3}}{1!}\\frac{\\partial^{1}}{\\partial\\rho^{1}}\\left(e^{-\\rho}\\rho^{4}\\right) \\\\\n",
    "& = \\frac{e^{\\rho}\\rho^{-3}}{1}\\left(-e^{-\\rho}\\rho^{4}+4e^{-\\rho}\\rho^{3}\\right) = 4-\\rho.\n",
    "\\end{align}\n",
    "Assim\n",
    "\\begin{equation}\n",
    "\\Omega_{3,1}(\\rho) = e^{-\\rho/2}F_{3,1}(\\rho) = e^{-\\rho/2}\\frac{a_{0}}{4}(4\\rho-\\rho^{2}) = C_{3,1}e^{-\\rho/2}\\rho^{1}L_{1}^{3}(\\rho)\n",
    "\\end{equation}\n",
    "com $C_{3,1}=a_{0}/4$.\n",
    "\n",
    "* $n=3,l=2$\n",
    "\\begin{align}\n",
    "L_{3-2-1}^{2*2+1}(\\rho) &= L_{0}^{5}(\\rho) = \\frac{e^{\\rho}\\rho^{-(2*2+1)}}{(3-2-1)!}\\frac{\\partial^{3-2-1}}{\\partial\\rho^{3-2-1}}\\left(e^{-\\rho}\\rho^{3+2}\\right) \\\\\n",
    "&= \\frac{e^{\\rho}\\rho^{-5}}{0!}\\frac{\\partial^{0}}{\\partial\\rho^{0}}\\left(e^{-\\rho}\\rho^{5}\\right) =1.\n",
    "\\end{align}\n",
    "Assim\n",
    "\\begin{equation}\n",
    "\\Omega_{3,2}(\\rho) = e^{-\\rho/2}F_{3,2}(\\rho) = e^{-\\rho/2}a_{0}\\rho^{2} = C_{3,2}e^{-\\rho/2}\\rho^{2}L_{0}^{5}(\\rho)\n",
    "\\end{equation}\n",
    "com $C_{3,2}=a_{0}$."
   ]
  },
  {
   "cell_type": "code",
   "execution_count": 20,
   "metadata": {},
   "outputs": [],
   "source": [
    "# Polinômios associados de Laguerre\n",
    "def rodrigues_laguerre(j,k,x):\n",
    "    if j == 0:\n",
    "        return 1\n",
    "    rod = exp(-x)*x**(j+k)\n",
    "    for l in range(1,j+1):\n",
    "        rod = diff(rod,x)\n",
    "    return ((exp(x)*(x**(-k)))/(factorial(j)))*rod"
   ]
  },
  {
   "cell_type": "code",
   "execution_count": 21,
   "metadata": {},
   "outputs": [
    {
     "name": "stdout",
     "output_type": "stream",
     "text": [
      "n= 1 , l= 0 , L_0^1 = 1\n",
      "n= 2 , l= 0 , L_1^1 = -x + 2\n",
      "n= 2 , l= 1 , L_0^3 = 1\n",
      "n= 3 , l= 0 , L_2^1 = x**2/2 - 3*x + 3\n",
      "n= 3 , l= 1 , L_1^3 = -x + 4\n",
      "n= 3 , l= 2 , L_0^5 = 1\n",
      "n= 4 , l= 0 , L_3^1 = -x**3/6 + 2*x**2 - 6*x + 4\n",
      "n= 4 , l= 1 , L_2^3 = x**2/2 - 5*x + 10\n",
      "n= 4 , l= 2 , L_1^5 = -x + 6\n",
      "n= 4 , l= 3 , L_0^7 = 1\n",
      "n= 5 , l= 0 , L_4^1 = x**4/24 - 5*x**3/6 + 5*x**2 - 10*x + 5\n",
      "n= 5 , l= 1 , L_3^3 = -x**3/6 + 3*x**2 - 15*x + 20\n",
      "n= 5 , l= 2 , L_2^5 = x**2/2 - 7*x + 21\n",
      "n= 5 , l= 3 , L_1^7 = -x + 8\n",
      "n= 5 , l= 4 , L_0^9 = 1\n"
     ]
    }
   ],
   "source": [
    "x=symbols('x')\n",
    "for n in range(1,6):\n",
    "    for l in range(0,n):\n",
    "        j = n-l-1; k = 2*l+1\n",
    "        print('n=',n,', l=',l,', L_'+str(j)+'^'+str(k),'=',str(simplify(rodrigues_laguerre(j,k,x))))"
   ]
  },
  {
   "cell_type": "code",
   "execution_count": 22,
   "metadata": {},
   "outputs": [],
   "source": [
    "def laguerre_python(n,l,x): # Escreve o polinômio associado de Laguerre em um código Python\n",
    "    j = n-l-1; k = 2*l+1\n",
    "    f = open(\"laguerreP.py\",\"w\"); f.write(\"def laguerre(x):\\n\");\n",
    "    f.write(\"    return \"+str(simplify(rodrigues_laguerre(j,k,x)))); f.close()"
   ]
  },
  {
   "cell_type": "code",
   "execution_count": 35,
   "metadata": {},
   "outputs": [],
   "source": [
    "def plot_laguerreP(n,l):\n",
    "    import laguerreP; importlib.reload(laguerreP)\n",
    "    N = 300; xmin = 0; xmax = 10; dx = (xmax-xmin)/N; x = np.zeros(N+1); y = np.zeros(N+1)\n",
    "    for j in range(0,N+1):\n",
    "        x[j] = xmin + j*dx; y[j] = laguerreP.laguerre(x[j])\n",
    "    fig = plt.figure(figsize=(6,6)); plt.plot(x,y)\n",
    "    plt.xlabel(r'$x$'); plt.xlim(0,xmax)\n",
    "    ymin = np.amin(y); ymax = np.amax(y)\n",
    "    if ymin == ymax:\n",
    "        ymin = 0.5*ymax\n",
    "    plt.ylim(1.1*ymin,1.1*ymax)\n",
    "    plt.ylabel(r'$L_{n-l-1,2l+1}$',fontsize=12)\n",
    "    plt.annotate(r'$n=$'+str(n)+r',$l=$'+str(l), xy=(0.4*xmax,0.75*ymax), xytext=(0.4*xmax,0.75*ymax), fontsize=14)\n",
    "    plt.title('Polinômios associados de Laguerre')\n",
    "    plt.show()"
   ]
  },
  {
   "cell_type": "code",
   "execution_count": 36,
   "metadata": {},
   "outputs": [],
   "source": [
    "def plot_laguerre(n,l):\n",
    "    x = symbols('x'); laguerre_python(n,l,x); import laguerreP; importlib.reload(laguerreP); plot_laguerreP(n,l)\n",
    "#plot_laguerre(10,1)"
   ]
  },
  {
   "cell_type": "code",
   "execution_count": 37,
   "metadata": {},
   "outputs": [
    {
     "data": {
      "application/vnd.jupyter.widget-view+json": {
       "model_id": "18f34b0652744061851eef2cbb2d6d99",
       "version_major": 2,
       "version_minor": 0
      },
      "text/plain": [
       "interactive(children=(IntSlider(value=5, description='n', max=10, min=1), IntSlider(value=2, description='l', …"
      ]
     },
     "metadata": {},
     "output_type": "display_data"
    }
   ],
   "source": [
    "interactive(plot_laguerre,n=(1,10,1),l=(0,n-1,1))"
   ]
  },
  {
   "cell_type": "markdown",
   "metadata": {},
   "source": [
    "## Função de onda total\n",
    "A função de onda completa fica escrita como\n",
    "\\begin{equation}\n",
    "\\psi_{n,l,m_{l}}(r,\\theta,\\phi) = \\Omega_{n,l}(r)\\Theta_{l,m_{l}}(\\theta)\\Phi_{m_{l}}(\\phi)\n",
    "\\end{equation}\n",
    "com\n",
    "\\begin{align}\n",
    "& n = 1,2,3,\\cdots, \\\\\n",
    "& l = 0,1,2, \\cdots,n-1, \\\\\n",
    "& m_{l} = -l,-l+1,\\cdots,0,\\cdots,l-1,l.\n",
    "\\end{align}\n",
    "\n",
    "OBS. A energia $E_{n}=E_{1}/n^{2}$ de átomos hidrogenóides depende somente do número quântico principal $n$. Mas para cada valor de $n$, temos $n$ possíveis valores de $l$; e para cada valor de $l$, temos $2l+1$ possíveis valores de $m_{l}$. A __degenerescência da energia__ $E_{n}$ é, portanto, igual a $n^{2}$, \n",
    "\\begin{equation}\n",
    "d(E_{n})=n^{2},\n",
    "\\end{equation}\n",
    "ou seja, existem $n^{2}$ estados diferentes $\\psi_{n,l,m_{l}}(r,\\theta,\\phi)$ correspondentes a uma mesma energia $E_{n}$."
   ]
  },
  {
   "cell_type": "markdown",
   "metadata": {},
   "source": [
    "## Ortogonalidade e normalização das autofunções\n",
    "Vamos olhar para o produto interno entre duas autofunções de átomos hidrogenóides\n",
    "\\begin{align}\n",
    "\\langle\\psi_{n,l,m_{l}}|\\psi_{n',l',m_{l}'}\\rangle & = \\iiint \\psi_{n,l,m_{l}}(r,\\theta,\\phi)^{*}\\psi_{n',l',m_{l}'}(r,\\theta,\\phi)dV \\\\\n",
    "& = \\iiint \\Omega_{n,l}(r)^{*}\\Theta_{l,m_{l}}(\\theta)^{*}\\Phi_{m_{l}}(\\phi)^{*}\\Omega_{n',l'}(r)\\Theta_{l',m_{l}'}(\\theta)\\Phi_{m_{l}'}(\\phi)r^{2}\\sin\\theta dr d\\theta d\\phi \\\\\n",
    "& = \\int_{0}^{\\infty}\\Omega_{n,l}(r)^{*}\\Omega_{n',l'}(r)r^{2}dr\\int_{0}^{\\pi}\\Theta_{l,m_{l}}(\\theta)^{*}\\Theta_{l',m_{l}'}(\\theta)\\sin\\theta d\\theta\\int_{0}^{2\\pi}\\Phi_{m_{l}}(\\phi)^{*}\\Phi_{m_{l}'}(\\phi)d\\phi \\\\\n",
    "& = \\int_{0}^{\\infty}\\Omega_{n,l}(r)^{*}\\Omega_{n',l'}(r)r^{2}dr\\int_{0}^{\\pi}\\Theta_{l,m_{l}}(\\theta)^{*}\\Theta_{l',m_{l}}(\\theta)\\sin\\theta d\\theta 2\\pi\\delta_{m_{l}m_{l}'}\n",
    "\\end{align}\n",
    "pois $\\int_{0}^{2\\pi}\\Phi_{m_{l}}(\\phi)^{*}\\Phi_{m_{l}'}(\\phi)d\\phi=2\\pi\\delta_{m_{l}m_{l}'}$. Como $z=\\cos\\theta$, usando $\\sin\\theta=\\sqrt{1-z^{2}}$, $dz=-\\sin\\theta d\\theta$ e\n",
    "\\begin{equation}\n",
    "\\Theta_{l,m_{l}}(z) = \\frac{(1-z^{2})^{|m_{l}|/2}}{l!2^{l}}\\frac{\\partial^{|m_{l}|+l}(z^{2}-1)^{l}}{\\partial z^{|m_{l}|+l}},\n",
    "\\end{equation}\n",
    "escrevemos\n",
    "\\begin{align}\n",
    "I_{\\theta} & = \\int_{0}^{\\pi}\\Theta_{l,m_{l}}(\\theta)^{*}\\Theta_{l',m_{l}}(\\theta)\\sin\\theta d\\theta = \\int_{+1}^{-1}\\Theta_{l,m_{l}}(z)\\Theta_{l',m_{l}}(z)(-dz) \\\\\n",
    "& = \\frac{(-1)^{|m_{l}|}}{l!l'!2^{l+l'}}\\int_{-1}^{+1}(z^{2}-1)^{|m_{l}|}\\frac{\\partial^{|m_{l}|+l}(z^{2}-1)^{l}}{\\partial z^{|m_{l}|+l}}\\frac{\\partial^{|m_{l}|+l'}(z^{2}-1)^{l'}}{\\partial z^{|m_{l}|+l'}}dz \\\\\n",
    "& = \\frac{(-1)^{|m_{l}|}}{l!l'!2^{l+l'}}\\int_{-1}^{+1}Z^{|m_{l}|}\\frac{\\partial^{|m_{l}|+l}Z^{l}}{\\partial z^{|m_{l}|+l}}\\frac{\\partial^{|m_{l}|+l'}Z^{l'}}{\\partial z^{|m_{l}|+l'}}dz,\n",
    "\\end{align}"
   ]
  },
  {
   "cell_type": "markdown",
   "metadata": {},
   "source": [
    "com \n",
    "\\begin{equation}\n",
    "Z:=z^{2}-1.\n",
    "\\end{equation}\n",
    "\n",
    "Se integramos por partes com\n",
    "\\begin{equation}\n",
    "u=Z^{|m_{l}|}\\frac{\\partial^{|m_{l}|+l}Z^{l}}{\\partial z^{|m_{l}|+l}} \\text{ e } dv=\\frac{\\partial^{|m_{l}|+l'}Z^{l'}}{\\partial z^{|m_{l}|+l'}}dz,\n",
    "\\end{equation}\n",
    "teremos $v=\\int dv = \\int\\frac{\\partial^{|m_{l}|+l'}Z^{l'}}{\\partial z^{|m_{l}|+l'}}dz = \\int d\\left(\\frac{\\partial^{|m_{l}|+l'-1}Z^{l'}}{\\partial z^{|m_{l}|+l'-1}}\\right) = \\frac{\\partial^{|m_{l}|+l'-1}Z^{l'}}{\\partial z^{|m_{l}|+l'-1}}$ e\n",
    "\\begin{equation}\n",
    "\\left(uv\\right)_{-1}^{+1} = \\left(Z^{|m_{l}|}\\frac{\\partial^{|m_{l}|+l}Z^{l}}{\\partial z^{|m_{l}|+l}}\\frac{\\partial^{|m_{l}|+l'-1}Z^{l'}}{\\partial z^{|m_{l}|+l'-1}}\\right)_{-1}^{+1} = 0\n",
    "\\end{equation}\n",
    "pois $Z(-1)=Z(+1)=0$. Ademais $du=d\\left(Z^{|m_{l}|}\\frac{\\partial^{|m_{l}|+l}Z^{l}}{\\partial z^{|m_{l}|+l}}\\right) = \\frac{\\partial^{1}}{\\partial z^{1}}\\left(Z^{|m_{l}|}\\frac{\\partial^{|m_{l}|+l}Z^{l}}{\\partial z^{|m_{l}|+l}}\\right)dz$. Portanto\n",
    "\\begin{equation}\n",
    "I_{\\theta} = \\frac{(-1)^{|m_{l}|}}{l!l'!2^{l+l'}}\\left(0+(-1)^{1}\\int_{-1}^{+1}\\frac{\\partial^{|m_{l}|+l'-1}Z^{l'}}{\\partial z^{|m_{l}|+l'-1}}\\frac{\\partial^{1}}{\\partial z^{1}}\\left(Z^{|m_{l}|}\\frac{\\partial^{|m_{l}|+l}Z^{l}}{\\partial z^{|m_{l}|+l}}\\right)dz\\right)\n",
    "\\end{equation}\n",
    "\n",
    "\n",
    "Se integramos por partes $|m_{l}|+l'$ vezes obteremos por fim $v=Z^{l'}$ e $du=d^{|m_{l}|+l'}\\left(Z^{|m_{l}|}\\frac{\\partial^{|m_{l}|+l}Z^{l}}{\\partial z^{|m_{l}|+l}}\\right)$, e assim\n",
    "\\begin{equation}\n",
    "I_{\\theta} = \\frac{(-1)^{|m_{l}|}(-1)^{|m_{l}|+l'}}{l!l'!2^{l+l'}}\\int_{-1}^{+1}Z^{l'}\\frac{\\partial^{|m_{l}|+l'}}{\\partial z^{|m_{l}|+l'}}\\left(Z^{|m_{l}|}\\frac{\\partial^{|m_{l}|+l}Z^{l}}{\\partial z^{|m_{l}|+l}}\\right)dz.\n",
    "\\end{equation}\n",
    "OBS. O termo $\\left(uv\\right)_{-1}^{+1}$ continua sendo nulo para qualquer \"ordem\" da integração por partes pois termos proporcionais a $Z$ continuam aparecendo em $u$, como e.g. em $u=\\frac{\\partial^{1}}{\\partial z^{1}}\\left(Z^{|m_{l}|}\\frac{\\partial^{|m_{l}|+l}Z^{l}}{\\partial z^{|m_{l}|+l}}\\right)=|m_{l}|Z^{|m_{l}|-1}\\frac{\\partial^{|m_{l}|+l}Z^{l}}{\\partial z^{|m_{l}|+l}} + Z^{|m_{l}|}\\frac{\\partial^{|m_{l}|+l+1}Z^{l}}{\\partial z^{|m_{l}|+l+1}}$.\n",
    "\n",
    "Agora, fazendo uso da _regra de Leibniz_:\n",
    "\\begin{equation}\n",
    "\\frac{\\partial^{k}(f(z)g(z))}{\\partial z^{k}} = \\sum_{j=0}^{k}\\binom{k}{j}\\frac{\\partial^{k-j}f(z)}{\\partial z^{k-j}}\\frac{\\partial^{j}g(z)}{\\partial z^{j}},\n",
    "\\end{equation}\n",
    "com $\\binom{k}{j}=k!/(j!(k-j)!)$, escrevemos as derivadas no integrando como\n",
    "\\begin{equation}\n",
    "\\frac{\\partial^{|m_{l}|+l'}}{\\partial z^{|m_{l}|+l'}}\\left(Z^{|m_{l}|}\\frac{\\partial^{|m_{l}|+l}Z^{l}}{\\partial z^{|m_{l}|+l}}\\right) = \\sum_{j=0}^{|m_{l}|+l'}\\binom{|m_{l}|+l'}{j}\\frac{\\partial^{|m_{l}|+l'-j}Z^{|m_{l}|}}{\\partial z^{|m_{l}|+l'-j}}\\frac{\\partial^{|m_{l}|+l+j}Z^{l}}{\\partial z^{|m_{l}|+l+j}}.\n",
    "\\end{equation}"
   ]
  },
  {
   "cell_type": "markdown",
   "metadata": {},
   "source": [
    "Como $Z^{|m_{l}|}=(z^{2}-1)^{|m_{l}|} = z^{2|m_{l}|}+c_{2|m_{l}|-2}z^{2|m_{l}|-2}+\\cdots$, para que $I_{\\theta}$ não seja nula por causa das derivadas, devemos ter que\n",
    "\\begin{equation}\n",
    "|m_{l}|+l'-j \\le 2|m_{l}|.\n",
    "\\end{equation}\n",
    "Do mesmo modo, como $Z^{l}=(z^{2}-1)^{l} = z^{2l}+c_{2l-1}z^{2l-1}+\\cdots$, devemos ter\n",
    "\\begin{equation}\n",
    "|m_{l}|+l+j \\le 2l.\n",
    "\\end{equation}\n",
    "Somando essas duas equações obtemos que\n",
    "\\begin{equation}\n",
    "l'\\le l.\n",
    "\\end{equation}\n",
    "No entanto, se mudamos a definição de $u$ e $dv$ na integração por partes, a 'simetria' dos labels $l$ e $l'$ se manifestará e teremos que\n",
    "\\begin{equation}\n",
    "l'\\ge l.\n",
    "\\end{equation}\n",
    "Por conseguinte, como a única maneira de satisfazer as duas condições é com $l=l'$, teremos que\n",
    "\\begin{equation}\n",
    "l\\ne l'\\Rightarrow I_{\\theta}=0.\n",
    "\\end{equation}\n",
    "\n",
    "Para $l=l'$, das igualdades acima temos que o único termo que sobra da fórmula de Leibniz é para $j=l-|m_{l}|$:\n",
    "\\begin{equation}\n",
    "l=l' \\Rightarrow j=l-|m_{l}|.\n",
    "\\end{equation}\n",
    "Assim, substituindo esses resultados na integral vem que\n",
    "\\begin{align}\n",
    "I_{\\theta} & = \\frac{(-1)^{|m_{l}|}(-1)^{|m_{l}|+l'}}{l!l'!2^{l+l'}}\\int_{-1}^{+1}Z^{l'}\\sum_{j=0}^{|m_{l}|+l'}\\binom{|m_{l}|+l'}{j}\\frac{\\partial^{|m_{l}|+l'-j}Z^{|m_{l}|}}{\\partial z^{|m_{l}|+l'-j}}\\frac{\\partial^{|m_{l}|+l+j}Z^{l}}{\\partial z^{|m_{l}|+l+j}}dz \\\\\n",
    "&= \\delta_{l,l'}\\frac{(-1)^{|m_{l}|}(-1)^{|m_{l}|+l}}{l!l!2^{2l}}\\int_{-1}^{+1}Z^{l}\\binom{|m_{l}|+l}{l-|m_{l}|}\\frac{\\partial^{|m_{l}|+l-l+|m_{l}|}Z^{|m_{l}|}}{\\partial z^{|m_{l}|+l-l+|m_{l}|}}\\frac{\\partial^{|m_{l}|+l+l-|m_{l}|}Z^{l}}{\\partial z^{|m_{l}|+l+l-|m_{l}|}}dz \\\\\n",
    "&= \\delta_{l,l'}\\frac{(-1)^{2|m_{l}|+l}(l+|m_{l}|)!}{(l!)^{2}2^{2l}(l-|m_{l}|)!(2|m_{l}|)!}\\int_{-1}^{+1}Z^{l}\\frac{\\partial^{2|m_{l}|}Z^{|m_{l}|}}{\\partial z^{2|m_{l}|}}\\frac{\\partial^{2l}Z^{l}}{\\partial z^{2l}}dz.\n",
    "\\end{align}"
   ]
  },
  {
   "cell_type": "markdown",
   "metadata": {},
   "source": [
    "Como\n",
    "\\begin{align}\n",
    "\\frac{\\partial^{2|m_{l}|}Z^{|m_{l}|}}{\\partial z^{2|m_{l}|}} & = \\frac{\\partial^{2|m_{l}|}(z^{2}-1)^{|m_{l}|}}{\\partial z^{2|m_{l}|}} = \\frac{\\partial^{2|m_{l}|}}{\\partial z^{2|m_{l}|}}\\left(z^{2|m_{l}|}+c_{2|m_{l}|-2}z^{2|m_{l}|-2}+\\cdots\\right) \\\\\n",
    "& = \\frac{\\partial^{2|m_{l}|}z^{2|m_{l}|}}{\\partial z^{2|m_{l}|}}+0+\\cdots+0 = (2|m_{l}|)!,\n",
    "\\end{align}\n",
    "e, analogamente, $\\frac{\\partial^{2l}Z^{l}}{\\partial z^{2l}}=(2l)!$, vem que\n",
    "\\begin{equation}\n",
    "I_{\\theta} = \\delta_{l,l'}\\frac{(-1)^{2|m_{l}|+l}(l+|m_{l}|)!}{(l!)^{2}2^{2l}(l-|m_{l}|)!(2|m_{l}|)!}(2|m_{l}|)!(2l)!\\int_{-1}^{+1}Z^{l}dz.\n",
    "\\end{equation}\n",
    "\n",
    "A integral, que é resolvida usando a função beta descrita na sequência, é\n",
    "\\begin{align}\n",
    "\\int_{-1}^{+1}Z^{l}dz &=  \\int_{-1}^{+1}(z^{2}-1)^{l}dz = \\int_{0}^{\\pi}(\\cos^{2}\\theta-1)^{l}\\sin\\theta d\\theta \\\\ \n",
    "& = \\int_{0}^{\\pi}(-\\sin^{2}\\theta)^{l}\\sin\\theta d\\theta = (-1)^{l}\\int_{0}^{\\pi}\\sin^{2l+1}\\theta d\\theta \\\\\n",
    "& = (-1)^{l}2\\int_{0}^{\\pi/2}\\sin^{2l+1}\\theta d\\theta = (-1)^{l}2\\int_{0}^{\\pi/2}(\\cos\\theta)^{2(-1/2)+1}(\\sin\\theta)^{2l+1}d\\theta \\\\\n",
    "& = (-1)^{l}\\frac{(-1/2)!l!}{(-1/2+l+1)!} = (-1)^{l}\\frac{(-1/2)!l!}{(l+1/2)!} = (-1)^{l}\\frac{2^{2l+1}l!l!}{(2l+1)!}.\n",
    "\\end{align}\n",
    "\n",
    "Temos finalmente que\n",
    "\\begin{align}\n",
    "I_{\\theta} &= \\delta_{l,l'}\\frac{(-1)^{2|m_{l}|+l}(l+|m_{l}|)!}{(l!)^{2}2^{2l}(l-|m_{l}|)!}(2l)!(-1)^{l}\\frac{2^{2l+1}l!l!}{(2l+1)!} \\\\ \n",
    "& = \\delta_{l,l'}\\frac{(-1)^{2(|m_{l}|+l)}(l+|m_{l}|)!}{(l-|m_{l}|)!}(2l)!2\\frac{1}{(2l+1)(2l)!} \\\\\n",
    "& = \\delta_{l,l'}\\frac{2}{2l+1}\\frac{(l+|m_{l}|)!}{(l-|m_{l}|)!}.\n",
    "\\end{align}"
   ]
  },
  {
   "cell_type": "markdown",
   "metadata": {},
   "source": [
    "### Função beta\n",
    "Lembrando, nas aula sobre radiação de corpo negro, usamos a função gama generalizada $\\Gamma_{m}(n)=\\int_{0}^{\\infty}x^{n-1}e^{-mx}dx=(n-1)!/m^{n}$ para obter a lei de Stefan-Boltzmann $U_{T}=\\sigma T^{4}$. Aqui, vamos fazer uso da função gama $\\Gamma(n)=\\Gamma_{1}(n)=(n-1)!$ para escrever (para $j,k>-1$)\n",
    "\\begin{equation}\n",
    "\\Gamma(j+1)\\Gamma(k+1)=j!k! = \\int_{0}^{\\infty}u^{j}e^{-u}du\\int_{0}^{\\infty}v^{k}e^{-v}dv.\n",
    "\\end{equation}\n",
    "\n",
    "Fazendo as mudanças de variável $u=x^{2}$ e $v=y^{2}$ podemos escrever\n",
    "\\begin{align}\n",
    "j!k! &= \\int_{0}^{\\infty}x^{2j}e^{-x^{2}}2xdx\\int_{0}^{\\infty}y^{2k}e^{-y^{2}}2ydy \\\\\n",
    "&= 4\\int_{0}^{\\infty}\\int_{0}^{\\infty}x^{2j+1}y^{2k+1}e^{-(x^{2}+y^{2})}dxdy.\n",
    "\\end{align}\n",
    "\n",
    "Passando para coordenadas polares, $x=r\\cos\\theta$ e $y=r\\sin\\theta$ com $r\\in[0,\\infty)$ e $\\theta\\in[0,\\pi/2]$, teremos\n",
    "\\begin{align}\n",
    "j!k! &= 4\\int_{0}^{\\infty}\\int_{0}^{\\pi/2}(r\\cos\\theta)^{2j+1}(r\\sin\\theta)^{2k+1}e^{-r^{2}}rd\\theta dr \\\\\n",
    "&= 4\\int_{0}^{\\infty}r^{2j+2k+3}e^{-r^{2}}dr\\int_{0}^{\\pi/2}(\\cos\\theta)^{2j+1}(\\sin\\theta)^{2k+1}d\\theta \\\\\n",
    "&= (j+k+1)!2\\int_{0}^{\\pi/2}(\\cos\\theta)^{2j+1}(\\sin\\theta)^{2k+1}d\\theta,\n",
    "\\end{align}\n",
    "em que a integral foi resolvida usando o exercício 20. Temos assim a __função beta__:\n",
    "\\begin{equation}\n",
    "B(j+1,k+1) := 2\\int_{0}^{\\pi/2}(\\cos\\theta)^{2j+1}(\\sin\\theta)^{2k+1}d\\theta = \\frac{j!k!}{(j+k+1)!}\n",
    "\\end{equation}\n",
    "ou, de forma equivalente,\n",
    "\\begin{equation}\n",
    "B(j,k) = \\frac{\\Gamma(j)\\Gamma(k)}{\\Gamma(j+k)}.\n",
    "\\end{equation}"
   ]
  },
  {
   "cell_type": "markdown",
   "metadata": {},
   "source": [
    "Com a mudança de variável $t=\\cos^{2}\\theta \\therefore dt=-2\\cos\\theta\\sin\\theta d\\theta$, obtemos:\n",
    "\\begin{align}\n",
    "B(j+1,k+1) & = \\frac{j!k!}{(j+k+1)! }= 2\\int_{1}^{0}t^{j}\\cos\\theta(1-t)^{k}\\sin\\theta \\frac{dt}{-2\\cos\\theta\\sin\\theta} \\\\\n",
    "&= \\int_{0}^{1}t^{j}(1-t)^{k}dt = 2\\int_{0}^{1}x^{2j+1}(1-x^{2})^{k}dx,\n",
    "\\end{align}\n",
    "em que na última igualdade fizemos a mudança de variável $x^{2}=t\\therefore 2xdx=dt$.\n",
    "\n",
    "Agora, vamos considerar $j=k$ e fazer outra troca de variável, $s=2t-1\\therefore ds=2dt$. Substituindo na penúltima igualdade da última equação, obteremos\n",
    "\\begin{align}\n",
    "\\frac{k!k!}{(2k+1)!} &= \\int_{-1}^{1}\\left(\\frac{1+s}{2}\\right)^{k}\\left(\\frac{1-s}{2}\\right)^{k}\\frac{ds}{2} = \\frac{1}{2^{2k+1}}\\int_{-1}^{1}\\left((1-s)(1+s)\\right)^{k}ds \\\\ \n",
    "& = \\frac{1}{2^{2k+1}}2\\int_{0}^{1}\\left(1-s^{2}\\right)^{k}ds = \\frac{1}{2^{2k+1}}2\\int_{0}^{1}s^{2(-1/2)+1}\\left(1-s^{2}\\right)^{k}ds \\\\\n",
    "& = \\frac{1}{2^{2k+1}}\\frac{(-1/2)!k!}{(-1/2+k+1)!} = \\frac{1}{2^{2k+1}}\\frac{(-1/2)!k!}{(k+1/2)!}.\n",
    "\\end{align}\n",
    "Nas últimas passagens usamos a paridade do integrando e a última igualdade da penúltima equação."
   ]
  },
  {
   "cell_type": "markdown",
   "metadata": {},
   "source": [
    "### Voltando para a ortogonalidade das autofunções:\n",
    "\\begin{align}\n",
    "\\langle\\psi_{n,l,m_{l}}|\\psi_{n',l',m_{l}'}\\rangle & = \\int_{0}^{\\infty}\\Omega_{n,l}(r)^{*}\\Omega_{n',l'}(r)r^{2}dr\\delta_{l,l'}\\frac{2}{2l+1}\\frac{(l+|m_{l}|)!}{(l-|m_{l}|)!} 2\\pi\\delta_{m_{l}m_{l}'} \\\\\n",
    "& = I_{r}\\frac{4\\pi}{2l+1}\\frac{(l+|m_{l}|)!}{(l-|m_{l}|)!}\\delta_{l,l'}\\delta_{m_{l}m_{l}'}.\n",
    "\\end{align}\n",
    "\n",
    "Usando \n",
    "\\begin{equation}\n",
    "\\rho=2\\beta r \\therefore d\\rho=2\\beta dr \\text{ e } \\Omega_{n,l}(\\rho) = C_{n,l}e^{-\\rho/2}\\rho^{l}L_{n-l-1}^{2l+1}(\\rho),\n",
    "\\end{equation}\n",
    "podemos escrever\n",
    "\\begin{align}\n",
    "I_{r} & = \\int_{0}^{\\infty}\\Omega_{n,l}(r)\\Omega_{n',l}(r)r^{2}dr \\\\ \n",
    "& = \\int_{0}^{\\infty}C_{n,l}e^{-\\rho/2}\\rho^{l}L_{n-l-1}^{2l+1}(\\rho)C_{n',l}e^{-\\rho/2}\\rho^{l}L_{n'-l-1}^{2l+1}(\\rho)\\frac{\\rho^{2}}{4\\beta^{2}}\\frac{d\\rho}{2\\beta} \\\\\n",
    "& = \\frac{C_{n,l}^{*}C_{n',l}}{8\\beta^{3}}\\int_{0}^{\\infty} e^{-\\rho}\\rho^{2l+2}L_{n-l-1}^{2l+1}(\\rho)L_{n'-l-1}^{2l+1}(\\rho)d\\rho \\\\\n",
    "& = \\frac{C_{n,l}^{*}C_{n',l}}{8\\beta^{3}}\\int_{0}^{\\infty} e^{-\\rho}\\rho^{k}\\rho L_{j}^{k}(\\rho)L_{j'}^{k}(\\rho)d\\rho,\n",
    "\\end{align}\n",
    "com \n",
    "\\begin{equation}\n",
    "k:=2l+1\\text{, } j=n-l-1 \\text{ e } j'=n'-l-1.\n",
    "\\end{equation}"
   ]
  },
  {
   "cell_type": "markdown",
   "metadata": {},
   "source": [
    "Seguindo, faremos uso da relação [Ref. 14, eq. 13.75]:\n",
    "\\begin{equation}\n",
    "\\rho L_{j}^{k}(\\rho) = (2j+k+1)L_{j}^{k}(\\rho) - (j+1)L_{j+1}^{k}(\\rho) - (j+k)L_{j-1}^{k}(\\rho)\n",
    "\\end{equation}\n",
    "para escrever\n",
    "\\begin{align}\n",
    "\\frac{8\\beta^{3}}{C_{n,l}^{*}C_{n',l}}I_{r} & = (2j+k+1)\\int_{0}^{\\infty} e^{-\\rho}\\rho^{k}L_{j}^{k}(\\rho)L_{j'}^{k}(\\rho)d\\rho \\\\\n",
    "& \\hspace{0.5cm} -(j+1)\\int_{0}^{\\infty} e^{-\\rho}\\rho^{k}L_{j+1}^{k}(\\rho)L_{j'}^{k}(\\rho)d\\rho \\\\\n",
    "& \\hspace{0.5cm} -(j+k)\\int_{0}^{\\infty} e^{-\\rho}\\rho^{k}L_{j-1}^{k}(\\rho)L_{j'}^{k}(\\rho)d\\rho. \\hspace{0.5cm} (\\spadesuit)\n",
    "\\end{align}"
   ]
  },
  {
   "cell_type": "markdown",
   "metadata": {},
   "source": [
    "Agora, vamos verificar a relação de ortogonalidade dos polinômios associados de Laguerre:\n",
    "\\begin{equation}\n",
    "\\int_{0}^{\\infty}e^{-\\rho}\\rho^{k}L_{j}^{k}(\\rho)L_{j'}^{k}(\\rho)d\\rho = \\frac{(j+k)!}{j!}\\delta_{j,j'}. \\hspace{0.5cm} (\\clubsuit)\n",
    "\\end{equation}\n",
    "\n",
    "Tomando a função geradora [Ref. 14, eq. 13.73]\n",
    "\\begin{equation}\n",
    "G(\\rho,t) = \\frac{e^{-\\rho t/(1-t)}}{(1-t)^{1+k}}=\\sum_{j=0}^{\\infty}L_{j}^{k}(\\rho)t^{j},\n",
    "\\end{equation}\n",
    "vamos olhar para a integral\n",
    "\\begin{align}\n",
    "I & = \\int_{0}^{\\infty} \\rho^{k}e^{-\\rho}G(\\rho,t)G(\\rho,s)d\\rho \\\\\n",
    "& = \\int_{0}^{\\infty}\\rho^{k}e^{-\\rho}\\frac{e^{-\\rho t/(1-t)}}{(1-t)^{1+k}}\\frac{e^{-\\rho s/(1-s)}}{(1-s)^{1+k}}d\\rho \\\\\n",
    "& = \\int_{0}^{\\infty} \\rho^{k}\\frac{e^{-A\\rho}}{((1-t)(1-s))^{1+k}}d\\rho \\\\\n",
    "& = \\int_{0}^{\\infty} \\rho^{k}e^{-\\rho}\\sum_{j=0}^{\\infty}L_{j}^{k}(\\rho)t^{j}\\sum_{j'=0}^{\\infty}L_{j'}^{k}(\\rho)s^{j'}d\\rho \\\\\n",
    "& = \\sum_{j,j'=0}^{\\infty}t^{j}s^{j'}\\int_{0}^{\\infty} \\rho^{k}e^{-\\rho}L_{j}^{k}(\\rho)L_{j'}^{k}(\\rho)d\\rho,\n",
    "\\end{align}\n",
    "com\n",
    "\\begin{align}\n",
    "A & := 1+\\frac{t}{1-t}+\\frac{s}{1-s} = \\frac{(1-t)(1-s)+t(1-s)+s(1-t)}{(1-t)(1-s)} \\\\\n",
    "& = \\frac{1-ts}{(1-t)(1-s)}.\n",
    "\\end{align}"
   ]
  },
  {
   "cell_type": "markdown",
   "metadata": {},
   "source": [
    "Agora fazemos a mudança de variável $y = A\\rho$ para obter\n",
    "\\begin{align}\n",
    "I & = \\int_{0}^{\\infty} \\frac{y^{k}}{A^{k}}\\frac{e^{-y}}{((1-t)(1-s)^{1+k}}\\frac{dy}{A} \\\\\n",
    "& = \\frac{1}{(1-ts)^{k+1}}\\int_{0}^{\\infty}y^{k}e^{-y}dy = \\frac{1}{(1-ts)^{k+1}}\\Gamma(k+1) \\\\\n",
    "& = \\sum_{j=0}^{\\infty}\\binom{j+k}{j}(st)^{j} k! = \\sum_{j=0}^{\\infty}\\frac{(j+k)!}{k!j!}(st)^{j} k! \\\\\n",
    "& = \\sum_{j=0}^{\\infty}\\frac{(j+k)!}{j!}s^{j}t^{j} = \\sum_{j,j'=0}^{\\infty}t^{j}s^{j'}\\frac{(j+k)!}{j!}\\delta_{j,j'}.\n",
    "\\end{align}\n",
    "Acima usamos a série binomial $\\frac{1}{(1-z)^{\\beta+1}}=\\sum_{j=0}^{\\infty}\\binom{j+\\beta}{j}z^{j}$. Finalmente, impondo a igualdade dos coeficientes das potências de $s$ e $t$ nas últimas igualdades nas duas equações para $I$, teremos a relação de ortogonalidade ($\\clubsuit$).\n",
    "\n",
    "Substituindo a relação de ortogonalidade  ($\\clubsuit$) em $(\\spadesuit)$, obteremos\n",
    "\\begin{align}\n",
    "\\frac{8\\beta^{3}}{C_{n,l}^{*}C_{n',l}}I_{r} & = (2j+k+1)\\frac{(j+k)!}{j!}\\delta_{j,j'}  \\hspace{5.5cm} (\\spadesuit\\spadesuit) \\\\\n",
    "& \\hspace{0.5cm} -(j+1)\\frac{(j+1+k)!}{(j+1)!}\\delta_{j+1,j'} -(j+k)\\frac{(j-1+k)!}{(j-1)!}\\delta_{j-1,j'}.\n",
    "\\end{align}"
   ]
  },
  {
   "cell_type": "markdown",
   "metadata": {},
   "source": [
    "Consideremos separadamente os casos $n=n'$ e $n\\ne n'$:\n",
    "* $n=n'\\therefore j=j'\\therefore \\delta_{j+1,j'}=\\delta_{j-1,j'}=0$ e, substituindo $k=2l+1$ e $j=n-l-1$, vem que\n",
    "\\begin{align}\n",
    "I_{r}(n=n') & = \\frac{|c_{n,l}|^{2}}{8\\beta^{3}}(2j+k+1)\\frac{(j+k)!}{j!} \\\\\n",
    "& = \\frac{|c_{n,l}|^{2}}{8\\beta^{3}}(2(n-l-1)+2l+1+1)\\frac{(n-l-1+2l+1)!}{(n-l-1)!} \\\\\n",
    "& = \\frac{|c_{n,l}|^{2}}{8\\beta^{3}}2n\\frac{(n+l)!}{(n-l-1)!}.\n",
    "\\end{align}\n",
    "Assim\n",
    "\\begin{align}\n",
    "& \\langle\\psi_{n,l,m_{l}}|\\psi_{n,l,m_{l}}\\rangle = 1 \\\\\n",
    "& =\\frac{|c_{n,l}|^{2}}{8\\beta^{3}}2n\\frac{(n+l)!}{(n-l-1)!}\\frac{4\\pi}{2l+1}\\frac{(l+|m_{l}|)!}{(l-|m_{l}|)!}\n",
    "\\end{align}\n",
    "e, desconsiderando a fase da constante de normalização, obtemos\n",
    "\\begin{equation}\n",
    "C_{n,l} = \\sqrt{8\\beta^{3}\\frac{(n-l-1)!}{(n+l)!2n}}\\sqrt{\\frac{2l+1}{4\\pi}\\frac{(l-|m_{l}|)!}{(l+|m_{l}|)!}}\n",
    "\\end{equation}\n",
    "\n",
    "Usando o raio de Bohr $a_{0}:= \\hbar^{2}/\\mu ke^{2}$ e a energia $E=-(\\mu k^{2}Z^{2}e^{4})/(2\\hbar^{2}n^{2})$, com $k=1/4\\pi\\epsilon_{0}$, escrevemos\n",
    "\\begin{equation}\n",
    "\\beta = \\sqrt{\\frac{-2\\mu E}{\\hbar^{2}}} = \\sqrt{\\frac{2\\mu}{\\hbar^{2}}\\frac{\\mu k^{2}Z^{2}e^{4}}{2\\hbar^{2}n^{2}}} = \\frac{Z\\mu k e^{2}}{\\hbar^{2}n} = \\frac{Z}{a_{0}n}.\n",
    "\\end{equation}"
   ]
  },
  {
   "cell_type": "markdown",
   "metadata": {},
   "source": [
    "Assim, usando $\\rho=2\\beta r= 2Zr/a_{0}n$ e $z=\\cos\\theta$ teremos as funções de onda de átomos hidrogenóides:\n",
    "\\begin{align}\n",
    "\\color{blue}{\\psi_{n,l,m_{l}}(r,\\theta,\\phi)} & = \\Omega_{n,l}(\\rho)\\Theta_{l,m_{l}}(z)\\Phi_{m_{l}}(\\phi) \\\\\n",
    "& = C_{n,l}e^{-\\rho/2}\\rho^{l}L_{n-l-1}^{2l+1}(\\rho)(1-z^{2})^{|m_{l}|/2}\\frac{\\partial^{|m_{l}|}P_{l}(z)}{\\partial z^{|m_{l}|}}e^{im_{l}\\phi} \\\\\n",
    "& \\color{blue}{= \\sqrt{\\left(\\frac{2Z}{a_{0}n}\\right)^{3}\\frac{(n-l-1)!}{(n+l)!2n}}e^{-Zr/a_{0}n}\\left(\\frac{2Zr}{a_{0}n}\\right)^{l}L_{n-l-1}^{2l+1}\\left(\\frac{2Zr}{a_{0}n}\\right)\\sqrt{\\frac{2l+1}{4\\pi}\\frac{(l-|m_{l}|)!}{(l+|m_{l}|)!}}(\\sin\\theta)^{|m_{l}|}\\frac{\\partial^{|m_{l}|}P_{l}(\\cos\\theta)}{\\partial z^{|m_{l}|}}e^{im_{l}\\phi}},\n",
    "\\end{align}\n",
    "com $L_{j}^{k}(x)=(e^{x}x^{-k}/j!)\\partial_{x^{j}}(e^{-x}x^{j+k})$ e $P_{l}(z)=(1/l!2^{l})\\partial_{z^{l}}(z^{2}-1)^{l}$."
   ]
  },
  {
   "cell_type": "markdown",
   "metadata": {},
   "source": [
    "* $n\\ne n'\\therefore j\\ne j'$\n",
    "\n",
    "voltaremos, algum dia"
   ]
  },
  {
   "cell_type": "markdown",
   "metadata": {},
   "source": [
    "## Densidade de probabilidade\n",
    "\\begin{equation}\n",
    "|\\psi_{n,l,m_{l}}(r,\\theta,\\phi)|^{2} = |\\Omega_{n,l}(r)|^{2}|\\Theta_{l,m_{l}}(\\theta)|^{2}|\\Phi_{m_{l}}(\\phi)|^{2}.\n",
    "\\end{equation}"
   ]
  },
  {
   "cell_type": "code",
   "execution_count": 104,
   "metadata": {},
   "outputs": [],
   "source": [
    "def psi(n,l,ml,Z,mu,a0,r,th,ph):\n",
    "    Psi = sqrt(((2*Z)/(a0*n))**3*(factorial(n-l-1)/(factorial(n+l)*2*n)))\n",
    "    Psi *= sqrt(((2*l+1)/(4*pi))*(factorial(l-abs(ml))/factorial(l+abs(ml))))\n",
    "    Psi *= exp(-(Z*r)/(a0*n))*((2*Z*r)/(a0*n))**l\n",
    "    j = n-l-1; k = 2*l+1#; x = (2*Z*r)/(a0*n); \n",
    "    x = symbols('x'); Psi *= rodrigues_laguerre(j,k,x)\n",
    "    Psi *= (sin(th)**(abs(ml)))\n",
    "    z = symbols('z'); Psi *= legendre_associada(l,ml,z)\n",
    "    Psi *= (cos(ml*ph) + 1j*sin(ml*ph))\n",
    "    return Psi"
   ]
  },
  {
   "cell_type": "code",
   "execution_count": 105,
   "metadata": {},
   "outputs": [
    {
     "data": {
      "image/png": "[encoded data removed]",
      "text/latex": [
       "$$\\frac{\\sqrt{\\frac{Z^{3}}{a_{0}^{3}}}}{\\sqrt{\\pi}} e^{- \\frac{Z r}{a_{0}}}$$"
      ],
      "text/plain": [
       "      ________  -Z⋅r \n",
       "     ╱    3     ─────\n",
       "    ╱    Z      a_{0}\n",
       "   ╱   ────── ⋅ℯ     \n",
       "  ╱         3        \n",
       "╲╱     a_{0}         \n",
       "─────────────────────\n",
       "          √π         "
      ]
     },
     "execution_count": 105,
     "metadata": {},
     "output_type": "execute_result"
    }
   ],
   "source": [
    "simplify(psi(1,0,0,Z,mu,a0,r,th,ph)) # n = 1, l = 0, ml = 0"
   ]
  },
  {
   "cell_type": "code",
   "execution_count": 106,
   "metadata": {},
   "outputs": [
    {
     "data": {
      "image/png": "[encoded data removed]",
      "text/latex": [
       "$$\\frac{\\sqrt{2} \\sqrt{\\frac{Z^{3}}{a_{0}^{3}}}}{8 \\sqrt{\\pi}} \\left(- x + 2\\right) e^{- \\frac{Z r}{2 a_{0}}}$$"
      ],
      "text/plain": [
       "         ________            -Z⋅r  \n",
       "        ╱    3              ───────\n",
       "       ╱    Z               2⋅a_{0}\n",
       "√2⋅   ╱   ────── ⋅(-x + 2)⋅ℯ       \n",
       "     ╱         3                   \n",
       "   ╲╱     a_{0}                    \n",
       "───────────────────────────────────\n",
       "                8⋅√π               "
      ]
     },
     "execution_count": 106,
     "metadata": {},
     "output_type": "execute_result"
    }
   ],
   "source": [
    "simplify(psi(2,0,0,Z,mu,a0,r,th,ph)) # n = 2, l = 0, ml = 0"
   ]
  },
  {
   "cell_type": "code",
   "execution_count": 107,
   "metadata": {},
   "outputs": [
    {
     "data": {
      "image/png": "[encoded data removed]",
      "text/latex": [
       "$$\\frac{\\sqrt{2} Z r z \\sqrt{\\frac{Z^{3}}{a_{0}^{3}}}}{8 \\sqrt{\\pi} a_{0}} e^{- \\frac{Z r}{2 a_{0}}}$$"
      ],
      "text/plain": [
       "               ________   -Z⋅r  \n",
       "              ╱    3     ───────\n",
       "             ╱    Z      2⋅a_{0}\n",
       "√2⋅Z⋅r⋅z⋅   ╱   ────── ⋅ℯ       \n",
       "           ╱         3          \n",
       "         ╲╱     a_{0}           \n",
       "────────────────────────────────\n",
       "           8⋅√π⋅a_{0}           "
      ]
     },
     "execution_count": 107,
     "metadata": {},
     "output_type": "execute_result"
    }
   ],
   "source": [
    "simplify(psi(2,1,0,Z,mu,a0,r,th,ph)) # n = 2, l = 1, ml = 0"
   ]
  },
  {
   "cell_type": "markdown",
   "metadata": {},
   "source": [
    "# Exercícios\n",
    "\n",
    "1. Pesquise na literatura e disserte brevemente sobre o problema de três corpos em Física.\n",
    "\n",
    "1. Quais são as figuras geométricas que correspondem às superfícies $r=\\text{constante}$, $\\theta=\\text{constante}$ e $\\phi=\\text{constante}$ que definem o sistema de coordenadas esféricas?\n",
    "\n",
    "1. Obtenha o operador gradiente em coordenadas cilíndricas ($x=\\rho\\cos\\phi$, $y=\\rho\\sin\\phi$, $z$).\n",
    "\n",
    "1. Obtenha o divergente de um campo vetorial $\\vec{v}$ em coordenadas cilíndricas.\n",
    "\n",
    "1. Obtenha o operador Laplaciano em coordenadas cilíndricas.\n",
    "\n",
    "1. Considere uma energia potencial do tipo $U=U(\\rho)$ e obtenha a EqSIT em coordenadas cilíndricas, para uma quanton de massa de repouso $m$. Aplique separação de variáveis, $\\psi(\\rho,\\phi,z)=\\Omega(\\rho,z)\\Phi(\\phi)$, e obtenha as equações diferencias a serem resolvidas para obtenção de $\\Omega$ e $\\Phi$. Aplique separação de variáveis novamente, $\\Omega(\\rho,z)=\\Xi(\\rho)\\Gamma(z)$, e obtenha as equações diferenciais a serem resolvidas para obtermos $\\Xi$ e $\\Gamma$.\n",
    "\n",
    "1. Verifique que se $P_{l}(z)$ satisfaz a eq. $(\\triangle)$ então $\\Theta_{l,m_{l}}(z)$ satisfaz a eq. $(\\star\\star)$.\n",
    "\n",
    "1. Verifique que $e^{\\pm im_{l}\\phi}$, $\\cos(m_{l}\\phi)$ e $\\sin(m_{l}\\phi)$ são soluções particulares de $\\partial_{\\phi\\phi}\\Phi(\\phi)+m_{l}^{2}\\Phi(\\phi)=0$.\n",
    "\n",
    "1. Para $\\Phi_{m_{l}}^{\\pm}(\\phi)=c_{+}e^{+im_{l}\\phi}\\pm c_{-}e^{-im_{l}\\phi}$ com $m_{l}\\in\\mathbb{Z}$, verifique que $\\partial_{\\phi}\\Phi_{m_{l}}^{\\pm}(\\phi+2\\pi)=\\partial_{\\phi}\\Phi_{m_{l}}^{\\pm}(\\phi)$.\n",
    "\n",
    "1. Verifique a condição de ortogonalidade $\\langle\\Phi_{m_{l}}^{\\pm}|\\Phi_{m'_{l}}^{\\pm}\\rangle:=\\int_{0}^{2\\pi}(\\Phi_{m_{l}}^{\\pm}(\\phi))^{*}\\Phi_{m'_{l}}^{\\pm}(\\phi)d\\phi=0$ com $m_{l}\\ne m'_{l}$, para a função mostrada na questão 9.\n",
    "\n",
    "1. Verifique que $\\vec{P}\\Phi_{m_{l}}^{\\pm}(\\phi)=\\hat{\\phi}\\frac{\\hbar m_{l}}{r\\sin\\theta}\\Phi_{m_{l}}^{\\mp}(\\phi)$, para a função mostrada na questão 9.\n",
    "\n",
    "1. Verifique que $P_{l}^{i}(z) = ca_{1}\\frac{1}{l!2^{l}}\\frac{\\partial^{l}}{\\partial z^{l}}(z^{2}-1)^{l}$ para $l=3,5$, com $c$ sendo uma constante escolhida de maneira apropriada para cada $l$.\n",
    "\n",
    "1. Para $l=3$, quais são os valores possíveis de $m_{l}$? Obtenha $\\Theta_{l=3,m_{l}}(\\theta)$ (usando o mesmo procedimento utilizado em aula).\n",
    "\n",
    "1. Verifique que para $\\rho\\gg 1$ a função $\\Omega(\\rho)=c_{+}e^{\\rho/2}+c_{-}e^{-\\rho/2}$ é solução da eq. diferencial $\\frac{1}{\\rho^{2}}\\frac{\\partial}{\\partial\\rho}\\left(\\rho^{2}\\frac{\\partial\\Omega(\\rho)}{\\partial \\rho}\\right) - \\frac{1}{4}\\Omega(\\rho)=0$. Feito isso, argumente sobre a razão de termos que impor $c_{+}=0$.\n",
    "\n",
    "1. Relacionado à solução para a função de onda radial, se $n=4$, quais são os possíveis valores de $l$? \n",
    "\n",
    "1. Obtenha as funções de onda radiais $\\Omega_{4,l}(\\rho)$, a partir do cálculo de $F_{n,l}(\\rho)$.\n",
    "\n",
    "1. Mostre que uma certa energia $E_{n}$ de um átomo hidrogenóide possui degenerescência $d_{E_{n}}=n^{2}$.\n",
    "\n",
    "1. Verifique que as funções de onda obtidas na questão 16 podem ser escritas em termos dos polinômios associados de Laguerre, usando a fórmula de Rodrigues correspondente.\n",
    "\n",
    "1. Qual é a massa reduzida $\\mu$ para átomo de Hélio uma vez ionizado? Qual é o número atômico $Z$ deste átomo? Faça o diagrama de níveis de energia deste átomo.\n",
    "\n",
    "1. Usando a função gamma generalizada, verifique que $\\int_{0}^{\\infty}x^{2s+1}e^{-ax^{2}}dx=s!/(2a^{s+1})$.\n",
    "\n",
    "1. Demonstre a regra de Leibniz: $\\frac{\\partial^{k}(f(z)g(z))}{\\partial z^{k}} = \\sum_{j=0}^{k}\\binom{k}{j}\\frac{\\partial^{k-j}f(z)}{\\partial z^{k-j}}\\frac{\\partial^{j}g(z)}{\\partial z^{j}}$.\n",
    "\n",
    "1. Verifique que $G(x,t) = e^{-x t/(1-t)}/(1-t)^{1+k}$ é a função geradora do polinômio associado de Laguerre $L_{j}^{k}(x)=(e^{x}x^{-k}/j!)\\partial_{x^{j}}(e^{-x}x^{j+k})$.\n",
    "\n",
    "1. Verifique a validade da relação $(j+1)L_{j+1}^{k}(x) = (2j+k+1-x)L_{j}^{k}(x) - (j+k)L_{j-1}^{k}(x)$ para os polinômios associados de Laguerre."
   ]
  },
  {
   "cell_type": "code",
   "execution_count": null,
   "metadata": {},
   "outputs": [],
   "source": []
  }
 ],
 "metadata": {
  "kernelspec": {
   "display_name": "Python 3",
   "language": "python",
   "name": "python3"
  },
  "language_info": {
   "codemirror_mode": {
    "name": "ipython",
    "version": 3
   },
   "file_extension": ".py",
   "mimetype": "text/x-python",
   "name": "python",
   "nbconvert_exporter": "python",
   "pygments_lexer": "ipython3",
   "version": "3.6.4"
  }
 },
 "nbformat": 4,
 "nbformat_minor": 2
}
