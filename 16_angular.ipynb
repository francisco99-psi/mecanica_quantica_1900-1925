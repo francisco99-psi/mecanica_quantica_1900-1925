{
 "cells": [
  {
   "cell_type": "markdown",
   "metadata": {},
   "source": [
    "## Notas de aula de Mecânica Quântica <br> Autor: Jonas Maziero"
   ]
  },
  {
   "cell_type": "code",
   "execution_count": 3,
   "metadata": {},
   "outputs": [],
   "source": [
    "%run init.ipynb"
   ]
  },
  {
   "cell_type": "markdown",
   "metadata": {},
   "source": [
    "# Momento angular\n",
    "O momento angular é definido em termos da posição $\\vec{R}$ e do momento linear $\\vec{P}$ como\n",
    "\\begin{equation}\n",
    "\\vec{L} = \\vec{R}\\mathrm{x}\\vec{P} = \\frac{\\hbar}{i}\\vec{R}\\mathrm{x}\\vec{\\nabla}_{\\vec{R}}.\n",
    "\\end{equation}\n",
    "Em coordenadas esféricas, usando $\\vec{R}=r\\hat{r}$ e $\\vec{\\nabla} = \\hat{r}\\frac{\\partial}{\\partial r} + \\hat{\\theta}\\frac{1}{r}\\frac{\\partial}{\\partial \\theta} + \\hat{\\phi}\\frac{1}{r\\sin\\theta}\\frac{\\partial}{\\partial \\phi}$, teremos\n",
    "\\begin{align}\n",
    "\\vec{L} &= \\frac{\\hbar}{i}\\left(r\\hat{r}\\mathrm{x}\\hat{r}\\frac{\\partial}{\\partial r} + r\\hat{r}\\mathrm{x}\\hat{\\theta}\\frac{1}{r}\\frac{\\partial}{\\partial \\theta} + r\\hat{r}\\mathrm{x}\\hat{\\phi}\\frac{1}{r\\sin\\theta}\\frac{\\partial}{\\partial \\phi}\\right) \\\\\n",
    "& =\\frac{\\hbar}{i}\\left(\\hat{\\phi}\\frac{\\partial}{\\partial \\theta}-\\hat{\\theta}\\frac{1}{\\sin\\theta}\\frac{\\partial}{\\partial \\phi}\\right).\n",
    "\\end{align}"
   ]
  },
  {
   "cell_type": "markdown",
   "metadata": {},
   "source": [
    "Vimos nas aulas sobre o átomo de Hidrogênio que para $d\\vec{r}=\\sum_{j}\\hat{q}_{j}ds_{j}=\\sum_{j}\\hat{q}_{j}h_{j}dq_{j}$ temos\n",
    "\\begin{equation}\n",
    "\\hat{q}_{j} = \\frac{1}{h_{j}}\\frac{\\partial\\vec{r}}{\\partial q_{j}},\n",
    "\\end{equation}\n",
    "com $h_{j}^{2}=\\sum_{k=1}^{3}\\left(\\frac{\\partial x_{k}}{\\partial q_{j}}\\right)$. Para o sistemas de coordedades esféricas, temos $h_{1}=1,h_{2}=r,h_{3}=r\\sin\\theta$. Usando $\\vec{r}=\\hat{i}r\\sin\\theta\\cos\\phi+\\hat{j}r\\sin\\theta\\sin\\phi+\\hat{k}r\\cos\\theta$ teremos que os versores do sistema de coordenadas esféricas são\n",
    "\\begin{align}\n",
    "\\hat{r} & = \\frac{1}{h_{1}}\\frac{\\partial\\vec{r}}{\\partial q_{1}} = \\frac{1}{1}\\frac{\\partial\\vec{r}}{\\partial r} \\\\\n",
    "& = \\hat{i}\\sin\\theta\\cos\\phi+\\hat{j}\\sin\\theta\\sin\\phi+\\hat{k}\\cos\\theta, \\\\\n",
    "\\hat{\\theta} & = \\frac{1}{h_{2}}\\frac{\\partial\\vec{r}}{\\partial q_{2}} = \\frac{1}{r}\\frac{\\partial\\vec{r}}{\\partial \\theta} \\\\\n",
    "& = \\hat{i}\\cos\\theta\\cos\\phi+\\hat{j}\\cos\\theta\\sin\\phi-\\hat{k}\\sin\\theta, \\\\\n",
    "\\hat{\\phi} & = \\frac{1}{h_{3}}\\frac{\\partial\\vec{r}}{\\partial q_{3}} = \\frac{1}{r\\sin\\theta}\\frac{\\partial\\vec{r}}{\\partial \\phi} \\\\\n",
    "& = -\\hat{i}\\sin\\phi+\\hat{j}\\cos\\phi+\\hat{k}0.\n",
    "\\end{align}\n",
    "\n",
    "Temos assim que\n",
    "\\begin{align}\n",
    "\\vec{L} & = \\frac{\\hbar}{i}\\left((-\\hat{i}\\sin\\phi+\\hat{j}\\cos\\phi)\\frac{\\partial}{\\partial \\theta} - (\\hat{i}\\cos\\theta\\cos\\phi+\\hat{j}\\cos\\theta\\sin\\phi-\\hat{k}\\sin\\theta)\\frac{1}{\\sin\\theta}\\frac{\\partial}{\\partial \\phi}\\right) \\\\\n",
    "& = \\hat{i}\\frac{\\hbar}{i}\\left(-\\sin\\phi\\frac{\\partial}{\\partial \\theta}-\\frac{\\cos\\theta}{\\sin\\theta}\\cos\\phi\\frac{\\partial}{\\partial \\phi}\\right) + \\hat{j}\\frac{\\hbar}{i}\\left(\\cos\\phi\\frac{\\partial}{\\partial \\theta}-\\frac{\\cos\\theta}{\\sin\\theta}\\sin\\phi\\frac{\\partial}{\\partial \\phi}\\right) + \\hat{k}\\frac{\\hbar}{i}\\frac{\\partial}{\\partial \\phi} \\\\\n",
    "& = \\hat{i}L_{x} + \\hat{j}L_{y} + \\hat{k}L_{z}.\n",
    "\\end{align}"
   ]
  },
  {
   "cell_type": "markdown",
   "metadata": {},
   "source": [
    "Por conseguinte, as componentes do momento angular são\n",
    "\\begin{align}\n",
    "L_{x} & = -\\frac{\\hbar}{i}\\left(\\sin\\phi\\frac{\\partial}{\\partial \\theta}+\\cot\\theta\\cos\\phi\\frac{\\partial}{\\partial \\phi}\\right), \\\\\n",
    "L_{y} & = \\frac{\\hbar}{i}\\left(\\cos\\phi\\frac{\\partial}{\\partial \\theta}-\\cot\\theta\\sin\\phi\\frac{\\partial}{\\partial \\phi}\\right), \\\\\n",
    "L_{z} & = \\frac{\\hbar}{i}\\frac{\\partial}{\\partial \\phi}.\n",
    "\\end{align}\n",
    "\n",
    "Agora, vamos olhar para\n",
    "\\begin{align}\n",
    "L^{2} & = \\vec{L}\\cdot\\vec{L} =  (\\hat{i}L_{x}+\\hat{j}L_{y}+\\hat{k}L_{z})\\cdot(\\hat{i}L_{x}+\\hat{j}L_{y}+\\hat{k}L_{z}) \\\\\n",
    "& = L_{x}^{2}+L_{y}^{2}+L_{z}^{2}.\n",
    "\\end{align}\n",
    "\n",
    "Agora\n",
    "\\begin{align}\n",
    "L_{x}^{2} &= -\\hbar^{2}\\left(\\sin\\phi\\frac{\\partial}{\\partial \\theta}+\\cot\\theta\\cos\\phi\\frac{\\partial}{\\partial \\phi}\\right)\\left(\\sin\\phi\\frac{\\partial}{\\partial \\theta}+\\cot\\theta\\cos\\phi\\frac{\\partial}{\\partial \\phi}\\right) \\\\\n",
    "& = -\\hbar^{2}(\\sin^{2}\\phi\\partial_{\\theta\\theta} + \\sin\\phi\\cos\\phi(\\partial_{\\theta}\\cot\\theta)\\partial_{\\phi} + \\sin\\phi\\cos\\phi\\cot\\theta\\partial_{\\theta\\phi} \\\\\n",
    "& \\hspace{1.3cm} + \\cot\\theta\\cos^{2}\\phi\\partial_{\\theta} + \\cot\\theta\\cos\\phi\\sin\\phi\\partial_{\\phi\\theta} \\\\\n",
    "& \\hspace{1.3cm} - \\cot^{2}\\theta\\cos\\phi\\sin\\phi\\partial_{\\phi} + \\cot^{2}\\theta\\cos^{2}\\phi\\partial_{\\phi\\phi}).\n",
    "\\end{align}"
   ]
  },
  {
   "cell_type": "markdown",
   "metadata": {},
   "source": [
    "Pode-se verificar também que\n",
    "\\begin{align}\n",
    "L_{y}^{2} &= -\\hbar^{2}(\\cos^{2}\\phi\\partial_{\\theta\\theta} - \\cos\\phi\\sin\\phi(\\partial_{\\theta}\\cot\\theta)\\partial_{\\phi} - \\cot\\theta\\cos\\phi\\sin\\phi\\partial_{\\theta\\phi} \\\\\n",
    "& \\hspace{1.3cm} + \\cot\\theta\\sin^{2}\\phi\\partial_{\\theta} - \\cot\\theta\\sin\\phi\\cos\\phi\\partial_{\\phi\\theta} \\\\\n",
    "& \\hspace{1.3cm} + \\cot^{2}\\theta\\sin\\phi\\cos\\phi\\partial_{\\phi} + \\cot^{2}\\theta\\sin^{2}\\phi\\partial_{\\phi\\phi}), \\\\\n",
    "L_{z}^{2} &= -\\hbar^{2}\\partial_{\\phi\\phi}.\n",
    "\\end{align}\n",
    "Por conseguinte\n",
    "\\begin{align}\n",
    "L^{2} &= -\\hbar^{2}(\\partial_{\\theta\\theta}+\\cot\\theta\\partial_{\\theta} + \\cot^{2}\\theta\\partial_{\\phi\\phi}+\\partial_{\\phi\\phi}) \\\\\n",
    "&= -\\hbar^{2}\\left(\\frac{1}{\\sin\\theta}\\frac{\\partial}{\\partial\\theta}\\left(\\sin\\theta\\frac{\\partial}{\\partial\\theta}\\right) + \\frac{1}{\\sin^{2}\\theta}\\frac{\\partial^{2}}{\\partial\\phi^{2}}\\right).\n",
    "\\end{align}\n",
    "\n",
    "Durante o desenvolvimento da solução da equação de Schrödinger para átomos hidrogenóides, chegamos na equação:\n",
    "\\begin{equation}\n",
    "\\frac{1}{\\sin\\theta}\\frac{\\partial}{\\partial \\theta}\\left(\\sin\\theta\\frac{\\partial\\Upsilon_{l,m_{l}}(\\theta,\\phi)}{\\partial \\theta}\\right) + \\frac{1}{\\sin^{2}\\theta}\\frac{\\partial^{2}\\Upsilon_{l,m_{l}}(\\theta,\\phi)}{\\partial \\phi^{2}} + l(l+1)\\Upsilon_{l,m_{l}}(\\theta,\\phi) = 0,\n",
    "\\end{equation}\n",
    "que pode ser reescrita como uma eq. de autovalores e autovetores para o momento angular\n",
    "\\begin{equation}\n",
    "L^{2}\\Upsilon_{l,m_{l}}(\\theta,\\phi)=\\hbar^{2}l(l+1)\\Upsilon_{l,m_{l}}(\\theta,\\phi),\n",
    "\\end{equation}\n",
    "em que $\\Upsilon_{l,m_{l}}(\\theta,\\phi)$ são os chamados harmônicos esféricos. Temos assim os valores possíveis do momento angular total, pois $l=0,1,2,\\cdots,n-1$, que é por conseguinte quantizado.\n",
    "\n",
    "OBS. Aqui aparece o motivo de $l$ ser chamado de número quântico angular."
   ]
  },
  {
   "cell_type": "markdown",
   "metadata": {},
   "source": [
    "Outra equação que obtivemos em nosso estudo de átomos hidrogenóides foi\n",
    "\\begin{equation}\n",
    "\\frac{\\partial^{2}\\Phi(\\phi)}{\\partial \\phi^{2}}+m_{l}^{2}\\Phi(\\phi)=0,\n",
    "\\end{equation}\n",
    "que pode ser escrita como uma equação de autovalores e autovetores para a componente $z$ do momento angular\n",
    "\\begin{equation}\n",
    "L_{z}^{2}\\Phi_{m_{l}}(\\phi)=\\hbar^{2}m_{l}^{2}\\Phi_{m_{l}}(\\phi) \\therefore L_{z}\\Phi_{m_{l}}(\\phi)=\\hbar m_{l}\\Phi_{m_{l}}(\\phi),\n",
    "\\end{equation}\n",
    "em que $m_{l}=0,\\pm1,\\pm2,\\cdots,\\pm l$ e $\\Phi_{m_{l}}(\\phi)=(1/\\sqrt{2\\pi})e^{im_{l}\\phi}$. Portanto a componente $z$ do momento angular pode assumir $2l+1$ valores.\n",
    "\n",
    "Como $\\vec{L}=L_{x}\\hat{i}+L_{y}\\hat{j}+L_{z}\\hat{k}$ com $L_{z}=L\\cos\\theta$, para $l\\ne 0$ os ângulos possíveis entre $\\vec{L}$ e a direção $z$ podem ser obtido de\n",
    "\\begin{equation}\n",
    "\\cos\\theta = \\frac{L}{L_{z}} = \\frac{\\hbar m_{l}}{\\sqrt{\\hbar^{2}l(l+1)}} = \\frac{m_{l}}{\\sqrt{l(l+1)}}.\n",
    "\\end{equation}\n",
    "Por exemplo, para $l=1$ temos $m_{l}=-1,0,1$. Assim\n",
    "\\begin{align}\n",
    "& \\theta(m_{l}=-1) = \\arccos\\left(\\frac{-1}{1(1+1)}\\right) = 120^{\\circ}, \\\\\n",
    "& \\theta(m_{l}=0) = \\arccos\\left(\\frac{0}{1(1+1)}\\right) = 90^{\\circ}, \\\\\n",
    "& \\theta(m_{l}=+1) = \\arccos\\left(\\frac{+1}{1(1+1)}\\right) = 60^{\\circ}.\n",
    "\\end{align}"
   ]
  },
  {
   "cell_type": "code",
   "execution_count": 11,
   "metadata": {},
   "outputs": [
    {
     "data": {
      "image/png": "[encoded data removed]",
      "text/latex": [
       "$$60.0$$"
      ],
      "text/plain": [
       "60.0"
      ]
     },
     "execution_count": 11,
     "metadata": {},
     "output_type": "execute_result"
    }
   ],
   "source": [
    "float(acos(1/2)*180/pi)"
   ]
  },
  {
   "cell_type": "markdown",
   "metadata": {},
   "source": [
    "# Exercícios\n",
    "\n",
    "1. Obtenha o momento angular $\\vec{L}$ em coordenadas cilíndricas.\n",
    "\n",
    "1. Escreva os versores $\\hat{\\rho},\\hat{\\theta},\\hat{z}$ do sistema de coordenadas cilíndricas em termos dos versores $\\hat{i},\\hat{j},\\hat{k}$ do sistema de coordenadas retangulares. \n",
    "\n",
    "1. Verifique que $L_{y}^{2} = -\\hbar^{2}(\\cos^{2}\\phi\\partial_{\\theta\\theta} - \\cos\\phi\\sin\\phi(\\partial_{\\theta}\\cot\\theta)\\partial_{\\phi} - 2\\cot\\theta\\cos\\phi\\sin\\phi\\partial_{\\theta\\phi} + \\cot\\theta\\sin^{2}\\phi\\partial_{\\theta} + \\cot^{2}\\theta\\sin\\phi\\cos\\phi\\partial_{\\phi} + \\cot^{2}\\theta\\sin^{2}\\phi\\partial_{\\phi\\phi})$.\n",
    "\n",
    "1. Desenhe um diagrama vetorial mostrando as possíveis orientações do momento angular $\\vec{L}$ para o número quântico de momento angular $l=5$.\n",
    "\n",
    "1. Determine os menores valores possíveis dentre os possíveis ângulos que $\\vec{L}$ pode fazer como o eixo $z$ se $l=5$.\n",
    "\n",
    "1. Determine o momento angular $L=I\\omega$ de um CD com momento de inércia $I\\approx 10^{-5}\\text{ kg}\\cdot\\text{m}^{2}$ e velocidade angular $\\omega\\approx 2\\pi\\cdot 735\\text{ rpm}$. Determine o número quantico $l$ correspondente a esse momento angular quando quantizado."
   ]
  },
  {
   "cell_type": "code",
   "execution_count": null,
   "metadata": {},
   "outputs": [],
   "source": []
  }
 ],
 "metadata": {
  "kernelspec": {
   "display_name": "Python 3",
   "language": "python",
   "name": "python3"
  },
  "language_info": {
   "codemirror_mode": {
    "name": "ipython",
    "version": 3
   },
   "file_extension": ".py",
   "mimetype": "text/x-python",
   "name": "python",
   "nbconvert_exporter": "python",
   "pygments_lexer": "ipython3",
   "version": "3.6.4"
  }
 },
 "nbformat": 4,
 "nbformat_minor": 2
}
