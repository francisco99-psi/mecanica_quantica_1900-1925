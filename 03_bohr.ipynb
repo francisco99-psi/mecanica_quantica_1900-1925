{
 "cells": [
  {
   "cell_type": "markdown",
   "metadata": {},
   "source": [
    "# Notas de aula: Mecânica Quântica, Autor: Jonas Maziero, Departamento de Física, UFSM"
   ]
  },
  {
   "cell_type": "code",
   "execution_count": 252,
   "metadata": {},
   "outputs": [],
   "source": [
    "%run init.ipynb"
   ]
  },
  {
   "cell_type": "markdown",
   "metadata": {},
   "source": [
    "# O átomo de Bohr\n",
    "# Resultados empíricos\n",
    "Espectroscopia é uma ferramenta experimental fundamental para a ciência e tecnologia atuais. Desde os tempos de Newton sabemos que ao passar luz por um prisma de vidro, podemos separá-la em suas frequências componentes. \n",
    "<img src='newton_prism.jpg' width='150'>\n",
    "Ao desenvolver melhores redes de difração e sistemas de detecção da luz, Fraunhofer reportou a existência de distinguíveis linhas no espectro da luz solar [https://en.wikipedia.org/wiki/Joseph_von_Fraunhofer]. Hoje em dia conhecemos a existência de espectros contínuos, em geral provenientes da radiação térmica de sistemas condensados. Também existem espectros com a presença de bandas de frequências, que são provenientes da radiação térmica emitida por pequenos pedaços de materiais. Aqui estaremos interessados na descrição de espectros de linhas, onde aparece um conjunto discreto de frequências, que são aquelas emitidas por átomos não ligados. O espectro do Hidrogênio está mostrado na figura abaixo (retirada da Ref. [1]).\n",
    "\n",
    "<img src='H_spectrum.png' width='300'>\n",
    "\n",
    "A teoria eletromagnética clássica, que associa a frequência da luz emitida por um material com a frequência de oscilação das cargas elétricas que o compõe, não consegue de forma alguma explicar a existência de espectros de linhas (que seria equivalente a explicar por quê as cargas elétricas só oscilam em um conjunto discreto de frequências)."
   ]
  },
  {
   "cell_type": "markdown",
   "metadata": {},
   "source": [
    "## A estrutura do átomo\n"
   ]
  },
  {
   "cell_type": "markdown",
   "metadata": {},
   "source": [
    "# Modelo de Bohr do átomo\n",
    "Bohr assumiu que o único elétron de um átomo se movimenta em torno de um núcleo com $Z$ prótons (número atômico) [https://www.nobelprize.org/prizes/physics/1922/bohr/lecture/]. Além disso, ele usou os seguintes postulados:\n",
    "1. O elétron se move em trajetórias circulares sem irradiar energia, nos chamados __estados estacionários__, com momento angular quantizado:\n",
    "\\begin{equation}\n",
    "L = L_{n} = n\\hbar\n",
    "\\end{equation}\n",
    "com $n=1,2,3,\\cdots$ e\n",
    "\\begin{equation}\n",
    "\\hbar:=\\frac{h}{2\\pi}.\n",
    "\\end{equation}\n",
    "1. O átomo irradia ou absorve energia somente quando o elétron passa de um estado estacionário para outro. A frequência do fóton é obtida por conservação de energia:\n",
    "\\begin{equation}\n",
    "h\\nu=|E_{i}-E_{f}|,\n",
    "\\end{equation}\n",
    "com $E_{i}$ e $E_{f}$ sendo as energias dos estados estacionários inicial e final, respectivamente."
   ]
  },
  {
   "cell_type": "markdown",
   "metadata": {},
   "source": [
    "Agora, o elétron é mantido na órbita circular pela força centrípeda dada pela força elétrica:\n",
    "\\begin{equation}\n",
    "F_{e}=F_{c}\\therefore \\frac{k(Ze)e}{r^{2}}=\\frac{mv^{2}}{r},\n",
    "\\end{equation}\n",
    "com\n",
    "\\begin{equation}\n",
    "k=8,9875517923\\mathrm{x}10^{9} \\text{ Nm}^{2}\\text{/C}^{2}\n",
    "\\end{equation}\n",
    "sendo a constante de Coulomb. Podemos escrerver assim (usa $v$ obtido da última equação e o postulado 1):\n",
    "\\begin{equation}\n",
    "L=rp\\sin(\\pi/2)=rm_{e}v=rm_{e}\\sqrt{\\frac{Zke^{2}}{m_{e}r}}=\\sqrt{m_{e}rZke^{2}}=n\\hbar.\n",
    "\\end{equation}\n",
    "Vemos assim que os _raios das órbitas de Bohr_ são dados por:\n",
    "\\begin{equation}\n",
    "r = r_{n} = \\left(\\frac{\\hbar^{2}}{m_{e}ke^{2}}\\right)\\frac{n^{2}}{Z}=:\\frac{a_{0}}{Z}n^{2},\n",
    "\\end{equation}\n",
    "com o _raio de Bohr_ definido como\n",
    "\\begin{equation}\n",
    "a_{0} := \\frac{\\hbar^{2}}{m_{e}ke^{2}} \\approx 0,529 \\text{ }\\overset{\\circ}{A}.\n",
    "\\end{equation}"
   ]
  },
  {
   "cell_type": "code",
   "execution_count": 307,
   "metadata": {},
   "outputs": [
    {
     "data": {
      "image/png": "[encoded data removed]",
      "text/latex": [
       "$$5.2917713530972064e-11$$"
      ],
      "text/plain": [
       "5.2917713530972064e-11"
      ]
     },
     "execution_count": 307,
     "metadata": {},
     "output_type": "execute_result"
    }
   ],
   "source": [
    "a0=(hb**2)/(me*k*e**2); a0"
   ]
  },
  {
   "cell_type": "markdown",
   "metadata": {},
   "source": [
    "A _energia_ total do átomo (considera o núcleo em repouso) será então:\n",
    "\\begin{align}\n",
    "E & = E_{c}+E_{p} = \\frac{mv^{2}}{2} - \\frac{kZe^{2}}{r} = \\frac{k(Ze)e}{2r} - \\frac{kZe^{2}}{r} \\\\ \n",
    "& = -\\frac{k(Ze)e}{2r} = -\\frac{k(Ze)e}{2}\\frac{Z}{a_{0}n^{2}} = -\\frac{kZ^{2}e^{2}}{2a_{0}}\\frac{1}{n^{2}} \\\\\n",
    "& =: \\frac{Z^{2}E_{1}}{n^{2}},\n",
    "\\end{align}\n",
    "com a energia do estado fundamental ($n=1$) sendo:\n",
    "\\begin{equation}\n",
    "E_{1} := -\\frac{ke^{2}}{2a_{0}} \\approx -13,606\\text{ eV}.\n",
    "\\end{equation}"
   ]
  },
  {
   "cell_type": "code",
   "execution_count": 290,
   "metadata": {},
   "outputs": [],
   "source": [
    "def bohr(Z,n): # em eV\n",
    "    return ((-((k*e**2)/(2*a0))/e)*Z**2)/n**2 "
   ]
  },
  {
   "cell_type": "code",
   "execution_count": 306,
   "metadata": {},
   "outputs": [
    {
     "data": {
      "image/png": "[encoded data removed]",
      "text/latex": [
       "$$\\left ( -13.605694947717485, \\quad -3.401423736929371, \\quad -1.5117438830797205, \\quad -0.8503559342323428, \\quad -0.5442277979086994\\right )$$"
      ],
      "text/plain": [
       "(-13.605694947717485, -3.401423736929371, -1.5117438830797205, -0.850355934232\n",
       "3428, -0.5442277979086994)"
      ]
     },
     "execution_count": 306,
     "metadata": {},
     "output_type": "execute_result"
    }
   ],
   "source": [
    "Z=1; (bohr(Z,1),bohr(Z,2),bohr(Z,3),bohr(Z,4),bohr(Z,5))"
   ]
  },
  {
   "cell_type": "code",
   "execution_count": 500,
   "metadata": {},
   "outputs": [],
   "source": [
    "def bohr_ed(Z,xmin,xmax):\n",
    "    plt.hlines(bohr(Z,1),xmin,xmax,color='magenta')\n",
    "    plt.text(-0.15,bohr(Z,1),'1',color='magenta'); plt.text(1.01,bohr(Z,1),'%3.2f' % (bohr(Z,1)),color='magenta')\n",
    "    plt.hlines(bohr(Z,2),xmin,xmax,color='blue')\n",
    "    plt.text(-0.15,bohr(Z,2),'2',color='blue'); plt.text(1.01,bohr(Z,2),'%3.2f' % (bohr(Z,2)),color='blue')\n",
    "    plt.hlines(bohr(Z,3),xmin,xmax,color='cyan') \n",
    "    plt.text(-0.15,bohr(Z,3),'3',color='cyan'); plt.text(1.01,bohr(Z,3),'%3.2f' % (bohr(Z,3)),color='cyan')\n",
    "    plt.hlines(bohr(Z,4),xmin,xmax,color='green')\n",
    "    plt.text(-0.15,bohr(Z,4),'4',color='green'); plt.text(1.01,bohr(Z,4),'%3.2f' % (bohr(Z,4)),color='green')\n",
    "    plt.hlines(bohr(Z,5),xmin,xmax,color='gray'); plt.hlines(bohr(Z,6),xmin,xmax,color='brown')\n",
    "    plt.hlines(bohr(Z,7),xmin,xmax,color='brown'); plt.hlines(bohr(Z,8),xmin,xmax,color='brown')\n",
    "    plt.hlines(bohr(Z,9),xmin,xmax,color='gray'); plt.hlines(bohr(Z,10),xmin,xmax,color='brown')\n",
    "    plt.hlines(bohr(Z,11),xmin,xmax,color='brown')\n",
    "    plt.hlines(0,0,1,color='red')\n",
    "    plt.text(-0.15,0,r'$n=\\infty$',color='red'); plt.text(1.01,0.1,r'0 (eV)',color='red')\n",
    "    plt.xlim(0,2); plt.ylim(bohr(Z,1)-0.1,0)\n",
    "    plt.axis('off')\n",
    "    plt.annotate(\"\", xy=(0.5,bohr(Z,1)), xytext=(0.5,bohr(Z,2)), arrowprops=dict(arrowstyle=\"<->\"))\n",
    "    plt.text(0.51,(bohr(Z,1)+bohr(Z,2))/2,(c*heV)/(bohr(Z,2)-bohr(Z,1)))\n",
    "    plt.annotate(\"\", xy=(0.7,bohr(Z,2)), xytext=(0.7,bohr(Z,3)), arrowprops=dict(arrowstyle=\"<->\"))\n",
    "    plt.text(0.71,(bohr(Z,2)+bohr(Z,3))/2,(c*heV)/(bohr(Z,3)-bohr(Z,2)))\n",
    "    plt.show()"
   ]
  },
  {
   "cell_type": "code",
   "execution_count": 501,
   "metadata": {},
   "outputs": [
    {
     "data": {
      "image/png": "[encoded data removed]",
      "text/plain": [
       "<matplotlib.figure.Figure at 0x112904710>"
      ]
     },
     "metadata": {},
     "output_type": "display_data"
    }
   ],
   "source": [
    "# Diagrama de níveis de energia no modelo de Bohr\n",
    "# Z=1 => H, Z=2 => He^+, Z = 3 => Li^++ \n",
    "Z=1; bohr_ed(Z,0,1)"
   ]
  },
  {
   "cell_type": "code",
   "execution_count": 520,
   "metadata": {},
   "outputs": [
    {
     "data": {
      "image/png": "[encoded data removed]",
      "text/latex": [
       "$$\\left ( 6.561121882784716e-07, \\quad 4.860090283544234e-07, \\quad 4.3393663245930657e-07, \\quad 4.1007011767404475e-07, \\quad 3.9690737315611243e-07, \\quad 3.8880722268353873e-07, \\quad 3.6450822929873476e-07\\right )$$"
      ],
      "text/plain": [
       "(6.561121882784716e-07, 4.860090283544234e-07, 4.3393663245930657e-07, 4.10070\n",
       "11767404475e-07, 3.9690737315611243e-07, 3.8880722268353873e-07, 3.64508229298\n",
       "73476e-07)"
      ]
     },
     "execution_count": 520,
     "metadata": {},
     "output_type": "execute_result"
    }
   ],
   "source": [
    "def bohrf(Z,ni,nf):\n",
    "    return abs((bohr(Z,nf)-bohr(Z,ni))/heV)\n",
    "def bohrl(Z,ni,nf):\n",
    "    return c/bohrf(Z,ni,nf)\n",
    "Z=1; (bohrl(Z,2,3),bohrl(Z,2,4),bohrl(Z,2,5),bohrl(Z,2,6),bohrl(Z,2,7),bohrl(Z,2,8),bohrl(Z,2,10**3))"
   ]
  },
  {
   "cell_type": "markdown",
   "metadata": {},
   "source": [
    "Note que os comprimentos de onda mostrados acima correspondem às linhas \\begin{equation}\n",
    "H_{\\alpha},H_{\\beta},H_{\\gamma},H_{\\delta},H_{\\varepsilon},\\cdots,H_{\\infty}\n",
    "\\end{equation}\n",
    "do Hidrogênio, respectivamente, mostrados acima."
   ]
  },
  {
   "cell_type": "markdown",
   "metadata": {},
   "source": [
    "## Experimento de Franck-Hertz\n",
    "James Franck [https://www.nobelprize.org/prizes/physics/1925/franck/lecture/] e Gustav Hertz (sobrinho de Heinrich Hertz) [https://www.nobelprize.org/prizes/physics/1925/hertz/lecture/] fizeram um experimento decisivo para a aceitação de uma das consequências principais da teoria de Bohr do átomo, a quantização da energia. O aparato experimental e os resultados obtidos estão mostrados abaixo.\n",
    "\n",
    "<table>\n",
    "<tr>\n",
    "<td> <img src='franck-hertz1.png' width='300'/> </td>\n",
    "<td> <img src='franck-hertz3.png' width='250'/> </td>\n",
    "<td> <img src='franck-hertz2.png' width='250'/> </td>\n",
    "</tr>\n",
    "</table>"
   ]
  },
  {
   "cell_type": "markdown",
   "metadata": {},
   "source": [
    "Nesse experimento, o filamento $H$ é usado para aquecer o cátodo $C$, arrancando assim elétrons dele. Esses elétrons são acelerados pela ddp $V_{0}$ aplicada entre $C$ e a grade $G$. Passando pela grade, os elétrons que possuem energia cinética maior que a barreira de potencial $e|V_{p}|$ chegam até a placa $P$, contribuindo assim para a corrente elétrica que é medida pelo amperímetro $I$. \n",
    "\n",
    "Se aumentamos o potencial de aceleração $V_{0}$, aumentamos a energia cinética dos elétrons que passam por $G$. Assim, se fazemos vácuo no tubo, se espera um aumento linear da corrente elétrica com $V_{0}$. No entanto, ao colocar um gás de mercúrio no tubo ($Hg$ possui 80 elétrons), observa-se o comportamento \"oscilatório\" da corrente elétrica, como mostrado na figura do meio. Pode-se explicar esses resultados assumindo quantização da energia do átomo. Se o intervalo de energia entre o estado fundamental e primeiro estado excitado do $Hg$ é $4,9\\text{ eV}$, então para $V_{0}<4,9\\text{ V}$ o elétron incidente não possui energia suficiente para excitar elétrons do $Hg$. Para $V_{0}\\ge 4,9\\text{ V}$ os elétrons incidentes excitam os elétrons do $Hg$, perdendo $4,9\\text{ eV}$ de sua energia, o que faz com que eles não tenham energia cinética suficiente para vencer a barreira de potencial $e|V_{p}|$, o que implica numa diminuição da corrente elétrica. Os outros picos de corrente elétrica são entendidos considerando-se multiplos espalhamentos, o que equivale a excitar múltiplos átomos de $Hg$.\n",
    "\n",
    "Um aspecto decisivo do experimento em favor da teoria de Bohr é que fótons com comprimento de onda\n",
    "\\begin{align}\n",
    "\\lambda = \\frac{c}{\\nu} = \\frac{hc}{4,9\\text{ eV}} \\approx 253,03\\text{ nm}\n",
    "\\end{align}\n",
    "são detectados somente para $V_{0}\\ge4,9\\text{ V}$. Estes são os fótons emitidos pelos átomos de mercúrio quanto o elétron retorda do primeiro estado excitado para o estado fundamental."
   ]
  },
  {
   "cell_type": "code",
   "execution_count": 522,
   "metadata": {},
   "outputs": [
    {
     "data": {
      "image/png": "[encoded data removed]",
      "text/latex": [
       "$$2.5302897633776257e-07$$"
      ],
      "text/plain": [
       "2.5302897633776257e-07"
      ]
     },
     "execution_count": 522,
     "metadata": {},
     "output_type": "execute_result"
    }
   ],
   "source": [
    "(heV*c)/4.9"
   ]
  },
  {
   "cell_type": "markdown",
   "metadata": {},
   "source": [
    "# Exercícios (para entregar)\n",
    "1. As séries de Lyman, Balmer, Paschen, Brackett e Pfund para o átomo de Hidrogênio estão relacionadas a comprimentos de onda envolvendo transições com $n_{i}=1,2,3,4,5$, respectivamente. Para cada uma dessas séries, usando o modelo de Bohr, calcule o comprimento de onda dos fótons emitidos quando $n_{f}=n_{i}+1,n_{i}+2,n_{i}+3,n_{i}+\\infty$. Faça um esboço de como ficariam distribuídas essas linhas em um chapa fotográfica, em função do comprimento de onda.\n",
    "\n",
    "1. Se o momento angular da Terra fosse quantizado, como o do átomo de Hidrogênio, qual seria o número quântico do estado estacionário da Terra (use como raio da Terra $1,5\\mathrm{x}10^{11}\\text{ m}$)? Qual seria a energia liberada em uma transição para o nível de energia imediatamente anterior? Se essa energia fosse emitida e.g. na forma de uma onda gravitacional, ela seria fácil de detectar? Qual seria o raio da nova órbita?\n",
    "\n",
    "1. Usando LASERs sintonizáveis, foram preparados os chamados átomos de Rydberg, ou átomos gigantes, do Sódio com $n\\approx 100$. O diâmetro desse átomo corresponderia àquele do átomo de Hidrogênio para $n\\approx 600$. Qual seria esse diâmetro? Qual seria a velocidade do elétron nessa órbita? Qual é a razão dessa velocidade e àquela obtida com $n=1$?\n",
    "\n",
    "1. \n",
    "\n",
    "1. Forneça um exemplo de aplicação científica ou tecnológica da espectroscopia, de importância histórica ou atual, descrevendo brevemente o seu funcionamento.\n"
   ]
  },
  {
   "cell_type": "code",
   "execution_count": null,
   "metadata": {},
   "outputs": [],
   "source": [
    "#plt.subplot(1, 3, 1); Z=1; bohr_ed(Z,0,1)\n",
    "#plt.subplot(1, 3, 2); Z=2; bohr_ed(Z,0,1)\n",
    "#plt.subplot(1, 3, 3); Z=3; bohr_ed(Z,0,1)"
   ]
  }
 ],
 "metadata": {
  "kernelspec": {
   "display_name": "Python 3",
   "language": "python",
   "name": "python3"
  },
  "language_info": {
   "codemirror_mode": {
    "name": "ipython",
    "version": 3
   },
   "file_extension": ".py",
   "mimetype": "text/x-python",
   "name": "python",
   "nbconvert_exporter": "python",
   "pygments_lexer": "ipython3",
   "version": "3.6.4"
  }
 },
 "nbformat": 4,
 "nbformat_minor": 2
}
