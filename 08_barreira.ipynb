{
 "cells": [
  {
   "cell_type": "markdown",
   "metadata": {},
   "source": [
    "# Notas de aula: Mecânica Quântica, Autor: Jonas Maziero, Departamento de Física, UFSM\n",
    "\n",
    "Link para o vídeo da aula sobre esse tópico: ."
   ]
  },
  {
   "cell_type": "code",
   "execution_count": 1,
   "metadata": {},
   "outputs": [],
   "source": [
    "%run init.ipynb"
   ]
  },
  {
   "cell_type": "markdown",
   "metadata": {},
   "source": [
    "# Barreira de potencial\n",
    "Para a barreira de potencial, podemos escrever a função energia potencial como:\n",
    "\\begin{cases}\n",
    "U(x<0)=0, \\\\\n",
    "U(0<x<a)=U_{0}=\\text{constante}, \\\\\n",
    "U(x>a)=0.\n",
    "\\end{cases}\n",
    "As soluções da equação de Schrödinher, que, para as três regiões, pode ser escrita na forma \n",
    "\\begin{equation}\n",
    "\\partial_{xx}\\Xi(x)+k^{2}\\Xi(x)=0,\n",
    "\\end{equation}\n",
    "são obtidas como no caso do dregrau de potencial. \n",
    "\n",
    "## $E<U_{0}$\n",
    "Nesse caso as soluções da EqSIT1D podem ser escritas na forma\n",
    "\\begin{align}\n",
    "& \\Xi_{e}(x<0) = c_{ed}e^{ik_{e}x} + c_{ee}e^{-ik_{e}x}, \\\\\n",
    "& \\Xi_{b}(0<x<a) = c_{bd}e^{-k_{b}x} + c_{bc}e^{k_{b}x}, \\\\\n",
    "& \\Xi_{d}(x>a) = c_{dd}e^{ik_{e}x} + c_{de}e^{-ik_{e}x},\n",
    "\\end{align}\n",
    "com\n",
    "\\begin{equation}\n",
    "k_{e}=\\frac{\\sqrt{2mE}}{\\hbar} \\text{ e } k_{b}=\\frac{\\sqrt{2m(U_{0}-E)}}{\\hbar}.\n",
    "\\end{equation}\n",
    "OBS. Aqui não usarei o til para diferenciar os dois casos.\n",
    "\n",
    "Novamente, $c_{ed}$ determina o fluxo de quantons incidindo na barreira de potencial e consideramos que os quantons movem-se inicialmente na região $x<0$ da esquerda para a direita. Pontanto, se o quanton passou para a região $x>a$ não há motivo para este retornar, então\n",
    "\\begin{equation}\n",
    "c_{de} := 0.\n",
    "\\end{equation}"
   ]
  },
  {
   "cell_type": "markdown",
   "metadata": {},
   "source": [
    "As outras constantes, $c_{ee},c_{bd},c_{ba},c_{dd}$, são determinadas, em termos de $c_{ed}$, impondo a continuidade da função de onda e de sua primeira derivada. Usando\n",
    "\\begin{align}\n",
    "& \\partial_{x}\\Xi_{e} = ik_{e}\\left(c_{ed}e^{ik_{e}x}-c_{ee}e^{-ik_{e}x}\\right), \\\\\n",
    "& \\partial_{x}\\Xi_{b} = -k_{b}\\left(c_{bd}e^{-k_{b}x}-c_{bc}e^{k_{b}x}\\right), \\\\\n",
    "& \\partial_{x}\\Xi_{d} = ik_{e}c_{dd}e^{ik_{e}x},\n",
    "\\end{align}\n",
    "teremos\n",
    "\\begin{align}\n",
    "\\Xi_{e}(x=0) = \\Xi_{b}(x=0) & \\\\\n",
    "& \\therefore c_{ed}+c_{ee}=c_{bd}+c_{bc} \\therefore -c_{ee}+c_{bd}+c_{bc}+0c_{dd}=c_{ed}, \\\\\n",
    "\\Xi_{b}(x=a) = \\Xi_{d}(x=a) & \\\\ \n",
    "& \\therefore c_{bd}e^{-k_{b}a}+c_{bc}e^{k_{b}a}=c_{dd}e^{ik_{e}a} \\therefore 0c_{ee}+e^{-k_{b}a}c_{bd}+e^{k_{b}a}c_{bc}-e^{ik_{e}a}c_{dd}=0, \\\\\n",
    "\\partial_{x}\\Xi_{e}(x=0)=\\partial_{x}\\Xi_{b}(x=0) & \\\\ \n",
    "& \\therefore ik_{e}(c_{ed}-c_{ee})=-k_{b}(c_{bd}-c_{bc}) \\therefore ik_{e}c_{ee}-k_{b}c_{bd}+k_{b}c_{bc}+0c_{dd}=ik_{e}c_{ed}, \\\\\n",
    "\\partial_{x}\\Xi_{e}(x=a)=\\partial_{x}\\Xi_{b}(x=a) & \\\\ \n",
    "& \\therefore -k_{b}\\left(c_{bd}e^{-k_{b}a}-c_{bc}e^{k_{b}a}\\right) = ik_{e}c_{dd}e^{ik_{e}a} \\therefore 0c_{ee}-k_{b}e^{-k_{b}a}c_{bd}+k_{b}e^{k_{b}a}c_{bc}-ik_{e}e^{ik_{e}a}c_{dd}=0.\n",
    "\\end{align}\n",
    "Ou, na forma matricial,\n",
    "\\begin{equation}\n",
    "\\begin{bmatrix} -1&1&1&0 \\\\ 0&e^{-k_{b}a}&e^{k_{b}a}&-e^{ik_{e}a} \\\\ ik_{e}&-k_{b}&k_{b}&0 \\\\ 0&-k_{b}e^{-k_{b}a}&k_{b}e^{k_{b}a}&-ik_{e}e^{ik_{e}a} \\end{bmatrix}\\begin{bmatrix} c_{ee}\\\\c_{bd}\\\\c_{bc}\\\\c_{dd}\\end{bmatrix}=\\begin{bmatrix} c_{ed} \\\\ 0 \\\\ ik_{e}c_{ed} \\\\ 0\\end{bmatrix}\\text{ ou } A|x\\rangle=|y\\rangle.\n",
    "\\end{equation}\n",
    "Se $\\det(A)\\ne 0$, a inversa de $A$ existe e a solução do sistema de equações lineares é $|x\\rangle=A^{-1}|y\\rangle$, com $(A^{-1})_{j,k}=(-1)^{k+j}\\det(A^{(k,j)})/\\det(A)$ (veja https://github.com/jonasmaziero/algebra_linear/blob/master/01_determinant.ipynb). No entanto, essas contas são muito longas para os propósitos dessa disciplina, e por isso usaremos os resultados obtidos com o Sympy, como mostrado abaixo."
   ]
  },
  {
   "cell_type": "code",
   "execution_count": 65,
   "metadata": {},
   "outputs": [
    {
     "data": {
      "image/png": "[encoded data removed]",
      "text/latex": [
       "$$- \\frac{4.0 i c_{ed} k_{b} k_{e} e^{a \\left(k_{b} - 1.0 i k_{e}\\right)}}{2 k_{b} \\left(k_{b} - 1.0 i k_{e}\\right) e^{2 a k_{b}} - \\left(k_{b} + 1.0 i k_{e}\\right) \\left(k_{b} + 1.0 i k_{e} + \\left(k_{b} - 1.0 i k_{e}\\right) e^{2 a k_{b}}\\right)}$$"
      ],
      "text/plain": [
       "                                                              a⋅(k_{b} - 1.0⋅ⅈ\n",
       "                                   -4.0⋅ⅈ⋅c_{ed}⋅k_{b}⋅k_{e}⋅ℯ                \n",
       "──────────────────────────────────────────────────────────────────────────────\n",
       "                               2⋅a⋅k_{b}                         ⎛            \n",
       "2⋅k_{b}⋅(k_{b} - 1.0⋅ⅈ⋅k_{e})⋅ℯ          - (k_{b} + 1.0⋅ⅈ⋅k_{e})⋅⎝k_{b} + 1.0⋅\n",
       "\n",
       "⋅k_{e})                                    \n",
       "                                           \n",
       "───────────────────────────────────────────\n",
       "                                 2⋅a⋅k_{b}⎞\n",
       "ⅈ⋅k_{e} + (k_{b} - 1.0⋅ⅈ⋅k_{e})⋅ℯ         ⎠"
      ]
     },
     "execution_count": 65,
     "metadata": {},
     "output_type": "execute_result"
    }
   ],
   "source": [
    "a, ke, kb, ced, cee, cbd, cbc, cdd = symbols('a k_{e} k_{b} c_{ed} c_{ee} c_{bd} c_{bc} c_{dd}')\n",
    "A = Matrix([[-1,1,1,0],[0,exp(-kb*a),exp(kb*a),-exp(1j*ke*a)],[1j*ke,-kb,kb,0],\n",
    "            [0,-kb*exp(-kb*a),kb*exp(kb*a),-1j*ke*exp(1j*ke*a)]])#; A\n",
    "Am1 = A.inv()\n",
    "simplify(Am1[3,0]*ced + 0 + Am1[3,2]*1j*ke*ced) + 0"
   ]
  },
  {
   "cell_type": "code",
   "execution_count": 45,
   "metadata": {},
   "outputs": [
    {
     "data": {
      "image/png": "[encoded data removed]",
      "text/latex": [
       "$$\\left \\{ c_{bc} : \\frac{2.0 c_{ed} k_{e} \\left(- k_{b} \\sin{\\left (a k_{e} \\right )} + i k_{b} \\cos{\\left (a k_{e} \\right )} - i k_{e} \\sin{\\left (a k_{e} \\right )} - k_{e} \\cos{\\left (a k_{e} \\right )}\\right)}{- i k_{b}^{2} e^{2.0 a k_{b}} \\sin{\\left (a k_{e} \\right )} - k_{b}^{2} e^{2.0 a k_{b}} \\cos{\\left (a k_{e} \\right )} + i k_{b}^{2} \\sin{\\left (a k_{e} \\right )} + k_{b}^{2} \\cos{\\left (a k_{e} \\right )} - 2.0 k_{b} k_{e} e^{2.0 a k_{b}} \\sin{\\left (a k_{e} \\right )} + 2.0 i k_{b} k_{e} e^{2.0 a k_{b}} \\cos{\\left (a k_{e} \\right )} - 2.0 k_{b} k_{e} \\sin{\\left (a k_{e} \\right )} + 2.0 i k_{b} k_{e} \\cos{\\left (a k_{e} \\right )} + i k_{e}^{2} e^{2.0 a k_{b}} \\sin{\\left (a k_{e} \\right )} + k_{e}^{2} e^{2.0 a k_{b}} \\cos{\\left (a k_{e} \\right )} - i k_{e}^{2} \\sin{\\left (a k_{e} \\right )} - k_{e}^{2} \\cos{\\left (a k_{e} \\right )}}, \\quad c_{bd} : - \\frac{2.0 i c_{ed} k_{e} \\left(k_{b} e^{i a k_{e}} + k_{e} \\left(\\sin{\\left (a k_{e} \\right )} - i \\cos{\\left (a k_{e} \\right )}\\right)\\right) e^{2.0 a k_{b}}}{i k_{b}^{2} e^{2.0 a k_{b}} \\sin{\\left (a k_{e} \\right )} + k_{b}^{2} e^{2.0 a k_{b}} \\cos{\\left (a k_{e} \\right )} - i k_{b}^{2} \\sin{\\left (a k_{e} \\right )} - k_{b}^{2} \\cos{\\left (a k_{e} \\right )} + 2.0 k_{b} k_{e} e^{2.0 a k_{b}} \\sin{\\left (a k_{e} \\right )} - 2.0 i k_{b} k_{e} e^{2.0 a k_{b}} \\cos{\\left (a k_{e} \\right )} + 2.0 k_{b} k_{e} \\sin{\\left (a k_{e} \\right )} - 2.0 i k_{b} k_{e} \\cos{\\left (a k_{e} \\right )} - i k_{e}^{2} e^{2.0 a k_{b}} \\sin{\\left (a k_{e} \\right )} - k_{e}^{2} e^{2.0 a k_{b}} \\cos{\\left (a k_{e} \\right )} + i k_{e}^{2} \\sin{\\left (a k_{e} \\right )} + k_{e}^{2} \\cos{\\left (a k_{e} \\right )}}, \\quad c_{dd} : - \\frac{4.0 i c_{ed} k_{b} k_{e} e^{a k_{b}}}{i k_{b}^{2} e^{2.0 a k_{b}} \\sin{\\left (a k_{e} \\right )} + k_{b}^{2} e^{2.0 a k_{b}} \\cos{\\left (a k_{e} \\right )} - i k_{b}^{2} \\sin{\\left (a k_{e} \\right )} - k_{b}^{2} \\cos{\\left (a k_{e} \\right )} + 2.0 k_{b} k_{e} e^{2.0 a k_{b}} \\sin{\\left (a k_{e} \\right )} - 2.0 i k_{b} k_{e} e^{2.0 a k_{b}} \\cos{\\left (a k_{e} \\right )} + 2.0 k_{b} k_{e} \\sin{\\left (a k_{e} \\right )} - 2.0 i k_{b} k_{e} \\cos{\\left (a k_{e} \\right )} - i k_{e}^{2} e^{2.0 a k_{b}} \\sin{\\left (a k_{e} \\right )} - k_{e}^{2} e^{2.0 a k_{b}} \\cos{\\left (a k_{e} \\right )} + i k_{e}^{2} \\sin{\\left (a k_{e} \\right )} + k_{e}^{2} \\cos{\\left (a k_{e} \\right )}}, \\quad c_{ee} : \\frac{c_{ed} \\left(i k_{b}^{2} e^{2.0 a k_{b}} \\sin{\\left (a k_{e} \\right )} + k_{b}^{2} e^{2.0 a k_{b}} \\cos{\\left (a k_{e} \\right )} - i k_{b}^{2} \\sin{\\left (a k_{e} \\right )} - k_{b}^{2} \\cos{\\left (a k_{e} \\right )} + i k_{e}^{2} e^{2.0 a k_{b}} \\sin{\\left (a k_{e} \\right )} + k_{e}^{2} e^{2.0 a k_{b}} \\cos{\\left (a k_{e} \\right )} - i k_{e}^{2} \\sin{\\left (a k_{e} \\right )} - k_{e}^{2} \\cos{\\left (a k_{e} \\right )}\\right)}{- i k_{b}^{2} e^{2.0 a k_{b}} \\sin{\\left (a k_{e} \\right )} - k_{b}^{2} e^{2.0 a k_{b}} \\cos{\\left (a k_{e} \\right )} + i k_{b}^{2} \\sin{\\left (a k_{e} \\right )} + k_{b}^{2} \\cos{\\left (a k_{e} \\right )} - 2.0 k_{b} k_{e} e^{2.0 a k_{b}} \\sin{\\left (a k_{e} \\right )} + 2.0 i k_{b} k_{e} e^{2.0 a k_{b}} \\cos{\\left (a k_{e} \\right )} - 2.0 k_{b} k_{e} \\sin{\\left (a k_{e} \\right )} + 2.0 i k_{b} k_{e} \\cos{\\left (a k_{e} \\right )} + i k_{e}^{2} e^{2.0 a k_{b}} \\sin{\\left (a k_{e} \\right )} + k_{e}^{2} e^{2.0 a k_{b}} \\cos{\\left (a k_{e} \\right )} - i k_{e}^{2} \\sin{\\left (a k_{e} \\right )} - k_{e}^{2} \\cos{\\left (a k_{e} \\right )}}\\right \\}$$"
      ],
      "text/plain": [
       "⎧                                                                             \n",
       "⎪                                                                             \n",
       "⎨c_{bc}: ─────────────────────────────────────────────────────────────────────\n",
       "⎪                 2  2.0⋅a⋅k_{b}                     2  2.0⋅a⋅k_{b}           \n",
       "⎩        - ⅈ⋅k_{b} ⋅ℯ           ⋅sin(a⋅k_{e}) - k_{b} ⋅ℯ           ⋅cos(a⋅k_{e\n",
       "\n",
       "                                                                              \n",
       "                                                                         2.0⋅c\n",
       "──────────────────────────────────────────────────────────────────────────────\n",
       "            2                     2                                 2.0⋅a⋅k_{b\n",
       "}) + ⅈ⋅k_{b} ⋅sin(a⋅k_{e}) + k_{b} ⋅cos(a⋅k_{e}) - 2.0⋅k_{b}⋅k_{e}⋅ℯ          \n",
       "\n",
       "                                                                              \n",
       "_{ed}⋅k_{e}⋅(-k_{b}⋅sin(a⋅k_{e}) + ⅈ⋅k_{b}⋅cos(a⋅k_{e}) - ⅈ⋅k_{e}⋅sin(a⋅k_{e})\n",
       "──────────────────────────────────────────────────────────────────────────────\n",
       "}                                   2.0⋅a⋅k_{b}                               \n",
       " ⋅sin(a⋅k_{e}) + 2.0⋅ⅈ⋅k_{b}⋅k_{e}⋅ℯ           ⋅cos(a⋅k_{e}) - 2.0⋅k_{b}⋅k_{e}\n",
       "\n",
       "                                                                              \n",
       " - k_{e}⋅cos(a⋅k_{e}))                                                        \n",
       "──────────────────────────────────────────────────────────────────────────────\n",
       "                                                        2  2.0⋅a⋅k_{b}        \n",
       "⋅sin(a⋅k_{e}) + 2.0⋅ⅈ⋅k_{b}⋅k_{e}⋅cos(a⋅k_{e}) + ⅈ⋅k_{e} ⋅ℯ           ⋅sin(a⋅k\n",
       "\n",
       "                                                                              \n",
       "                                                                              \n",
       "──────────────────────────────────────────────────────────────────────────────\n",
       "             2  2.0⋅a⋅k_{b}                       2                     2     \n",
       "_{e}) + k_{e} ⋅ℯ           ⋅cos(a⋅k_{e}) - ⅈ⋅k_{e} ⋅sin(a⋅k_{e}) - k_{e} ⋅cos(\n",
       "\n",
       "                                                                              \n",
       "                                                                              \n",
       "────────, c_{bd}: ────────────────────────────────────────────────────────────\n",
       "                         2  2.0⋅a⋅k_{b}                     2  2.0⋅a⋅k_{b}    \n",
       "a⋅k_{e})          ⅈ⋅k_{b} ⋅ℯ           ⋅sin(a⋅k_{e}) + k_{b} ⋅ℯ           ⋅cos\n",
       "\n",
       "                                                                              \n",
       "                                                                              \n",
       "──────────────────────────────────────────────────────────────────────────────\n",
       "                   2                     2                                 2.0\n",
       "(a⋅k_{e}) - ⅈ⋅k_{b} ⋅sin(a⋅k_{e}) - k_{b} ⋅cos(a⋅k_{e}) + 2.0⋅k_{b}⋅k_{e}⋅ℯ   \n",
       "\n",
       "                              ⎛       ⅈ⋅a⋅k_{e}                               \n",
       "          -2.0⋅ⅈ⋅c_{ed}⋅k_{e}⋅⎝k_{b}⋅ℯ          + k_{e}⋅(sin(a⋅k_{e}) - ⅈ⋅cos(\n",
       "──────────────────────────────────────────────────────────────────────────────\n",
       "⋅a⋅k_{b}                                   2.0⋅a⋅k_{b}                        \n",
       "        ⋅sin(a⋅k_{e}) - 2.0⋅ⅈ⋅k_{b}⋅k_{e}⋅ℯ           ⋅cos(a⋅k_{e}) + 2.0⋅k_{b\n",
       "\n",
       "         ⎞  2.0⋅a⋅k_{b}                                                       \n",
       "a⋅k_{e}))⎠⋅ℯ                                                                  \n",
       "──────────────────────────────────────────────────────────────────────────────\n",
       "                                                               2  2.0⋅a⋅k_{b} \n",
       "}⋅k_{e}⋅sin(a⋅k_{e}) - 2.0⋅ⅈ⋅k_{b}⋅k_{e}⋅cos(a⋅k_{e}) - ⅈ⋅k_{e} ⋅ℯ           ⋅\n",
       "\n",
       "                                                                              \n",
       "                                                                              \n",
       "──────────────────────────────────────────────────────────────────────────────\n",
       "                    2  2.0⋅a⋅k_{b}                       2                    \n",
       "sin(a⋅k_{e}) - k_{e} ⋅ℯ           ⋅cos(a⋅k_{e}) + ⅈ⋅k_{e} ⋅sin(a⋅k_{e}) + k_{e\n",
       "\n",
       "                                                                              \n",
       "                                                                              \n",
       "───────────────, c_{dd}: ─────────────────────────────────────────────────────\n",
       " 2                              2  2.0⋅a⋅k_{b}                     2  2.0⋅a⋅k_\n",
       "} ⋅cos(a⋅k_{e})          ⅈ⋅k_{b} ⋅ℯ           ⋅sin(a⋅k_{e}) + k_{b} ⋅ℯ        \n",
       "\n",
       "                                                                              \n",
       "                                                                              \n",
       "──────────────────────────────────────────────────────────────────────────────\n",
       "{b}                       2                     2                             \n",
       "   ⋅cos(a⋅k_{e}) - ⅈ⋅k_{b} ⋅sin(a⋅k_{e}) - k_{b} ⋅cos(a⋅k_{e}) + 2.0⋅k_{b}⋅k_{\n",
       "\n",
       "                                                                        a⋅k_{b\n",
       "                                             -4.0⋅ⅈ⋅c_{ed}⋅k_{b}⋅k_{e}⋅ℯ      \n",
       "──────────────────────────────────────────────────────────────────────────────\n",
       "    2.0⋅a⋅k_{b}                                   2.0⋅a⋅k_{b}                 \n",
       "e}⋅ℯ           ⋅sin(a⋅k_{e}) - 2.0⋅ⅈ⋅k_{b}⋅k_{e}⋅ℯ           ⋅cos(a⋅k_{e}) + 2\n",
       "\n",
       "}                                                                             \n",
       "                                                                              \n",
       "──────────────────────────────────────────────────────────────────────────────\n",
       "                                                                      2  2.0⋅a\n",
       ".0⋅k_{b}⋅k_{e}⋅sin(a⋅k_{e}) - 2.0⋅ⅈ⋅k_{b}⋅k_{e}⋅cos(a⋅k_{e}) - ⅈ⋅k_{e} ⋅ℯ     \n",
       "\n",
       "                                                                              \n",
       "                                                                              \n",
       "──────────────────────────────────────────────────────────────────────────────\n",
       "⋅k_{b}                     2  2.0⋅a⋅k_{b}                       2             \n",
       "      ⋅sin(a⋅k_{e}) - k_{e} ⋅ℯ           ⋅cos(a⋅k_{e}) + ⅈ⋅k_{e} ⋅sin(a⋅k_{e})\n",
       "\n",
       "                                                                              \n",
       "                                                                              \n",
       "──────────────────────, c_{ee}: ──────────────────────────────────────────────\n",
       "        2                                2  2.0⋅a⋅k_{b}                     2 \n",
       " + k_{e} ⋅cos(a⋅k_{e})          - ⅈ⋅k_{b} ⋅ℯ           ⋅sin(a⋅k_{e}) - k_{b} ⋅\n",
       "\n",
       "                                   ⎛       2  2.0⋅a⋅k_{b}                     \n",
       "                            c_{ed}⋅⎝ⅈ⋅k_{b} ⋅ℯ           ⋅sin(a⋅k_{e}) + k_{b}\n",
       "──────────────────────────────────────────────────────────────────────────────\n",
       " 2.0⋅a⋅k_{b}                       2                     2                    \n",
       "ℯ           ⋅cos(a⋅k_{e}) + ⅈ⋅k_{b} ⋅sin(a⋅k_{e}) + k_{b} ⋅cos(a⋅k_{e}) - 2.0⋅\n",
       "\n",
       "2  2.0⋅a⋅k_{b}                       2                     2                  \n",
       " ⋅ℯ           ⋅cos(a⋅k_{e}) - ⅈ⋅k_{b} ⋅sin(a⋅k_{e}) - k_{b} ⋅cos(a⋅k_{e}) + ⅈ⋅\n",
       "──────────────────────────────────────────────────────────────────────────────\n",
       "             2.0⋅a⋅k_{b}                                   2.0⋅a⋅k_{b}        \n",
       "k_{b}⋅k_{e}⋅ℯ           ⋅sin(a⋅k_{e}) + 2.0⋅ⅈ⋅k_{b}⋅k_{e}⋅ℯ           ⋅cos(a⋅k\n",
       "\n",
       "     2  2.0⋅a⋅k_{b}                     2  2.0⋅a⋅k_{b}                       2\n",
       "k_{e} ⋅ℯ           ⋅sin(a⋅k_{e}) + k_{e} ⋅ℯ           ⋅cos(a⋅k_{e}) - ⅈ⋅k_{e} \n",
       "──────────────────────────────────────────────────────────────────────────────\n",
       "                                                                              \n",
       "_{e}) - 2.0⋅k_{b}⋅k_{e}⋅sin(a⋅k_{e}) + 2.0⋅ⅈ⋅k_{b}⋅k_{e}⋅cos(a⋅k_{e}) + ⅈ⋅k_{e\n",
       "\n",
       "                     2             ⎞                                          \n",
       "⋅sin(a⋅k_{e}) - k_{e} ⋅cos(a⋅k_{e})⎠                                          \n",
       "──────────────────────────────────────────────────────────────────────────────\n",
       " 2  2.0⋅a⋅k_{b}                     2  2.0⋅a⋅k_{b}                       2    \n",
       "} ⋅ℯ           ⋅sin(a⋅k_{e}) + k_{e} ⋅ℯ           ⋅cos(a⋅k_{e}) - ⅈ⋅k_{e} ⋅sin\n",
       "\n",
       "                               ⎫\n",
       "                               ⎪\n",
       "───────────────────────────────⎬\n",
       "                 2             ⎪\n",
       "(a⋅k_{e}) - k_{e} ⋅cos(a⋅k_{e})⎭"
      ]
     },
     "execution_count": 45,
     "metadata": {},
     "output_type": "execute_result"
    }
   ],
   "source": [
    "solve([ced+cee-cbd-cbc, cbd*exp(-kb*a)+cbc*exp(kb*a)-cdd*(cos(ke*a)+1j*sin(ke*a)),\n",
    "       1j*ke*(ced-cee)+kb*(cbd-cbc), -kb*(cbd*exp(-kb*a)-cbc*exp(kb*a))-1j*ke*cdd*(cos(ke*a)+1j*sin(ke*a))],\n",
    "      cee,cbd,cbc,cdd)"
   ]
  },
  {
   "cell_type": "markdown",
   "metadata": {},
   "source": [
    "No caso da barreira de potencial, iniciaremos calculando o coeficiente de transmissão, \n",
    "\\begin{equation}\n",
    "T:=\\frac{|c_{dd}|^{2}}{|c_{ed}|^{2}},\n",
    "\\end{equation}\n",
    "uma vez que a velocidade é a mesma, $\\omega/k_{e}$, nas regiões $x<0$ e $x>a$. Dos cálculos com o Sympy, teremos que\n",
    "\\begin{align}\n",
    "\\frac{-c_{dd}}{ic_{ed}} & = \\frac{4k_{e}k_{b}e^{k_{b}a}e^{-ik_{e}a}}{2k_{b}(k_{b}-ik_{e})e^{2k_{b}a}-(k_{b}+ik_{e})(k_{b}+ik_{e}+(k_{b}-ik_{e})e^{2k_{b}a})} \\\\\n",
    "& = \\frac{4k_{e}k_{b}e^{k_{b}a}e^{-ik_{e}a}} {2(k_{b}^{2}-ik_{b}k_{e})e^{2k_{b}a}-k_{b}^{2}-2ik_{b}k_{e}+k_{e}^{2}-(k_{b}^{2}+k_{e}^{2})e^{2k_{b}a}} \\\\\n",
    "& = \\frac{4k_{e}k_{b}e^{k_{b}a}e^{-ik_{e}a}} {(2k_{b}^{2}-k_{b}^{2}-k_{e}^{2})e^{2k_{b}a}-k_{b}^{2}+k_{e}^{2}-2ik_{b}k_{e}(e^{2k_{b}a}+1)}\\frac{e^{-k_{b}a}}{e^{-k_{b}a}} \\\\\n",
    "& = \\frac{4k_{e}k_{b}e^{-ik_{e}a}} {(k_{b}^{2}-k_{e}^{2})e^{k_{b}a}-(k_{b}^{2}-k_{e}^{2})e^{-k_{b}a}-2ik_{b}k_{e}(e^{k_{b}a}+e^{-k_{b}a})}\\frac{1/4k_{b}k_{e}}{1/4k_{b}k_{e}} \\\\\n",
    "& = \\frac{e^{-ik_{e}a}} {\\frac{k_{b}^{2}-k_{e}^{2}}{2k_{b}k_{e}}\\frac{e^{k_{b}a}-e^{-k_{b}a}}{2}-i\\frac{e^{k_{b}a}+e^{-k_{b}a}}{2}} \\\\\n",
    "& = \\frac{e^{-ik_{e}a}} {\\frac{k_{b}^{2}-k_{e}^{2}}{2k_{b}k_{e}}\\sinh(k_{b}a)-i\\cosh(k_{b}a)}.\n",
    "\\end{align}"
   ]
  },
  {
   "cell_type": "markdown",
   "metadata": {},
   "source": [
    "Com isso vem que\n",
    "\\begin{align}\n",
    "T & = \\frac{1} {\\frac{(k_{b}^{2}-k_{e}^{2})^{2}}{4k_{b}^{2}k_{e}^{2}}\\sinh^{2}(k_{b}a)+\\cosh^{2}(k_{b}a)} = \\frac{4k_{b}^{2}k_{e}^{2}} {(k_{b}^{4}+k_{e}^{4}-2k_{b}^{2}k_{e}^{2})\\sinh^{2}(k_{b}a)+4k_{b}^{2}k_{e}^{2}\\cosh^{2}(k_{b}a)} \\\\\n",
    "& = \\frac{4k_{b}^{2}k_{e}^{2}} {(k_{b}^{4}+k_{e}^{4}+2k_{b}^{2}k_{e}^{2})\\sinh^{2}(k_{b}a)+4k_{b}^{2}k_{e}^{2}(\\cosh^{2}(k_{b}a)-\\sinh^{2}(k_{b}a))} \\\\\n",
    "& = \\frac{1} {\\frac{(k_{b}^{2}+k_{e}^{2})^{2}}{4k_{b}^{2}k_{e}^{2}}\\sinh^{2}(k_{b}a)+1}.\n",
    "\\end{align}\n",
    "Como \n",
    "\\begin{align}\n",
    "& \\frac{(k_{b}^{2}+k_{e}^{2})^{2}}{k_{b}^{2}k_{e}^{2}} = \\frac{(2m(U_{0}-E)+2mE)^{2}}{2m(U_{0}-E)2mE} = \\frac{U_{0}^{2}}{E(U_{0}-E)} = \\frac{1}{\\frac{E}{U_{0}}\\left(1-\\frac{E}{U_{0}}\\right)} \\\\\n",
    "& \\text{e} \\\\\n",
    "& \\frac{k_{d}}{k_{e}} = \\frac{\\sqrt{2m(U_{0}-E)}}{\\sqrt{2mE}} = \\sqrt{\\frac{U_{0}}{E}-1}\n",
    "\\end{align}\n",
    "obteremos, finalmente, que\n",
    "\\begin{equation}\n",
    "T = \\left(\\frac{\\sinh^{2}\\left(k_{e}a\\sqrt{\\frac{U_{0}}{E}-1}\\right)}{4\\frac{E}{U_{0}}\\left(1-\\frac{E}{U_{0}}\\right)}+1\\right)^{-1}.\n",
    "\\end{equation}"
   ]
  },
  {
   "cell_type": "markdown",
   "metadata": {},
   "source": [
    "## $E>U_{0}$\n",
    "Nesse caso,\n",
    "\\begin{align}\n",
    "& \\Xi_{e}(x<0) = c_{ed}e^{ik_{e}x} + c_{ee}e^{-ik_{e}x}\\text{, } \\Xi_{b}(0<x<a) = c_{bd}e^{-ik_{b}x} + c_{bc}e^{ik_{b}x}\\text{, } \\Xi_{d}(x>a) = c_{dd}e^{ik_{e}x} + c_{de}e^{-ik_{e}x}, \\\\\n",
    "& \\partial_{x}\\Xi_{e} = ik_{e}(c_{ed}e^{ik_{e}x} - c_{ee}e^{-ik_{e}x})\\text{, } \\partial_{x}\\Xi_{b} = -ik_{b}(c_{bd}e^{-ik_{b}x} - c_{bc}e^{ik_{b}x})\\text{, } \\partial_{x}\\Xi_{d} = ik_{e}c_{dd}e^{ik_{e}x},\n",
    "\\end{align}\n",
    "com\n",
    "\\begin{equation}\n",
    "k_{e}=\\frac{\\sqrt{2mE}}{\\hbar} \\text{ e } k_{b}=\\frac{\\sqrt{2m(E-U_{0})}}{\\hbar}\n",
    "\\end{equation}\n",
    "e, novamente, o quanton move-se inicialmente da esquerda para a direita, e por conseguinte $c_{de}=0$. Ademais\n",
    "\\begin{equation}\n",
    "\\begin{bmatrix} -1&1&1&0 \\\\ 0&e^{-k_{b}a}&e^{k_{b}a}&-e^{ik_{e}a} \\\\ ik_{e}&-k_{b}&k_{b}&0 \\\\ 0&-k_{b}e^{-k_{b}a}&k_{b}e^{k_{b}a}&-ik_{e}e^{ik_{e}a} \\end{bmatrix}\\begin{bmatrix} c_{ee}\\\\c_{bd}\\\\c_{bc}\\\\c_{dd}\\end{bmatrix}=\\begin{bmatrix} c_{ed} \\\\ 0 \\\\ ik_{e}c_{ed} \\\\ 0\\end{bmatrix}.\n",
    "\\end{equation}"
   ]
  },
  {
   "cell_type": "code",
   "execution_count": 83,
   "metadata": {},
   "outputs": [
    {
     "data": {
      "image/png": "[encoded data removed]",
      "text/plain": [
       "<matplotlib.figure.Figure at 0x1130526a0>"
      ]
     },
     "metadata": {},
     "output_type": "display_data"
    }
   ],
   "source": [
    "fig = plt.figure(figsize=(7,5)); ke = 1; a = 1; x = np.arange(0.01,0.99,0.01)\n",
    "T = 1/(1+(np.sinh(ke*a*np.sqrt((1/x)-1)))**2)/(4*x*(1-x)); R = 1-T\n",
    "plt.plot(x,R); plt.plot(x,T); plt.xlim(0,1); plt.ylim(-0.02,1.02)\n",
    "plt.xlabel(r'$E/U_{0}$'); plt.legend((r'$R$',r'$T$'),loc=(1.01,0.5))\n",
    "plt.show()"
   ]
  },
  {
   "cell_type": "markdown",
   "metadata": {},
   "source": [
    "# Exercícios (para entregar)\n",
    "\n",
    "1. Dadas as definições $\\sinh(x):=(e^{x}-e^{-x})/2$ e $\\cosh(x):=(e^{x}+e^{-x})/2$, verifique que $\\cosh^{2}(x)-\\sinh^{2}(x)=1$.\n",
    "\n",
    "1. dddd"
   ]
  },
  {
   "cell_type": "code",
   "execution_count": null,
   "metadata": {},
   "outputs": [],
   "source": []
  }
 ],
 "metadata": {
  "kernelspec": {
   "display_name": "Python 3",
   "language": "python",
   "name": "python3"
  },
  "language_info": {
   "codemirror_mode": {
    "name": "ipython",
    "version": 3
   },
   "file_extension": ".py",
   "mimetype": "text/x-python",
   "name": "python",
   "nbconvert_exporter": "python",
   "pygments_lexer": "ipython3",
   "version": "3.6.4"
  }
 },
 "nbformat": 4,
 "nbformat_minor": 2
}
