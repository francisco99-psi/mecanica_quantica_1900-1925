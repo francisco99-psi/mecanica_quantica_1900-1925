{
 "cells": [
  {
   "cell_type": "markdown",
   "metadata": {},
   "source": [
    "# Notas de aula: Mecânica Quântica, Autor: Jonas Maziero, Departamento de Física, UFSM"
   ]
  },
  {
   "cell_type": "code",
   "execution_count": 2,
   "metadata": {},
   "outputs": [],
   "source": [
    "%run init.ipynb"
   ]
  },
  {
   "cell_type": "markdown",
   "metadata": {},
   "source": [
    "# Efeito fotoelétrico\n",
    "Teorias corpusculares da luz foram desenvolvidas por Descartes em 1637 e por Newton em 1672, e podem explicar, por exemplo, a reflexão da luz. No entanto, fenômenos tais como difração e interferência só são explicados por teorias ondulatórias da luz, como a de Huygens de 1678. Em 1862 Maxwell mostrou que ondas eletromagnéticas se propagam com a velocidade da luz, ou seja, luz é um tipo de onda eletromagnética. É muito interessante que, em 1887, ao verificar experimentalmente uma das predições da teoria de Maxwell, Heinrich Hertz observou a primeira indicação da existência do efeito fotoelétrico, que discutiremos a seguir. E foi ao explicar esse efeito que Einstein obteve fortes indicações de que a luz é de fato constituída por corpúsculos, hoje chamados de fótons. \n",
    "\n",
    "## Fatos empíricos\n",
    "O experimento cujos resultados serão tomados como base motivacional para o desenvolvimento da teoria é o de Lenard, mostrado abaixo (retirado da Ref. [1]).\n",
    "\n",
    "<table>\n",
    "<tr>\n",
    "<td> <img src='lenard_fee.png' width='300'/> </td>\n",
    "<td> <img src='lenard_fee_i.png' width='250'/> </td>\n",
    "<td> <img src='lenard_fee_f.png' width='250'/> </td>\n",
    "</tr>\n",
    "</table>"
   ]
  },
  {
   "attachments": {},
   "cell_type": "markdown",
   "metadata": {},
   "source": [
    "Luz incide na superfície metálica $C$, podendo arrancar elétrons dela. Uma ddp aplicada entre $C$ e $A$ pode acelerar ou desacelerar esses elétrons. Se elétrons chegam em $A$, uma corrente elétrica é medida em um amperímetro. Com a polaridade certa, uma ddp suficientemente grande fará com que todos os elétrons arrancados de $C$ pela luz cheguem a $A$, e uma corrente elétrica máxima $i_{\\max}$ é observada no amperímetro. A diminuição da ddp diminui a corrente elétrica, que é não nula mesmo para $V=0$. Se invertermos a polarização da ddp, impedindo que elétrons com energia cinética menor que $e|V|$ cheguem a $A$, a corrente continua diminuindo. Em geral, quanto maior a intensidade da luz, $I$, incidente em $C$, maior é corrente máxima $i_{\\max}$ observada. Mas a corrente elétrica vai pra zero em um valor de potencial $V=V_{0}$, chamado de potencial de corte, que independe de $I$. Ademais, mantendo a intensidade da luz constante e mudando a frequência da radiação eletromagnética incidente, o módulo do potencial de corte aumenta com a frequência e existe uma frequência de corte $\\nu_{\\min}$. Para frequências $\\nu<\\nu_{min}$, nenhuma corrente elétrica era medida, independentemente da intensidade da luz incidente."
   ]
  },
  {
   "cell_type": "markdown",
   "metadata": {},
   "source": [
    "## A teoria de Einstein\n",
    "Einstein levou a cabo a hipótese de Planck, assumindo que a luz incidente é constituída por fótons, cada um com energia $h\\nu$. Ao ser absorvido, toda energia do fóton é transferida imediatamente para o elétron. Se a energia necessária para arrancar o elétron do material for $\\tau$, a chamada _função trabalho do material_, então, por conservação de energia:\n",
    "\\begin{equation}\n",
    "h\\nu = \\tau + E_{c},\n",
    "\\end{equation}\n",
    "em que $E_{c}$ é a energia cinética do elétron. A frequência mínima para que corrente elétrica seja observada é obtida quando aproximadamente toda energia do fóton é usada para arrancar o elétron do material (e $E_{c}\\approx0$):\n",
    "\\begin{equation}\n",
    "h\\nu_{\\min} = \\tau.\n",
    "\\end{equation}\n",
    "Como o potencial de corte correponde à energia cinética máxima do elétron, teremos que\n",
    "\\begin{equation}\n",
    "eV_{0} = E_{c}^{\\max} = h\\nu - \\tau \\therefore V_{0} = (-\\tau/e) + (h/e)\\nu.\n",
    "\\end{equation}\n",
    "Millikan verificou experimentalmente a teoria de Einstein do efeito fotoelétrico [Physical Review 7, 355 (1916)]. O resultado está mostrado na figura abaixo.\n",
    "\n",
    "<img style=\"transform: rotate(90deg)  width=200\"; src='millikan_fee.png'>"
   ]
  },
  {
   "cell_type": "code",
   "execution_count": null,
   "metadata": {},
   "outputs": [],
   "source": []
  }
 ],
 "metadata": {
  "kernelspec": {
   "display_name": "Python 3",
   "language": "python",
   "name": "python3"
  },
  "language_info": {
   "codemirror_mode": {
    "name": "ipython",
    "version": 3
   },
   "file_extension": ".py",
   "mimetype": "text/x-python",
   "name": "python",
   "nbconvert_exporter": "python",
   "pygments_lexer": "ipython3",
   "version": "3.6.4"
  }
 },
 "nbformat": 4,
 "nbformat_minor": 2
}
