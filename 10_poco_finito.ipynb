{
 "cells": [
  {
   "cell_type": "markdown",
   "metadata": {},
   "source": [
    "# Notas de aula: Mecânica Quântica, Autor: Jonas Maziero, Departamento de Física, UFSM\n",
    "\n",
    "Link para o vídeo da aula sobre esse tópico: ."
   ]
  },
  {
   "cell_type": "code",
   "execution_count": 52,
   "metadata": {},
   "outputs": [],
   "source": [
    "%run init.ipynb"
   ]
  },
  {
   "cell_type": "markdown",
   "metadata": {},
   "source": [
    "# Potencial poço quadrado finito\n",
    "O potencial de um quanton em uma caixa unidimensional é\n",
    "\\begin{cases}\n",
    "U(x<0)= U_{0}, \\\\\n",
    "U(0<x<a) = 0, \\\\\n",
    "U(x>a) = U_{0},\n",
    "\\end{cases}\n",
    "com $U_{0}$ finito. Para esse potencial, a forma geral das soluções da EqSIT1D,\n",
    "\\begin{equation}\n",
    "-\\frac{\\hbar^{2}}{2m}\\partial_{xx}\\Xi(x)+U(x)\\Xi(x)=E\\Xi(x) \\text{ ou } \\partial_{xx}\\Xi(x)+k^{2}\\Xi(x)=0\n",
    "\\end{equation}\n",
    "com $k=\\sqrt{2m(E-U(x))}/\\hbar$, podem ser escritas como segue:\n",
    "\\begin{cases}\n",
    "\\Xi_{e}(x<0) = c_{ed}e^{ik_{e}x}+c_{ee}e^{-ik_{e}x}, \\\\\n",
    "\\Xi_{i}(0<x<a) = c_{id}e^{ik_{i}x}+c_{ie}e^{-ik_{i}x}, \\\\\n",
    "\\Xi_{d}(x>a) = c_{dd}e^{ik_{e}x}+c_{de}e^{-ik_{e}x}, \\\\\n",
    "\\end{cases}\n",
    "com\n",
    "\\begin{equation}\n",
    "k_{e} = \\frac{\\sqrt{2m(E-U_{0})}}{\\hbar} \\text{ e } k_{i} = \\frac{\\sqrt{2mE}}{\\hbar}.\n",
    "\\end{equation}"
   ]
  },
  {
   "cell_type": "markdown",
   "metadata": {},
   "source": [
    "## $E>U_{0}$\n",
    "Nesse caso o problema vira um problema de espalhamento. Como nos outros problemas desse tipo, que vimos anteriormente, vamos considerar o quanton movimentando-se inicialmente na região $x<0$ da esquerda para a direita, i.e., a intensidade do feixe incidente é dada por $|c_{ed}|^{2}$. Novamente, como depois de passar para a região $x>a$ não há motivo para o quanton retornar para a esquerda, fazemos\n",
    "\\begin{equation}\n",
    "c_{de}:=0.\n",
    "\\end{equation}\n",
    "Para determinar os outros coeficientes em termos de $c_{ed}$ impomos a continuidade da função de onda\n",
    "\\begin{align}\n",
    "& \\Xi_{e}(x=0)=\\Xi_{i}(x=0) \\therefore c_{ed}+c_{ee}=c_{id}+c_{ie}, \\\\\n",
    "& \\Xi_{i}(x=a)=\\Xi_{d}(x=a) \\therefore c_{id}e^{ik_{i}a}+c_{ie}e^{-ik_{i}a} = c_{dd}e^{ik_{e}a},\n",
    "\\end{align}\n",
    "Para $U_{0}$ finito, a primeira derivada,\n",
    "\\begin{align}\n",
    "&\\partial_{x}\\Xi_{e} = ik_{e}\\left(c_{ed}e^{ik_{e}x}-c_{ee}e^{-ik_{e}x}\\right), \\\\\n",
    "&\\partial_{x}\\Xi_{i} = ik_{i}\\left(c_{id}e^{ik_{i}x}-c_{ie}e^{-ik_{i}x}\\right), \\\\\n",
    "&\\partial_{x}\\Xi_{d} = ik_{e}c_{dd}e^{ik_{e}x},\n",
    "\\end{align}\n",
    "também deve ser contínua:\n",
    "\\begin{align}\n",
    "& \\partial_{x}\\Xi_{e}(x=0)=\\partial_{x}\\Xi_{i}(x=0) \\therefore ik_{e}(c_{ed}-c_{ee})=ik_{i}(c_{id}-c_{ie}), \\\\\n",
    "& \\partial_{x}\\Xi_{i}(x=a)=\\partial_{x}\\Xi_{d}(x=a) \\therefore ik_{i}\\left(c_{id}e^{ik_{i}a}-c_{ie}e^{-ik_{i}a}\\right) = ik_{e}c_{dd}e^{ik_{e}a}.\n",
    "\\end{align}"
   ]
  },
  {
   "cell_type": "code",
   "execution_count": 9,
   "metadata": {},
   "outputs": [
    {
     "data": {
      "image/png": "[encoded data removed]",
      "text/latex": [
       "$$\\left \\{ c_{dd} : \\frac{4.0 c_{ed} k_{e} k_{i} e^{i a \\left(- k_{e} + k_{i}\\right)}}{- k_{e}^{2} e^{2.0 i a k_{i}} + k_{e}^{2} + 2.0 k_{e} k_{i} e^{2.0 i a k_{i}} + 2.0 k_{e} k_{i} - k_{i}^{2} e^{2.0 i a k_{i}} + k_{i}^{2}}, \\quad c_{ee} : \\frac{c_{ed} \\left(k_{e}^{2} e^{2.0 i a k_{i}} - k_{e}^{2} - k_{i}^{2} e^{2.0 i a k_{i}} + k_{i}^{2}\\right)}{k_{e}^{2} e^{2.0 i a k_{i}} - k_{e}^{2} - 2.0 k_{e} k_{i} e^{2.0 i a k_{i}} - 2.0 k_{e} k_{i} + k_{i}^{2} e^{2.0 i a k_{i}} - k_{i}^{2}}, \\quad c_{id} : \\frac{2.0 c_{ed} k_{e} \\left(k_{e} + k_{i}\\right)}{- k_{e}^{2} e^{2.0 i a k_{i}} + k_{e}^{2} + 2.0 k_{e} k_{i} e^{2.0 i a k_{i}} + 2.0 k_{e} k_{i} - k_{i}^{2} e^{2.0 i a k_{i}} + k_{i}^{2}}, \\quad c_{ie} : \\frac{2.0 c_{ed} k_{e} \\left(k_{e} - k_{i}\\right) e^{2.0 i a k_{i}}}{k_{e}^{2} e^{2.0 i a k_{i}} - k_{e}^{2} - 2.0 k_{e} k_{i} e^{2.0 i a k_{i}} - 2.0 k_{e} k_{i} + k_{i}^{2} e^{2.0 i a k_{i}} - k_{i}^{2}}\\right \\}$$"
      ],
      "text/plain": [
       "⎧                                                                    ⅈ⋅a⋅(-k_{\n",
       "⎪                                            4.0⋅c_{ed}⋅k_{e}⋅k_{i}⋅ℯ         \n",
       "⎨c_{dd}: ─────────────────────────────────────────────────────────────────────\n",
       "⎪               2  2.0⋅ⅈ⋅a⋅k_{i}        2                    2.0⋅ⅈ⋅a⋅k_{i}    \n",
       "⎩        - k_{e} ⋅ℯ              + k_{e}  + 2.0⋅k_{e}⋅k_{i}⋅ℯ              + 2\n",
       "\n",
       "e} + k_{i})                                                                   \n",
       "                                                                              \n",
       "───────────────────────────────────────────────, c_{ee}: ─────────────────────\n",
       "                      2  2.0⋅ⅈ⋅a⋅k_{i}        2               2  2.0⋅ⅈ⋅a⋅k_{i}\n",
       ".0⋅k_{e}⋅k_{i} - k_{i} ⋅ℯ              + k_{i}           k_{e} ⋅ℯ             \n",
       "\n",
       "       ⎛     2  2.0⋅ⅈ⋅a⋅k_{i}        2        2  2.0⋅ⅈ⋅a⋅k_{i}        2⎞      \n",
       "c_{ed}⋅⎝k_{e} ⋅ℯ              - k_{e}  - k_{i} ⋅ℯ              + k_{i} ⎠      \n",
       "──────────────────────────────────────────────────────────────────────────────\n",
       "        2                    2.0⋅ⅈ⋅a⋅k_{i}                          2  2.0⋅ⅈ⋅a\n",
       " - k_{e}  - 2.0⋅k_{e}⋅k_{i}⋅ℯ              - 2.0⋅k_{e}⋅k_{i} + k_{i} ⋅ℯ       \n",
       "\n",
       "                                                                              \n",
       "                                                                   2.0⋅c_{ed}⋅\n",
       "───────────────, c_{id}: ─────────────────────────────────────────────────────\n",
       "⋅k_{i}        2                 2  2.0⋅ⅈ⋅a⋅k_{i}        2                    2\n",
       "       - k_{i}           - k_{e} ⋅ℯ              + k_{e}  + 2.0⋅k_{e}⋅k_{i}⋅ℯ \n",
       "\n",
       "                                                                              \n",
       "k_{e}⋅(k_{e} + k_{i})                                                         \n",
       "───────────────────────────────────────────────────────────────, c_{ie}: ─────\n",
       ".0⋅ⅈ⋅a⋅k_{i}                          2  2.0⋅ⅈ⋅a⋅k_{i}        2               \n",
       "             + 2.0⋅k_{e}⋅k_{i} - k_{i} ⋅ℯ              + k_{i}           k_{e}\n",
       "\n",
       "                                                              2.0⋅ⅈ⋅a⋅k_{i}   \n",
       "                            2.0⋅c_{ed}⋅k_{e}⋅(k_{e} - k_{i})⋅ℯ                \n",
       "──────────────────────────────────────────────────────────────────────────────\n",
       "2  2.0⋅ⅈ⋅a⋅k_{i}        2                    2.0⋅ⅈ⋅a⋅k_{i}                    \n",
       " ⋅ℯ              - k_{e}  - 2.0⋅k_{e}⋅k_{i}⋅ℯ              - 2.0⋅k_{e}⋅k_{i} +\n",
       "\n",
       "                               ⎫\n",
       "                               ⎪\n",
       "───────────────────────────────⎬\n",
       "      2  2.0⋅ⅈ⋅a⋅k_{i}        2⎪\n",
       " k_{i} ⋅ℯ              - k_{i} ⎭"
      ]
     },
     "execution_count": 9,
     "metadata": {},
     "output_type": "execute_result"
    }
   ],
   "source": [
    "ced, cee, cid, cie, cdd, ke, ki, a = symbols('c_{ed} c_{ee} c_{id} c_{ie} c_{dd} k_{e} k_{i} a')\n",
    "solve([ced+cee-cid-cie, cid*exp(1j*ki*a)+cie*exp(-1j*ki*a)-cdd*exp(1j*ke*a), ke*(ced-cee)-ki*(cid-cie),\n",
    "      ki*(cid*exp(1j*ki*a)-cie*exp(-1j*ki*a))-ke*cdd*exp(1j*ke*a)],[cee,cid,cie,cdd])"
   ]
  },
  {
   "cell_type": "markdown",
   "metadata": {},
   "source": [
    "O coeficiente de transmissão é obtido a partir do coeficiente \n",
    "\\begin{align}\n",
    "c_{dd} & = \\frac{c_{ed}4k_{e}k_{i}e^{-iak_{e}}e^{iak_{i}}}{(k_{e}^{2}+k_{i}^{2})(1-e^{2iak_{i}})+2k_{i}k_{e}(1+e^{2iak_{i}})} = \\frac{c_{ed}e^{-iak_{e}}}{\\frac{k_{e}^{2}+k_{i}^{2}}{2k_{e}k_{i}}\\frac{e^{-iak_{i}}-e^{iak_{i}}}{2}+\\frac{e^{-iak_{i}}+e^{iak_{i}}}{2}} \\\\\n",
    "& = \\frac{c_{ed}e^{-iak_{e}}}{-i\\frac{k_{e}^{2}+k_{i}^{2}}{2k_{e}k_{i}}\\sin(ak_{i})+\\cos(ak_{i})}\n",
    "\\end{align}\n",
    "e é dado por\n",
    "\\begin{align}\n",
    "T & = \\frac{|c_{dd}|^{2}}{|c_{ed}|^{2}} = \\left(\\frac{(k_{e}^{2}+k_{i}^{2})^{2}}{4k_{e}^{2}k_{i}^{2}}\\sin^{2}(ak_{i})+\\cos^{2}(ak_{i})\\right)^{-1} \\\\\n",
    "& = \\left(\\frac{k_{e}^{4}+k_{i}^{4}-2k_{e}^{2}k_{i}^{2}+4k_{e}^{2}k_{i}^{2}}{4k_{e}^{2}k_{i}^{2}}\\sin^{2}(ak_{i})+\\cos^{2}(ak_{i})\\right)^{-1}  \\\\ \n",
    "& = \\left(\\frac{(k_{e}^{2}-k_{i}^{2})^{2}}{4k_{e}^{2}k_{i}^{2}}\\sin^{2}(ak_{i})+1\\right)^{-1}.\n",
    "\\end{align}"
   ]
  },
  {
   "cell_type": "markdown",
   "metadata": {},
   "source": [
    "Vemos na expressão acima que $T=1$ quando $\\sin(ak_{i})=0$, que é obtido quando $ak_{i}=n\\pi$ com $n=1,2,3,\\cdots$. Mas, como $k_{i}=\\sqrt{2mE}/\\hbar$, essa condição é equivalente ao quanton ter inicialmente as energias\n",
    "\\begin{equation}\n",
    "E=\\frac{\\hbar^{2}k_{i}^{2}}{2m} = \\left(\\frac{\\hbar^{2}\\pi^{2}}{2m a^{2}}\\right)n^{2},\n",
    "\\end{equation}\n",
    "que é igual à expressão para a energia de um quanton em um potencial poço quadrado infinito. Esse fenômeno, chamado de __efeito Ramsauer-Townsend__, já foi verificado experimentalmente [https://doi.org/10.1119/1.1975094]. \n",
    "\n",
    "Na figura abaixo está mostrado $T=T(E/U_{0})$ para energias $E>U_{0}$ quaisquer."
   ]
  },
  {
   "cell_type": "code",
   "execution_count": 22,
   "metadata": {},
   "outputs": [
    {
     "data": {
      "application/vnd.jupyter.widget-view+json": {
       "model_id": "4f067b0074a149fa8995a7b83612bb9d",
       "version_major": 2,
       "version_minor": 0
      },
      "text/plain": [
       "interactive(children=(FloatSlider(value=4.95, description='a', max=10.0, min=0.05), Output()), _dom_classes=('…"
      ]
     },
     "metadata": {},
     "output_type": "display_data"
    }
   ],
   "source": [
    "def T_EgtU0(a):\n",
    "    fig = plt.figure(figsize=(8,5)); U0 = 1; m = 1; hbb = 1\n",
    "    x = np.arange(1.001,10,0.005); ki = np.sqrt(2*m*x)/hbb; ke = np.sqrt(1-U0/x)*ki\n",
    "    T = 1/(1+((np.sin(ki*a)**2)*((ke**2-ki**2)**2/(4*ke**2*ki**2)))); R = 1-T\n",
    "    plt.plot(x,R); plt.plot(x,T); plt.xlim(1,); plt.ylim(-0.01,1.01)\n",
    "    plt.xlabel(r'$E/U_{0}$'); plt.legend((r'$R$',r'$T$'),loc=(1.01,0.5))\n",
    "    plt.annotate(r'$a=$'+str(a)[:5], xy=(0.8,0.9), xytext=(0.8,0.9), fontsize=12)\n",
    "    plt.show()\n",
    "interactive(T_EgtU0, a=(0.05,10,0.1))"
   ]
  },
  {
   "cell_type": "markdown",
   "metadata": {},
   "source": [
    "## $E<U_{0}$\n",
    "Nesse caso, vamos definir\n",
    "\\begin{equation}\n",
    "k_{d}:=ik_{e} = \\frac{\\sqrt{2m(U_{0}-E)}}{\\hbar}>0.\n",
    "\\end{equation}\n",
    "Assim $\\Xi_{e}(x<0) = c_{ed}e^{k_{d}x}+c_{ee}e^{-k_{d}x}$ e como $\\lim_{x\\rightarrow -\\infty}e^{-k_{d}x}=\\infty$ fazemos\n",
    "\\begin{equation}\n",
    "c_{ee} :=0\\therefore\\Xi_{e}(x<0) = c_{ed}e^{k_{d}x}.\n",
    "\\end{equation}\n",
    "\n",
    "Já para $\\Xi_{d}(x>a) = c_{dd}e^{k_{d}x}+c_{de}e^{-k_{d}x}$ temos que $\\lim_{x\\rightarrow \\infty}e^{k_{d}x}=\\infty$ e por isso impomos que\n",
    "\\begin{equation}\n",
    "c_{dd}:= 0 \\therefore \\Xi_{d}(x>a) = c_{de}e^{-k_{d}x}.\n",
    "\\end{equation}\n",
    "\n",
    "Usando as derivadas\n",
    "\\begin{cases}\n",
    "\\partial_{x}\\Xi_{e}(x<0) = k_{d}c_{ed}e^{k_{d}x}, \\\\\n",
    "\\partial_{x}\\Xi_{i}(0<x<a) = ik_{i}\\left(c_{id}e^{ik_{i}x}-c_{ie}e^{-ik_{i}x}\\right), \\\\\n",
    "\\partial_{x}\\Xi_{d}(x>a) = -k_{d}c_{de}e^{-k_{d}x}, \\\\\n",
    "\\end{cases}"
   ]
  },
  {
   "cell_type": "markdown",
   "metadata": {},
   "source": [
    "aplicamos a continuidade da função de onda e de sua derivada primeira nas fronteiras:\n",
    "\\begin{align}\n",
    "& (\\star) \\text{ } \\Xi_{e}(x=0)=\\Xi_{i}(x=0) \\therefore c_{ed} = c_{id}+c_{ie}, \\\\\n",
    "& (*) \\text{ } \\partial_{x}\\Xi_{e}(x=0)=\\partial_{x}\\Xi_{i}(x=0) \\therefore k_{d}c_{ed} = ik_{i}(c_{id}-c_{ie}), \\\\\n",
    "& (\\star\\star) \\text{ } \\Xi_{i}(x=a)=\\Xi_{d}(x=a) \\therefore c_{id}e^{ik_{i}a}+c_{ie}e^{-ik_{i}a} = c_{de}e^{-k_{d}a}, \\\\\n",
    "& (**) \\text{ } \\partial_{x}\\Xi_{i}(x=a)=\\partial_{x}\\Xi_{d}(x=a) \\therefore ik_{i}\\left(c_{id}e^{ik_{i}a}-c_{ie}e^{-ik_{i}a}\\right) = -k_{d}c_{de}e^{-k_{d}a}.\n",
    "\\end{align}"
   ]
  },
  {
   "cell_type": "code",
   "execution_count": 8,
   "metadata": {},
   "outputs": [
    {
     "data": {
      "image/png": "[encoded data removed]",
      "text/latex": [
       "$$\\left \\{ c_{de} : 0.0, \\quad c_{ed} : 0.0, \\quad c_{id} : 0.0, \\quad c_{ie} : 0.0\\right \\}$$"
      ],
      "text/plain": [
       "{c_{de}: 0.0, c_{ed}: 0.0, c_{id}: 0.0, c_{ie}: 0.0}"
      ]
     },
     "execution_count": 8,
     "metadata": {},
     "output_type": "execute_result"
    }
   ],
   "source": [
    "# não ajuda\n",
    "ced, cid, cie, cde, kd, ki, a = symbols('c_{ed} c_{id} c_{ie} c_{de} k_{d} k_{i} a')\n",
    "solve([ced-cid-cie, kd*ced-1j*ki*(cid-cie), cid*exp(1j*ki*a)+cie*exp(-1j*ki*a)-cde*exp(-kd*a),\n",
    "      1j*ki*(cid*exp(1j*ki*a)-cie*exp(-1j*ki*a))+kd*cde*exp(-kd*a)],[ced, cid, cie, cde])"
   ]
  },
  {
   "cell_type": "markdown",
   "metadata": {},
   "source": [
    "Substituindo a eq. ($\\star$) na eq. ($*$) obteremos\n",
    "\\begin{align}\n",
    "& k_{d}c_{ed}= k_{d}(c_{id}+c_{ie}) = ik_{i}(c_{id}-c_{ie}) \\therefore c_{ie}(k_{d}+ik_{i})=c_{id}(ik_{i}-k_{d}) \\\\\n",
    "& c_{ie} = \\frac{ik_{i}-k_{d}}{ik_{i}+k_{d}}c_{id}.\n",
    "\\end{align}\n",
    "Desse último resultado temos que $|c_{ie}|=|c_{id}|$, o indica a formação de uma onda estacionária na região $0<x<a$. Podemos confirmar isso substituindo essa última relação na função de onda:\n",
    "\\begin{align}\n",
    "\\Xi_{i}(0<x<a) & = c_{id}e^{ik_{i}x}+\\frac{ik_{i}-k_{d}}{ik_{i}+k_{d}}c_{id}e^{-ik_{i}x} = c_{id}\\frac{ik_{i}+k_{d}}{ik_{i}+k_{d}}e^{ik_{i}x}+\\frac{ik_{i}-k_{d}}{ik_{i}+k_{d}}c_{id}e^{-ik_{i}x} \\\\\n",
    "& = \\frac{c_{id}ik_{i}}{ik_{i}+k_{d}}\\left(e^{ik_{i}x}+e^{-ik_{i}x}\\right) + \\frac{c_{id}k_{d}}{ik_{i}+k_{d}}\\left(e^{ik_{i}x}-e^{-ik_{i}x}\\right) \\\\\n",
    "& = \\frac{2c_{id}ik_{i}}{ik_{i}+k_{d}}\\cos(k_{i}x) + \\frac{2ic_{id}k_{d}}{ik_{i}+k_{d}}\\sin(k_{i}x) \\\\\n",
    "& =: A\\sin(k_{i}x) + B\\cos(k_{i}x).\n",
    "\\end{align}"
   ]
  },
  {
   "cell_type": "markdown",
   "metadata": {},
   "source": [
    "### Usando a simetria de $U(x)$\n",
    "Pela _simetria do potencial_ em relação aos pontos $x=0$ e $x=a$, esperamos que a densidade de probabilidade seja a mesma nesses pontos\n",
    "\\begin{align}\n",
    "& |\\Xi_{e}(x=0)|^{2} = |\\Xi_{d}(x=a)|^{2} \\therefore |c_{ed}e^{k_{d}0}|^{2} = |c_{de}e^{-k_{d}a}|^{2} \\\\\n",
    "& \\therefore |c_{ed}|^{2} = |c_{de}|^{2}e^{-2k_{d}a}.\n",
    "\\end{align}\n",
    "\n",
    "Substituindo $c_{ie}$ na eq. ($\\star$) obtemos\n",
    "\\begin{equation}\n",
    "c_{ed} = c_{id}+c_{ie} = c_{id} + \\frac{ik_{i}-k_{d}}{ik_{i}+k_{d}}c_{id} = \\left(\\frac{ik_{i}+k_{d}+ik_{i}-k_{d}}{ik_{i}+k_{d}}\\right)c_{id} = \\frac{2ik_{i}c_{id}}{ik_{i}+k_{d}}.\n",
    "\\end{equation}"
   ]
  },
  {
   "cell_type": "markdown",
   "metadata": {},
   "source": [
    "### Condição obtida a partir de $\\Xi_{i}(x=a)=\\Xi_{d}(x=a)$\n",
    "Da eq. ($\\star\\star$) temos que\n",
    "\\begin{equation}\n",
    "c_{de} = e^{k_{d}a}\\left(c_{id}e^{ik_{i}a}+c_{ie}e^{-ik_{i}a}\\right) = \\frac{e^{k_{d}a}2ik_{i}c_{id}}{ik_{i}+k_{d}}\\left(\\cos(k_{i}a) + \\frac{k_{d}}{k_{i}}\\sin(k_{i}a)\\right).\n",
    "\\end{equation}\n",
    "\n",
    "Das equações acima para $c_{ed}$ e para $c_{de}$ temos que\n",
    "\\begin{equation}\n",
    "|c_{de}|^{2} = e^{2k_{d}a}\\left|\\frac{2ik_{i}c_{id}}{ik_{i}+k_{d}}\\right|^{2}\\left(\\cos(k_{i}a) + \\frac{k_{d}}{k_{i}}\\sin(k_{i}a)\\right)^{2} = e^{2k_{d}a}|c_{ed}|^{2}\\left(\\cos(k_{i}a) + \\frac{k_{d}}{k_{i}}\\sin(k_{i}a)\\right)^{2}.\n",
    "\\end{equation}\n",
    "Portanto devemos ter\n",
    "\\begin{align}\n",
    "& \\cos(k_{i}a) + \\frac{k_{d}}{k_{i}}\\sin(k_{i}a)=1 \\\\\n",
    "& \\therefore \\cos^{2}(k_{i}a/2)-\\sin^{2}(k_{i}a/2)+ \\frac{k_{d}}{k_{i}}2\\sin(k_{i}a/2)\\cos(k_{i}a/2) =\\cos^{2}(k_{i}a/2)+\\sin^{2}(k_{i}a/2) \\\\\n",
    "& \\frac{k_{d}}{k_{i}}2\\sin(k_{i}a/2)\\cos(k_{i}a/2) = 2\\sin^{2}(k_{i}a/2) \\\\\n",
    "& \\therefore k_{d}=k_{i}\\tan(k_{i}a/2),\n",
    "\\end{align}\n",
    "que é uma equação transcendental válida se $\\sin(k_{i}a/2)\\ne 0$ e $\\cos(k_{i}a/2)\\ne 0$."
   ]
  },
  {
   "cell_type": "markdown",
   "metadata": {},
   "source": [
    "### Condição obtida a partir de $\\partial_{x}\\Xi_{i}(x=a)=\\partial_{x}\\Xi_{d}(x=a)$\n",
    "Da eq. ($**$), $c_{id}e^{ik_{i}a}+c_{ie}e^{-ik_{i}a} = c_{de}e^{-k_{d}a}$, e usando $c_{ie}=\\frac{ik_{i}-k_{d}}{ik_{i}+k_{d}}c_{id}$, teremos\n",
    "\\begin{align}\n",
    "c_{de} &= -e^{k_{d}a}\\frac{ik_{i}}{k_{d}}\\left(c_{id}e^{ik_{i}a}-\\frac{ik_{i}-k_{d}}{ik_{i}+k_{d}}c_{id}e^{-ik_{i}a}\\right) = \\frac{-e^{k_{d}a}ik_{i}c_{id}}{k_{d}(ik_{i}+k_{d})}\\left((ik_{i}+k_{d})e^{ik_{i}a}-(ik_{i}-k_{d})e^{-ik_{i}a}\\right) \\\\\n",
    "& = \\frac{-e^{k_{d}a}ik_{i}c_{id}}{k_{d}(ik_{i}+k_{d})}\\left(ik_{i}\\left(e^{ik_{i}a}-e^{-ik_{i}a}\\right)+k_{d}\\left(e^{ik_{i}a}+e^{-ik_{i}a}\\right)\\right) \\\\\n",
    "& = \\frac{-e^{k_{d}a}ik_{i}c_{id}}{ik_{i}+k_{d}}\\left(-\\frac{k_{i}}{k_{d}}\\sin(k_{i}a)+\\cos(k_{i}a)\\right) =: \\tilde{c}_{de}.\n",
    "\\end{align}\n",
    "\n",
    "Aplicando novamente a condição $|c_{ed}|^{2} = |\\tilde{c}_{de}|^{2}e^{-2k_{d}a}$, que vem da simetria do potencial, vemos que devemos ter\n",
    "\\begin{align}\n",
    "& -\\frac{k_{i}}{k_{d}}\\sin(k_{i}a)+\\cos(k_{i}a) = 1, \\\\\n",
    "& \\therefore -\\frac{k_{i}}{k_{d}}2\\sin(k_{i}a/2)\\cos(k_{i}a/2)+\\cos^{2}(k_{i}a/2)-\\sin^{2}(k_{i}a/2) = \\cos^{2}(k_{i}a/2)+\\sin^{2}(k_{i}a/2), \\\\\n",
    "& \\therefore -\\frac{k_{i}}{k_{d}}2\\sin(k_{i}a/2)\\cos(k_{i}a/2)=2\\sin^{2}(k_{i}a/2), \\\\\n",
    "& \\therefore k_{i}\\cot(k_{i}a/2)=-k_{d},\n",
    "\\end{align}\n",
    "que é uma equação transcendental válida se $\\sin(k_{i}a/2)\\ne 0$ e $\\cos(k_{i}a/2)\\ne 0$."
   ]
  },
  {
   "cell_type": "markdown",
   "metadata": {},
   "source": [
    "### Existem 2 classes de soluções\n",
    "No entando, das eqs. $k_{i}\\tan(k_{i}a/2)=k_{d}$ e $k_{i}\\cot(k_{i}a/2)=-k_{d}$ teremos:\n",
    "\\begin{align}\n",
    "& k_{i}\\tan(k_{i}a/2)+k_{i}\\cot(k_{i}a/2)=k_{d}-k_{d}=0, \\\\\n",
    "& \\therefore \\tan(k_{i}a/2)\\tan(k_{i}a/2)+\\cot(k_{i}a/2)\\tan(k_{i}a/2)=0, \\\\\n",
    "& \\therefore \\tan^{2}(k_{i}a/2)+1=0, \\\\\n",
    "& \\therefore \\tan^{2}(k_{i}a/2)=-1,\n",
    "\\end{align}\n",
    "o que não pode ser verdade. Portanto, as condições de continuidade $\\Xi(x=a)=\\Xi_{d}(x=a)$ e $\\partial_{x}\\Xi(x=a)=\\partial_{x}\\Xi_{d}(x=a)$ não podem ser satisfeitas simultaneamente. Por isso, separaremos as soluções em duas classes:\n",
    "\\begin{cases}\n",
    "\\text{Classe F: } \\Xi(x=a)=\\Xi_{d}(x=a), \\\\\n",
    "\\text{Classe D: } \\partial_{x}\\Xi(x=a)=\\partial_{x}\\Xi_{d}(x=a).\n",
    "\\end{cases}"
   ]
  },
  {
   "cell_type": "markdown",
   "metadata": {},
   "source": [
    "### Autoenergias\n",
    "Agora, definindo\n",
    "\\begin{equation}\n",
    "x=\\sqrt{\\frac{mEa^{2}}{2\\hbar^{2}}} \\text{ e } R=\\sqrt{\\frac{mU_{0}a^{2}}{2\\hbar^{2}}},\n",
    "\\end{equation}\n",
    "reescrevemos $k_{d}=k_{i}\\tan(k_{i}a/2)$ como\n",
    "\\begin{align}\n",
    "& \\frac{k_{d}a}{2}=\\frac{k_{i}a}{2}\\tan\\left(\\frac{k_{i}a}{2}\\right) \\therefore \\sqrt{\\frac{2m(U_{0}-E)a^{2}}{\\hbar^{2}4}}=\\sqrt{\\frac{2mEa^{2}}{\\hbar^{2}4}}\\tan\\sqrt{\\frac{2mEa^{2}}{\\hbar^{2}4}} \\\\\n",
    "& \\therefore \\sqrt{R^{2}-x^{2}} = x\\tan(x).\n",
    "\\end{align}\n",
    "Os dois lados dessa última igualdade estão mostrados, separadamente, na figura abaixo. Já a condição $ k_{i}\\cot(k_{i}a/2)=-k_{d}$ pode ser reescrita como\n",
    "\\begin{align}\n",
    "& \\frac{k_{d}a}{2}=-\\frac{k_{i}a}{2}\\cot\\left(\\frac{k_{i}a}{2}\\right) \\therefore \\sqrt{\\frac{2m(U_{0}-E)a^{2}}{\\hbar^{2}4}}=-\\sqrt{\\frac{2mEa^{2}}{\\hbar^{2}4}}\\cot\\sqrt{\\frac{2mEa^{2}}{\\hbar^{2}4}} \\\\\n",
    "& \\therefore \\sqrt{R^{2}-x^{2}} = -x\\cot(x).\n",
    "\\end{align}\n",
    "Os dos lados dessa última igualdade também estão mostrados na figura abaixo."
   ]
  },
  {
   "cell_type": "code",
   "execution_count": 122,
   "metadata": {},
   "outputs": [
    {
     "data": {
      "application/vnd.jupyter.widget-view+json": {
       "model_id": "13c69ecbe1d146ac9adc1a061ea9e510",
       "version_major": 2,
       "version_minor": 0
      },
      "text/plain": [
       "interactive(children=(FloatSlider(value=4.6, description='R', max=10.0, min=0.1, step=0.5), Output()), _dom_cl…"
      ]
     },
     "metadata": {},
     "output_type": "display_data"
    }
   ],
   "source": [
    "def fun(R):\n",
    "    fig = plt.figure(figsize=(5,10))\n",
    "    xm = 3*math.pi; x = np.arange(0.01,xm,0.05); y1 = np.sqrt(R**2-x**2); y2 = x*np.tan(x); y3 = -x/np.tan(x)\n",
    "    y2[:-1][np.diff(y2) < 0] = np.nan; y3[:-1][np.diff(y3) < 0] = np.nan\n",
    "    plt.plot(x,y1); plt.plot(x,y2); plt.plot(x,y3); plt.xlim(0,xm); plt.ylim(-10,10)\n",
    "    plt.xlabel(r'$x$'); plt.legend((r'$\\sqrt{R^{2}-x^{2}}$',r'$x\\tan(x)$',r'$-x\\cot(x)$'),loc=(1.01,0.5))\n",
    "    plt.show()\n",
    "interactive(fun,R=(0.1,10,0.5))"
   ]
  },
  {
   "cell_type": "markdown",
   "metadata": {},
   "source": [
    "* Notamos, com as equações acima e com a figura acima, que $y^{2}=R^{2}-x^{2}$ é a eq. de um círculo de raio $R$. Nesse caso teremos $y=0$ quando $x=R$, que é obtido com $E=U_{0}$. \n",
    "* Observamos também que $x\\tan x$ é descontínua, indo direto de $+\\infty$ para $-\\infty$ para todo $x=(2n+1)\\pi/2$ e que é nula para $x=n\\pi$, com $n=0,1,2,3,\\cdots$. \n",
    "* Já $-x\\cot x$, que também é descontínua, vai diretamente de  $+\\infty$ para $-\\infty$ para todo $x=n\\pi$ com $n=1,2,3,\\cdots$ e é nula para $x=(2n+1)\\pi/2$ com $n=0,1,2,3,\\cdots$. \n",
    "* Vemos no grafico que $\\sqrt{R^{2}-x^{2}}$, se positiva, intersecta as funções $x\\tan x$ e $-x\\cot x$ antes dessas descontinuidades. Uma implicação dessa análise é que existe um número finito de possíveis energias para o quanton em um poço finito. Uma vez obtidos os valores de $x$ que são solução das eqs. transcedentais apresentadas acima, a energia é dada por\n",
    "\\begin{equation}\n",
    "E = \\left(\\frac{2\\hbar^{2}}{ma^{2}}\\right)x^{2}.\n",
    "\\end{equation}\n",
    "* Pode-se inferir que se\n",
    "\\begin{equation}\n",
    "(n-1)\\pi<R<n\\pi,\n",
    "\\end{equation}\n",
    "existem $n$ soluções da classe F (aqui $n=1,2,3,\\cdots$). Existirá, para qualquer valor de $U_{0}$, pelo menos uma solução nessa classe.\n",
    "* Pode-se inferir também que se\n",
    "\\begin{equation}\n",
    "(2(n-1)+1)\\frac{\\pi}{2}<R<(2n+1)\\frac{\\pi}{2},\n",
    "\\end{equation}\n",
    "então existem $n$ soluções na classe D (aqui $n=1,2,3,\\cdots$). Se $R<\\pi/2$ não existirá nenhuma solução nessa classe."
   ]
  },
  {
   "cell_type": "markdown",
   "metadata": {},
   "source": [
    "### Autofunções\n",
    "\\begin{align}\n",
    "& 1 = \\int_{-\\infty}^{+\\infty}|\\Xi(x)|^{2}dx = \\int_{-\\infty}^{0}|\\Xi_{e}(x)|^{2}dx + \\int_{0}^{a}|\\Xi_{i}(x)|^{2}dx + \\int_{a}^{+\\infty}|\\Xi_{d}(x)|^{2}dx \\\\\n",
    "&=: I_{1} + I_{2} + I_{3}.\n",
    "\\end{align}\n",
    "Usando $\\Xi_{e}(x<0)=c_{ed}e^{k_{d}x}$, $\\Xi_{i}(0<x<a)=c_{id}e^{ik_{i}x}+c_{ie}e^{-ik_{i}x}$ e $\\Xi_{d}(x<0)=c_{de}e^{-k_{d}x}$. Teremos assim\n",
    "\\begin{align}\n",
    "& I_{1} = \\int_{-\\infty}^{0}|c_{ed}|^{2}e^{2k_{d}x}dx = |c_{ed}|^{2}\\left[\\frac{e^{2k_{d}x}}{2k_{d}}\\right]_{-\\infty}^{0} = \\frac{|c_{ed}|^{2}}{2k_{d}}\\left(e^{0}-e^{-\\infty}\\right) = \\frac{|c_{ed}|^{2}}{2k_{d}}, \\\\\n",
    "& I_{3} = \\int_{a}^{\\infty}|c_{de}|^{2}e^{-2k_{d}x}dx = |c_{de}|^{2}\\left[\\frac{e^{-2k_{d}x}}{-2k_{d}}\\right]_{a}^{\\infty} = \\frac{|c_{de}|^{2}}{-2k_{d}}\\left(e^{-\\infty}-e^{-2k_{d}a}\\right) = \\frac{|c_{ed}|^{2}e^{-2k_{d}a}}{2k_{d}}.\n",
    "\\end{align}\n",
    "Para a outra integral, primeiramente calculemos\n",
    "\\begin{align}\n",
    "|\\Xi_{i}|^{2} & = \n",
    "\\end{align}"
   ]
  },
  {
   "cell_type": "markdown",
   "metadata": {},
   "source": [
    "Lembrando,\n",
    "\\begin{equation}\n",
    "c_{ie}=\\frac{ik_{i}-k_{d}}{ik_{i}+k_{d}}c_{id}\\text{, }c_{ed} = \\frac{2ik_{i}}{ik_{i}+k_{d}}c_{id} \\text{ e } |c_{ed}|^{2}:=|c_{de}|^{2}e^{-2k_{d}a}.\n",
    "\\end{equation}"
   ]
  },
  {
   "cell_type": "markdown",
   "metadata": {},
   "source": [
    "# Exercícios\n",
    "\n",
    "1. Calcule o valor do coeficiente de transmissão para um elétron de energia $E=4\\text{ eV}$ em um poço quadrado finito com $U_{0}=2\\text{ eV}$ e larguras $a=1\\text{ nm}$ e $a=1\\text{ }\\mathring{A}$.\n",
    "\n",
    "1. Para $c_{ie} = \\frac{ik_{i}-k_{d}}{ik_{i}+k_{d}}c_{id}$, verifique que $|c_{ie}|=|c_{id}|$.\n",
    "\n",
    "1. Verifique que a onda estacionária $\\Xi_{i}(x)=A\\sin(k_{i}x)+B\\cos(k_{i}x)$ satisfaz a EqSIT1D dentro do poço, i.e., para $0<x<a$.\n",
    "\n",
    "1. Verifique que a condição $\\sin\\left(\\frac{k_{i}a}{2}\\right)\\ne 0$ é equivalente à condição $E\\ne2\\left(\\frac{\\pi^{2}\\hbar^{2}}{2ma^{2}}\\right)n^{2}$ com $n=1,2,3,\\cdots$.\n",
    "\n",
    "1. Verifique que a condição $\\cos\\left(\\frac{k_{i}a}{2}\\right)\\ne 0$ é equivalente à condição $E\\ne\\left(\\frac{\\pi^{2}\\hbar^{2}}{2ma^{2}}\\right)n^{2}$ com $n=1,2,3,\\cdots$.\n",
    "\n",
    "1. Uma vez que as energias do quanton em um poço quadrado finito são $E = \\left(\\frac{2\\hbar^{2}}{ma^{2}}\\right)x^{2}$, verifique que, para que as condições obtidas nos problemas 4 e 5 sejam respeitadas, $x$ não pode assumir os valores $x\\ne\\frac{n\\pi}{\\sqrt{2}}$ e $x\\ne\\frac{n\\pi}{2}$, respectivamente.\n",
    "\n",
    "1. Isole $c_{de}$ em uma das eqs. ($**$) ou ($\\star\\star$) e substitua na outra para obter\n",
    "\\begin{equation}\n",
    "c_{ie} = \\frac{ik_{i}+k_{d}}{ik_{i}-k_{d}}e^{2ik_{i}a}c_{id}.\n",
    "\\end{equation}\n",
    "Verifique que neste caso também temos que $|c_{ie}|=|c_{id}|$. Substitua $c_{ie}$ em ($**$) ou em ($\\star\\star$) para obter\n",
    "\\begin{equation}\n",
    "c_{de} = \\frac{2ik_{i}e^{(ik_{i}+k_{d})a}}{ik_{i}-k_{d}}c_{id}.\n",
    "\\end{equation}\n",
    "\n",
    "1. Substituindo o $c_{ie}$ da última questão em $\\Xi_{i}(0<x<a)=c_{id}e^{ik_{i}x}+c_{ie}e^{-ik_{i}x}$, obtenha a onda estacionária\n",
    "\\begin{equation}\n",
    "\\Xi_{i}(0<x<a) = \\frac{2ik_{i}c_{id}e^{ik_{i}a}}{ik_{i}-k_{d}}\\left(\\cos(k_{i}(x-a))-\\frac{k_{d}}{k_{i}}\\sin(k_{i}(x-a))\\right).\n",
    "\\end{equation}\n",
    "\n",
    "1. Substitua $c_{ie}$ do problema 7 na eq. ($\\star$) para obter\n",
    "\\begin{equation}\n",
    "c_{ed} = \\frac{2ik_{i}c_{id}e^{ik_{i}a}}{ik_{i}-k_{d}}\\left(\\cos(k_{i}a)+\\frac{k_{d}}{k_{i}}\\sin(k_{i}a)\\right).\n",
    "\\end{equation}\n",
    "Impondo $|c_{ed}|^{2}=|c_{de}|^{2}e^{-2k_{d}a}$, usando o $c_{de}$ do problema 7, obtenha a eq. trascendental\n",
    "\\begin{equation}\n",
    "k_{d}=k_{i}\\tan\\left(\\frac{k_{i}a}{2}\\right).\n",
    "\\end{equation}\n",
    "\n",
    "1. Substitua $c_{ie}$ do problema 7 na eq. ($*$) para obter\n",
    "\\begin{equation}\n",
    "c_{ed} = \\frac{-2ik_{i}c_{id}e^{ik_{i}a}}{ik_{i}-k_{d}}\\left(\\cos(k_{i}a)-\\frac{k_{i}}{k_{d}}\\sin(k_{i}a)\\right).\n",
    "\\end{equation}\n",
    "Impondo $|c_{ed}|^{2}=|c_{de}|^{2}e^{-2k_{d}a}$, usando o $c_{de}$ do problema 7, obtenha a eq. trascendental\n",
    "\\begin{equation}\n",
    "-k_{d}=k_{i}\\cot\\left(\\frac{k_{i}a}{2}\\right).\n",
    "\\end{equation}\n",
    "\n",
    "1. Sobre a função de onda ..."
   ]
  },
  {
   "cell_type": "code",
   "execution_count": null,
   "metadata": {},
   "outputs": [],
   "source": []
  }
 ],
 "metadata": {
  "kernelspec": {
   "display_name": "Python 3",
   "language": "python",
   "name": "python3"
  },
  "language_info": {
   "codemirror_mode": {
    "name": "ipython",
    "version": 3
   },
   "file_extension": ".py",
   "mimetype": "text/x-python",
   "name": "python",
   "nbconvert_exporter": "python",
   "pygments_lexer": "ipython3",
   "version": "3.6.4"
  }
 },
 "nbformat": 4,
 "nbformat_minor": 2
}
