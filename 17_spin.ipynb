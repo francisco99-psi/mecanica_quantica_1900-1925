{
 "cells": [
  {
   "cell_type": "markdown",
   "metadata": {},
   "source": [
    "## Notas de aula de Mecânica Quântica <br> Autor: Jonas Maziero"
   ]
  },
  {
   "cell_type": "code",
   "execution_count": 1,
   "metadata": {},
   "outputs": [],
   "source": [
    "%run init.ipynb"
   ]
  },
  {
   "cell_type": "markdown",
   "metadata": {},
   "source": [
    "# Spin"
   ]
  },
  {
   "cell_type": "markdown",
   "metadata": {},
   "source": [
    "## Relação momento magnético-momento angular\n",
    "O exemplo típico, e mais simples, de momento magnético em eletrodinâmica clássica é aquele de uma partícula de massa $m$ e carga elétrica $q$ se movimentando em uma trajetória círcular de raio $r$. Para \n",
    "\\begin{equation}\n",
    "t=\\frac{2\\pi r}{v}\n",
    "\\end{equation}\n",
    "sendo o período de uma volta completa da partícula em seu movimento circular com velocidade $v$, como a corrente elétrica pode ser escrita como \n",
    "\\begin{equation}\n",
    "i = \\frac{q}{t} = \\frac{qv}{2\\pi r},\n",
    "\\end{equation}\n",
    "o módulo do momento magnético associado a esse movimento é\n",
    "\\begin{equation}\n",
    "\\mu = iA = \\frac{qv}{2\\pi r}\\pi r^{2} = \\frac{qrv}{2} = \\frac{qrmv}{2m}.\n",
    "\\end{equation}\n",
    "OBS. Notemos que a direção de $\\mu$ é aquela da linha ortogonal ao plano da \"espira de corrente\". O sentido é obtido usando a regra da mão direita.\n",
    "\n",
    "O módulo do momento angular $\\vec{L}=\\vec{r}\\mathrm{x}\\vec{p}$ da partícula em movimento circular é\n",
    "\\begin{equation}\n",
    "L = |\\vec{r}\\mathrm{x}\\vec{p}| = rp\\sin 90^{\\circ} = rmv.\n",
    "\\end{equation}\n",
    "\n",
    "Vemos assim que o momento magnético da partícula em movimento circular está relacionado ao momento angular por\n",
    "\\begin{equation}\n",
    "\\vec{\\mu} = \\frac{q}{2m}\\vec{L}.\n",
    "\\end{equation}\n",
    "\n",
    "Em geral, movimento de rotação de cargas elétricas (momento angular) estará associado à existência de um momento magnético. Para casos mais gerais que o movimento circular, assumimos que\n",
    "\\begin{equation}\n",
    "\\vec{\\mu} \\propto \\frac{q}{2m}\\vec{L} = g\\frac{q}{2m}\\vec{L},\n",
    "\\end{equation}\n",
    "em que $g$ é o chamado fator giromagnético (de rotação), que é um fator de proporcionalidade que depende somente da forma da distribuição de cargas elétricas."
   ]
  },
  {
   "cell_type": "markdown",
   "metadata": {},
   "source": [
    "## Momento magnético sujeito a um campo magnético\n",
    "Um momento magnético $\\vec{\\mu}$ sujeito a um campo magnético $\\vec{B}$ sofre um torque\n",
    "\\begin{equation}\n",
    "\\vec{\\tau}=\\vec{\\mu}\\mathrm{x}\\vec{B}\n",
    "\\end{equation}\n",
    "e, com o trabalho necessário para fazer o dipolo magnético mudar sua orientação angular de uma quantidade $d\\theta$ é\n",
    "\\begin{equation}\n",
    "dW=\\tau d\\theta=\\mu B\\sin\\theta d\\theta = d(-\\mu B\\cos\\theta)=dU,\n",
    "\\end{equation}\n",
    "a energia potencial de interação entre $\\vec{\\mu}$ e $\\vec{B}$ é\n",
    "\\begin{equation}\n",
    "U = -\\vec{\\mu}\\cdot\\vec{B}.\n",
    "\\end{equation}"
   ]
  },
  {
   "cell_type": "markdown",
   "metadata": {},
   "source": [
    "A força sobre o dipolo magnético pode ser obtida de\n",
    "\\begin{align}\n",
    "\\vec{F} & = -\\vec{\\nabla}_{\\vec{r}}U = -\\vec{\\nabla}_{\\vec{r}}(-\\vec{\\mu}\\cdot\\vec{B}) = \\sum_{j=1}^{3}\\hat{e}_{j}\\partial_{x_{j}}\\sum_{k=1}^{3}\\mu_{k}B_{k} \\\\\n",
    "& =\\sum_{j,k=1}^{3}\\hat{e}_{j}\\mu_{k}\\partial_{x_{j}}B_{k},\n",
    "\\end{align}\n",
    "em que usamos que as componentes do momento magnético não dependem das coordenadas espaciais. Se o campo magnético é constante no espaço, a partícula, por inércia, continua parada ou com movimento retilíneo uniforme:\n",
    "\\begin{equation}\n",
    "\\vec{B}(\\vec{r})=\\vec{B}(\\vec{r}')\\forall \\vec{r},\\vec{r}'\\in\\mathbb{R}^{3} \\Rightarrow \\vec{F}=\\vec{0}.\n",
    "\\end{equation}\n",
    "OBS. Isso ocorre mesmo se o campo magnético depender de tempo (desde que seja constante no espaço).\n",
    "\n",
    "Por outro lado, se o campo magnético varia no espaço, a partícula com momento magnético é acelerada, mudando assim seu estado de movimento. Como um simples exemplo, vamos considerar que\n",
    "\\begin{equation}\n",
    "\\vec{B} = -ax\\hat{e}_{1}+(b+az)\\hat{e}_{3},\n",
    "\\end{equation}\n",
    "com $a,b\\in\\mathbb{R}$ constantes reais. Nesse caso teremos\n",
    "\\begin{align}\n",
    "\\vec{F} &= \\sum_{j=1}^{3}\\hat{e}_{j}\\left(\\mu_{1}\\partial_{x_{j}}B_{1} + \\mu_{2}\\partial_{x_{j}}B_{2} + \\mu_{3}\\partial_{x_{j}}B_{3}\\right) \\\\\n",
    "&= \\sum_{j=1}^{3}\\hat{e}_{j}\\left(\\mu_{1}\\partial_{x_{j}}(-ax_{1}) + \\mu_{2}\\partial_{x_{j}}(0) + \\mu_{3}\\partial_{x_{j}}(b+ax_{3})\\right) \\\\\n",
    "&= \\sum_{j=1}^{3}\\hat{e}_{j}\\left(-\\mu_{1}a\\delta_{j,1} + \\mu_{3}c\\delta_{j,3}\\right) \\\\\n",
    "& = -\\mu_{x}a\\hat{e}_{1}+\\mu_{z}a\\hat{e}_{3}.\n",
    "\\end{align}"
   ]
  },
  {
   "cell_type": "markdown",
   "metadata": {},
   "source": [
    "Consideremos uma partícula clássica com momento magnético $\\vec{\\mu}$ movimentando-se inicialmente no eixo $y$, com $x=z=0$, com velocidade $\\vec{v}_{0}=d\\hat{e}_{2}$, com $d\\in\\mathbb{R}$ constante. Vamos supor que, para $y>0$, essa partícula é sujeita ao campo magnético especificado acima, e por conseguinte à força $\\vec{F}=\\hat{e}_{3}\\mu_{z}c$, por um tempo $t$. Como $\\mu_{z}$ é constante, a única componente da velocidade da partícula que muda é\n",
    "\\begin{equation}\n",
    "v_{z}(t)=v_{z}(0)+a_{z}t = 0 + \\frac{\\mu_{z}c}{m}t.\n",
    "\\end{equation}\n",
    "Depois de passado esse intervalo de tempo, a coordenada $z$ da partícula é\n",
    "\\begin{align}\n",
    "z(t)&=z(0)+v_{z}(0)t+a_{z}t^{2}/2 = 0+0t+\\frac{\\mu_{z}c}{m}t^{2}/2 \\\\\n",
    "&= \\frac{\\mu_{z}ct^{2}}{2m}.\n",
    "\\end{align}\n",
    "Se colocarmos detectores de partículas em várias coordenadas $z$ e em uma certa coordenadas $y_{d}$, as partículas chegarão nessa coordenada no instante de tempo obtido como segue\n",
    "\\begin{align}\n",
    "y_{d}=:y(t=:t_{d})=y(0)+v_{y}(0)t_{d}=0+dt_{d} \\therefore t_{d}=y_{d}/d.\n",
    "\\end{align}\n",
    "Com isso, temos que a coordenada $z$ na qual a partícula chega no detector pode ser escrita como\n",
    "\\begin{equation}\n",
    "z_{d}:=z(t_{d}) = \\left(\\frac{cy_{d}^{2}}{2md^{2}}\\right)\\mu_{z} = \\text{(constante)}\\mu_{z} =: A\\mu_{z}.\n",
    "\\end{equation}\n",
    "\n",
    "Vemos assim que a coordenada $z$ na partícula é proporcional à componente $z$ do seu momento magnético. Se essas partículas provém de um forno a uma temperatura alta, espera-se que a orientação do seus momentos magnéticos seja aleatória. Isso implicará que\n",
    "\\begin{equation}\n",
    "z_{d} = \\text{contínuo}.\n",
    "\\end{equation}"
   ]
  },
  {
   "cell_type": "code",
   "execution_count": null,
   "metadata": {},
   "outputs": [],
   "source": [
    "# fazer gráfico das trajetórias, escolhendo mu_z aleatoriamente em R"
   ]
  },
  {
   "cell_type": "markdown",
   "metadata": {},
   "source": [
    "## Momento magnético quantizado\n",
    "O momento angular de sistemas quânticos é quantizado, como vimos no exemplo de átomos hidrogenóides, e como veremos de maneira geral da disciplina de MQII [https://github.com/jonasmaziero/mecanica_quantica/blob/master/11_momento_angular.ipynb]. Aqui, usando que os valores possíveis do momento angular $L$ são $\\hbar\\sqrt{l(l+1)}$, teremos\n",
    "\\begin{align}\n",
    "\\mu = \\frac{g}{2m}L = g\\frac{q}{2m}\\hbar\\sqrt{l(l+1)} =: g\\mu_{B}\\sqrt{l(l+1)},\n",
    "\\end{align}\n",
    "em que definimos o chamado magneton de Bohr:\n",
    "\\begin{equation}\n",
    "\\mu_{b} := \\frac{q\\hbar}{2m}.\n",
    "\\end{equation}\n",
    "\n",
    "Para a componente $z$ do momento magnético, usando que os valores de $L_{z}$ são $\\hbar m_{l}$, teremos\n",
    "\\begin{align}\n",
    "\\mu_{z} = g\\frac{q}{2m}L_{z} = g\\mu_{B}m_{l}\n",
    "\\end{align}\n",
    "com $m_{l}\\in\\mathbb{Z}$.\n",
    "\n",
    "Agora, se considerarmos o mesmo exemplo estudado acima, teremos que\n",
    "\\begin{equation}\n",
    "z_{d} = \\text{discreto}.\n",
    "\\end{equation}\n",
    "Portanto, somente detectores colocados em um conjunto discreto de valores de $z$ irão \"clicar\", por consequência da quantização do momento angular quântico."
   ]
  },
  {
   "cell_type": "code",
   "execution_count": null,
   "metadata": {},
   "outputs": [],
   "source": [
    "# fazer gráfico das trajetórias, escolhendo mu_z aleatoriamente em N"
   ]
  },
  {
   "cell_type": "markdown",
   "metadata": {},
   "source": [
    "## Momento angular intrínseco - spin\n",
    "Um experimento muito útil para a história e discussões atuais dos fundamentos da MQ é o experimento de Stern-Gerlach (ESG) [https://www.nobelprize.org/prizes/physics/1943/stern/lecture/], cujos principais elementos estão mostrados na figura abaixo.\n",
    "\n",
    "<img src=\"stern-gerlach.jpg\" width=\"700\">\n",
    "\n",
    "Átomos que saem de um forno são colimados e passam por um gradiente de campo magnético na direção $z$. Stern e Gerlach observaram que os átomos são separados em dois feixes. Esses resultados experimentais, obtidos em 1922 (portanto antes da teoria de Schrödinger de 1925), \"provavam\" a quantização do momento angular, previamente assumida teoricamente por Bohr e Sommerfeld (lembrando, estes assumiram que $L = n\\hbar$ com $n=1,2,3,\\cdots$). "
   ]
  },
  {
   "cell_type": "markdown",
   "metadata": {},
   "source": [
    "No entanto, com vistas na teoria de Schrödinger que vimos nessa disciplina, que é uma teoria melhor que a de Bohr, o número de faixas que deveriam ser observadas no ESG deveria de igual ao número de valores possíveis de $m_{l}$. Assim, para $l=0\\therefore m_{l}=0$ e não observaríamos nenhum desvio e $z_{d}=0$ para todos os quantons. Já para\n",
    "\\begin{equation}\n",
    "l=1\\Rightarrow\\begin{cases}m_{l}=+1\\therefore z_{d}=Ag\\mu_{B}, \\\\ m_{l}=0\\therefore z_{d}=0, \\\\ m_{l}=-1\\therefore z_{d}=-Ag\\mu_{B}, \\end{cases}\n",
    "\\end{equation}\n",
    "deveríamos observar três faixas separadas onde os quantons chegam nos detectores. O análogo segue para valores maiores de $l$. No entanto, no ESG não aparece a faixa escura central (que corresponderia a $m_{l}=0$), aparecem somente duas faixas. O não aparecimento dessa faixa central (que deveria estar presente para todos os valores de $l$) era um indicativo de que estava faltando algum elemento na teoria de Schrödinger.\n",
    "\n",
    "Esse elemento é o momento angular intrínseco do elétron $S$, que está associado a uma momento magnético intrínseco \\begin{equation}\n",
    "\\mu_{s}=g_{s}\\mu_{b}\\sqrt{s(s+1)},\n",
    "\\end{equation}\n",
    "com \n",
    "\\begin{equation}\n",
    "s=\\frac{1}{2}\\Rightarrow m_{s}=-\\frac{1}{2},+\\frac{1}{2},\n",
    "\\end{equation}\n",
    "dando conta assim de explicar o aparecimento de apenas duas faixas no ESG (que seriam obtidas para $l=0\\therefore m_{l}=0$."
   ]
  },
  {
   "cell_type": "markdown",
   "metadata": {},
   "source": [
    "## Função de onda completa (de átomos hidrogenóides)"
   ]
  },
  {
   "cell_type": "markdown",
   "metadata": {},
   "source": [
    "## Soma de momentos angulares"
   ]
  },
  {
   "cell_type": "markdown",
   "metadata": {},
   "source": [
    "# Exercícios\n",
    "\n",
    "1. Para uma distribuição de cargas geral, assumimos que a relação entre os momentos magnético e angular é dada por $\\mu=g(q/2m)L$, em que $q$ e $m$ são a quantidade total de carga elétrica e de massa em movimento de rotação e $g$ é o fator giromagnético. Mostre que para uma esfera maciça, de raio $r$ e momento de inércia $I=2mr^{2}/5$, essa relação é satisfeita com $g=2,5$.\n",
    "\n",
    "1. Verifique que um campo magnético do tipo $\\vec{B}=az^{b}\\hat{e}_{3}$ não satisfaz a lei de Maxwell $\\vec{\\nabla}\\cdot\\vec{B}=0$. Verifique que $\\vec{B}=-ax\\hat{e}_{1}+(b+az)\\hat{e}_{3}$ satisfaz essa lei. Nos dois casos, $a,b\\in\\mathbb{R}$ são constantes não nulas.\n",
    "\n",
    "1. Considerando o mesmo exemplo usado em aula, obtenha as posições $z_{d}$ nas quais os quantons chegam no detector, no experimento de Stern-Gerlach, para $l=2$.\n",
    "\n",
    "1. Supondo que o elétron se comporte, classicamente, como uma esfera maciça de raio $r=10^{-15}\\text{ m}$, e usando o módulo do seu momento angular intrínseco como $S=\\hbar\\sqrt{s(s+1)}=\\hbar\\sqrt{3}/2$, calcule a velocidade tangencial de um ponto situado no equador do elétron. Compare essa velocidade com a velocidade da luz no vácuo."
   ]
  },
  {
   "cell_type": "code",
   "execution_count": null,
   "metadata": {},
   "outputs": [],
   "source": []
  }
 ],
 "metadata": {
  "kernelspec": {
   "display_name": "Python 3",
   "language": "python",
   "name": "python3"
  },
  "language_info": {
   "codemirror_mode": {
    "name": "ipython",
    "version": 3
   },
   "file_extension": ".py",
   "mimetype": "text/x-python",
   "name": "python",
   "nbconvert_exporter": "python",
   "pygments_lexer": "ipython3",
   "version": "3.6.4"
  }
 },
 "nbformat": 4,
 "nbformat_minor": 2
}
