{
 "cells": [
  {
   "cell_type": "markdown",
   "metadata": {},
   "source": [
    "# Notas de aula: Mecânica Quântica, Autor: Jonas Maziero, Departamento de Física, UFSM\n",
    "\n",
    "Link para o vídeo da aula sobre esse tópico:"
   ]
  },
  {
   "cell_type": "code",
   "execution_count": 1,
   "metadata": {},
   "outputs": [],
   "source": [
    "%run init.ipynb"
   ]
  },
  {
   "cell_type": "markdown",
   "metadata": {},
   "source": [
    "# Potencial poço quadrado infinito\n",
    "O potencial de um quanton em uma caixa unidimensional é\n",
    "\\begin{cases}\n",
    "U(x<0)=\\infty, \\\\\n",
    "U(0<x<a) = 0, \\\\\n",
    "U(x>a) = \\infty.\n",
    "\\end{cases}\n",
    "Nesse caso, queremos obter soluções para a eq. de Schrödinger independente do tempo unidimensional:\n",
    "\\begin{equation}\n",
    "-\\frac{\\hbar^{2}}{2m}\\partial_{xx}\\Xi(x)+U(x)\\Xi(x)=E\\Xi(x).\n",
    "\\end{equation}"
   ]
  },
  {
   "cell_type": "markdown",
   "metadata": {},
   "source": [
    "# Exercícios (para entregar)"
   ]
  },
  {
   "cell_type": "code",
   "execution_count": null,
   "metadata": {},
   "outputs": [],
   "source": []
  }
 ],
 "metadata": {
  "kernelspec": {
   "display_name": "Python 3",
   "language": "python",
   "name": "python3"
  },
  "language_info": {
   "codemirror_mode": {
    "name": "ipython",
    "version": 3
   },
   "file_extension": ".py",
   "mimetype": "text/x-python",
   "name": "python",
   "nbconvert_exporter": "python",
   "pygments_lexer": "ipython3",
   "version": "3.6.4"
  }
 },
 "nbformat": 4,
 "nbformat_minor": 2
}
