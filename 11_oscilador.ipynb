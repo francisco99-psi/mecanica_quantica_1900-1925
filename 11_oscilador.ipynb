{
 "cells": [
  {
   "cell_type": "markdown",
   "metadata": {},
   "source": [
    "# Notas de aula: Mecânica Quântica, Autor: Jonas Maziero, Departamento de Física, UFSM\n",
    "\n",
    "Link para os vídeos das aulas sobre esse tópico:  e ."
   ]
  },
  {
   "cell_type": "code",
   "execution_count": 209,
   "metadata": {},
   "outputs": [],
   "source": [
    "%run init.ipynb"
   ]
  },
  {
   "cell_type": "markdown",
   "metadata": {},
   "source": [
    "# Oscilador harmônico quântico 1D\n",
    "#### Eq. de Schrödinger\n",
    "Um sistema clássico com força restauradora $F=-kx$, que corresponde a uma energia potencial\n",
    "\\begin{equation}\n",
    "U(x)=-\\int_{0}^{x}F(x')dx'=\\frac{kx^{2}}{2} = 2m\\pi^{2}\\nu^{2}x^{2}.\n",
    "\\end{equation}\n",
    "com $U(x=0):=0$, tem um movimento oscilatório harmônico de frequência angular $\\omega=2\\pi\\nu=\\sqrt{k/m}\\therefore k=m4\\pi^{2}\\nu^{2}$. "
   ]
  },
  {
   "cell_type": "code",
   "execution_count": 210,
   "metadata": {},
   "outputs": [
    {
     "data": {
      "application/vnd.jupyter.widget-view+json": {
       "model_id": "b37db84198694c228935a9f4dac52167",
       "version_major": 2,
       "version_minor": 0
      },
      "text/plain": [
       "interactive(children=(FloatSlider(value=5.0, description='k', max=10.0, min=0.1), Output()), _dom_classes=('wi…"
      ]
     },
     "metadata": {},
     "output_type": "display_data"
    }
   ],
   "source": [
    "def Uoa(k):\n",
    "    x = np.arange(-10,10,0.05); y = 0.5*k*x**2; plt.xlim(-10,10); plt.ylim(0,100)\n",
    "    plt.plot(x,y); plt.xlabel('x'); plt.ylabel('U')\n",
    "    plt.annotate(r'$k=$'+str(k)[:5], xy=(-1.3,10), xytext=(-1.3,10), fontsize=12)\n",
    "    plt.show()\n",
    "interactive(Uoa, k = (0.1,10,0.1))"
   ]
  },
  {
   "cell_type": "markdown",
   "metadata": {},
   "source": [
    "A EqSIT1D para o oscilador harmônico quântico 1D (OHQ1D)\n",
    "\\begin{equation}\n",
    "-\\frac{\\hbar^{2}}{2m}\\partial_{xx}\\Xi(x)+2m\\pi^{2}\\nu^{2}x^{2}\\Xi(x)=E\\Xi(x)\\therefore \\partial_{xx}\\Xi(x) +\\left(\\frac{2mE}{\\hbar^{2}}-\\frac{4m^{2}\\pi^{2}\\nu^{2}x^{2}}{\\hbar^{2}}\\right)\\Xi(x)=0.\n",
    "\\end{equation}\n",
    "Vamos reescrever essa eq. em uma forma conveniente. Começamos definindo\n",
    "\\begin{equation}\n",
    "\\beta := \\frac{2mE}{\\hbar^{2}}\\text{, }\\alpha := \\frac{2m\\pi\\nu}{\\hbar},\n",
    "\\end{equation}\n",
    "obtendo assim\n",
    "\\begin{equation}\n",
    "\\partial_{xx}\\Xi(x) +\\left(\\beta-\\alpha^{2}x^{2}\\right)\\Xi(x)=0.\n",
    "\\end{equation}\n",
    "\n",
    "#### Mudança de variável\n",
    "Agora fazemos a mundança de variável\n",
    "\\begin{equation}\n",
    "u:=\\sqrt{\\alpha}x \\therefore u^{2}=\\alpha x^{2},\n",
    "\\end{equation}\n",
    "da qual notamos que\n",
    "\\begin{align}\n",
    "& \\partial_{x}\\Xi = \\partial_{x}u\\partial_{u}\\Xi = \\sqrt{\\alpha}\\partial_{u}\\Xi, \\\\\n",
    "& \\partial_{xx}\\Xi = \\sqrt{\\alpha}\\partial_{x}\\partial_{u}\\Xi = \\sqrt{\\alpha}\\partial_{u}\\partial_{x}\\Xi = \\alpha\\partial_{uu}\\Xi.\n",
    "\\end{align}\n",
    "Substituindo essa relação na eq. diferencial acima, segue que\n",
    "\\begin{align}\n",
    "& \\alpha\\partial_{uu}\\Xi(u) + \\left(\\beta-\\alpha^{2}u^{2}/\\alpha\\right)\\Xi(u)=0, \\\\\n",
    "& \\therefore \\partial_{uu}\\Xi(u) + \\left(\\beta/\\alpha-u^{2}\\right)\\Xi(u)=0. \\hspace{1cm} (\\star)\n",
    "\\end{align}"
   ]
  },
  {
   "cell_type": "markdown",
   "metadata": {},
   "source": [
    "#### Solução para $|u|\\rightarrow\\infty$\n",
    "Vamos procurar a forma geral para a solução desta última eq. diferencial analisando primeiramente o limite $U(|x|\\rightarrow\\infty)\\equiv U(|u|\\rightarrow\\infty)\\rightarrow\\infty$. Nesse caso $\\beta/\\alpha-u^{2}\\approx u^{2}$ e assim\n",
    "\\begin{equation}\n",
    "\\partial_{uu}\\Xi(u) -u^{2}\\Xi(u)=0.\n",
    "\\end{equation}\n",
    "Pode-se verificar que a função\n",
    "\\begin{equation}\n",
    "\\Xi(u) = c_{c}e^{u^{2}/2}+c_{d}e^{-u^{2}/2}\n",
    "\\end{equation}\n",
    "é solução dessa eq. diferencial no limite de $|u|\\rightarrow\\infty$. Como a densidade de probabilidade dever ser finita quando $|u|\\rightarrow\\infty$, e nesse limite $e^{u^{2}/2}\\rightarrow\\infty$, fazemos\n",
    "\\begin{equation}\n",
    "c_{c} := 0,\n",
    "\\end{equation}\n",
    "obtendo assim\n",
    "\\begin{equation}\n",
    "\\Xi(u) = c_{d}e^{-u^{2}/2}.\n",
    "\\end{equation}\n",
    "\n",
    "\n",
    "#### Proposta de solução geral\n",
    "A partir dessa solução para esses casos limites, de posições muito longe da \"posição de equilíbrio\", propomos uma solução geral para a eq. diferencial $(\\star)$ da forma\n",
    "\\begin{equation}\n",
    "\\Xi(u) = c_{d}e^{-u^{2}/2}H(u),\n",
    "\\end{equation}\n",
    "em que $H(u)$ deve ser uma função que varia mais lentamente que $e^{-u^{2}/2}$ quando $|u|\\rightarrow\\infty$, para que $|\\Xi|^{2}$ permaneça finita. Notando que"
   ]
  },
  {
   "cell_type": "markdown",
   "metadata": {},
   "source": [
    "\\begin{align}\n",
    "\\partial_{u}\\Xi(u) &= c_{d}(-2u/2)e^{-u^{2}/2}H(u)+c_{d}e^{-u^{2}}\\partial_{u}H(u), \\\\\n",
    "\\partial_{uu}\\Xi(u) &= -c_{d}e^{-u^{2}/2}H(u) - c_{d}u(-2u/2)e^{-u^{2}/2}H(u) - c_{d}ue^{-u^{2}/2}\\partial_{u}H(u)+c_{d}(-2u/2)e^{-u^{2}/2}\\partial_{u}H(u)+c_{d}e^{-u^{2}/2}\\partial_{uu}H(u) \\\\\n",
    "& = c_{d}e^{-u^{2}/2}\\left(-H(u)+u^{2}H(u)-2u\\partial_{u}H(u)+\\partial_{uu}H(u)\\right),\n",
    "\\end{align}\n",
    "e substituindo essa proposta solução em $(\\star)$, obtemos uma equação diferencial para a função $H(u)$, a chamada __eq. diferencial de Hermite__:\n",
    "\\begin{align}\n",
    "& c_{d}e^{-u^{2}/2}\\left(-H(u)+u^{2}H(u)-2u\\partial_{u}H(u)+\\partial_{uu}H(u)\\right)+ \\left(\\beta/\\alpha-u^{2}\\right)c_{d}e^{-u^{2}/2}H(u)=0, \\\\\n",
    "& \\therefore \\partial_{uu}H(u)-2u\\partial_{u}H(u)+(\\beta/\\alpha-1)H(u)=0. \\hspace{1cm} (\\star\\star)\n",
    "\\end{align}\n",
    "\n",
    "### Solução por série de potências (método de Frobenius)\n",
    "Para obter as soluções de $(\\star\\star)$, escreveremos\n",
    "\\begin{equation}\n",
    "H(u) = \\sum_{l=0}^{\\infty}a_{l}u^{l} = a_{0} +a_{1}u+a_{2}u^{2}+a_{3}u^{3}+\\cdots.\n",
    "\\end{equation}\n",
    "OBS. As potências $u^{l}$, com $l=0,1,2,\\cdots$, formam uma base para funções $f:\\mathbb{R}\\rightarrow\\mathbb{R}$. Por isso, qualquer função pode ser escrita como uma série de potência com acima."
   ]
  },
  {
   "cell_type": "markdown",
   "metadata": {},
   "source": [
    "Seguindo, olhamos paras as derivadas:\n",
    "\\begin{align}\n",
    "\\partial_{u}H(u) & = \\partial_{u}\\left(a_{0}+\\sum_{l=1}^{\\infty}a_{l}u^{l}\\right) = 0 + \\sum_{l=1}^{\\infty}a_{l}lu^{l-1} = \\sum_{m=0}^{\\infty}a_{m+1}(m+1)u^{m} \\\\ \n",
    "& = \\sum_{l=0}^{\\infty}a_{l+1}(l+1)u^{l}, \\\\\n",
    "\\partial_{uu}H(u) & = \\partial_{u}\\left(a_{1}+\\sum_{l=1}^{\\infty}a_{l+1}(l+1)u^{l}\\right) = 0 + \\sum_{l=1}^{\\infty}a_{l+1}(l+1)lu^{l-1} = \\sum_{m=0}^{\\infty}a_{m+2}(m+2)(m+1)u^{m} \\\\ \n",
    "& = \\sum_{l=0}^{\\infty}a_{l+2}(l+2)(l+1)u^{l}.\n",
    "\\end{align}\n",
    "Substituindo em $(\\star\\star)$ obtemos\n",
    "\\begin{equation}\n",
    "\\sum_{l=0}^{\\infty}a_{l+2}(l+2)(l+1)u^{l}-2u\\sum_{l=0}^{\\infty}a_{l+1}(l+1)u^{l}+(\\beta/\\alpha-1)\\sum_{l=0}^{\\infty}a_{l}u^{l} = 0.\n",
    "\\end{equation}\n",
    "Reescrevendo o segundo termo como\n",
    "\\begin{equation}\n",
    "-2u\\sum_{l=0}^{\\infty}a_{l+1}(l+1)u^{l} = \\sum_{l=0}^{\\infty}(-2a_{l+1}(l+1))u^{l+1} = \\sum_{m=1}^{\\infty}(-2a_{m}m)u^{m} \\equiv \\sum_{l=0}^{\\infty}(-2a_{l}l)u^{l},\n",
    "\\end{equation}\n",
    "obtemos\n",
    "\\begin{align}\n",
    "& \\sum_{l=0}^{\\infty}a_{l+2}(l+2)(l+1)u^{l} + \\sum_{l=0}^{\\infty}(-2a_{l}l)u^{l} + \\sum_{l=0}^{\\infty}(\\beta/\\alpha-1)a_{l}u^{l} = 0, \\\\\n",
    "& \\therefore \\sum_{l=0}^{\\infty}\\left(a_{l+2}(l+2)(l+1)-2a_{l}l+(\\beta/\\alpha-1)a_{l}\\right)u^{l}=0, \\\\\n",
    "& \\therefore a_{l+2}(l+2)(l+1)-(2l-(\\beta/\\alpha-1))a_{l} =0\\hspace{0.2cm}\\forall l.\n",
    "\\end{align}\n",
    "OBS. Todos os coeficientes acima devem ser nulos pois esta é a única maneira da combinação linear de um conjunto de funções linearmente independentes ser nula."
   ]
  },
  {
   "cell_type": "markdown",
   "metadata": {},
   "source": [
    "#### Relação de recursão\n",
    "Obtemos assim a seguinte relação de recursão:\n",
    "\\begin{equation}\n",
    "a_{l+2} = \\frac{2l+1-\\beta/\\alpha}{(l+2)(l+1)}a_{l}.\n",
    "\\end{equation}\n",
    "Explicitando alguns valores de $l$,\n",
    "\\begin{align}\n",
    "& a_{2} = \\frac{1-\\beta/\\alpha}{2}a_{0} \\text{, }\\hspace{0.5cm} a_{4} = \\frac{5-\\beta/\\alpha}{12}a_{2}= \\frac{(5-\\beta/\\alpha)}{12}\\frac{(1-\\beta/\\alpha)}{2}a_{0} , \\cdots, \\\\\n",
    "& a_{3} = \\frac{3-\\beta/\\alpha}{6}a_{1} \\text{, }\\hspace{0.5cm} a_{5} = \\frac{7-\\beta/\\alpha}{20}a_{3}= \\frac{(7-\\beta/\\alpha)}{20}\\frac{(3-\\beta/\\alpha)}{6}a_{1}, \\cdots,\n",
    "\\end{align}\n",
    "vemos que coeficientes correspondentes a potências pares de $u$ são proporcionais a $a_{0}$ e que coeficientes correspondentes a potências ímpares de $u$ são proporcionais a $a_{1}$. Notemos que todos os coeficentes ficam escritos em termos das duas constantes de integração desconhecidas da eq. diferencial de segunda ordem, $a_{0}$ e $a_{1}$. \n",
    "\n",
    "### Simetria do potencial e paridade das auto-funções\n",
    "Com vistas nessas observações, vamos escrever $H$ como a soma de um termo \"par\" e de outro termo \"ímpar\":\n",
    "\\begin{equation}\n",
    "H(u)=\\sum_{l=0}^{\\infty}a_{l}u^{l} = a_{0}\\sum_{l=0}^{\\infty}\\frac{a_{2l}}{a_{0}}u^{2l} + a_{1}\\sum_{l=0}^{\\infty}\\frac{a_{2l+1}}{a_{1}}u^{2l+1}.\n",
    "\\end{equation}\n",
    "Como o potencial $U(x)=kx^{2}/2$ do OHQ1D é simétrico em relação a $x=0$, i.e., $U(x)=U(-x)$, a função de onda deve ser par ou ímpar. Como\n",
    "\\begin{equation}\n",
    "\\Xi(x)=c_{d}e^{-u^{2}/2}H(u) = c_{d}e^{-u^{2}/2}a_{0}\\sum_{l=0}^{\\infty}\\frac{a_{2l}}{a_{0}}u^{2l} + c_{d}e^{-u^{2}/2}a_{1}\\sum_{l=0}^{\\infty}\\frac{a_{2l+1}}{a_{1}}u^{2l+1},\n",
    "\\end{equation}\n",
    "e $e^{-u^{2}/2}$ é uma função par, e como o produto de duas funções pares é uma função par e o produto de uma função par por uma função ímpar é uma função ímpar, vemos que $\\Xi$ também fica escrita como a soma de uma função par (termo com $a_{0}$) e de uma função ímpar (termo com $a_{1}$). Devemos ter portanto que\n",
    "\\begin{equation}\n",
    "a_{0}=0 \\text{ ou } a_{1}=0.\n",
    "\\end{equation}"
   ]
  },
  {
   "cell_type": "markdown",
   "metadata": {},
   "source": [
    "### Comportamento de $H(u)=\\sum_{l=0}^{\\infty}a_{l}u^{l}$ para $l\\gg1$\n",
    "Seguindo, vamos olhar para o comportamento de $H(u)$ para $l\\gg 1$. Iniciamos obtendo a razão entre termos sucessivos da relação de recursão:\n",
    "\\begin{equation}\n",
    "\\lim_{l\\gg 1}\\frac{a_{l+2}}{a_{l}} = \\lim_{l\\gg 1}\\frac{2l+1-\\beta/\\alpha}{(l+2)(l+1)} = \\frac{2l}{l^{2}} = \\frac{2}{l}.\n",
    "\\end{equation}\n",
    "Mas, olhando para a função\n",
    "\\begin{equation}\n",
    "e^{u^{2}} = 1+u^{2}+\\frac{u^{4}}{2}+ \\frac{u^{6}}{3!}+\\cdots+\\frac{u^{2l}}{(2l/2)!}+\\frac{u^{2l+2}}{((2l+2)/2)!}+\\cdots,\n",
    "\\end{equation}\n",
    "vemos que para $l\\gg1$ a razão entre dois termos sucessivos dessa função é\n",
    "\\begin{equation}\n",
    "\\lim_{l\\gg 1}\\frac{u^{2l+2}/((2l+2)/2)!}{u^{2l}/(2l/2)!} = \\lim_{l\\gg 1}\\frac{u^{2(l+1)}/((l+1)!)}{u^{2l}/(l!)} = \\lim_{l\\gg 1}\\frac{u^{2(l+1)}/(l+1)(l!)}{u^{2l}/(l!)} = \\frac{u^{2l}/l}{u^{2l}} = \\frac{1}{l}.\n",
    "\\end{equation}\n",
    "Vemos assim que o comportamento de termos correspondentes a altos valores de $l$ de $e^{u^{2}}$ e da parte par de $H(u)$ é o mesmo, a menos de uma constante. O mesmo, claro, pode ser dito do comportamento da parte ímpar de $H(u)$ e da função $ue^{u^{2}}$. Vemos assim que nesse limite\n",
    "\\begin{equation}\n",
    "\\lim_{l\\gg 1}H(u) = pa_{0}e^{u^{2}}+qa_{1}ue^{u^{2}},\n",
    "\\end{equation}\n",
    "com $p$ e $q$ constantes reais. Assim, se $H(u)$ contêm um número infinito de termos, a densidade de probabilidade, obtida da função de onda\n",
    "\\begin{equation}\n",
    "\\Xi(u)=c_{d}e^{-u^{2}/2}H(u) = Pa_{0}e^{u^{2}/2}+Qa_{1}ue^{u^{2}/2},\n",
    "\\end{equation}\n",
    "divergirá, onde definimos $P=c_{d}p$ e $Q=c_{d}q$."
   ]
  },
  {
   "cell_type": "markdown",
   "metadata": {},
   "source": [
    "### Auto-energias\n",
    "Por conseguinte, a soluções aceitáveis para $(\\star)$ devem ser tais que para um certo valor máximo de $l=:n=0,1,2,\\cdots$ tal que para valores maiores de $l$ os coeficientes $a_{l+2}=(2l+1-\\beta/\\alpha)a_{l}/(l+2)(l+1)$ são nulos (i.e., truncaremos a série em $l=n$). Isso implica que\n",
    "\\begin{equation}\n",
    "2l+1-\\beta/\\alpha = 2n+1-\\beta/\\alpha = 0 \\text{ com } n=0,1,2,3,\\cdots.\n",
    "\\end{equation}\n",
    "Lembrando, $\\beta= 2mE/\\hbar^{2}$ e $\\alpha=2m\\pi\\nu/\\hbar$, que substituídos na última igualdade nos fornecem os possíveis valores para a energia do OHQ1D:\n",
    "\\begin{align}\n",
    "& 2n+1-\\frac{2mE/\\hbar^{2}}{2m\\pi\\nu/\\hbar} = 2n+1-\\frac{E/\\hbar}{\\pi\\nu}=0, \\\\\n",
    "& \\therefore E = \\hbar\\pi\\nu(2n+1) = \\frac{h}{2\\pi}\\pi\\nu(2n+1) \\\\\n",
    "&= h\\nu(n+1/2)=:E_{n}.\n",
    "\\end{align}\n",
    "Aqui temos outro exemplo em que a menor energia possível do quanton é não nula (energia de ponto zero): $E_{0}=h\\nu/2$. O diagrama de níveis de energia do OHQ1D está mostrado na figura abaixo.\n",
    "\n",
    "OBS. A solução do OHQ1D via o método algébrico (que é bem mais simples que o método analítico) é obtida em [https://github.com/jonasmaziero/mecanica_quantica/blob/master/04_oscilator.ipynb]."
   ]
  },
  {
   "cell_type": "code",
   "execution_count": 211,
   "metadata": {},
   "outputs": [
    {
     "data": {
      "image/png": "[encoded data removed]",
      "text/plain": [
       "<matplotlib.figure.Figure at 0x111d6cfd0>"
      ]
     },
     "metadata": {},
     "output_type": "display_data"
    }
   ],
   "source": [
    "xmin = 0; xmax = 1\n",
    "for j in range(0,5): # desenha as linhas\n",
    "    plt.hlines(j,xmin,xmax,color='blue'); \n",
    "for j in range(0,4): # valores de n e de En, e hw e <->\n",
    "    plt.text(-0.13,j,j,color='black',fontsize=13); plt.text(1.01,j, str(2*j+1)+r'$h\\nu/2$',color='black',fontsize=13)\n",
    "for j in range(0,3):\n",
    "    plt.annotate(\"\", xy=(0.5,j), xytext=(0.5,j+1), arrowprops=dict(arrowstyle=\"<->\"))\n",
    "    plt.text(0.51,(2*j+1)/2,r'$h\\nu$',fontsize=13)\n",
    "plt.text(0.45,3.5,r'$\\vdots$',fontsize=20)\n",
    "plt.text(-0.13,4,r'$n$',color='black',fontsize=13); plt.text(1.01,4,r'$E_{n}=h\\nu(n+1/2)$',fontsize=13)\n",
    "plt.axis('off'); plt.xlim(0,2); plt.ylim(-0.05,4.05)\n",
    "plt.show()"
   ]
  },
  {
   "cell_type": "markdown",
   "metadata": {},
   "source": [
    "### Auto-funções\n",
    "Usando $\\beta/\\alpha=2n+1$, escrevemos\n",
    "\\begin{equation}\n",
    "a_{l+2} = \\frac{2l+1-\\beta/\\alpha}{(l+2)(l+1)}a_{l} = \\frac{2l+1-2n-1}{(l+2)(l+1)}a_{l} =\\frac{2(l-n)}{(l+2)(l+1)}a_{l},\n",
    "\\end{equation}\n",
    "que, definindo $m=l+2\\therefore l =m-2$, pode ser reescrita como:\n",
    "\\begin{equation}\n",
    "a_{m} =\\frac{2(m-2-n)}{(m-2+2)(m-2+1)}a_{m-2}\\therefore a_{l}=a_{l}(n) =\\frac{2(l-n-2)}{l(l-1)}a_{l-2}(n).\n",
    "\\end{equation}\n",
    "Temos\n",
    "\\begin{equation}\n",
    "H_{n}(u) = \\sum_{l=0}^{n}a_{l}(n)u^{l} = \\sum_{j=0}^{n/2}a_{2j}(n)u^{2j} + \\sum_{j=0}^{(n-1)/2}a_{2j+1}(n)u^{2j+1}=:H_{n}^{p}(u)+H_{n}^{i}(u),\n",
    "\\end{equation}\n",
    "com\n",
    "\\begin{cases}\n",
    "H_{n}^{p}:=\\sum_{j=0}^{n/2}a_{2j}(n)u^{2j}=a_{0}+a_{2}(n)u^{2}+a_{4}(n)u^{4}+a_{6}(n)u^{6}+\\cdots, \\\\\n",
    "H_{n}^{i}:=\\sum_{j=0}^{(n-1)/2}a_{2j+1}(n)u^{2j+1}=a_{1}+a_{3}(n)u^{3}+a_{5}(n)u^{5}+a_{7}(n)u^{7}+\\cdots.\n",
    "\\end{cases}"
   ]
  },
  {
   "cell_type": "markdown",
   "metadata": {},
   "source": [
    "Olhando para casos particulares, teremos, para as funções pares:\n",
    "\\begin{equation}\n",
    "H^{p}_{0}=a_{0} =: a_{0}R_{0}(u) \\equiv a_{0}e^{u^{2}}\\frac{\\partial^{0}}{\\partial u^{0}}e^{-u^{2}}.\n",
    "\\end{equation}\n",
    "\n",
    "Usando $a_{2}(2) =\\frac{2(2-2-2)}{2(2-1)}a_{0}=-2a_{0}$ obteremos\n",
    "\\begin{align}\n",
    "H_{2}^{p} & = a_{0}+a_{2}(2)u^{2} = a_{0}-2a_{0}u^{2}=a_{0}(1-2u^{2})  \\\\\n",
    "& =\\frac{-a_{0}}{2}(4u^{2}-2) =: \\frac{-a_{0}}{2}R_{2}(u) \\equiv \\frac{-a_{0}}{2}e^{u^{2}}\\frac{\\partial^{2}}{\\partial u^{2}}e^{-u^{2}}.\n",
    "\\end{align}\n",
    "\n",
    "Usando $a_{2}(4) =\\frac{2(2-4-2)}{2(2-1)}a_{0}=-4a_{0}$ e $a_{4}(4) =\\frac{2(4-4-2)}{4(4-1)}a_{2}(4)=4a_{0}/3$ obtemos\n",
    "\\begin{align}\n",
    "H_{4}^{p} & = a_{0}+a_{2}(4)u^{2}+a_{4}(4)u^{4} = a_{0}-4a_{0}u^{2}+(4/3)a_{0}u^{4}=a_{0}(1-4u^{2}+(4/3)u^{4}) \\\\\n",
    "& =\\frac{a_{0}}{12}(12-48u^{2}+16u^{4}) =: \\frac{a_{0}}{12}R_{4}(u) \\equiv \\frac{a_{0}}{12}e^{u^{2}}\\frac{\\partial^{4}}{\\partial u^{4}}e^{-u^{2}}\n",
    "\\end{align}\n",
    "\n",
    "Usando $a_{2}(6) =\\frac{2(2-6-2)}{2(2-1)}a_{0}=-6a_{0}$, $a_{4}(6) =\\frac{2(4-6-2)}{4(4-1)}a_{2}(6)=4a_{0}$ e $a_{6}(6) =\\frac{2(6-6-2)}{6(6-1)}a_{4}(6)=-(16/30)a_{0}$ obtemos\n",
    "\\begin{align}\n",
    "H_{6}^{p} & = a_{0}+a_{2}(6)u^{2}+a_{4}(6)u^{4}+a_{6}(6)u^{6} = a_{0}-6a_{0}u^{2}+4a_{0}u^{4} -(16/30)u^{6}\\\\\n",
    "& = \\frac{-a_{0}}{120}(-120+720u^{2}-480u^{4}+64u^{6}) =: \\frac{-a_{0}}{120}R_{6}(u) \\equiv \\frac{-a_{0}}{120}e^{u^{2}}\\frac{\\partial^{6}}{\\partial u^{6}}e^{-u^{2}}.\n",
    "\\end{align}"
   ]
  },
  {
   "cell_type": "markdown",
   "metadata": {},
   "source": [
    "Generalizando para valores maiores de $n$, podemos inferir que\n",
    "\\begin{equation}\n",
    "H_{n}^{p} = ca_{0}R_{n}(u)=ca_{0}e^{u^{2}}\\frac{\\partial^{n}}{\\partial u^{n}}e^{-u^{2}},\n",
    "\\end{equation}\n",
    "com $c$ sendo uma constante real. Como vocês verificarão, podemos inferir também que\n",
    "\\begin{equation}\n",
    "H_{n}^{i} = -ca_{1}R_{n}(u)=-ca_{1}e^{u^{2}}\\frac{\\partial^{n}}{\\partial u^{n}}e^{-u^{2}}.\n",
    "\\end{equation}\n",
    "Juntando esses resultados, chegamos na chamada __fórmula de Rodrigues__:\n",
    "\\begin{equation}\n",
    "R_{n}(u) = (-1)^{n}e^{u^{2}}\\frac{\\partial^{n}}{\\partial u^{n}}e^{-u^{2}},\n",
    "\\end{equation}\n",
    "que está implementada na função abaixo, para qualquer valor de $n\\in\\mathbb{N}$. <br> \n",
    "OBS. Os $R_{n}$ são chamados de __polinômios de Hermite__."
   ]
  },
  {
   "cell_type": "code",
   "execution_count": 212,
   "metadata": {},
   "outputs": [],
   "source": [
    "def rodrigues(n,u):\n",
    "    if n == 0:\n",
    "        return 1\n",
    "    rod = exp(-u**2)\n",
    "    for j in range(1,n+1):\n",
    "        rod = diff(rod,u)\n",
    "    return ((-1)**n)*exp(u**2)*rod"
   ]
  },
  {
   "cell_type": "code",
   "execution_count": 213,
   "metadata": {},
   "outputs": [
    {
     "name": "stdout",
     "output_type": "stream",
     "text": [
      "R_0= 1\n",
      "R_1= 2*u\n",
      "R_2= 4*u**2 - 2\n",
      "R_3= 8*u**3 - 12*u\n",
      "R_4= 16*u**4 - 48*u**2 + 12\n",
      "R_5= 32*u**5 - 160*u**3 + 120*u\n",
      "R_6= 64*u**6 - 480*u**4 + 720*u**2 - 120\n",
      "R_7= 128*u**7 - 1344*u**5 + 3360*u**3 - 1680*u\n"
     ]
    }
   ],
   "source": [
    "u = symbols('u')\n",
    "for n in range(0,8):\n",
    "    print('R_'+str(n)+'=',simplify(rodrigues(n,u)))"
   ]
  },
  {
   "cell_type": "markdown",
   "metadata": {},
   "source": [
    "Absorvendo as constantes de $H^{p}_{l}$ e $H^{i}_{l}$ em $\\Xi$ e renomeando as constantes de normalização, teremos as autofunções correspondentes às energias $E_{n}$ são dadas por:\n",
    "\\begin{equation}\n",
    "\\Xi_{n}(u) = c_{d}e^{-u^{2}/2}H_{n}(u)=:N_{n}e^{-u^{2}/2}R_{n}(u).\n",
    "\\end{equation}\n",
    "\n",
    "#### Normalização da função de onda\n",
    "Lembrando, $u=\\sqrt{\\alpha}x$ ($x\\rightarrow\\infty\\Rightarrow u\\rightarrow\\infty, x\\rightarrow-\\infty\\Rightarrow u\\rightarrow-\\infty$). Devemos ter assim\n",
    "\\begin{equation}\n",
    "\\int_{-\\infty}^{+\\infty}|\\Xi(x)|^{2}dx=\\frac{|N_{n}|^{2}}{\\sqrt{\\alpha}}\\int_{-\\infty}^{+\\infty}e^{-u^{2}}R_{n}(u)^{2}du=1.\n",
    "\\end{equation}\n",
    "\n",
    "Vamos definir agora a chamada _função geradora_ (veja e.g. Ref. 13)\n",
    "\\begin{equation}\n",
    "G(u,s) := e^{u^{2}-(s-u)^{2}} = e^{-u^{2}+2su}.\n",
    "\\end{equation}\n",
    "Notando que para uma função qualquer $f=f(s-u)$ temos $\\partial_{s}f=-\\partial_{u}f$:\n",
    "\\begin{cases}\n",
    "\\partial_{s}f = \\partial_{s-u}f\\partial_{s}(s-u)=\\partial_{s-u}f, \\\\\n",
    "\\partial_{u}f = \\partial_{s-u}f\\partial_{u}(s-u)=-\\partial_{s-u}f,\n",
    "\\end{cases}\n",
    "obtemos\n",
    "\\begin{align}\n",
    "\\left(\\frac{\\partial^{n}G}{\\partial s^{n}}\\right)_{s=0} & = \\left(\\frac{\\partial^{n}e^{u^{2}-(s-u)^{2}}}{\\partial s^{n}}\\right)_{s=0} = e^{u^{2}}\\left(\\frac{\\partial^{n}e^{-(s-u)^{2}}}{\\partial s^{n}}\\right)_{s=0} = e^{u^{2}}\\left((-1)^{n}\\frac{\\partial^{n}e^{-(s-u)^{2}}}{\\partial u^{n}}\\right)_{s=0} \\\\ \n",
    "& = (-1)^{n}e^{u^{2}}\\frac{\\partial^{n}e^{-u^{2}}}{\\partial u^{n}} = R_{n}(u).\n",
    "\\end{align}\n",
    "Deste resultado, expandindo $G(u,s)$ em série de Taylor em torno de $s=0$,\n",
    "\\begin{equation}\n",
    "G(u,s)_{s=0} = \\sum_{n=0}^{\\infty}\\left(\\frac{\\partial^{n}G}{\\partial s^{n}}\\right)_{s=0}\\frac{s^{n}}{n!} = \\sum_{n=0}^{\\infty}R_{n}(u)\\frac{s^{n}}{n!}.\n",
    "\\end{equation}"
   ]
  },
  {
   "cell_type": "markdown",
   "metadata": {},
   "source": [
    "Por conseguinte (usamos integral Gaussiana: $\\int_{-\\infty}^{+\\infty}e^{-ax^{2}}dx=\\sqrt{\\pi/a}$, veja [https://github.com/jonasmaziero/mecanica_quantica/blob/master/00_probabilities.ipynb]):\n",
    "\\begin{align}\n",
    "& \\int_{-\\infty}^{+\\infty}G(u,s)_{s=0}G(u,t)_{t=0}e^{-u^{2}}du = \\int_{-\\infty}^{+\\infty}\\left(e^{-s^{2}+2su}\\right)_{s=0}\\left(e^{-t^{2}+2tu}\\right)_{t=0}e^{-u^{2}}du \\\\\n",
    "& = \\int_{-\\infty}^{+\\infty}\\left(e^{-(u^{2}-2u(s+t)+(s+t)^{2}-2st)}\\right)_{s=0,t=0}du = \\left(e^{2st}\\int_{-\\infty}^{+\\infty}e^{-(u-(s+t))^{2}}du\\right)_{s=0,t=0}\\\\ \n",
    "& = \\left(e^{2st}\\int_{-\\infty}^{+\\infty}e^{-w^{2}}dw\\right)_{s=0,t=0} = \\left(e^{2st}\\sqrt{\\pi}\\right)_{s=0,t=0} = \\sqrt{\\pi}\\sum_{n=0}^{\\infty}\\frac{(2st)^{n}}{n!} = \\sum_{n=0}^{\\infty}\\frac{s^{n}t^{n}}{n!n!}\\sqrt{\\pi}2^{n}n! \\\\\n",
    "& = \\int_{-\\infty}^{+\\infty}\\sum_{n=0}^{\\infty}R_{n}(u)\\frac{s^{n}}{n!}\\sum_{m=0}^{\\infty}R_{m}(u)\\frac{t^{m}}{m!}e^{-u^{2}}du = \\sum_{n,m=0}^{\\infty}\\frac{s^{n}t^{m}}{n!m!}\\int_{-\\infty}^{+\\infty}R_{n}(u)R_{m}(u)e^{-u^{2}}du.\n",
    "\\end{align}\n",
    "Igualando os coeficientes nas expressões acima, temos que\n",
    "\\begin{align}\n",
    "& \\int_{-\\infty}^{+\\infty}R_{n}(u)R_{m}(u)e^{-u^{2}}du = 0 \\text{ se } m\\ne n \\text{, (ortogonalidade dos polinômios de Hermite)} \\\\\n",
    "& \\int_{-\\infty}^{+\\infty}R_{n}(u)R_{m}(u)e^{-u^{2}}du = \\int_{-\\infty}^{+\\infty}R_{n}(u)^{2}e^{-u^{2}}du = \\sqrt{\\pi}2^{n}n! \\text{ se } m=n.\n",
    "\\end{align}\n",
    "\n",
    "Finalmente, assumindo $N_{n}\\in\\mathbb{R}$, obtemos a constante de normalização\n",
    "\\begin{equation}\n",
    "N_{n} = \\sqrt{\\frac{\\sqrt{\\alpha}}{\\sqrt{\\pi}2^{n}n!}}\n",
    "\\end{equation}\n",
    "e as autofunções\n",
    "\\begin{equation}\n",
    "\\Xi_{n}(u) = \\sqrt{\\frac{\\sqrt{\\alpha}}{\\sqrt{\\pi}2^{n}n!}}e^{-u^{2}/2}R_{n}(u) \\therefore \\Xi_{n}(x) = \\sqrt{\\frac{\\sqrt{\\alpha}}{\\sqrt{\\pi}2^{n}n!}}e^{-\\alpha x^{2}/2}R_{n}(\\sqrt{\\alpha}x),\n",
    "\\end{equation}\n",
    "com $n=0,1,2,3,\\cdots$ e $\\alpha=2m\\pi\\nu/\\hbar$."
   ]
  },
  {
   "cell_type": "code",
   "execution_count": 214,
   "metadata": {},
   "outputs": [],
   "source": [
    "al = symbols('alpha')\n",
    "def wf_ohq(n):\n",
    "    return sqrt(sqrt(al)/(sqrt(pi)*(2**n)*factorial(n)))*exp(-(al*(x**2))/2)*rodrigues(n,sqrt(al)*x)"
   ]
  },
  {
   "cell_type": "code",
   "execution_count": 219,
   "metadata": {},
   "outputs": [
    {
     "data": {
      "image/png": "[encoded data removed]",
      "text/latex": [
       "$$\\frac{\\sqrt[4]{\\alpha}}{\\sqrt[4]{\\pi}} e^{- \\frac{\\alpha x^{2}}{2}}$$"
      ],
      "text/plain": [
       "           2 \n",
       "       -α⋅x  \n",
       "       ──────\n",
       "4 ___    2   \n",
       "╲╱ α ⋅ℯ      \n",
       "─────────────\n",
       "    4 ___    \n",
       "    ╲╱ π     "
      ]
     },
     "execution_count": 219,
     "metadata": {},
     "output_type": "execute_result"
    }
   ],
   "source": [
    "wf_ohq(0)"
   ]
  },
  {
   "cell_type": "code",
   "execution_count": 217,
   "metadata": {},
   "outputs": [
    {
     "data": {
      "image/png": "[encoded data removed]",
      "text/latex": [
       "$$\\begin{cases} 1 & \\text{for}\\: \\left|{\\operatorname{periodic_{argument}}{\\left (\\alpha,\\infty \\right )}}\\right| \\leq \\frac{\\pi}{2} \\\\\\int_{-\\infty}^{\\infty} \\frac{\\sqrt{\\alpha}}{\\sqrt{\\pi}} e^{- \\alpha x^{2}}\\, dx & \\text{otherwise} \\end{cases}$$"
      ],
      "text/plain": [
       "⎧                                                 π\n",
       "⎪       1         for │periodic_argument(α, ∞)│ ≤ ─\n",
       "⎪                                                 2\n",
       "⎪                                                  \n",
       "⎪∞                                                 \n",
       "⎪⌠                                                 \n",
       "⎨⎮          2                                      \n",
       "⎪⎮      -α⋅x                                       \n",
       "⎪⎮  √α⋅ℯ                                           \n",
       "⎪⎮  ───────── dx              otherwise            \n",
       "⎪⎮      √π                                         \n",
       "⎪⌡                                                 \n",
       "⎩-∞                                                "
      ]
     },
     "execution_count": 217,
     "metadata": {},
     "output_type": "execute_result"
    }
   ],
   "source": [
    "integrate(wf_ohq(0)**2,(x,-oo,oo))"
   ]
  },
  {
   "cell_type": "code",
   "execution_count": null,
   "metadata": {},
   "outputs": [],
   "source": [
    "def herm(u):\n",
    "    return exp(-u**2)"
   ]
  },
  {
   "cell_type": "code",
   "execution_count": null,
   "metadata": {},
   "outputs": [],
   "source": [
    "%run numerics.ipynb\n",
    "def hermite(n,u):\n",
    "    if n == 0:\n",
    "        return 1\n",
    "    return ((-1)**n)*exp(u**2)*dern(herm,u,h,n)\n",
    "#hermite(1,1)"
   ]
  },
  {
   "cell_type": "code",
   "execution_count": null,
   "metadata": {},
   "outputs": [],
   "source": [
    "def xi_ohq(n):\n",
    "    nu = 10**15; m = me; hbb = 1; al = 2*m*math.pi*nu/hb#; x = np.arange(-10,10,0.1)\n",
    "    N = 100; xmin = -2; xmax = 2; dx = (xmax-xmin)/N; x = np.zeros(N); y = np.zeros(N)\n",
    "    for j in range(0,N):\n",
    "        x[j] = xmin + j*dx\n",
    "        y[j] = math.sqrt(math.sqrt(al)/(math.sqrt(math.pi)*2**n*math.factorial(n)))*math.exp(-al*x[j]**2/2)*hermite(n,math.sqrt(al)*x[j])\n",
    "    plt.plot(x,y); plt.show()\n",
    "interactive(xi_ohq, n=(0,10,1))"
   ]
  },
  {
   "cell_type": "markdown",
   "metadata": {},
   "source": [
    "# Exercícios\n",
    "\n",
    "1. Verifique, no limite $|u|\\rightarrow\\infty$, que a função $\\Xi(u) = c_{c}e^{u^{2}/2}+c_{d}e^{-u^{2}/2}$ é solução da eq. diferencial $\\partial_{uu}\\Xi(u) -u^{2}\\Xi(u)=0$.\n",
    "\n",
    "1. Vocês podem ter se perguntado porquê fizemos tantas manipulações nas eqs. diferencias antes de aplicar o método de solução por série de potências. Para ver o motivo, aplique esse método na eq. $(\\star)$, para então notar que as equações obtidas envolvem 3 coeficientes, e não 2, impossibilitando a obtenção de uma relação de recursão simples.\n",
    "\n",
    "1. Verifique que a diferença de energia entre dois níveis quaisquer $n$ e $n'$ do OHQ1D é um múltiplo inteiro de $h\\nu$ (e que, portanto, a frequência da radiação eletromagnética emitida ou absorvida quando de transições entre esses níveis é um múltiplo inteiro de $\\nu$).\n",
    "\n",
    "1. Calcule explicitamente $H_{n}^{i}$ para $n=1,3,5,7$ e verifique que estas funções podem ser escritas como $H_{n}^{i} = -ca_{1}R_{n}(u)=-ca_{1}e^{u^{2}}\\partial_{u^{n}}e^{-u^{2}}$, com $c$ sendo uma constante real."
   ]
  },
  {
   "cell_type": "code",
   "execution_count": null,
   "metadata": {},
   "outputs": [],
   "source": []
  }
 ],
 "metadata": {
  "kernelspec": {
   "display_name": "Python 3",
   "language": "python",
   "name": "python3"
  },
  "language_info": {
   "codemirror_mode": {
    "name": "ipython",
    "version": 3
   },
   "file_extension": ".py",
   "mimetype": "text/x-python",
   "name": "python",
   "nbconvert_exporter": "python",
   "pygments_lexer": "ipython3",
   "version": "3.6.4"
  }
 },
 "nbformat": 4,
 "nbformat_minor": 2
}
